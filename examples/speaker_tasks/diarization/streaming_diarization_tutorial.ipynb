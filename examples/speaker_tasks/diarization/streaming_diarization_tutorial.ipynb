{
 "cells": [
  {
   "cell_type": "markdown",
   "id": "46156d42",
   "metadata": {},
   "source": [
    "Run this script and while you are running this streaming diarizaiton module, run view_streaming_transcript.ipynb to view the transcript in real time."
   ]
  },
  {
   "cell_type": "code",
   "execution_count": null,
   "id": "67b1d9f7",
   "metadata": {},
   "outputs": [
    {
     "name": "stderr",
     "output_type": "stream",
     "text": [
      "[NeMo W 2021-10-18 16:58:04 optimizers:47] Apex was not found. Using the lamb optimizer will error out.\n",
      "[NeMo W 2021-10-18 16:58:06 experimental:27] Module <class 'nemo.collections.asr.data.audio_to_text_dali._AudioTextDALIDataset'> is experimental, not ready for production and is not fully supported. Use at your own risk.\n",
      "Global seed set to 42\n",
      "[NeMo W 2021-10-18 16:58:07 nemo_logging:349] /home/taejinp/.local/lib/python3.8/site-packages/torch/cuda/__init__.py:83: UserWarning: \n",
      "        Found GPU%d %s which is of cuda capability %d.%d.\n",
      "        PyTorch no longer supports this GPU because it is too old.\n",
      "        The minimum cuda capability supported by this library is %d.%d.\n",
      "        \n",
      "      warnings.warn(old_gpu_warn.format(d, name, major, minor, min_arch // 10, min_arch % 10))\n",
      "    \n",
      "[NeMo W 2021-10-18 16:58:07 modelPT:130] If you intend to do training or fine-tuning, please call the ModelPT.setup_training_data() method and provide a valid configuration file to setup the train data loader.\n",
      "    Train config : \n",
      "    manifest_filepath: /manifests/combined_fisher_swbd_voxceleb12_librispeech/train.json\n",
      "    sample_rate: 16000\n",
      "    labels: null\n",
      "    batch_size: 64\n",
      "    shuffle: true\n",
      "    time_length: 3\n",
      "    is_tarred: false\n",
      "    tarred_audio_filepaths: null\n",
      "    tarred_shard_strategy: scatter\n",
      "    augmentor:\n",
      "      noise:\n",
      "        manifest_path: /manifests/noise/rir_noise_manifest.json\n",
      "        prob: 0.5\n",
      "        min_snr_db: 0\n",
      "        max_snr_db: 15\n",
      "      speed:\n",
      "        prob: 0.5\n",
      "        sr: 16000\n",
      "        resample_type: kaiser_fast\n",
      "        min_speed_rate: 0.95\n",
      "        max_speed_rate: 1.05\n",
      "    num_workers: 15\n",
      "    pin_memory: true\n",
      "    \n",
      "[NeMo W 2021-10-18 16:58:07 modelPT:137] If you intend to do validation, please call the ModelPT.setup_validation_data() or ModelPT.setup_multiple_validation_data() method and provide a valid configuration file to setup the validation data loader(s). \n",
      "    Validation config : \n",
      "    manifest_filepath: /manifests/combined_fisher_swbd_voxceleb12_librispeech/dev.json\n",
      "    sample_rate: 16000\n",
      "    labels: null\n",
      "    batch_size: 128\n",
      "    shuffle: false\n",
      "    time_length: 3\n",
      "    num_workers: 15\n",
      "    pin_memory: true\n",
      "    \n"
     ]
    },
    {
     "name": "stdout",
     "output_type": "stream",
     "text": [
      "[NeMo I 2021-10-18 16:58:07 features:262] PADDING: 16\n",
      "[NeMo I 2021-10-18 16:58:07 features:279] STFT using torch\n",
      "[NeMo I 2021-10-18 16:58:07 label_models:90] Training with Angular Softmax Loss\n",
      "[NeMo I 2021-10-18 16:58:10 save_restore_connector:143] Model ExtractSpeakerEmbeddingsModel was successfully restored from /disk2/ejrvs/model_comparision/titanet-l.nemo.\n",
      "[NeMo I 2021-10-18 16:58:10 clustering_diarizer:120] Speaker Model restored locally from /disk2/ejrvs/model_comparision/titanet-l.nemo\n",
      "[NeMo I 2021-10-18 16:58:10 streaming_asr_and_diar:516] Setting online diarization buffer to : 100\n",
      "[NeMo I 2021-10-18 16:58:10 streaming_asr_and_diar:526] Setting online diarization buffer to : 200\n"
     ]
    },
    {
     "name": "stderr",
     "output_type": "stream",
     "text": [
      "[NeMo W 2021-10-18 16:58:11 modelPT:130] If you intend to do training or fine-tuning, please call the ModelPT.setup_training_data() method and provide a valid configuration file to setup the train data loader.\n",
      "    Train config : \n",
      "    manifest_filepath: /manifests/combined_fisher_swbd_voxceleb12_librispeech/train.json\n",
      "    sample_rate: 16000\n",
      "    labels: null\n",
      "    batch_size: 64\n",
      "    shuffle: true\n",
      "    time_length: 3\n",
      "    is_tarred: false\n",
      "    tarred_audio_filepaths: null\n",
      "    tarred_shard_strategy: scatter\n",
      "    augmentor:\n",
      "      noise:\n",
      "        manifest_path: /manifests/noise/rir_noise_manifest.json\n",
      "        prob: 0.5\n",
      "        min_snr_db: 0\n",
      "        max_snr_db: 15\n",
      "      speed:\n",
      "        prob: 0.5\n",
      "        sr: 16000\n",
      "        resample_type: kaiser_fast\n",
      "        min_speed_rate: 0.95\n",
      "        max_speed_rate: 1.05\n",
      "    num_workers: 15\n",
      "    pin_memory: true\n",
      "    \n",
      "[NeMo W 2021-10-18 16:58:11 modelPT:137] If you intend to do validation, please call the ModelPT.setup_validation_data() or ModelPT.setup_multiple_validation_data() method and provide a valid configuration file to setup the validation data loader(s). \n",
      "    Validation config : \n",
      "    manifest_filepath: /manifests/combined_fisher_swbd_voxceleb12_librispeech/dev.json\n",
      "    sample_rate: 16000\n",
      "    labels: null\n",
      "    batch_size: 128\n",
      "    shuffle: false\n",
      "    time_length: 3\n",
      "    num_workers: 15\n",
      "    pin_memory: true\n",
      "    \n"
     ]
    },
    {
     "name": "stdout",
     "output_type": "stream",
     "text": [
      "[NeMo I 2021-10-18 16:58:11 features:262] PADDING: 16\n",
      "[NeMo I 2021-10-18 16:58:11 features:279] STFT using torch\n",
      "[NeMo I 2021-10-18 16:58:11 label_models:90] Training with Angular Softmax Loss\n",
      "[NeMo I 2021-10-18 16:58:11 save_restore_connector:143] Model ExtractSpeakerEmbeddingsModel was successfully restored from /disk2/ejrvs/model_comparision/titanet-l.nemo.\n",
      "[NeMo I 2021-10-18 16:58:11 clustering_diarizer:120] Speaker Model restored locally from /disk2/ejrvs/model_comparision/titanet-l.nemo\n",
      "[NeMo I 2021-10-18 16:58:11 streaming_asr_and_diar:516] Setting online diarization buffer to : 100\n",
      "[NeMo I 2021-10-18 16:58:11 streaming_asr_and_diar:526] Setting online diarization buffer to : 200\n",
      "[NeMo I 2021-10-18 16:58:11 cloud:56] Found existing object /home/taejinp/.cache/torch/NeMo/NeMo_1.3.0/stt_en_conformer_ctc_large/b2da9ca277cfb30bb0c6b2abd44eef02/stt_en_conformer_ctc_large.nemo.\n",
      "[NeMo I 2021-10-18 16:58:11 cloud:62] Re-using file from: /home/taejinp/.cache/torch/NeMo/NeMo_1.3.0/stt_en_conformer_ctc_large/b2da9ca277cfb30bb0c6b2abd44eef02/stt_en_conformer_ctc_large.nemo\n",
      "[NeMo I 2021-10-18 16:58:11 common:694] Instantiating model from pre-trained checkpoint\n",
      "[NeMo I 2021-10-18 16:58:14 mixins:147] Tokenizer SentencePieceTokenizer initialized with 128 tokens\n"
     ]
    },
    {
     "name": "stderr",
     "output_type": "stream",
     "text": [
      "[NeMo W 2021-10-18 16:58:14 modelPT:130] If you intend to do training or fine-tuning, please call the ModelPT.setup_training_data() method and provide a valid configuration file to setup the train data loader.\n",
      "    Train config : \n",
      "    manifest_filepath: /data/nemo_asr_set/asr_set_1.4/train_no_appen/tarred_audio_manifest.json\n",
      "    sample_rate: 16000\n",
      "    batch_size: 8\n",
      "    shuffle: true\n",
      "    num_workers: 8\n",
      "    pin_memory: true\n",
      "    use_start_end_token: false\n",
      "    trim_silence: false\n",
      "    max_duration: 20.0\n",
      "    min_duration: 0.1\n",
      "    shuffle_n: 2048\n",
      "    is_tarred: true\n",
      "    tarred_audio_filepaths: /data/nemo_asr_set/asr_set_1.4/train_no_appen/audio__OP_0..2047_CL_.tar\n",
      "    \n",
      "[NeMo W 2021-10-18 16:58:14 modelPT:137] If you intend to do validation, please call the ModelPT.setup_validation_data() or ModelPT.setup_multiple_validation_data() method and provide a valid configuration file to setup the validation data loader(s). \n",
      "    Validation config : \n",
      "    manifest_filepath:\n",
      "    - /manifests/librispeech/librivox-dev-other.json\n",
      "    - /manifests/librispeech/librivox-dev-clean.json\n",
      "    - /manifests/librispeech/librivox-test-other.json\n",
      "    - /manifests/librispeech/librivox-test-clean.json\n",
      "    sample_rate: 16000\n",
      "    batch_size: 8\n",
      "    shuffle: false\n",
      "    num_workers: 8\n",
      "    pin_memory: true\n",
      "    use_start_end_token: false\n",
      "    is_tarred: false\n",
      "    tarred_audio_filepaths: ''\n",
      "    \n",
      "[NeMo W 2021-10-18 16:58:14 modelPT:143] Please call the ModelPT.setup_test_data() or ModelPT.setup_multiple_test_data() method and provide a valid configuration file to setup the test data loader(s).\n",
      "    Test config : \n",
      "    manifest_filepath:\n",
      "    - /manifests/librispeech/librivox-dev-other.json\n",
      "    - /manifests/librispeech/librivox-dev-clean.json\n",
      "    - /manifests/librispeech/librivox-test-other.json\n",
      "    - /manifests/librispeech/librivox-test-clean.json\n",
      "    sample_rate: 16000\n",
      "    batch_size: 8\n",
      "    shuffle: false\n",
      "    num_workers: 8\n",
      "    pin_memory: true\n",
      "    use_start_end_token: false\n",
      "    is_tarred: false\n",
      "    tarred_audio_filepaths: ''\n",
      "    \n"
     ]
    },
    {
     "name": "stdout",
     "output_type": "stream",
     "text": [
      "[NeMo I 2021-10-18 16:58:14 features:262] PADDING: 0\n",
      "[NeMo I 2021-10-18 16:58:14 features:279] STFT using torch\n",
      "[NeMo I 2021-10-18 16:58:15 save_restore_connector:143] Model EncDecCTCModelBPE was successfully restored from /home/taejinp/.cache/torch/NeMo/NeMo_1.3.0/stt_en_conformer_ctc_large/b2da9ca277cfb30bb0c6b2abd44eef02/stt_en_conformer_ctc_large.nemo.\n"
     ]
    },
    {
     "name": "stderr",
     "output_type": "stream",
     "text": [
      "[NeMo W 2021-10-18 16:58:15 patch_utils:49] torch.stft() signature has been updated for PyTorch 1.7+\n",
      "    Please update PyTorch to remain compatible with later versions of NeMo.\n"
     ]
    },
    {
     "name": "stdout",
     "output_type": "stream",
     "text": [
      "235.78ms 'run_ASR_model'\n",
      "0.02ms '_get_speech_labels_from_decoded_prediction'\n",
      "0.00ms '_get_diar_segments'\n",
      "198.16ms 'run_ASR_model'\n",
      "0.04ms '_get_speech_labels_from_decoded_prediction'\n",
      "0.00ms '_get_diar_segments'\n",
      "216.54ms 'run_ASR_model'\n",
      "0.02ms '_get_speech_labels_from_decoded_prediction'\n",
      "0.01ms '_get_diar_segments'\n",
      "218.27ms 'run_ASR_model'\n",
      "0.02ms '_get_speech_labels_from_decoded_prediction'\n",
      "0.00ms '_get_diar_segments'\n",
      "203.40ms 'run_ASR_model'\n",
      "0.04ms '_get_speech_labels_from_decoded_prediction'\n",
      "0.66ms '_get_diar_segments'\n",
      "0.01ms 'getReducedMat'\n",
      "52.14ms '_online_diarization'\n",
      "[NeMo I 2021-10-18 16:58:19 streaming_asr_and_diar:1361] Streaming Diar [arm_talk_16k][frame-  5th  ]:\n",
      "393.29ms 'run_ASR_model'\n",
      "0.02ms '_get_speech_labels_from_decoded_prediction'\n",
      "0.26ms '_get_diar_segments'\n",
      "0.00ms 'getReducedMat'\n",
      "9.11ms '_online_diarization'\n",
      "[NeMo I 2021-10-18 16:58:20 streaming_asr_and_diar:1361] Streaming Diar [arm_talk_16k][frame-  6th  ]:\n",
      "213.10ms 'run_ASR_model'\n",
      "0.04ms '_get_speech_labels_from_decoded_prediction'\n",
      "0.26ms '_get_diar_segments'\n",
      "0.00ms 'getReducedMat'\n",
      "9.55ms '_online_diarization'\n",
      "[NeMo I 2021-10-18 16:58:21 streaming_asr_and_diar:1361] Streaming Diar [arm_talk_16k][frame-  7th  ]:\n",
      "212.97ms 'run_ASR_model'\n",
      "0.03ms '_get_speech_labels_from_decoded_prediction'\n",
      "0.74ms '_get_diar_segments'\n",
      "0.01ms 'getReducedMat'\n",
      "268.60ms '_online_diarization'\n",
      "[NeMo I 2021-10-18 16:58:22 streaming_asr_and_diar:1361] Streaming Diar [arm_talk_16k][frame-  8th  ]:\n",
      "207.43ms 'run_ASR_model'\n",
      "0.05ms '_get_speech_labels_from_decoded_prediction'\n",
      "0.82ms '_get_diar_segments'\n",
      "0.01ms 'getReducedMat'\n",
      "0.07ms 'matchNewOldclusterLabels'\n",
      "267.19ms '_online_diarization'\n",
      "[NeMo I 2021-10-18 16:58:23 streaming_asr_and_diar:1361] Streaming Diar [arm_talk_16k][frame-  9th  ]:\n",
      "202.88ms 'run_ASR_model'\n",
      "0.05ms '_get_speech_labels_from_decoded_prediction'\n",
      "0.80ms '_get_diar_segments'\n",
      "0.00ms 'getReducedMat'\n",
      "0.06ms 'matchNewOldclusterLabels'\n",
      "192.42ms '_online_diarization'\n",
      "[NeMo I 2021-10-18 16:58:24 streaming_asr_and_diar:1361] Streaming Diar [arm_talk_16k][frame-  10th  ]:\n",
      "214.32ms 'run_ASR_model'\n",
      "0.05ms '_get_speech_labels_from_decoded_prediction'\n",
      "0.24ms '_get_diar_segments'\n",
      "0.00ms 'getReducedMat'\n",
      "0.07ms 'matchNewOldclusterLabels'\n",
      "136.19ms '_online_diarization'\n",
      "[NeMo I 2021-10-18 16:58:25 streaming_asr_and_diar:1361] Streaming Diar [arm_talk_16k][frame-  11th  ]:\n"
     ]
    },
    {
     "name": "stderr",
     "output_type": "stream",
     "text": [
      "[NeMo W 2021-10-18 16:58:26 nmse_clustering:276] Graph is not fully connected and the clustering result might not be accurate.\n"
     ]
    },
    {
     "name": "stdout",
     "output_type": "stream",
     "text": [
      "213.57ms 'run_ASR_model'\n",
      "0.04ms '_get_speech_labels_from_decoded_prediction'\n",
      "0.78ms '_get_diar_segments'\n",
      "0.00ms 'getReducedMat'\n",
      "0.07ms 'matchNewOldclusterLabels'\n",
      "132.82ms '_online_diarization'\n",
      "[NeMo I 2021-10-18 16:58:26 streaming_asr_and_diar:1361] Streaming Diar [arm_talk_16k][frame-  12th  ]:\n"
     ]
    },
    {
     "name": "stderr",
     "output_type": "stream",
     "text": [
      "[NeMo W 2021-10-18 16:58:27 nmse_clustering:276] Graph is not fully connected and the clustering result might not be accurate.\n"
     ]
    },
    {
     "name": "stdout",
     "output_type": "stream",
     "text": [
      "217.79ms 'run_ASR_model'\n",
      "0.06ms '_get_speech_labels_from_decoded_prediction'\n",
      "0.79ms '_get_diar_segments'\n",
      "0.00ms 'getReducedMat'\n",
      "0.07ms 'matchNewOldclusterLabels'\n",
      "142.79ms '_online_diarization'\n",
      "[NeMo I 2021-10-18 16:58:27 streaming_asr_and_diar:1361] Streaming Diar [arm_talk_16k][frame-  13th  ]:\n"
     ]
    },
    {
     "name": "stderr",
     "output_type": "stream",
     "text": [
      "[NeMo W 2021-10-18 16:58:28 nmse_clustering:276] Graph is not fully connected and the clustering result might not be accurate.\n"
     ]
    },
    {
     "name": "stdout",
     "output_type": "stream",
     "text": [
      "230.60ms 'run_ASR_model'\n",
      "0.11ms '_get_speech_labels_from_decoded_prediction'\n",
      "0.94ms '_get_diar_segments'\n",
      "0.01ms 'getReducedMat'\n",
      "0.08ms 'matchNewOldclusterLabels'\n",
      "168.17ms '_online_diarization'\n",
      "[NeMo I 2021-10-18 16:58:28 streaming_asr_and_diar:1361] Streaming Diar [arm_talk_16k][frame-  14th  ]:\n",
      "214.24ms 'run_ASR_model'\n",
      "0.07ms '_get_speech_labels_from_decoded_prediction'\n",
      "0.78ms '_get_diar_segments'\n",
      "0.00ms 'getReducedMat'\n",
      "0.08ms 'matchNewOldclusterLabels'\n",
      "175.81ms '_online_diarization'\n",
      "[NeMo I 2021-10-18 16:58:29 streaming_asr_and_diar:1361] Streaming Diar [arm_talk_16k][frame-  15th  ]:\n",
      "221.96ms 'run_ASR_model'\n",
      "0.07ms '_get_speech_labels_from_decoded_prediction'\n",
      "0.76ms '_get_diar_segments'\n",
      "0.01ms 'getReducedMat'\n",
      "0.07ms 'matchNewOldclusterLabels'\n",
      "249.98ms '_online_diarization'\n",
      "[NeMo I 2021-10-18 16:58:30 streaming_asr_and_diar:1361] Streaming Diar [arm_talk_16k][frame-  16th  ]:\n",
      "210.89ms 'run_ASR_model'\n",
      "0.07ms '_get_speech_labels_from_decoded_prediction'\n",
      "0.81ms '_get_diar_segments'\n",
      "0.00ms 'getReducedMat'\n",
      "0.08ms 'matchNewOldclusterLabels'\n",
      "166.56ms '_online_diarization'\n",
      "[NeMo I 2021-10-18 16:58:31 streaming_asr_and_diar:1361] Streaming Diar [arm_talk_16k][frame-  17th  ]:\n",
      "202.01ms 'run_ASR_model'\n",
      "0.09ms '_get_speech_labels_from_decoded_prediction'\n",
      "0.79ms '_get_diar_segments'\n",
      "0.01ms 'getReducedMat'\n",
      "0.08ms 'matchNewOldclusterLabels'\n",
      "148.40ms '_online_diarization'\n",
      "[NeMo I 2021-10-18 16:58:32 streaming_asr_and_diar:1361] Streaming Diar [arm_talk_16k][frame-  18th  ]:\n",
      "214.25ms 'run_ASR_model'\n",
      "0.07ms '_get_speech_labels_from_decoded_prediction'\n",
      "0.54ms '_get_diar_segments'\n",
      "0.01ms 'getReducedMat'\n",
      "0.08ms 'matchNewOldclusterLabels'\n",
      "181.45ms '_online_diarization'\n",
      "[NeMo I 2021-10-18 16:58:33 streaming_asr_and_diar:1361] Streaming Diar [arm_talk_16k][frame-  19th  ]:\n",
      "214.88ms 'run_ASR_model'\n",
      "0.06ms '_get_speech_labels_from_decoded_prediction'\n",
      "0.81ms '_get_diar_segments'\n",
      "0.00ms 'getReducedMat'\n",
      "0.08ms 'matchNewOldclusterLabels'\n",
      "179.97ms '_online_diarization'\n",
      "[NeMo I 2021-10-18 16:58:34 streaming_asr_and_diar:1361] Streaming Diar [arm_talk_16k][frame-  20th  ]:\n",
      "210.50ms 'run_ASR_model'\n",
      "0.07ms '_get_speech_labels_from_decoded_prediction'\n",
      "0.78ms '_get_diar_segments'\n",
      "0.01ms 'getReducedMat'\n",
      "0.09ms 'matchNewOldclusterLabels'\n",
      "273.97ms '_online_diarization'\n",
      "[NeMo I 2021-10-18 16:58:35 streaming_asr_and_diar:1361] Streaming Diar [arm_talk_16k][frame-  21th  ]:\n",
      "208.08ms 'run_ASR_model'\n",
      "0.06ms '_get_speech_labels_from_decoded_prediction'\n",
      "0.76ms '_get_diar_segments'\n",
      "0.00ms 'getReducedMat'\n",
      "0.09ms 'matchNewOldclusterLabels'\n",
      "176.62ms '_online_diarization'\n",
      "[NeMo I 2021-10-18 16:58:36 streaming_asr_and_diar:1361] Streaming Diar [arm_talk_16k][frame-  22th  ]:\n",
      "214.67ms 'run_ASR_model'\n",
      "0.08ms '_get_speech_labels_from_decoded_prediction'\n",
      "0.82ms '_get_diar_segments'\n",
      "0.00ms 'getReducedMat'\n",
      "0.08ms 'matchNewOldclusterLabels'\n",
      "194.37ms '_online_diarization'\n",
      "[NeMo I 2021-10-18 16:58:37 streaming_asr_and_diar:1361] Streaming Diar [arm_talk_16k][frame-  23th  ]:\n",
      "214.44ms 'run_ASR_model'\n",
      "0.07ms '_get_speech_labels_from_decoded_prediction'\n",
      "0.32ms '_get_diar_segments'\n",
      "0.01ms 'getReducedMat'\n",
      "0.09ms 'matchNewOldclusterLabels'\n",
      "200.49ms '_online_diarization'\n",
      "[NeMo I 2021-10-18 16:58:38 streaming_asr_and_diar:1361] Streaming Diar [arm_talk_16k][frame-  24th  ]:\n",
      "212.75ms 'run_ASR_model'\n",
      "0.07ms '_get_speech_labels_from_decoded_prediction'\n",
      "0.79ms '_get_diar_segments'\n",
      "0.00ms 'getReducedMat'\n",
      "0.09ms 'matchNewOldclusterLabels'\n",
      "213.37ms '_online_diarization'\n",
      "[NeMo I 2021-10-18 16:58:39 streaming_asr_and_diar:1361] Streaming Diar [arm_talk_16k][frame-  25th  ]:\n",
      "211.63ms 'run_ASR_model'\n",
      "0.07ms '_get_speech_labels_from_decoded_prediction'\n",
      "0.99ms '_get_diar_segments'\n",
      "0.01ms 'getReducedMat'\n",
      "0.10ms 'matchNewOldclusterLabels'\n",
      "208.49ms '_online_diarization'\n",
      "[NeMo I 2021-10-18 16:58:40 streaming_asr_and_diar:1361] Streaming Diar [arm_talk_16k][frame-  26th  ]:\n",
      "219.67ms 'run_ASR_model'\n",
      "0.07ms '_get_speech_labels_from_decoded_prediction'\n",
      "0.78ms '_get_diar_segments'\n",
      "0.00ms 'getReducedMat'\n",
      "0.09ms 'matchNewOldclusterLabels'\n",
      "234.42ms '_online_diarization'\n",
      "[NeMo I 2021-10-18 16:58:41 streaming_asr_and_diar:1361] Streaming Diar [arm_talk_16k][frame-  27th  ]:\n",
      "209.93ms 'run_ASR_model'\n",
      "0.07ms '_get_speech_labels_from_decoded_prediction'\n",
      "0.50ms '_get_diar_segments'\n",
      "0.01ms 'getReducedMat'\n",
      "0.10ms 'matchNewOldclusterLabels'\n",
      "199.76ms '_online_diarization'\n",
      "[NeMo I 2021-10-18 16:58:42 streaming_asr_and_diar:1361] Streaming Diar [arm_talk_16k][frame-  28th  ]:\n",
      "222.91ms 'run_ASR_model'\n",
      "0.07ms '_get_speech_labels_from_decoded_prediction'\n",
      "0.78ms '_get_diar_segments'\n",
      "0.00ms 'getReducedMat'\n",
      "0.10ms 'matchNewOldclusterLabels'\n",
      "238.39ms '_online_diarization'\n",
      "[NeMo I 2021-10-18 16:58:43 streaming_asr_and_diar:1361] Streaming Diar [arm_talk_16k][frame-  29th  ]:\n",
      "225.65ms 'run_ASR_model'\n",
      "0.11ms '_get_speech_labels_from_decoded_prediction'\n",
      "0.89ms '_get_diar_segments'\n",
      "0.01ms 'getReducedMat'\n",
      "0.07ms 'matchNewOldclusterLabels'\n",
      "254.55ms '_online_diarization'\n",
      "[NeMo I 2021-10-18 16:58:44 streaming_asr_and_diar:1361] Streaming Diar [arm_talk_16k][frame-  30th  ]:\n",
      "213.04ms 'run_ASR_model'\n",
      "0.05ms '_get_speech_labels_from_decoded_prediction'\n",
      "0.80ms '_get_diar_segments'\n",
      "0.00ms 'getReducedMat'\n",
      "0.10ms 'matchNewOldclusterLabels'\n",
      "240.76ms '_online_diarization'\n",
      "[NeMo I 2021-10-18 16:58:45 streaming_asr_and_diar:1361] Streaming Diar [arm_talk_16k][frame-  31th  ]:\n",
      "199.35ms 'run_ASR_model'\n",
      "0.06ms '_get_speech_labels_from_decoded_prediction'\n",
      "0.79ms '_get_diar_segments'\n",
      "0.00ms 'getReducedMat'\n",
      "0.06ms 'matchNewOldclusterLabels'\n",
      "246.67ms '_online_diarization'\n",
      "[NeMo I 2021-10-18 16:58:46 streaming_asr_and_diar:1361] Streaming Diar [arm_talk_16k][frame-  32th  ]:\n",
      "214.80ms 'run_ASR_model'\n",
      "0.07ms '_get_speech_labels_from_decoded_prediction'\n",
      "0.79ms '_get_diar_segments'\n",
      "0.00ms 'getReducedMat'\n",
      "0.06ms 'matchNewOldclusterLabels'\n",
      "281.63ms '_online_diarization'\n",
      "[NeMo I 2021-10-18 16:58:47 streaming_asr_and_diar:1361] Streaming Diar [arm_talk_16k][frame-  33th  ]:\n",
      "211.18ms 'run_ASR_model'\n",
      "0.07ms '_get_speech_labels_from_decoded_prediction'\n",
      "0.81ms '_get_diar_segments'\n",
      "0.00ms 'getReducedMat'\n",
      "0.07ms 'matchNewOldclusterLabels'\n",
      "298.67ms '_online_diarization'\n",
      "[NeMo I 2021-10-18 16:58:48 streaming_asr_and_diar:1361] Streaming Diar [arm_talk_16k][frame-  34th  ]:\n",
      "207.24ms 'run_ASR_model'\n",
      "0.07ms '_get_speech_labels_from_decoded_prediction'\n",
      "0.59ms '_get_diar_segments'\n",
      "0.01ms 'getReducedMat'\n",
      "0.07ms 'matchNewOldclusterLabels'\n",
      "320.64ms '_online_diarization'\n",
      "[NeMo I 2021-10-18 16:58:49 streaming_asr_and_diar:1361] Streaming Diar [arm_talk_16k][frame-  35th  ]:\n",
      "207.62ms 'run_ASR_model'\n",
      "0.07ms '_get_speech_labels_from_decoded_prediction'\n",
      "0.79ms '_get_diar_segments'\n",
      "0.00ms 'getReducedMat'\n",
      "0.07ms 'matchNewOldclusterLabels'\n",
      "359.24ms '_online_diarization'\n",
      "[NeMo I 2021-10-18 16:58:50 streaming_asr_and_diar:1361] Streaming Diar [arm_talk_16k][frame-  36th  ]:\n",
      "212.38ms 'run_ASR_model'\n",
      "0.07ms '_get_speech_labels_from_decoded_prediction'\n",
      "0.62ms '_get_diar_segments'\n",
      "0.00ms 'getReducedMat'\n",
      "0.07ms 'matchNewOldclusterLabels'\n",
      "291.38ms '_online_diarization'\n",
      "[NeMo I 2021-10-18 16:58:51 streaming_asr_and_diar:1361] Streaming Diar [arm_talk_16k][frame-  37th  ]:\n",
      "201.71ms 'run_ASR_model'\n",
      "0.07ms '_get_speech_labels_from_decoded_prediction'\n",
      "0.81ms '_get_diar_segments'\n",
      "0.00ms 'getReducedMat'\n",
      "0.07ms 'matchNewOldclusterLabels'\n",
      "353.14ms '_online_diarization'\n",
      "[NeMo I 2021-10-18 16:58:52 streaming_asr_and_diar:1361] Streaming Diar [arm_talk_16k][frame-  38th  ]:\n",
      "210.93ms 'run_ASR_model'\n",
      "0.07ms '_get_speech_labels_from_decoded_prediction'\n",
      "0.54ms '_get_diar_segments'\n",
      "0.00ms 'getReducedMat'\n",
      "0.07ms 'matchNewOldclusterLabels'\n",
      "310.96ms '_online_diarization'\n",
      "[NeMo I 2021-10-18 16:58:53 streaming_asr_and_diar:1361] Streaming Diar [arm_talk_16k][frame-  39th  ]:\n",
      "221.63ms 'run_ASR_model'\n",
      "0.05ms '_get_speech_labels_from_decoded_prediction'\n",
      "1.05ms '_get_diar_segments'\n",
      "0.01ms 'getReducedMat'\n",
      "0.07ms 'matchNewOldclusterLabels'\n",
      "310.62ms '_online_diarization'\n",
      "[NeMo I 2021-10-18 16:58:54 streaming_asr_and_diar:1361] Streaming Diar [arm_talk_16k][frame-  40th  ]:\n",
      "218.73ms 'run_ASR_model'\n",
      "0.05ms '_get_speech_labels_from_decoded_prediction'\n",
      "0.80ms '_get_diar_segments'\n",
      "0.01ms 'getReducedMat'\n",
      "0.08ms 'matchNewOldclusterLabels'\n",
      "319.07ms '_online_diarization'\n",
      "[NeMo I 2021-10-18 16:58:55 streaming_asr_and_diar:1361] Streaming Diar [arm_talk_16k][frame-  41th  ]:\n"
     ]
    },
    {
     "name": "stdout",
     "output_type": "stream",
     "text": [
      "212.92ms 'run_ASR_model'\n",
      "0.05ms '_get_speech_labels_from_decoded_prediction'\n",
      "0.90ms '_get_diar_segments'\n",
      "0.01ms 'getReducedMat'\n",
      "0.12ms 'matchNewOldclusterLabels'\n",
      "323.73ms '_online_diarization'\n",
      "[NeMo I 2021-10-18 16:58:56 streaming_asr_and_diar:1361] Streaming Diar [arm_talk_16k][frame-  42th  ]:\n",
      "207.98ms 'run_ASR_model'\n",
      "0.04ms '_get_speech_labels_from_decoded_prediction'\n",
      "0.76ms '_get_diar_segments'\n",
      "0.01ms 'getReducedMat'\n",
      "0.93ms 'matchNewOldclusterLabels'\n",
      "337.92ms '_online_diarization'\n",
      "[NeMo I 2021-10-18 16:58:57 streaming_asr_and_diar:1361] Streaming Diar [arm_talk_16k][frame-  43th  ]:\n",
      "211.93ms 'run_ASR_model'\n",
      "0.04ms '_get_speech_labels_from_decoded_prediction'\n",
      "0.64ms '_get_diar_segments'\n",
      "0.00ms 'getReducedMat'\n",
      "0.75ms 'matchNewOldclusterLabels'\n",
      "328.02ms '_online_diarization'\n",
      "[NeMo I 2021-10-18 16:58:58 streaming_asr_and_diar:1361] Streaming Diar [arm_talk_16k][frame-  44th  ]:\n",
      "211.16ms 'run_ASR_model'\n",
      "0.04ms '_get_speech_labels_from_decoded_prediction'\n",
      "0.71ms '_get_diar_segments'\n",
      "0.00ms 'getReducedMat'\n",
      "0.73ms 'matchNewOldclusterLabels'\n",
      "374.17ms '_online_diarization'\n",
      "[NeMo I 2021-10-18 16:58:59 streaming_asr_and_diar:1361] Streaming Diar [arm_talk_16k][frame-  45th  ]:\n",
      "213.68ms 'run_ASR_model'\n",
      "0.05ms '_get_speech_labels_from_decoded_prediction'\n",
      "0.80ms '_get_diar_segments'\n",
      "0.01ms 'getReducedMat'\n",
      "0.72ms 'matchNewOldclusterLabels'\n",
      "364.64ms '_online_diarization'\n",
      "[NeMo I 2021-10-18 16:59:00 streaming_asr_and_diar:1361] Streaming Diar [arm_talk_16k][frame-  46th  ]:\n",
      "200.14ms 'run_ASR_model'\n",
      "0.04ms '_get_speech_labels_from_decoded_prediction'\n",
      "0.81ms '_get_diar_segments'\n",
      "0.00ms 'getReducedMat'\n",
      "0.74ms 'matchNewOldclusterLabels'\n",
      "342.08ms '_online_diarization'\n",
      "[NeMo I 2021-10-18 16:59:01 streaming_asr_and_diar:1361] Streaming Diar [arm_talk_16k][frame-  47th  ]:\n",
      "217.65ms 'run_ASR_model'\n",
      "0.06ms '_get_speech_labels_from_decoded_prediction'\n",
      "0.79ms '_get_diar_segments'\n",
      "0.01ms 'getReducedMat'\n",
      "0.76ms 'matchNewOldclusterLabels'\n",
      "333.42ms '_online_diarization'\n",
      "[NeMo I 2021-10-18 16:59:02 streaming_asr_and_diar:1361] Streaming Diar [arm_talk_16k][frame-  48th  ]:\n",
      "228.67ms 'run_ASR_model'\n",
      "0.05ms '_get_speech_labels_from_decoded_prediction'\n",
      "0.81ms '_get_diar_segments'\n",
      "0.00ms 'getReducedMat'\n",
      "0.72ms 'matchNewOldclusterLabels'\n",
      "363.00ms '_online_diarization'\n",
      "[NeMo I 2021-10-18 16:59:04 streaming_asr_and_diar:1361] Streaming Diar [arm_talk_16k][frame-  49th  ]:\n",
      "201.18ms 'run_ASR_model'\n",
      "0.06ms '_get_speech_labels_from_decoded_prediction'\n",
      "0.74ms '_get_diar_segments'\n",
      "0.01ms 'getReducedMat'\n",
      "0.78ms 'matchNewOldclusterLabels'\n",
      "368.03ms '_online_diarization'\n",
      "[NeMo I 2021-10-18 16:59:04 streaming_asr_and_diar:1361] Streaming Diar [arm_talk_16k][frame-  50th  ]:\n",
      "211.70ms 'run_ASR_model'\n",
      "0.06ms '_get_speech_labels_from_decoded_prediction'\n",
      "0.27ms '_get_diar_segments'\n",
      "0.01ms 'getReducedMat'\n",
      "0.75ms 'matchNewOldclusterLabels'\n",
      "384.95ms '_online_diarization'\n",
      "[NeMo I 2021-10-18 16:59:06 streaming_asr_and_diar:1361] Streaming Diar [arm_talk_16k][frame-  51th  ]:\n",
      "213.64ms 'run_ASR_model'\n",
      "0.05ms '_get_speech_labels_from_decoded_prediction'\n",
      "0.31ms '_get_diar_segments'\n",
      "0.00ms 'getReducedMat'\n",
      "0.75ms 'matchNewOldclusterLabels'\n",
      "376.32ms '_online_diarization'\n",
      "[NeMo I 2021-10-18 16:59:06 streaming_asr_and_diar:1361] Streaming Diar [arm_talk_16k][frame-  52th  ]:\n",
      "223.45ms 'run_ASR_model'\n",
      "0.05ms '_get_speech_labels_from_decoded_prediction'\n",
      "0.77ms '_get_diar_segments'\n",
      "0.01ms 'getReducedMat'\n",
      "0.75ms 'matchNewOldclusterLabels'\n",
      "394.47ms '_online_diarization'\n",
      "[NeMo I 2021-10-18 16:59:08 streaming_asr_and_diar:1361] Streaming Diar [arm_talk_16k][frame-  53th  ]:\n",
      "212.73ms 'run_ASR_model'\n",
      "0.05ms '_get_speech_labels_from_decoded_prediction'\n",
      "0.81ms '_get_diar_segments'\n",
      "0.00ms 'getReducedMat'\n",
      "0.73ms 'matchNewOldclusterLabels'\n",
      "410.39ms '_online_diarization'\n",
      "[NeMo I 2021-10-18 16:59:09 streaming_asr_and_diar:1361] Streaming Diar [arm_talk_16k][frame-  54th  ]:\n",
      "200.99ms 'run_ASR_model'\n",
      "0.05ms '_get_speech_labels_from_decoded_prediction'\n",
      "0.80ms '_get_diar_segments'\n",
      "0.00ms 'getReducedMat'\n",
      "0.74ms 'matchNewOldclusterLabels'\n",
      "393.22ms '_online_diarization'\n",
      "[NeMo I 2021-10-18 16:59:10 streaming_asr_and_diar:1361] Streaming Diar [arm_talk_16k][frame-  55th  ]:\n",
      "223.90ms 'run_ASR_model'\n",
      "0.05ms '_get_speech_labels_from_decoded_prediction'\n",
      "0.81ms '_get_diar_segments'\n",
      "0.00ms 'getReducedMat'\n",
      "0.79ms 'matchNewOldclusterLabels'\n",
      "446.84ms '_online_diarization'\n",
      "[NeMo I 2021-10-18 16:59:11 streaming_asr_and_diar:1361] Streaming Diar [arm_talk_16k][frame-  56th  ]:\n",
      "207.83ms 'run_ASR_model'\n",
      "0.05ms '_get_speech_labels_from_decoded_prediction'\n",
      "0.80ms '_get_diar_segments'\n",
      "0.00ms 'getReducedMat'\n",
      "0.78ms 'matchNewOldclusterLabels'\n",
      "479.80ms '_online_diarization'\n",
      "[NeMo I 2021-10-18 16:59:12 streaming_asr_and_diar:1361] Streaming Diar [arm_talk_16k][frame-  57th  ]:\n",
      "265.10ms 'run_ASR_model'\n",
      "0.05ms '_get_speech_labels_from_decoded_prediction'\n",
      "0.79ms '_get_diar_segments'\n",
      "0.01ms 'getReducedMat'\n",
      "0.77ms 'matchNewOldclusterLabels'\n",
      "564.33ms '_online_diarization'\n",
      "[NeMo I 2021-10-18 16:59:13 streaming_asr_and_diar:1361] Streaming Diar [arm_talk_16k][frame-  58th  ]:\n",
      "234.17ms 'run_ASR_model'\n",
      "0.05ms '_get_speech_labels_from_decoded_prediction'\n",
      "0.81ms '_get_diar_segments'\n",
      "0.00ms 'getReducedMat'\n",
      "0.75ms 'matchNewOldclusterLabels'\n",
      "569.99ms '_online_diarization'\n",
      "[NeMo I 2021-10-18 16:59:14 streaming_asr_and_diar:1361] Streaming Diar [arm_talk_16k][frame-  59th  ]:\n",
      "212.53ms 'run_ASR_model'\n",
      "0.05ms '_get_speech_labels_from_decoded_prediction'\n",
      "0.69ms '_get_diar_segments'\n",
      "0.00ms 'getReducedMat'\n",
      "0.72ms 'matchNewOldclusterLabels'\n",
      "466.57ms '_online_diarization'\n",
      "[NeMo I 2021-10-18 16:59:15 streaming_asr_and_diar:1361] Streaming Diar [arm_talk_16k][frame-  60th  ]:\n",
      "225.87ms 'run_ASR_model'\n",
      "0.04ms '_get_speech_labels_from_decoded_prediction'\n",
      "0.83ms '_get_diar_segments'\n",
      "0.00ms 'getReducedMat'\n",
      "0.71ms 'matchNewOldclusterLabels'\n",
      "567.52ms '_online_diarization'\n",
      "[NeMo I 2021-10-18 16:59:16 streaming_asr_and_diar:1361] Streaming Diar [arm_talk_16k][frame-  61th  ]:\n",
      "212.64ms 'run_ASR_model'\n",
      "0.05ms '_get_speech_labels_from_decoded_prediction'\n",
      "0.51ms '_get_diar_segments'\n",
      "0.00ms 'getReducedMat'\n",
      "0.73ms 'matchNewOldclusterLabels'\n",
      "542.30ms '_online_diarization'\n",
      "[NeMo I 2021-10-18 16:59:17 streaming_asr_and_diar:1361] Streaming Diar [arm_talk_16k][frame-  62th  ]:\n",
      "223.53ms 'run_ASR_model'\n",
      "0.05ms '_get_speech_labels_from_decoded_prediction'\n",
      "0.62ms '_get_diar_segments'\n",
      "0.00ms 'getReducedMat'\n",
      "0.71ms 'matchNewOldclusterLabels'\n",
      "487.51ms '_online_diarization'\n",
      "[NeMo I 2021-10-18 16:59:18 streaming_asr_and_diar:1361] Streaming Diar [arm_talk_16k][frame-  63th  ]:\n",
      "225.35ms 'run_ASR_model'\n",
      "0.05ms '_get_speech_labels_from_decoded_prediction'\n",
      "0.81ms '_get_diar_segments'\n",
      "0.00ms 'getReducedMat'\n",
      "0.77ms 'matchNewOldclusterLabels'\n",
      "518.88ms '_online_diarization'\n",
      "[NeMo I 2021-10-18 16:59:19 streaming_asr_and_diar:1361] Streaming Diar [arm_talk_16k][frame-  64th  ]:\n",
      "221.01ms 'run_ASR_model'\n",
      "0.06ms '_get_speech_labels_from_decoded_prediction'\n",
      "0.98ms '_get_diar_segments'\n",
      "0.00ms 'getReducedMat'\n",
      "0.77ms 'matchNewOldclusterLabels'\n",
      "523.84ms '_online_diarization'\n",
      "[NeMo I 2021-10-18 16:59:20 streaming_asr_and_diar:1361] Streaming Diar [arm_talk_16k][frame-  65th  ]:\n",
      "214.91ms 'run_ASR_model'\n",
      "0.05ms '_get_speech_labels_from_decoded_prediction'\n",
      "0.66ms '_get_diar_segments'\n",
      "0.00ms 'getReducedMat'\n",
      "0.91ms 'matchNewOldclusterLabels'\n",
      "552.77ms '_online_diarization'\n",
      "[NeMo I 2021-10-18 16:59:21 streaming_asr_and_diar:1361] Streaming Diar [arm_talk_16k][frame-  66th  ]:\n",
      "222.10ms 'run_ASR_model'\n",
      "0.05ms '_get_speech_labels_from_decoded_prediction'\n",
      "0.81ms '_get_diar_segments'\n",
      "0.01ms 'getReducedMat'\n",
      "0.78ms 'matchNewOldclusterLabels'\n",
      "42.08ms '_online_diarization'\n",
      "[NeMo I 2021-10-18 16:59:21 streaming_asr_and_diar:1361] Streaming Diar [arm_talk_16k][frame-  67th  ]:\n",
      "227.15ms 'run_ASR_model'\n",
      "0.05ms '_get_speech_labels_from_decoded_prediction'\n",
      "0.78ms '_get_diar_segments'\n",
      "0.00ms 'getReducedMat'\n",
      "0.76ms 'matchNewOldclusterLabels'\n",
      "42.14ms '_online_diarization'\n",
      "[NeMo I 2021-10-18 16:59:22 streaming_asr_and_diar:1361] Streaming Diar [arm_talk_16k][frame-  68th  ]:\n",
      "200.43ms 'run_ASR_model'\n",
      "0.06ms '_get_speech_labels_from_decoded_prediction'\n",
      "0.49ms '_get_diar_segments'\n",
      "0.01ms 'getReducedMat'\n",
      "0.77ms 'matchNewOldclusterLabels'\n",
      "43.08ms '_online_diarization'\n",
      "[NeMo I 2021-10-18 16:59:23 streaming_asr_and_diar:1361] Streaming Diar [arm_talk_16k][frame-  69th  ]:\n"
     ]
    },
    {
     "name": "stdout",
     "output_type": "stream",
     "text": [
      "212.69ms 'run_ASR_model'\n",
      "0.04ms '_get_speech_labels_from_decoded_prediction'\n",
      "0.78ms '_get_diar_segments'\n",
      "0.00ms 'getReducedMat'\n",
      "0.74ms 'matchNewOldclusterLabels'\n",
      "43.61ms '_online_diarization'\n",
      "[NeMo I 2021-10-18 16:59:24 streaming_asr_and_diar:1361] Streaming Diar [arm_talk_16k][frame-  70th  ]:\n",
      "219.47ms 'run_ASR_model'\n",
      "0.04ms '_get_speech_labels_from_decoded_prediction'\n",
      "0.80ms '_get_diar_segments'\n",
      "0.00ms 'getReducedMat'\n",
      "0.80ms 'matchNewOldclusterLabels'\n",
      "44.33ms '_online_diarization'\n",
      "[NeMo I 2021-10-18 16:59:25 streaming_asr_and_diar:1361] Streaming Diar [arm_talk_16k][frame-  71th  ]:\n",
      "225.11ms 'run_ASR_model'\n",
      "0.03ms '_get_speech_labels_from_decoded_prediction'\n",
      "0.78ms '_get_diar_segments'\n",
      "0.00ms 'getReducedMat'\n",
      "0.70ms 'matchNewOldclusterLabels'\n",
      "43.19ms '_online_diarization'\n",
      "[NeMo I 2021-10-18 16:59:26 streaming_asr_and_diar:1361] Streaming Diar [arm_talk_16k][frame-  72th  ]:\n",
      "206.64ms 'run_ASR_model'\n",
      "0.05ms '_get_speech_labels_from_decoded_prediction'\n",
      "0.78ms '_get_diar_segments'\n",
      "0.00ms 'getReducedMat'\n",
      "0.81ms 'matchNewOldclusterLabels'\n",
      "44.05ms '_online_diarization'\n",
      "[NeMo I 2021-10-18 16:59:27 streaming_asr_and_diar:1361] Streaming Diar [arm_talk_16k][frame-  73th  ]:\n",
      "225.97ms 'run_ASR_model'\n",
      "0.04ms '_get_speech_labels_from_decoded_prediction'\n",
      "0.80ms '_get_diar_segments'\n",
      "0.01ms 'getReducedMat'\n",
      "0.76ms 'matchNewOldclusterLabels'\n",
      "44.54ms '_online_diarization'\n",
      "[NeMo I 2021-10-18 16:59:28 streaming_asr_and_diar:1361] Streaming Diar [arm_talk_16k][frame-  74th  ]:\n",
      "215.25ms 'run_ASR_model'\n",
      "0.06ms '_get_speech_labels_from_decoded_prediction'\n",
      "0.80ms '_get_diar_segments'\n",
      "0.00ms 'getReducedMat'\n",
      "0.99ms 'matchNewOldclusterLabels'\n",
      "60.52ms '_online_diarization'\n",
      "[NeMo I 2021-10-18 16:59:29 streaming_asr_and_diar:1361] Streaming Diar [arm_talk_16k][frame-  75th  ]:\n",
      "224.74ms 'run_ASR_model'\n",
      "0.05ms '_get_speech_labels_from_decoded_prediction'\n",
      "0.80ms '_get_diar_segments'\n",
      "0.00ms 'getReducedMat'\n",
      "0.74ms 'matchNewOldclusterLabels'\n",
      "44.45ms '_online_diarization'\n",
      "[NeMo I 2021-10-18 16:59:30 streaming_asr_and_diar:1361] Streaming Diar [arm_talk_16k][frame-  76th  ]:\n",
      "213.10ms 'run_ASR_model'\n",
      "0.06ms '_get_speech_labels_from_decoded_prediction'\n",
      "0.80ms '_get_diar_segments'\n",
      "0.00ms 'getReducedMat'\n",
      "0.78ms 'matchNewOldclusterLabels'\n",
      "45.39ms '_online_diarization'\n",
      "[NeMo I 2021-10-18 16:59:31 streaming_asr_and_diar:1361] Streaming Diar [arm_talk_16k][frame-  77th  ]:\n",
      "204.88ms 'run_ASR_model'\n",
      "0.05ms '_get_speech_labels_from_decoded_prediction'\n",
      "0.82ms '_get_diar_segments'\n",
      "0.00ms 'getReducedMat'\n",
      "0.75ms 'matchNewOldclusterLabels'\n",
      "45.66ms '_online_diarization'\n",
      "[NeMo I 2021-10-18 16:59:32 streaming_asr_and_diar:1361] Streaming Diar [arm_talk_16k][frame-  78th  ]:\n",
      "212.79ms 'run_ASR_model'\n",
      "0.05ms '_get_speech_labels_from_decoded_prediction'\n",
      "0.81ms '_get_diar_segments'\n",
      "0.01ms 'getReducedMat'\n",
      "0.80ms 'matchNewOldclusterLabels'\n",
      "54.03ms '_online_diarization'\n",
      "[NeMo I 2021-10-18 16:59:33 streaming_asr_and_diar:1361] Streaming Diar [arm_talk_16k][frame-  79th  ]:\n",
      "217.34ms 'run_ASR_model'\n",
      "0.05ms '_get_speech_labels_from_decoded_prediction'\n",
      "0.82ms '_get_diar_segments'\n",
      "0.00ms 'getReducedMat'\n",
      "0.77ms 'matchNewOldclusterLabels'\n",
      "49.15ms '_online_diarization'\n",
      "[NeMo I 2021-10-18 16:59:34 streaming_asr_and_diar:1361] Streaming Diar [arm_talk_16k][frame-  80th  ]:\n",
      "225.83ms 'run_ASR_model'\n",
      "0.08ms '_get_speech_labels_from_decoded_prediction'\n",
      "0.77ms '_get_diar_segments'\n",
      "0.01ms 'getReducedMat'\n",
      "0.74ms 'matchNewOldclusterLabels'\n",
      "49.29ms '_online_diarization'\n",
      "[NeMo I 2021-10-18 16:59:35 streaming_asr_and_diar:1361] Streaming Diar [arm_talk_16k][frame-  81th  ]:\n",
      "213.28ms 'run_ASR_model'\n",
      "0.05ms '_get_speech_labels_from_decoded_prediction'\n",
      "0.78ms '_get_diar_segments'\n",
      "0.01ms 'getReducedMat'\n",
      "0.77ms 'matchNewOldclusterLabels'\n",
      "62.48ms '_online_diarization'\n",
      "[NeMo I 2021-10-18 16:59:36 streaming_asr_and_diar:1361] Streaming Diar [arm_talk_16k][frame-  82th  ]:\n",
      "212.92ms 'run_ASR_model'\n",
      "0.07ms '_get_speech_labels_from_decoded_prediction'\n",
      "0.82ms '_get_diar_segments'\n",
      "0.00ms 'getReducedMat'\n",
      "0.76ms 'matchNewOldclusterLabels'\n",
      "50.28ms '_online_diarization'\n",
      "[NeMo I 2021-10-18 16:59:37 streaming_asr_and_diar:1361] Streaming Diar [arm_talk_16k][frame-  83th  ]:\n",
      "208.63ms 'run_ASR_model'\n",
      "0.04ms '_get_speech_labels_from_decoded_prediction'\n",
      "0.81ms '_get_diar_segments'\n",
      "0.00ms 'getReducedMat'\n",
      "0.80ms 'matchNewOldclusterLabels'\n",
      "50.24ms '_online_diarization'\n",
      "[NeMo I 2021-10-18 16:59:38 streaming_asr_and_diar:1361] Streaming Diar [arm_talk_16k][frame-  84th  ]:\n",
      "211.61ms 'run_ASR_model'\n",
      "0.06ms '_get_speech_labels_from_decoded_prediction'\n",
      "0.80ms '_get_diar_segments'\n",
      "0.01ms 'getReducedMat'\n",
      "0.76ms 'matchNewOldclusterLabels'\n",
      "50.58ms '_online_diarization'\n",
      "[NeMo I 2021-10-18 16:59:39 streaming_asr_and_diar:1361] Streaming Diar [arm_talk_16k][frame-  85th  ]:\n",
      "200.94ms 'run_ASR_model'\n",
      "0.04ms '_get_speech_labels_from_decoded_prediction'\n",
      "0.82ms '_get_diar_segments'\n",
      "0.00ms 'getReducedMat'\n",
      "0.72ms 'matchNewOldclusterLabels'\n",
      "50.54ms '_online_diarization'\n",
      "[NeMo I 2021-10-18 16:59:40 streaming_asr_and_diar:1361] Streaming Diar [arm_talk_16k][frame-  86th  ]:\n",
      "212.54ms 'run_ASR_model'\n",
      "0.12ms '_get_speech_labels_from_decoded_prediction'\n",
      "0.63ms '_get_diar_segments'\n",
      "0.01ms 'getReducedMat'\n",
      "2.08ms 'matchNewOldclusterLabels'\n",
      "70.76ms '_online_diarization'\n",
      "[NeMo I 2021-10-18 16:59:41 streaming_asr_and_diar:1361] Streaming Diar [arm_talk_16k][frame-  87th  ]:\n",
      "202.07ms 'run_ASR_model'\n",
      "0.04ms '_get_speech_labels_from_decoded_prediction'\n",
      "0.79ms '_get_diar_segments'\n",
      "0.00ms 'getReducedMat'\n",
      "0.75ms 'matchNewOldclusterLabels'\n",
      "51.49ms '_online_diarization'\n",
      "[NeMo I 2021-10-18 16:59:42 streaming_asr_and_diar:1361] Streaming Diar [arm_talk_16k][frame-  88th  ]:\n",
      "211.16ms 'run_ASR_model'\n",
      "0.04ms '_get_speech_labels_from_decoded_prediction'\n",
      "0.78ms '_get_diar_segments'\n",
      "0.00ms 'getReducedMat'\n",
      "0.77ms 'matchNewOldclusterLabels'\n",
      "51.19ms '_online_diarization'\n",
      "[NeMo I 2021-10-18 16:59:43 streaming_asr_and_diar:1361] Streaming Diar [arm_talk_16k][frame-  89th  ]:\n",
      "213.43ms 'run_ASR_model'\n",
      "0.05ms '_get_speech_labels_from_decoded_prediction'\n",
      "0.80ms '_get_diar_segments'\n",
      "0.00ms 'getReducedMat'\n",
      "0.77ms 'matchNewOldclusterLabels'\n",
      "51.55ms '_online_diarization'\n",
      "[NeMo I 2021-10-18 16:59:44 streaming_asr_and_diar:1361] Streaming Diar [arm_talk_16k][frame-  90th  ]:\n",
      "212.47ms 'run_ASR_model'\n",
      "0.05ms '_get_speech_labels_from_decoded_prediction'\n",
      "0.70ms '_get_diar_segments'\n",
      "0.00ms 'getReducedMat'\n",
      "0.73ms 'matchNewOldclusterLabels'\n",
      "51.38ms '_online_diarization'\n",
      "[NeMo I 2021-10-18 16:59:45 streaming_asr_and_diar:1361] Streaming Diar [arm_talk_16k][frame-  91th  ]:\n",
      "224.47ms 'run_ASR_model'\n",
      "0.05ms '_get_speech_labels_from_decoded_prediction'\n",
      "0.77ms '_get_diar_segments'\n",
      "0.00ms 'getReducedMat'\n",
      "0.80ms 'matchNewOldclusterLabels'\n",
      "52.06ms '_online_diarization'\n",
      "[NeMo I 2021-10-18 16:59:46 streaming_asr_and_diar:1361] Streaming Diar [arm_talk_16k][frame-  92th  ]:\n",
      "214.64ms 'run_ASR_model'\n",
      "0.05ms '_get_speech_labels_from_decoded_prediction'\n",
      "0.81ms '_get_diar_segments'\n",
      "0.00ms 'getReducedMat'\n",
      "0.79ms 'matchNewOldclusterLabels'\n",
      "56.67ms '_online_diarization'\n",
      "[NeMo I 2021-10-18 16:59:47 streaming_asr_and_diar:1361] Streaming Diar [arm_talk_16k][frame-  93th  ]:\n",
      "222.60ms 'run_ASR_model'\n",
      "0.06ms '_get_speech_labels_from_decoded_prediction'\n",
      "0.27ms '_get_diar_segments'\n",
      "0.00ms 'getReducedMat'\n",
      "0.76ms 'matchNewOldclusterLabels'\n",
      "52.28ms '_online_diarization'\n",
      "[NeMo I 2021-10-18 16:59:48 streaming_asr_and_diar:1361] Streaming Diar [arm_talk_16k][frame-  94th  ]:\n",
      "213.70ms 'run_ASR_model'\n",
      "0.07ms '_get_speech_labels_from_decoded_prediction'\n",
      "0.80ms '_get_diar_segments'\n",
      "0.00ms 'getReducedMat'\n",
      "0.74ms 'matchNewOldclusterLabels'\n",
      "52.07ms '_online_diarization'\n",
      "[NeMo I 2021-10-18 16:59:49 streaming_asr_and_diar:1361] Streaming Diar [arm_talk_16k][frame-  95th  ]:\n",
      "200.25ms 'run_ASR_model'\n",
      "0.07ms '_get_speech_labels_from_decoded_prediction'\n",
      "0.78ms '_get_diar_segments'\n",
      "0.00ms 'getReducedMat'\n",
      "0.73ms 'matchNewOldclusterLabels'\n",
      "52.88ms '_online_diarization'\n",
      "[NeMo I 2021-10-18 16:59:50 streaming_asr_and_diar:1361] Streaming Diar [arm_talk_16k][frame-  96th  ]:\n",
      "213.33ms 'run_ASR_model'\n",
      "0.07ms '_get_speech_labels_from_decoded_prediction'\n",
      "0.78ms '_get_diar_segments'\n",
      "0.01ms 'getReducedMat'\n",
      "0.74ms 'matchNewOldclusterLabels'\n",
      "53.53ms '_online_diarization'\n",
      "[NeMo I 2021-10-18 16:59:51 streaming_asr_and_diar:1361] Streaming Diar [arm_talk_16k][frame-  97th  ]:\n"
     ]
    },
    {
     "name": "stdout",
     "output_type": "stream",
     "text": [
      "209.24ms 'run_ASR_model'\n",
      "0.05ms '_get_speech_labels_from_decoded_prediction'\n",
      "0.82ms '_get_diar_segments'\n",
      "0.01ms 'getReducedMat'\n",
      "0.76ms 'matchNewOldclusterLabels'\n",
      "77.69ms '_online_diarization'\n",
      "[NeMo I 2021-10-18 16:59:52 streaming_asr_and_diar:1361] Streaming Diar [arm_talk_16k][frame-  98th  ]:\n",
      "225.27ms 'run_ASR_model'\n",
      "0.05ms '_get_speech_labels_from_decoded_prediction'\n",
      "0.83ms '_get_diar_segments'\n",
      "0.01ms 'getReducedMat'\n",
      "0.82ms 'matchNewOldclusterLabels'\n",
      "68.78ms '_online_diarization'\n",
      "[NeMo I 2021-10-18 16:59:53 streaming_asr_and_diar:1361] Streaming Diar [arm_talk_16k][frame-  99th  ]:\n",
      "219.82ms 'run_ASR_model'\n",
      "0.06ms '_get_speech_labels_from_decoded_prediction'\n",
      "0.56ms '_get_diar_segments'\n",
      "0.01ms 'getReducedMat'\n",
      "0.79ms 'matchNewOldclusterLabels'\n",
      "53.92ms '_online_diarization'\n",
      "[NeMo I 2021-10-18 16:59:54 streaming_asr_and_diar:1361] Streaming Diar [arm_talk_16k][frame-  100th  ]:\n",
      "213.83ms 'run_ASR_model'\n",
      "0.06ms '_get_speech_labels_from_decoded_prediction'\n",
      "0.81ms '_get_diar_segments'\n",
      "0.00ms 'getReducedMat'\n",
      "0.78ms 'matchNewOldclusterLabels'\n",
      "54.07ms '_online_diarization'\n",
      "[NeMo I 2021-10-18 16:59:55 streaming_asr_and_diar:1361] Streaming Diar [arm_talk_16k][frame-  101th  ]:\n",
      "210.45ms 'run_ASR_model'\n",
      "0.06ms '_get_speech_labels_from_decoded_prediction'\n",
      "0.78ms '_get_diar_segments'\n",
      "0.00ms 'getReducedMat'\n",
      "0.80ms 'matchNewOldclusterLabels'\n",
      "53.51ms '_online_diarization'\n",
      "[NeMo I 2021-10-18 16:59:56 streaming_asr_and_diar:1361] Streaming Diar [arm_talk_16k][frame-  102th  ]:\n",
      "204.62ms 'run_ASR_model'\n",
      "0.06ms '_get_speech_labels_from_decoded_prediction'\n",
      "0.82ms '_get_diar_segments'\n",
      "0.01ms 'getReducedMat'\n",
      "0.77ms 'matchNewOldclusterLabels'\n",
      "73.10ms '_online_diarization'\n",
      "[NeMo I 2021-10-18 16:59:57 streaming_asr_and_diar:1361] Streaming Diar [arm_talk_16k][frame-  103th  ]:\n",
      "211.04ms 'run_ASR_model'\n",
      "0.04ms '_get_speech_labels_from_decoded_prediction'\n",
      "0.81ms '_get_diar_segments'\n",
      "0.01ms 'getReducedMat'\n",
      "0.76ms 'matchNewOldclusterLabels'\n",
      "61.74ms '_online_diarization'\n",
      "[NeMo I 2021-10-18 16:59:58 streaming_asr_and_diar:1361] Streaming Diar [arm_talk_16k][frame-  104th  ]:\n",
      "214.15ms 'run_ASR_model'\n",
      "0.05ms '_get_speech_labels_from_decoded_prediction'\n",
      "0.79ms '_get_diar_segments'\n",
      "0.00ms 'getReducedMat'\n",
      "0.80ms 'matchNewOldclusterLabels'\n",
      "61.34ms '_online_diarization'\n",
      "[NeMo I 2021-10-18 16:59:59 streaming_asr_and_diar:1361] Streaming Diar [arm_talk_16k][frame-  105th  ]:\n",
      "211.36ms 'run_ASR_model'\n",
      "0.05ms '_get_speech_labels_from_decoded_prediction'\n",
      "0.79ms '_get_diar_segments'\n",
      "0.01ms 'getReducedMat'\n",
      "0.73ms 'matchNewOldclusterLabels'\n",
      "61.94ms '_online_diarization'\n",
      "[NeMo I 2021-10-18 17:00:00 streaming_asr_and_diar:1361] Streaming Diar [arm_talk_16k][frame-  106th  ]:\n",
      "213.16ms 'run_ASR_model'\n",
      "0.06ms '_get_speech_labels_from_decoded_prediction'\n",
      "0.67ms '_get_diar_segments'\n",
      "0.00ms 'getReducedMat'\n",
      "0.75ms 'matchNewOldclusterLabels'\n",
      "80.60ms '_online_diarization'\n",
      "[NeMo I 2021-10-18 17:00:01 streaming_asr_and_diar:1361] Streaming Diar [arm_talk_16k][frame-  107th  ]:\n",
      "213.36ms 'run_ASR_model'\n",
      "0.07ms '_get_speech_labels_from_decoded_prediction'\n",
      "0.80ms '_get_diar_segments'\n",
      "0.00ms 'getReducedMat'\n",
      "0.78ms 'matchNewOldclusterLabels'\n",
      "63.63ms '_online_diarization'\n",
      "[NeMo I 2021-10-18 17:00:02 streaming_asr_and_diar:1361] Streaming Diar [arm_talk_16k][frame-  108th  ]:\n",
      "211.36ms 'run_ASR_model'\n",
      "0.07ms '_get_speech_labels_from_decoded_prediction'\n",
      "0.79ms '_get_diar_segments'\n",
      "0.01ms 'getReducedMat'\n",
      "0.81ms 'matchNewOldclusterLabels'\n",
      "62.30ms '_online_diarization'\n",
      "[NeMo I 2021-10-18 17:00:03 streaming_asr_and_diar:1361] Streaming Diar [arm_talk_16k][frame-  109th  ]:\n",
      "223.63ms 'run_ASR_model'\n",
      "0.08ms '_get_speech_labels_from_decoded_prediction'\n",
      "0.79ms '_get_diar_segments'\n",
      "0.01ms 'getReducedMat'\n",
      "0.78ms 'matchNewOldclusterLabels'\n",
      "66.95ms '_online_diarization'\n",
      "[NeMo I 2021-10-18 17:00:04 streaming_asr_and_diar:1361] Streaming Diar [arm_talk_16k][frame-  110th  ]:\n",
      "220.09ms 'run_ASR_model'\n",
      "0.07ms '_get_speech_labels_from_decoded_prediction'\n",
      "0.71ms '_get_diar_segments'\n",
      "0.01ms 'getReducedMat'\n",
      "0.76ms 'matchNewOldclusterLabels'\n",
      "83.84ms '_online_diarization'\n",
      "[NeMo I 2021-10-18 17:00:05 streaming_asr_and_diar:1361] Streaming Diar [arm_talk_16k][frame-  111th  ]:\n",
      "226.98ms 'run_ASR_model'\n",
      "0.06ms '_get_speech_labels_from_decoded_prediction'\n",
      "0.75ms '_get_diar_segments'\n",
      "0.00ms 'getReducedMat'\n",
      "0.77ms 'matchNewOldclusterLabels'\n",
      "77.77ms '_online_diarization'\n",
      "[NeMo I 2021-10-18 17:00:06 streaming_asr_and_diar:1361] Streaming Diar [arm_talk_16k][frame-  112th  ]:\n",
      "215.40ms 'run_ASR_model'\n",
      "0.05ms '_get_speech_labels_from_decoded_prediction'\n",
      "0.41ms '_get_diar_segments'\n",
      "0.01ms 'getReducedMat'\n",
      "0.78ms 'matchNewOldclusterLabels'\n",
      "64.17ms '_online_diarization'\n",
      "[NeMo I 2021-10-18 17:00:07 streaming_asr_and_diar:1361] Streaming Diar [arm_talk_16k][frame-  113th  ]:\n",
      "213.13ms 'run_ASR_model'\n",
      "0.04ms '_get_speech_labels_from_decoded_prediction'\n",
      "0.25ms '_get_diar_segments'\n",
      "0.00ms 'getReducedMat'\n",
      "0.79ms 'matchNewOldclusterLabels'\n",
      "76.65ms '_online_diarization'\n",
      "[NeMo I 2021-10-18 17:00:08 streaming_asr_and_diar:1361] Streaming Diar [arm_talk_16k][frame-  114th  ]:\n",
      "232.16ms 'run_ASR_model'\n",
      "0.05ms '_get_speech_labels_from_decoded_prediction'\n",
      "0.26ms '_get_diar_segments'\n",
      "0.01ms 'getReducedMat'\n",
      "0.79ms 'matchNewOldclusterLabels'\n",
      "63.22ms '_online_diarization'\n",
      "[NeMo I 2021-10-18 17:00:09 streaming_asr_and_diar:1361] Streaming Diar [arm_talk_16k][frame-  115th  ]:\n",
      "211.74ms 'run_ASR_model'\n",
      "0.03ms '_get_speech_labels_from_decoded_prediction'\n",
      "0.53ms '_get_diar_segments'\n",
      "0.01ms 'getReducedMat'\n",
      "0.76ms 'matchNewOldclusterLabels'\n",
      "63.70ms '_online_diarization'\n",
      "[NeMo I 2021-10-18 17:00:10 streaming_asr_and_diar:1361] Streaming Diar [arm_talk_16k][frame-  116th  ]:\n",
      "209.60ms 'run_ASR_model'\n",
      "0.03ms '_get_speech_labels_from_decoded_prediction'\n",
      "0.66ms '_get_diar_segments'\n",
      "0.00ms 'getReducedMat'\n",
      "0.78ms 'matchNewOldclusterLabels'\n",
      "63.85ms '_online_diarization'\n",
      "[NeMo I 2021-10-18 17:00:11 streaming_asr_and_diar:1361] Streaming Diar [arm_talk_16k][frame-  117th  ]:\n",
      "214.61ms 'run_ASR_model'\n",
      "0.04ms '_get_speech_labels_from_decoded_prediction'\n",
      "0.81ms '_get_diar_segments'\n",
      "0.00ms 'getReducedMat'\n",
      "0.80ms 'matchNewOldclusterLabels'\n",
      "64.35ms '_online_diarization'\n",
      "[NeMo I 2021-10-18 17:00:12 streaming_asr_and_diar:1361] Streaming Diar [arm_talk_16k][frame-  118th  ]:\n",
      "209.19ms 'run_ASR_model'\n",
      "0.04ms '_get_speech_labels_from_decoded_prediction'\n",
      "0.82ms '_get_diar_segments'\n",
      "0.01ms 'getReducedMat'\n",
      "0.76ms 'matchNewOldclusterLabels'\n",
      "64.16ms '_online_diarization'\n",
      "[NeMo I 2021-10-18 17:00:13 streaming_asr_and_diar:1361] Streaming Diar [arm_talk_16k][frame-  119th  ]:\n",
      "221.66ms 'run_ASR_model'\n",
      "0.05ms '_get_speech_labels_from_decoded_prediction'\n",
      "0.82ms '_get_diar_segments'\n",
      "0.00ms 'getReducedMat'\n",
      "0.77ms 'matchNewOldclusterLabels'\n",
      "64.42ms '_online_diarization'\n",
      "[NeMo I 2021-10-18 17:00:14 streaming_asr_and_diar:1361] Streaming Diar [arm_talk_16k][frame-  120th  ]:\n",
      "202.41ms 'run_ASR_model'\n",
      "0.05ms '_get_speech_labels_from_decoded_prediction'\n",
      "0.83ms '_get_diar_segments'\n",
      "0.00ms 'getReducedMat'\n",
      "0.74ms 'matchNewOldclusterLabels'\n",
      "64.27ms '_online_diarization'\n",
      "[NeMo I 2021-10-18 17:00:15 streaming_asr_and_diar:1361] Streaming Diar [arm_talk_16k][frame-  121th  ]:\n",
      "226.85ms 'run_ASR_model'\n",
      "0.05ms '_get_speech_labels_from_decoded_prediction'\n",
      "0.56ms '_get_diar_segments'\n",
      "0.00ms 'getReducedMat'\n",
      "0.79ms 'matchNewOldclusterLabels'\n",
      "74.47ms '_online_diarization'\n",
      "[NeMo I 2021-10-18 17:00:16 streaming_asr_and_diar:1361] Streaming Diar [arm_talk_16k][frame-  122th  ]:\n",
      "212.98ms 'run_ASR_model'\n",
      "0.04ms '_get_speech_labels_from_decoded_prediction'\n",
      "0.84ms '_get_diar_segments'\n",
      "0.00ms 'getReducedMat'\n",
      "0.80ms 'matchNewOldclusterLabels'\n",
      "72.59ms '_online_diarization'\n",
      "[NeMo I 2021-10-18 17:00:17 streaming_asr_and_diar:1361] Streaming Diar [arm_talk_16k][frame-  123th  ]:\n",
      "209.32ms 'run_ASR_model'\n",
      "0.06ms '_get_speech_labels_from_decoded_prediction'\n",
      "0.54ms '_get_diar_segments'\n",
      "0.00ms 'getReducedMat'\n",
      "0.79ms 'matchNewOldclusterLabels'\n",
      "65.55ms '_online_diarization'\n",
      "[NeMo I 2021-10-18 17:00:18 streaming_asr_and_diar:1361] Streaming Diar [arm_talk_16k][frame-  124th  ]:\n",
      "219.77ms 'run_ASR_model'\n",
      "0.09ms '_get_speech_labels_from_decoded_prediction'\n",
      "0.79ms '_get_diar_segments'\n",
      "0.00ms 'getReducedMat'\n",
      "0.79ms 'matchNewOldclusterLabels'\n",
      "65.58ms '_online_diarization'\n",
      "[NeMo I 2021-10-18 17:00:19 streaming_asr_and_diar:1361] Streaming Diar [arm_talk_16k][frame-  125th  ]:\n"
     ]
    },
    {
     "name": "stdout",
     "output_type": "stream",
     "text": [
      "226.35ms 'run_ASR_model'\n",
      "0.07ms '_get_speech_labels_from_decoded_prediction'\n",
      "0.80ms '_get_diar_segments'\n",
      "0.01ms 'getReducedMat'\n",
      "0.81ms 'matchNewOldclusterLabels'\n",
      "66.35ms '_online_diarization'\n",
      "[NeMo I 2021-10-18 17:00:20 streaming_asr_and_diar:1361] Streaming Diar [arm_talk_16k][frame-  126th  ]:\n",
      "213.29ms 'run_ASR_model'\n",
      "0.09ms '_get_speech_labels_from_decoded_prediction'\n",
      "0.79ms '_get_diar_segments'\n",
      "0.01ms 'getReducedMat'\n",
      "0.76ms 'matchNewOldclusterLabels'\n",
      "80.43ms '_online_diarization'\n",
      "[NeMo I 2021-10-18 17:00:21 streaming_asr_and_diar:1361] Streaming Diar [arm_talk_16k][frame-  127th  ]:\n",
      "211.55ms 'run_ASR_model'\n",
      "0.05ms '_get_speech_labels_from_decoded_prediction'\n",
      "0.81ms '_get_diar_segments'\n",
      "0.01ms 'getReducedMat'\n",
      "1.82ms 'matchNewOldclusterLabels'\n",
      "74.77ms '_online_diarization'\n",
      "[NeMo I 2021-10-18 17:00:22 streaming_asr_and_diar:1361] Streaming Diar [arm_talk_16k][frame-  128th  ]:\n",
      "201.64ms 'run_ASR_model'\n",
      "0.05ms '_get_speech_labels_from_decoded_prediction'\n",
      "0.89ms '_get_diar_segments'\n",
      "0.00ms 'getReducedMat'\n",
      "0.78ms 'matchNewOldclusterLabels'\n",
      "67.50ms '_online_diarization'\n",
      "[NeMo I 2021-10-18 17:00:23 streaming_asr_and_diar:1361] Streaming Diar [arm_talk_16k][frame-  129th  ]:\n",
      "207.44ms 'run_ASR_model'\n",
      "0.04ms '_get_speech_labels_from_decoded_prediction'\n",
      "0.80ms '_get_diar_segments'\n",
      "0.00ms 'getReducedMat'\n",
      "0.80ms 'matchNewOldclusterLabels'\n",
      "86.14ms '_online_diarization'\n",
      "[NeMo I 2021-10-18 17:00:24 streaming_asr_and_diar:1361] Streaming Diar [arm_talk_16k][frame-  130th  ]:\n",
      "215.14ms 'run_ASR_model'\n",
      "0.06ms '_get_speech_labels_from_decoded_prediction'\n",
      "0.81ms '_get_diar_segments'\n",
      "0.00ms 'getReducedMat'\n",
      "0.78ms 'matchNewOldclusterLabels'\n",
      "74.04ms '_online_diarization'\n",
      "[NeMo I 2021-10-18 17:00:25 streaming_asr_and_diar:1361] Streaming Diar [arm_talk_16k][frame-  131th  ]:\n",
      "209.24ms 'run_ASR_model'\n",
      "0.04ms '_get_speech_labels_from_decoded_prediction'\n",
      "0.79ms '_get_diar_segments'\n",
      "0.00ms 'getReducedMat'\n",
      "0.78ms 'matchNewOldclusterLabels'\n",
      "79.54ms '_online_diarization'\n",
      "[NeMo I 2021-10-18 17:00:26 streaming_asr_and_diar:1361] Streaming Diar [arm_talk_16k][frame-  132th  ]:\n",
      "219.81ms 'run_ASR_model'\n",
      "0.05ms '_get_speech_labels_from_decoded_prediction'\n",
      "0.56ms '_get_diar_segments'\n",
      "0.00ms 'getReducedMat'\n",
      "0.79ms 'matchNewOldclusterLabels'\n",
      "83.56ms '_online_diarization'\n",
      "[NeMo I 2021-10-18 17:00:27 streaming_asr_and_diar:1361] Streaming Diar [arm_talk_16k][frame-  133th  ]:\n",
      "214.41ms 'run_ASR_model'\n",
      "0.05ms '_get_speech_labels_from_decoded_prediction'\n",
      "0.83ms '_get_diar_segments'\n",
      "0.01ms 'getReducedMat'\n",
      "0.80ms 'matchNewOldclusterLabels'\n",
      "92.36ms '_online_diarization'\n",
      "[NeMo I 2021-10-18 17:00:28 streaming_asr_and_diar:1361] Streaming Diar [arm_talk_16k][frame-  134th  ]:\n",
      "223.05ms 'run_ASR_model'\n",
      "0.07ms '_get_speech_labels_from_decoded_prediction'\n",
      "0.76ms '_get_diar_segments'\n",
      "0.00ms 'getReducedMat'\n",
      "0.78ms 'matchNewOldclusterLabels'\n",
      "81.35ms '_online_diarization'\n",
      "[NeMo I 2021-10-18 17:00:29 streaming_asr_and_diar:1361] Streaming Diar [arm_talk_16k][frame-  135th  ]:\n",
      "215.48ms 'run_ASR_model'\n",
      "0.07ms '_get_speech_labels_from_decoded_prediction'\n",
      "0.62ms '_get_diar_segments'\n",
      "0.01ms 'getReducedMat'\n",
      "0.81ms 'matchNewOldclusterLabels'\n",
      "101.32ms '_online_diarization'\n",
      "[NeMo I 2021-10-18 17:00:30 streaming_asr_and_diar:1361] Streaming Diar [arm_talk_16k][frame-  136th  ]:\n",
      "209.24ms 'run_ASR_model'\n",
      "0.09ms '_get_speech_labels_from_decoded_prediction'\n",
      "0.81ms '_get_diar_segments'\n",
      "0.00ms 'getReducedMat'\n",
      "0.82ms 'matchNewOldclusterLabels'\n",
      "86.59ms '_online_diarization'\n",
      "[NeMo I 2021-10-18 17:00:31 streaming_asr_and_diar:1361] Streaming Diar [arm_talk_16k][frame-  137th  ]:\n",
      "217.04ms 'run_ASR_model'\n",
      "0.07ms '_get_speech_labels_from_decoded_prediction'\n",
      "0.79ms '_get_diar_segments'\n",
      "0.01ms 'getReducedMat'\n",
      "0.79ms 'matchNewOldclusterLabels'\n",
      "87.35ms '_online_diarization'\n",
      "[NeMo I 2021-10-18 17:00:32 streaming_asr_and_diar:1361] Streaming Diar [arm_talk_16k][frame-  138th  ]:\n",
      "201.41ms 'run_ASR_model'\n",
      "0.08ms '_get_speech_labels_from_decoded_prediction'\n",
      "0.78ms '_get_diar_segments'\n",
      "0.00ms 'getReducedMat'\n",
      "0.81ms 'matchNewOldclusterLabels'\n",
      "88.03ms '_online_diarization'\n",
      "[NeMo I 2021-10-18 17:00:33 streaming_asr_and_diar:1361] Streaming Diar [arm_talk_16k][frame-  139th  ]:\n",
      "212.64ms 'run_ASR_model'\n",
      "0.05ms '_get_speech_labels_from_decoded_prediction'\n",
      "0.82ms '_get_diar_segments'\n",
      "0.00ms 'getReducedMat'\n",
      "0.80ms 'matchNewOldclusterLabels'\n",
      "88.90ms '_online_diarization'\n",
      "[NeMo I 2021-10-18 17:00:34 streaming_asr_and_diar:1361] Streaming Diar [arm_talk_16k][frame-  140th  ]:\n",
      "212.86ms 'run_ASR_model'\n",
      "0.05ms '_get_speech_labels_from_decoded_prediction'\n",
      "0.69ms '_get_diar_segments'\n",
      "0.00ms 'getReducedMat'\n",
      "0.79ms 'matchNewOldclusterLabels'\n",
      "89.28ms '_online_diarization'\n",
      "[NeMo I 2021-10-18 17:00:35 streaming_asr_and_diar:1361] Streaming Diar [arm_talk_16k][frame-  141th  ]:\n",
      "227.23ms 'run_ASR_model'\n",
      "0.05ms '_get_speech_labels_from_decoded_prediction'\n",
      "0.60ms '_get_diar_segments'\n",
      "0.01ms 'getReducedMat'\n",
      "0.78ms 'matchNewOldclusterLabels'\n",
      "91.43ms '_online_diarization'\n",
      "[NeMo I 2021-10-18 17:00:36 streaming_asr_and_diar:1361] Streaming Diar [arm_talk_16k][frame-  142th  ]:\n",
      "213.02ms 'run_ASR_model'\n",
      "0.04ms '_get_speech_labels_from_decoded_prediction'\n",
      "0.84ms '_get_diar_segments'\n",
      "0.01ms 'getReducedMat'\n",
      "0.79ms 'matchNewOldclusterLabels'\n",
      "90.18ms '_online_diarization'\n",
      "[NeMo I 2021-10-18 17:00:37 streaming_asr_and_diar:1361] Streaming Diar [arm_talk_16k][frame-  143th  ]:\n",
      "210.97ms 'run_ASR_model'\n",
      "0.04ms '_get_speech_labels_from_decoded_prediction'\n",
      "0.59ms '_get_diar_segments'\n",
      "0.00ms 'getReducedMat'\n",
      "0.80ms 'matchNewOldclusterLabels'\n",
      "90.66ms '_online_diarization'\n",
      "[NeMo I 2021-10-18 17:00:38 streaming_asr_and_diar:1361] Streaming Diar [arm_talk_16k][frame-  144th  ]:\n",
      "200.53ms 'run_ASR_model'\n",
      "0.06ms '_get_speech_labels_from_decoded_prediction'\n",
      "0.80ms '_get_diar_segments'\n",
      "0.01ms 'getReducedMat'\n",
      "0.78ms 'matchNewOldclusterLabels'\n",
      "93.60ms '_online_diarization'\n",
      "[NeMo I 2021-10-18 17:00:39 streaming_asr_and_diar:1361] Streaming Diar [arm_talk_16k][frame-  145th  ]:\n",
      "221.34ms 'run_ASR_model'\n",
      "0.04ms '_get_speech_labels_from_decoded_prediction'\n",
      "1.47ms '_get_diar_segments'\n",
      "0.01ms 'getReducedMat'\n",
      "2.08ms 'matchNewOldclusterLabels'\n",
      "116.73ms '_online_diarization'\n",
      "[NeMo I 2021-10-18 17:00:40 streaming_asr_and_diar:1361] Streaming Diar [arm_talk_16k][frame-  146th  ]:\n",
      "210.00ms 'run_ASR_model'\n",
      "0.04ms '_get_speech_labels_from_decoded_prediction'\n",
      "0.80ms '_get_diar_segments'\n",
      "0.01ms 'getReducedMat'\n",
      "0.84ms 'matchNewOldclusterLabels'\n",
      "95.65ms '_online_diarization'\n",
      "[NeMo I 2021-10-18 17:00:41 streaming_asr_and_diar:1361] Streaming Diar [arm_talk_16k][frame-  147th  ]:\n",
      "203.88ms 'run_ASR_model'\n",
      "0.04ms '_get_speech_labels_from_decoded_prediction'\n",
      "0.91ms '_get_diar_segments'\n",
      "0.01ms 'getReducedMat'\n",
      "0.84ms 'matchNewOldclusterLabels'\n",
      "120.90ms '_online_diarization'\n",
      "[NeMo I 2021-10-18 17:00:42 streaming_asr_and_diar:1361] Streaming Diar [arm_talk_16k][frame-  148th  ]:\n",
      "222.57ms 'run_ASR_model'\n",
      "0.05ms '_get_speech_labels_from_decoded_prediction'\n",
      "0.82ms '_get_diar_segments'\n",
      "0.00ms 'getReducedMat'\n",
      "0.81ms 'matchNewOldclusterLabels'\n",
      "94.45ms '_online_diarization'\n",
      "[NeMo I 2021-10-18 17:00:43 streaming_asr_and_diar:1361] Streaming Diar [arm_talk_16k][frame-  149th  ]:\n",
      "211.26ms 'run_ASR_model'\n",
      "0.05ms '_get_speech_labels_from_decoded_prediction'\n",
      "0.67ms '_get_diar_segments'\n",
      "0.00ms 'getReducedMat'\n",
      "0.80ms 'matchNewOldclusterLabels'\n",
      "95.30ms '_online_diarization'\n",
      "[NeMo I 2021-10-18 17:00:44 streaming_asr_and_diar:1361] Streaming Diar [arm_talk_16k][frame-  150th  ]:\n",
      "222.35ms 'run_ASR_model'\n",
      "0.06ms '_get_speech_labels_from_decoded_prediction'\n",
      "0.69ms '_get_diar_segments'\n",
      "0.01ms 'getReducedMat'\n",
      "0.84ms 'matchNewOldclusterLabels'\n",
      "108.84ms '_online_diarization'\n",
      "[NeMo I 2021-10-18 17:00:45 streaming_asr_and_diar:1361] Streaming Diar [arm_talk_16k][frame-  151th  ]:\n",
      "226.11ms 'run_ASR_model'\n",
      "0.05ms '_get_speech_labels_from_decoded_prediction'\n",
      "0.82ms '_get_diar_segments'\n",
      "0.00ms 'getReducedMat'\n",
      "0.94ms 'matchNewOldclusterLabels'\n",
      "96.20ms '_online_diarization'\n",
      "[NeMo I 2021-10-18 17:00:46 streaming_asr_and_diar:1361] Streaming Diar [arm_talk_16k][frame-  152th  ]:\n",
      "210.04ms 'run_ASR_model'\n",
      "0.05ms '_get_speech_labels_from_decoded_prediction'\n",
      "0.80ms '_get_diar_segments'\n",
      "0.00ms 'getReducedMat'\n",
      "0.80ms 'matchNewOldclusterLabels'\n",
      "96.46ms '_online_diarization'\n",
      "[NeMo I 2021-10-18 17:00:47 streaming_asr_and_diar:1361] Streaming Diar [arm_talk_16k][frame-  153th  ]:\n"
     ]
    },
    {
     "name": "stdout",
     "output_type": "stream",
     "text": [
      "216.01ms 'run_ASR_model'\n",
      "0.05ms '_get_speech_labels_from_decoded_prediction'\n",
      "0.83ms '_get_diar_segments'\n",
      "0.00ms 'getReducedMat'\n",
      "0.81ms 'matchNewOldclusterLabels'\n",
      "96.24ms '_online_diarization'\n",
      "[NeMo I 2021-10-18 17:00:48 streaming_asr_and_diar:1361] Streaming Diar [arm_talk_16k][frame-  154th  ]:\n",
      "233.36ms 'run_ASR_model'\n",
      "0.05ms '_get_speech_labels_from_decoded_prediction'\n",
      "0.34ms '_get_diar_segments'\n",
      "0.00ms 'getReducedMat'\n",
      "0.82ms 'matchNewOldclusterLabels'\n",
      "98.19ms '_online_diarization'\n",
      "[NeMo I 2021-10-18 17:00:49 streaming_asr_and_diar:1361] Streaming Diar [arm_talk_16k][frame-  155th  ]:\n",
      "230.92ms 'run_ASR_model'\n",
      "0.05ms '_get_speech_labels_from_decoded_prediction'\n",
      "0.98ms '_get_diar_segments'\n",
      "0.01ms 'getReducedMat'\n",
      "0.82ms 'matchNewOldclusterLabels'\n",
      "122.98ms '_online_diarization'\n",
      "[NeMo I 2021-10-18 17:00:50 streaming_asr_and_diar:1361] Streaming Diar [arm_talk_16k][frame-  156th  ]:\n",
      "216.94ms 'run_ASR_model'\n",
      "0.05ms '_get_speech_labels_from_decoded_prediction'\n",
      "0.83ms '_get_diar_segments'\n",
      "0.00ms 'getReducedMat'\n",
      "0.86ms 'matchNewOldclusterLabels'\n",
      "104.08ms '_online_diarization'\n",
      "[NeMo I 2021-10-18 17:00:51 streaming_asr_and_diar:1361] Streaming Diar [arm_talk_16k][frame-  157th  ]:\n",
      "217.57ms 'run_ASR_model'\n",
      "0.06ms '_get_speech_labels_from_decoded_prediction'\n",
      "0.82ms '_get_diar_segments'\n",
      "0.00ms 'getReducedMat'\n",
      "0.82ms 'matchNewOldclusterLabels'\n",
      "103.47ms '_online_diarization'\n",
      "[NeMo I 2021-10-18 17:00:52 streaming_asr_and_diar:1361] Streaming Diar [arm_talk_16k][frame-  158th  ]:\n",
      "226.47ms 'run_ASR_model'\n",
      "0.07ms '_get_speech_labels_from_decoded_prediction'\n",
      "0.77ms '_get_diar_segments'\n",
      "0.01ms 'getReducedMat'\n",
      "0.90ms 'matchNewOldclusterLabels'\n",
      "103.27ms '_online_diarization'\n",
      "[NeMo I 2021-10-18 17:00:53 streaming_asr_and_diar:1361] Streaming Diar [arm_talk_16k][frame-  159th  ]:\n",
      "215.42ms 'run_ASR_model'\n",
      "0.08ms '_get_speech_labels_from_decoded_prediction'\n",
      "0.80ms '_get_diar_segments'\n",
      "0.01ms 'getReducedMat'\n",
      "0.83ms 'matchNewOldclusterLabels'\n",
      "127.45ms '_online_diarization'\n",
      "[NeMo I 2021-10-18 17:00:54 streaming_asr_and_diar:1361] Streaming Diar [arm_talk_16k][frame-  160th  ]:\n",
      "256.36ms 'run_ASR_model'\n",
      "0.08ms '_get_speech_labels_from_decoded_prediction'\n",
      "0.81ms '_get_diar_segments'\n",
      "0.00ms 'getReducedMat'\n",
      "0.87ms 'matchNewOldclusterLabels'\n",
      "107.84ms '_online_diarization'\n",
      "[NeMo I 2021-10-18 17:00:55 streaming_asr_and_diar:1361] Streaming Diar [arm_talk_16k][frame-  161th  ]:\n",
      "214.08ms 'run_ASR_model'\n",
      "0.08ms '_get_speech_labels_from_decoded_prediction'\n",
      "0.79ms '_get_diar_segments'\n",
      "0.01ms 'getReducedMat'\n",
      "0.85ms 'matchNewOldclusterLabels'\n",
      "106.44ms '_online_diarization'\n",
      "[NeMo I 2021-10-18 17:00:56 streaming_asr_and_diar:1361] Streaming Diar [arm_talk_16k][frame-  162th  ]:\n",
      "210.81ms 'run_ASR_model'\n",
      "0.08ms '_get_speech_labels_from_decoded_prediction'\n",
      "0.79ms '_get_diar_segments'\n",
      "0.00ms 'getReducedMat'\n",
      "0.85ms 'matchNewOldclusterLabels'\n",
      "105.74ms '_online_diarization'\n",
      "[NeMo I 2021-10-18 17:00:57 streaming_asr_and_diar:1361] Streaming Diar [arm_talk_16k][frame-  163th  ]:\n",
      "224.57ms 'run_ASR_model'\n",
      "0.08ms '_get_speech_labels_from_decoded_prediction'\n",
      "0.81ms '_get_diar_segments'\n",
      "0.00ms 'getReducedMat'\n",
      "0.82ms 'matchNewOldclusterLabels'\n",
      "107.30ms '_online_diarization'\n",
      "[NeMo I 2021-10-18 17:00:58 streaming_asr_and_diar:1361] Streaming Diar [arm_talk_16k][frame-  164th  ]:\n",
      "212.60ms 'run_ASR_model'\n",
      "0.07ms '_get_speech_labels_from_decoded_prediction'\n",
      "0.77ms '_get_diar_segments'\n",
      "0.00ms 'getReducedMat'\n",
      "0.82ms 'matchNewOldclusterLabels'\n",
      "111.05ms '_online_diarization'\n",
      "[NeMo I 2021-10-18 17:00:59 streaming_asr_and_diar:1361] Streaming Diar [arm_talk_16k][frame-  165th  ]:\n",
      "215.85ms 'run_ASR_model'\n",
      "0.08ms '_get_speech_labels_from_decoded_prediction'\n",
      "1.10ms '_get_diar_segments'\n",
      "0.01ms 'getReducedMat'\n",
      "0.86ms 'matchNewOldclusterLabels'\n",
      "130.40ms '_online_diarization'\n",
      "[NeMo I 2021-10-18 17:01:00 streaming_asr_and_diar:1361] Streaming Diar [arm_talk_16k][frame-  166th  ]:\n",
      "203.11ms 'run_ASR_model'\n",
      "0.07ms '_get_speech_labels_from_decoded_prediction'\n",
      "0.93ms '_get_diar_segments'\n",
      "0.00ms 'getReducedMat'\n",
      "0.85ms 'matchNewOldclusterLabels'\n",
      "125.61ms '_online_diarization'\n",
      "[NeMo I 2021-10-18 17:01:01 streaming_asr_and_diar:1361] Streaming Diar [arm_talk_16k][frame-  167th  ]:\n",
      "221.61ms 'run_ASR_model'\n",
      "0.08ms '_get_speech_labels_from_decoded_prediction'\n",
      "0.78ms '_get_diar_segments'\n",
      "0.01ms 'getReducedMat'\n",
      "0.84ms 'matchNewOldclusterLabels'\n",
      "116.18ms '_online_diarization'\n",
      "[NeMo I 2021-10-18 17:01:02 streaming_asr_and_diar:1361] Streaming Diar [arm_talk_16k][frame-  168th  ]:\n",
      "232.00ms 'run_ASR_model'\n",
      "0.05ms '_get_speech_labels_from_decoded_prediction'\n",
      "0.80ms '_get_diar_segments'\n",
      "0.00ms 'getReducedMat'\n",
      "0.86ms 'matchNewOldclusterLabels'\n",
      "108.61ms '_online_diarization'\n",
      "[NeMo I 2021-10-18 17:01:03 streaming_asr_and_diar:1361] Streaming Diar [arm_talk_16k][frame-  169th  ]:\n",
      "222.67ms 'run_ASR_model'\n",
      "0.07ms '_get_speech_labels_from_decoded_prediction'\n",
      "0.81ms '_get_diar_segments'\n",
      "0.01ms 'getReducedMat'\n",
      "0.86ms 'matchNewOldclusterLabels'\n",
      "109.30ms '_online_diarization'\n",
      "[NeMo I 2021-10-18 17:01:04 streaming_asr_and_diar:1361] Streaming Diar [arm_talk_16k][frame-  170th  ]:\n",
      "219.44ms 'run_ASR_model'\n",
      "0.05ms '_get_speech_labels_from_decoded_prediction'\n",
      "0.66ms '_get_diar_segments'\n",
      "0.01ms 'getReducedMat'\n",
      "0.88ms 'matchNewOldclusterLabels'\n",
      "110.58ms '_online_diarization'\n",
      "[NeMo I 2021-10-18 17:01:05 streaming_asr_and_diar:1361] Streaming Diar [arm_talk_16k][frame-  171th  ]:\n",
      "224.73ms 'run_ASR_model'\n",
      "0.05ms '_get_speech_labels_from_decoded_prediction'\n",
      "0.82ms '_get_diar_segments'\n",
      "0.00ms 'getReducedMat'\n",
      "0.84ms 'matchNewOldclusterLabels'\n",
      "111.25ms '_online_diarization'\n",
      "[NeMo I 2021-10-18 17:01:06 streaming_asr_and_diar:1361] Streaming Diar [arm_talk_16k][frame-  172th  ]:\n",
      "212.79ms 'run_ASR_model'\n",
      "0.05ms '_get_speech_labels_from_decoded_prediction'\n",
      "0.76ms '_get_diar_segments'\n",
      "0.01ms 'getReducedMat'\n",
      "0.85ms 'matchNewOldclusterLabels'\n",
      "110.28ms '_online_diarization'\n",
      "[NeMo I 2021-10-18 17:01:07 streaming_asr_and_diar:1361] Streaming Diar [arm_talk_16k][frame-  173th  ]:\n",
      "214.81ms 'run_ASR_model'\n",
      "0.07ms '_get_speech_labels_from_decoded_prediction'\n",
      "0.79ms '_get_diar_segments'\n",
      "0.00ms 'getReducedMat'\n",
      "0.84ms 'matchNewOldclusterLabels'\n",
      "110.65ms '_online_diarization'\n",
      "[NeMo I 2021-10-18 17:01:08 streaming_asr_and_diar:1361] Streaming Diar [arm_talk_16k][frame-  174th  ]:\n",
      "221.35ms 'run_ASR_model'\n",
      "0.08ms '_get_speech_labels_from_decoded_prediction'\n",
      "0.54ms '_get_diar_segments'\n",
      "0.00ms 'getReducedMat'\n",
      "0.83ms 'matchNewOldclusterLabels'\n",
      "110.30ms '_online_diarization'\n",
      "[NeMo I 2021-10-18 17:01:09 streaming_asr_and_diar:1361] Streaming Diar [arm_talk_16k][frame-  175th  ]:\n",
      "203.11ms 'run_ASR_model'\n",
      "0.07ms '_get_speech_labels_from_decoded_prediction'\n",
      "0.81ms '_get_diar_segments'\n",
      "0.00ms 'getReducedMat'\n",
      "0.88ms 'matchNewOldclusterLabels'\n",
      "113.54ms '_online_diarization'\n",
      "[NeMo I 2021-10-18 17:01:10 streaming_asr_and_diar:1361] Streaming Diar [arm_talk_16k][frame-  176th  ]:\n",
      "211.03ms 'run_ASR_model'\n",
      "0.08ms '_get_speech_labels_from_decoded_prediction'\n",
      "0.77ms '_get_diar_segments'\n",
      "0.00ms 'getReducedMat'\n",
      "0.86ms 'matchNewOldclusterLabels'\n",
      "110.17ms '_online_diarization'\n",
      "[NeMo I 2021-10-18 17:01:11 streaming_asr_and_diar:1361] Streaming Diar [arm_talk_16k][frame-  177th  ]:\n",
      "204.68ms 'run_ASR_model'\n",
      "0.08ms '_get_speech_labels_from_decoded_prediction'\n",
      "0.81ms '_get_diar_segments'\n",
      "0.01ms 'getReducedMat'\n",
      "0.82ms 'matchNewOldclusterLabels'\n",
      "111.10ms '_online_diarization'\n",
      "[NeMo I 2021-10-18 17:01:12 streaming_asr_and_diar:1361] Streaming Diar [arm_talk_16k][frame-  178th  ]:\n",
      "227.87ms 'run_ASR_model'\n",
      "0.07ms '_get_speech_labels_from_decoded_prediction'\n",
      "0.98ms '_get_diar_segments'\n",
      "0.01ms 'getReducedMat'\n",
      "0.83ms 'matchNewOldclusterLabels'\n",
      "122.91ms '_online_diarization'\n",
      "[NeMo I 2021-10-18 17:01:13 streaming_asr_and_diar:1361] Streaming Diar [arm_talk_16k][frame-  179th  ]:\n",
      "216.77ms 'run_ASR_model'\n",
      "0.07ms '_get_speech_labels_from_decoded_prediction'\n",
      "0.80ms '_get_diar_segments'\n",
      "0.00ms 'getReducedMat'\n",
      "0.85ms 'matchNewOldclusterLabels'\n",
      "118.41ms '_online_diarization'\n",
      "[NeMo I 2021-10-18 17:01:14 streaming_asr_and_diar:1361] Streaming Diar [arm_talk_16k][frame-  180th  ]:\n",
      "211.00ms 'run_ASR_model'\n",
      "0.05ms '_get_speech_labels_from_decoded_prediction'\n",
      "0.62ms '_get_diar_segments'\n",
      "0.01ms 'getReducedMat'\n",
      "0.86ms 'matchNewOldclusterLabels'\n",
      "118.46ms '_online_diarization'\n",
      "[NeMo I 2021-10-18 17:01:15 streaming_asr_and_diar:1361] Streaming Diar [arm_talk_16k][frame-  181th  ]:\n"
     ]
    },
    {
     "name": "stdout",
     "output_type": "stream",
     "text": [
      "229.25ms 'run_ASR_model'\n",
      "0.16ms '_get_speech_labels_from_decoded_prediction'\n",
      "0.71ms '_get_diar_segments'\n",
      "0.01ms 'getReducedMat'\n",
      "0.87ms 'matchNewOldclusterLabels'\n",
      "136.37ms '_online_diarization'\n",
      "[NeMo I 2021-10-18 17:01:16 streaming_asr_and_diar:1361] Streaming Diar [arm_talk_16k][frame-  182th  ]:\n",
      "211.84ms 'run_ASR_model'\n",
      "0.05ms '_get_speech_labels_from_decoded_prediction'\n",
      "0.97ms '_get_diar_segments'\n",
      "0.01ms 'getReducedMat'\n",
      "1.01ms 'matchNewOldclusterLabels'\n",
      "142.49ms '_online_diarization'\n",
      "[NeMo I 2021-10-18 17:01:17 streaming_asr_and_diar:1361] Streaming Diar [arm_talk_16k][frame-  183th  ]:\n",
      "209.68ms 'run_ASR_model'\n",
      "0.07ms '_get_speech_labels_from_decoded_prediction'\n",
      "0.82ms '_get_diar_segments'\n",
      "0.00ms 'getReducedMat'\n",
      "0.88ms 'matchNewOldclusterLabels'\n",
      "120.09ms '_online_diarization'\n",
      "[NeMo I 2021-10-18 17:01:18 streaming_asr_and_diar:1361] Streaming Diar [arm_talk_16k][frame-  184th  ]:\n",
      "201.91ms 'run_ASR_model'\n",
      "0.05ms '_get_speech_labels_from_decoded_prediction'\n",
      "0.57ms '_get_diar_segments'\n",
      "0.01ms 'getReducedMat'\n",
      "0.85ms 'matchNewOldclusterLabels'\n",
      "120.99ms '_online_diarization'\n",
      "[NeMo I 2021-10-18 17:01:19 streaming_asr_and_diar:1361] Streaming Diar [arm_talk_16k][frame-  185th  ]:\n",
      "211.83ms 'run_ASR_model'\n",
      "0.07ms '_get_speech_labels_from_decoded_prediction'\n",
      "0.75ms '_get_diar_segments'\n",
      "0.01ms 'getReducedMat'\n",
      "0.86ms 'matchNewOldclusterLabels'\n",
      "121.18ms '_online_diarization'\n",
      "[NeMo I 2021-10-18 17:01:20 streaming_asr_and_diar:1361] Streaming Diar [arm_talk_16k][frame-  186th  ]:\n",
      "228.16ms 'run_ASR_model'\n",
      "0.07ms '_get_speech_labels_from_decoded_prediction'\n",
      "0.77ms '_get_diar_segments'\n",
      "0.01ms 'getReducedMat'\n",
      "0.87ms 'matchNewOldclusterLabels'\n",
      "122.96ms '_online_diarization'\n",
      "[NeMo I 2021-10-18 17:01:21 streaming_asr_and_diar:1361] Streaming Diar [arm_talk_16k][frame-  187th  ]:\n",
      "222.85ms 'run_ASR_model'\n",
      "0.09ms '_get_speech_labels_from_decoded_prediction'\n",
      "0.82ms '_get_diar_segments'\n",
      "0.01ms 'getReducedMat'\n",
      "0.87ms 'matchNewOldclusterLabels'\n",
      "122.10ms '_online_diarization'\n",
      "[NeMo I 2021-10-18 17:01:22 streaming_asr_and_diar:1361] Streaming Diar [arm_talk_16k][frame-  188th  ]:\n",
      "213.13ms 'run_ASR_model'\n",
      "0.08ms '_get_speech_labels_from_decoded_prediction'\n",
      "0.82ms '_get_diar_segments'\n",
      "0.00ms 'getReducedMat'\n",
      "0.86ms 'matchNewOldclusterLabels'\n",
      "123.94ms '_online_diarization'\n",
      "[NeMo I 2021-10-18 17:01:23 streaming_asr_and_diar:1361] Streaming Diar [arm_talk_16k][frame-  189th  ]:\n",
      "210.96ms 'run_ASR_model'\n",
      "0.07ms '_get_speech_labels_from_decoded_prediction'\n",
      "0.95ms '_get_diar_segments'\n",
      "0.01ms 'getReducedMat'\n",
      "0.85ms 'matchNewOldclusterLabels'\n",
      "138.61ms '_online_diarization'\n",
      "[NeMo I 2021-10-18 17:01:24 streaming_asr_and_diar:1361] Streaming Diar [arm_talk_16k][frame-  190th  ]:\n",
      "243.08ms 'run_ASR_model'\n",
      "0.09ms '_get_speech_labels_from_decoded_prediction'\n",
      "0.79ms '_get_diar_segments'\n",
      "0.01ms 'getReducedMat'\n",
      "0.86ms 'matchNewOldclusterLabels'\n",
      "123.97ms '_online_diarization'\n",
      "[NeMo I 2021-10-18 17:01:25 streaming_asr_and_diar:1361] Streaming Diar [arm_talk_16k][frame-  191th  ]:\n",
      "213.99ms 'run_ASR_model'\n",
      "0.08ms '_get_speech_labels_from_decoded_prediction'\n",
      "0.60ms '_get_diar_segments'\n",
      "0.01ms 'getReducedMat'\n",
      "0.86ms 'matchNewOldclusterLabels'\n",
      "128.31ms '_online_diarization'\n",
      "[NeMo I 2021-10-18 17:01:26 streaming_asr_and_diar:1361] Streaming Diar [arm_talk_16k][frame-  192th  ]:\n",
      "212.81ms 'run_ASR_model'\n",
      "0.07ms '_get_speech_labels_from_decoded_prediction'\n",
      "0.88ms '_get_diar_segments'\n",
      "0.00ms 'getReducedMat'\n",
      "0.87ms 'matchNewOldclusterLabels'\n",
      "136.90ms '_online_diarization'\n",
      "[NeMo I 2021-10-18 17:01:27 streaming_asr_and_diar:1361] Streaming Diar [arm_talk_16k][frame-  193th  ]:\n",
      "211.47ms 'run_ASR_model'\n",
      "0.07ms '_get_speech_labels_from_decoded_prediction'\n",
      "0.81ms '_get_diar_segments'\n",
      "0.00ms 'getReducedMat'\n",
      "0.88ms 'matchNewOldclusterLabels'\n",
      "126.56ms '_online_diarization'\n",
      "[NeMo I 2021-10-18 17:01:28 streaming_asr_and_diar:1361] Streaming Diar [arm_talk_16k][frame-  194th  ]:\n",
      "225.34ms 'run_ASR_model'\n",
      "0.05ms '_get_speech_labels_from_decoded_prediction'\n",
      "0.69ms '_get_diar_segments'\n",
      "0.00ms 'getReducedMat'\n",
      "0.92ms 'matchNewOldclusterLabels'\n",
      "127.26ms '_online_diarization'\n",
      "[NeMo I 2021-10-18 17:01:29 streaming_asr_and_diar:1361] Streaming Diar [arm_talk_16k][frame-  195th  ]:\n",
      "213.96ms 'run_ASR_model'\n",
      "0.05ms '_get_speech_labels_from_decoded_prediction'\n",
      "0.81ms '_get_diar_segments'\n",
      "0.00ms 'getReducedMat'\n",
      "0.86ms 'matchNewOldclusterLabels'\n",
      "128.80ms '_online_diarization'\n",
      "[NeMo I 2021-10-18 17:01:30 streaming_asr_and_diar:1361] Streaming Diar [arm_talk_16k][frame-  196th  ]:\n",
      "210.83ms 'run_ASR_model'\n",
      "0.05ms '_get_speech_labels_from_decoded_prediction'\n",
      "0.74ms '_get_diar_segments'\n",
      "0.00ms 'getReducedMat'\n",
      "0.79ms 'matchNewOldclusterLabels'\n",
      "132.24ms '_online_diarization'\n",
      "[NeMo I 2021-10-18 17:01:31 streaming_asr_and_diar:1361] Streaming Diar [arm_talk_16k][frame-  197th  ]:\n",
      "219.88ms 'run_ASR_model'\n",
      "0.05ms '_get_speech_labels_from_decoded_prediction'\n",
      "0.80ms '_get_diar_segments'\n",
      "0.01ms 'getReducedMat'\n",
      "1.43ms 'matchNewOldclusterLabels'\n",
      "152.01ms '_online_diarization'\n",
      "[NeMo I 2021-10-18 17:01:32 streaming_asr_and_diar:1361] Streaming Diar [arm_talk_16k][frame-  198th  ]:\n",
      "213.39ms 'run_ASR_model'\n",
      "0.07ms '_get_speech_labels_from_decoded_prediction'\n",
      "0.80ms '_get_diar_segments'\n",
      "0.00ms 'getReducedMat'\n",
      "0.87ms 'matchNewOldclusterLabels'\n",
      "130.69ms '_online_diarization'\n",
      "[NeMo I 2021-10-18 17:01:33 streaming_asr_and_diar:1361] Streaming Diar [arm_talk_16k][frame-  199th  ]:\n",
      "202.76ms 'run_ASR_model'\n",
      "0.05ms '_get_speech_labels_from_decoded_prediction'\n",
      "0.82ms '_get_diar_segments'\n",
      "0.00ms 'getReducedMat'\n",
      "0.84ms 'matchNewOldclusterLabels'\n",
      "109.07ms '_online_diarization'\n",
      "[NeMo I 2021-10-18 17:01:34 streaming_asr_and_diar:1361] Streaming Diar [arm_talk_16k][frame-  200th  ]:\n",
      "216.64ms 'run_ASR_model'\n",
      "0.05ms '_get_speech_labels_from_decoded_prediction'\n",
      "0.81ms '_get_diar_segments'\n",
      "0.01ms 'getReducedMat'\n",
      "0.85ms 'matchNewOldclusterLabels'\n",
      "135.20ms '_online_diarization'\n",
      "[NeMo I 2021-10-18 17:01:35 streaming_asr_and_diar:1361] Streaming Diar [arm_talk_16k][frame-  201th  ]:\n",
      "224.42ms 'run_ASR_model'\n",
      "0.05ms '_get_speech_labels_from_decoded_prediction'\n",
      "0.76ms '_get_diar_segments'\n",
      "0.00ms 'getReducedMat'\n",
      "0.86ms 'matchNewOldclusterLabels'\n",
      "134.73ms '_online_diarization'\n",
      "[NeMo I 2021-10-18 17:01:36 streaming_asr_and_diar:1361] Streaming Diar [arm_talk_16k][frame-  202th  ]:\n",
      "211.51ms 'run_ASR_model'\n",
      "0.04ms '_get_speech_labels_from_decoded_prediction'\n",
      "0.59ms '_get_diar_segments'\n",
      "0.00ms 'getReducedMat'\n",
      "0.89ms 'matchNewOldclusterLabels'\n",
      "135.65ms '_online_diarization'\n",
      "[NeMo I 2021-10-18 17:01:37 streaming_asr_and_diar:1361] Streaming Diar [arm_talk_16k][frame-  203th  ]:\n",
      "224.17ms 'run_ASR_model'\n",
      "0.06ms '_get_speech_labels_from_decoded_prediction'\n",
      "0.57ms '_get_diar_segments'\n",
      "0.01ms 'getReducedMat'\n",
      "0.87ms 'matchNewOldclusterLabels'\n",
      "147.20ms '_online_diarization'\n",
      "[NeMo I 2021-10-18 17:01:38 streaming_asr_and_diar:1361] Streaming Diar [arm_talk_16k][frame-  204th  ]:\n",
      "221.86ms 'run_ASR_model'\n",
      "0.04ms '_get_speech_labels_from_decoded_prediction'\n",
      "0.63ms '_get_diar_segments'\n",
      "0.01ms 'getReducedMat'\n",
      "0.85ms 'matchNewOldclusterLabels'\n",
      "146.68ms '_online_diarization'\n",
      "[NeMo I 2021-10-18 17:01:39 streaming_asr_and_diar:1361] Streaming Diar [arm_talk_16k][frame-  205th  ]:\n",
      "220.22ms 'run_ASR_model'\n",
      "0.04ms '_get_speech_labels_from_decoded_prediction'\n",
      "0.60ms '_get_diar_segments'\n",
      "0.00ms 'getReducedMat'\n",
      "0.86ms 'matchNewOldclusterLabels'\n",
      "148.02ms '_online_diarization'\n",
      "[NeMo I 2021-10-18 17:01:40 streaming_asr_and_diar:1361] Streaming Diar [arm_talk_16k][frame-  206th  ]:\n",
      "215.12ms 'run_ASR_model'\n",
      "0.03ms '_get_speech_labels_from_decoded_prediction'\n",
      "0.80ms '_get_diar_segments'\n",
      "0.00ms 'getReducedMat'\n",
      "0.86ms 'matchNewOldclusterLabels'\n",
      "147.97ms '_online_diarization'\n",
      "[NeMo I 2021-10-18 17:01:41 streaming_asr_and_diar:1361] Streaming Diar [arm_talk_16k][frame-  207th  ]:\n",
      "219.79ms 'run_ASR_model'\n",
      "0.03ms '_get_speech_labels_from_decoded_prediction'\n",
      "0.76ms '_get_diar_segments'\n",
      "0.00ms 'getReducedMat'\n",
      "0.86ms 'matchNewOldclusterLabels'\n",
      "126.43ms '_online_diarization'\n",
      "[NeMo I 2021-10-18 17:01:42 streaming_asr_and_diar:1361] Streaming Diar [arm_talk_16k][frame-  208th  ]:\n",
      "212.77ms 'run_ASR_model'\n",
      "0.03ms '_get_speech_labels_from_decoded_prediction'\n",
      "0.79ms '_get_diar_segments'\n",
      "0.01ms 'getReducedMat'\n",
      "0.85ms 'matchNewOldclusterLabels'\n",
      "145.95ms '_online_diarization'\n",
      "[NeMo I 2021-10-18 17:01:43 streaming_asr_and_diar:1361] Streaming Diar [arm_talk_16k][frame-  209th  ]:\n"
     ]
    },
    {
     "name": "stdout",
     "output_type": "stream",
     "text": [
      "223.05ms 'run_ASR_model'\n",
      "0.03ms '_get_speech_labels_from_decoded_prediction'\n",
      "0.80ms '_get_diar_segments'\n",
      "0.00ms 'getReducedMat'\n",
      "0.92ms 'matchNewOldclusterLabels'\n",
      "148.67ms '_online_diarization'\n",
      "[NeMo I 2021-10-18 17:01:44 streaming_asr_and_diar:1361] Streaming Diar [arm_talk_16k][frame-  210th  ]:\n",
      "225.97ms 'run_ASR_model'\n",
      "0.04ms '_get_speech_labels_from_decoded_prediction'\n",
      "0.63ms '_get_diar_segments'\n",
      "0.01ms 'getReducedMat'\n",
      "0.89ms 'matchNewOldclusterLabels'\n",
      "154.01ms '_online_diarization'\n",
      "[NeMo I 2021-10-18 17:01:45 streaming_asr_and_diar:1361] Streaming Diar [arm_talk_16k][frame-  211th  ]:\n",
      "212.96ms 'run_ASR_model'\n",
      "0.04ms '_get_speech_labels_from_decoded_prediction'\n",
      "0.64ms '_get_diar_segments'\n",
      "0.00ms 'getReducedMat'\n",
      "0.89ms 'matchNewOldclusterLabels'\n",
      "164.10ms '_online_diarization'\n",
      "[NeMo I 2021-10-18 17:01:46 streaming_asr_and_diar:1361] Streaming Diar [arm_talk_16k][frame-  212th  ]:\n",
      "204.29ms 'run_ASR_model'\n",
      "0.04ms '_get_speech_labels_from_decoded_prediction'\n",
      "0.77ms '_get_diar_segments'\n",
      "0.00ms 'getReducedMat'\n",
      "0.85ms 'matchNewOldclusterLabels'\n",
      "155.05ms '_online_diarization'\n",
      "[NeMo I 2021-10-18 17:01:47 streaming_asr_and_diar:1361] Streaming Diar [arm_talk_16k][frame-  213th  ]:\n",
      "200.73ms 'run_ASR_model'\n",
      "0.04ms '_get_speech_labels_from_decoded_prediction'\n",
      "0.63ms '_get_diar_segments'\n",
      "0.01ms 'getReducedMat'\n",
      "0.86ms 'matchNewOldclusterLabels'\n",
      "154.46ms '_online_diarization'\n",
      "[NeMo I 2021-10-18 17:01:48 streaming_asr_and_diar:1361] Streaming Diar [arm_talk_16k][frame-  214th  ]:\n",
      "275.14ms 'run_ASR_model'\n",
      "0.04ms '_get_speech_labels_from_decoded_prediction'\n",
      "0.41ms '_get_diar_segments'\n",
      "0.00ms 'getReducedMat'\n",
      "0.88ms 'matchNewOldclusterLabels'\n",
      "154.74ms '_online_diarization'\n",
      "[NeMo I 2021-10-18 17:01:49 streaming_asr_and_diar:1361] Streaming Diar [arm_talk_16k][frame-  215th  ]:\n",
      "211.01ms 'run_ASR_model'\n",
      "0.04ms '_get_speech_labels_from_decoded_prediction'\n",
      "0.80ms '_get_diar_segments'\n",
      "0.01ms 'getReducedMat'\n",
      "0.88ms 'matchNewOldclusterLabels'\n",
      "154.13ms '_online_diarization'\n",
      "[NeMo I 2021-10-18 17:01:50 streaming_asr_and_diar:1361] Streaming Diar [arm_talk_16k][frame-  216th  ]:\n",
      "226.93ms 'run_ASR_model'\n",
      "0.04ms '_get_speech_labels_from_decoded_prediction'\n",
      "0.83ms '_get_diar_segments'\n",
      "0.01ms 'getReducedMat'\n",
      "0.85ms 'matchNewOldclusterLabels'\n",
      "167.94ms '_online_diarization'\n",
      "[NeMo I 2021-10-18 17:01:51 streaming_asr_and_diar:1361] Streaming Diar [arm_talk_16k][frame-  217th  ]:\n",
      "214.74ms 'run_ASR_model'\n",
      "0.06ms '_get_speech_labels_from_decoded_prediction'\n",
      "0.81ms '_get_diar_segments'\n",
      "0.01ms 'getReducedMat'\n",
      "0.87ms 'matchNewOldclusterLabels'\n",
      "178.68ms '_online_diarization'\n",
      "[NeMo I 2021-10-18 17:01:52 streaming_asr_and_diar:1361] Streaming Diar [arm_talk_16k][frame-  218th  ]:\n",
      "219.21ms 'run_ASR_model'\n",
      "0.04ms '_get_speech_labels_from_decoded_prediction'\n",
      "0.56ms '_get_diar_segments'\n",
      "0.01ms 'getReducedMat'\n",
      "1.01ms 'matchNewOldclusterLabels'\n",
      "163.12ms '_online_diarization'\n",
      "[NeMo I 2021-10-18 17:01:53 streaming_asr_and_diar:1361] Streaming Diar [arm_talk_16k][frame-  219th  ]:\n",
      "217.85ms 'run_ASR_model'\n",
      "0.04ms '_get_speech_labels_from_decoded_prediction'\n",
      "0.82ms '_get_diar_segments'\n",
      "0.00ms 'getReducedMat'\n",
      "0.92ms 'matchNewOldclusterLabels'\n",
      "158.88ms '_online_diarization'\n",
      "[NeMo I 2021-10-18 17:01:54 streaming_asr_and_diar:1361] Streaming Diar [arm_talk_16k][frame-  220th  ]:\n",
      "214.28ms 'run_ASR_model'\n",
      "0.04ms '_get_speech_labels_from_decoded_prediction'\n",
      "0.77ms '_get_diar_segments'\n",
      "0.01ms 'getReducedMat'\n",
      "1.04ms 'matchNewOldclusterLabels'\n",
      "171.88ms '_online_diarization'\n",
      "[NeMo I 2021-10-18 17:01:55 streaming_asr_and_diar:1361] Streaming Diar [arm_talk_16k][frame-  221th  ]:\n",
      "212.47ms 'run_ASR_model'\n",
      "0.04ms '_get_speech_labels_from_decoded_prediction'\n",
      "0.37ms '_get_diar_segments'\n",
      "0.01ms 'getReducedMat'\n",
      "0.87ms 'matchNewOldclusterLabels'\n",
      "168.92ms '_online_diarization'\n",
      "[NeMo I 2021-10-18 17:01:56 streaming_asr_and_diar:1361] Streaming Diar [arm_talk_16k][frame-  222th  ]:\n",
      "212.19ms 'run_ASR_model'\n",
      "0.04ms '_get_speech_labels_from_decoded_prediction'\n",
      "0.81ms '_get_diar_segments'\n",
      "0.01ms 'getReducedMat'\n",
      "0.85ms 'matchNewOldclusterLabels'\n",
      "161.14ms '_online_diarization'\n",
      "[NeMo I 2021-10-18 17:01:57 streaming_asr_and_diar:1361] Streaming Diar [arm_talk_16k][frame-  223th  ]:\n",
      "212.02ms 'run_ASR_model'\n",
      "0.04ms '_get_speech_labels_from_decoded_prediction'\n",
      "0.59ms '_get_diar_segments'\n",
      "0.01ms 'getReducedMat'\n",
      "0.86ms 'matchNewOldclusterLabels'\n",
      "159.72ms '_online_diarization'\n",
      "[NeMo I 2021-10-18 17:01:58 streaming_asr_and_diar:1361] Streaming Diar [arm_talk_16k][frame-  224th  ]:\n",
      "217.96ms 'run_ASR_model'\n",
      "0.04ms '_get_speech_labels_from_decoded_prediction'\n",
      "0.83ms '_get_diar_segments'\n",
      "0.01ms 'getReducedMat'\n",
      "0.90ms 'matchNewOldclusterLabels'\n",
      "162.47ms '_online_diarization'\n",
      "[NeMo I 2021-10-18 17:01:59 streaming_asr_and_diar:1361] Streaming Diar [arm_talk_16k][frame-  225th  ]:\n",
      "210.46ms 'run_ASR_model'\n",
      "0.06ms '_get_speech_labels_from_decoded_prediction'\n",
      "0.81ms '_get_diar_segments'\n",
      "0.00ms 'getReducedMat'\n",
      "0.85ms 'matchNewOldclusterLabels'\n",
      "161.18ms '_online_diarization'\n",
      "[NeMo I 2021-10-18 17:02:00 streaming_asr_and_diar:1361] Streaming Diar [arm_talk_16k][frame-  226th  ]:\n",
      "217.46ms 'run_ASR_model'\n",
      "0.04ms '_get_speech_labels_from_decoded_prediction'\n",
      "0.80ms '_get_diar_segments'\n",
      "0.01ms 'getReducedMat'\n",
      "1.02ms 'matchNewOldclusterLabels'\n",
      "194.13ms '_online_diarization'\n",
      "[NeMo I 2021-10-18 17:02:01 streaming_asr_and_diar:1361] Streaming Diar [arm_talk_16k][frame-  227th  ]:\n",
      "212.31ms 'run_ASR_model'\n",
      "0.06ms '_get_speech_labels_from_decoded_prediction'\n",
      "0.82ms '_get_diar_segments'\n",
      "0.01ms 'getReducedMat'\n",
      "1.10ms 'matchNewOldclusterLabels'\n",
      "187.06ms '_online_diarization'\n",
      "[NeMo I 2021-10-18 17:02:02 streaming_asr_and_diar:1361] Streaming Diar [arm_talk_16k][frame-  228th  ]:\n",
      "217.94ms 'run_ASR_model'\n",
      "0.04ms '_get_speech_labels_from_decoded_prediction'\n",
      "0.82ms '_get_diar_segments'\n",
      "0.01ms 'getReducedMat'\n",
      "1.01ms 'matchNewOldclusterLabels'\n",
      "174.09ms '_online_diarization'\n",
      "[NeMo I 2021-10-18 17:02:03 streaming_asr_and_diar:1361] Streaming Diar [arm_talk_16k][frame-  229th  ]:\n",
      "213.55ms 'run_ASR_model'\n",
      "0.05ms '_get_speech_labels_from_decoded_prediction'\n",
      "0.77ms '_get_diar_segments'\n",
      "0.00ms 'getReducedMat'\n",
      "0.89ms 'matchNewOldclusterLabels'\n",
      "171.99ms '_online_diarization'\n",
      "[NeMo I 2021-10-18 17:02:04 streaming_asr_and_diar:1361] Streaming Diar [arm_talk_16k][frame-  230th  ]:\n",
      "213.01ms 'run_ASR_model'\n",
      "0.05ms '_get_speech_labels_from_decoded_prediction'\n",
      "0.82ms '_get_diar_segments'\n",
      "0.00ms 'getReducedMat'\n",
      "0.87ms 'matchNewOldclusterLabels'\n",
      "176.57ms '_online_diarization'\n",
      "[NeMo I 2021-10-18 17:02:05 streaming_asr_and_diar:1361] Streaming Diar [arm_talk_16k][frame-  231th  ]:\n",
      "214.13ms 'run_ASR_model'\n",
      "0.05ms '_get_speech_labels_from_decoded_prediction'\n",
      "0.57ms '_get_diar_segments'\n",
      "0.01ms 'getReducedMat'\n",
      "0.87ms 'matchNewOldclusterLabels'\n",
      "172.58ms '_online_diarization'\n",
      "[NeMo I 2021-10-18 17:02:06 streaming_asr_and_diar:1361] Streaming Diar [arm_talk_16k][frame-  232th  ]:\n",
      "216.25ms 'run_ASR_model'\n",
      "0.05ms '_get_speech_labels_from_decoded_prediction'\n",
      "0.79ms '_get_diar_segments'\n",
      "0.01ms 'getReducedMat'\n",
      "0.88ms 'matchNewOldclusterLabels'\n",
      "182.09ms '_online_diarization'\n",
      "[NeMo I 2021-10-18 17:02:07 streaming_asr_and_diar:1361] Streaming Diar [arm_talk_16k][frame-  233th  ]:\n",
      "209.28ms 'run_ASR_model'\n",
      "0.07ms '_get_speech_labels_from_decoded_prediction'\n",
      "0.86ms '_get_diar_segments'\n",
      "0.01ms 'getReducedMat'\n",
      "1.01ms 'matchNewOldclusterLabels'\n",
      "184.60ms '_online_diarization'\n",
      "[NeMo I 2021-10-18 17:02:08 streaming_asr_and_diar:1361] Streaming Diar [arm_talk_16k][frame-  234th  ]:\n",
      "203.37ms 'run_ASR_model'\n",
      "0.06ms '_get_speech_labels_from_decoded_prediction'\n",
      "0.85ms '_get_diar_segments'\n",
      "0.01ms 'getReducedMat'\n",
      "1.06ms 'matchNewOldclusterLabels'\n",
      "177.12ms '_online_diarization'\n",
      "[NeMo I 2021-10-18 17:02:09 streaming_asr_and_diar:1361] Streaming Diar [arm_talk_16k][frame-  235th  ]:\n",
      "227.99ms 'run_ASR_model'\n",
      "0.07ms '_get_speech_labels_from_decoded_prediction'\n",
      "0.32ms '_get_diar_segments'\n",
      "0.01ms 'getReducedMat'\n",
      "0.88ms 'matchNewOldclusterLabels'\n",
      "176.91ms '_online_diarization'\n",
      "[NeMo I 2021-10-18 17:02:10 streaming_asr_and_diar:1361] Streaming Diar [arm_talk_16k][frame-  236th  ]:\n",
      "227.56ms 'run_ASR_model'\n",
      "0.06ms '_get_speech_labels_from_decoded_prediction'\n",
      "0.96ms '_get_diar_segments'\n",
      "0.01ms 'getReducedMat'\n",
      "0.86ms 'matchNewOldclusterLabels'\n",
      "187.43ms '_online_diarization'\n",
      "[NeMo I 2021-10-18 17:02:11 streaming_asr_and_diar:1361] Streaming Diar [arm_talk_16k][frame-  237th  ]:\n"
     ]
    },
    {
     "name": "stderr",
     "output_type": "stream",
     "text": [
      "[NeMo W 2021-10-18 17:02:12 nmse_clustering:276] Graph is not fully connected and the clustering result might not be accurate.\n"
     ]
    },
    {
     "name": "stdout",
     "output_type": "stream",
     "text": [
      "210.33ms 'run_ASR_model'\n",
      "0.04ms '_get_speech_labels_from_decoded_prediction'\n",
      "0.80ms '_get_diar_segments'\n",
      "1.63ms 'getReducedMat'\n",
      "1.19ms 'matchNewOldclusterLabels'\n",
      "69.96ms '_online_diarization'\n",
      "[NeMo I 2021-10-18 17:02:12 streaming_asr_and_diar:1361] Streaming Diar [arm_talk_16k][frame-  238th  ]:\n"
     ]
    },
    {
     "name": "stderr",
     "output_type": "stream",
     "text": [
      "[NeMo W 2021-10-18 17:02:13 nmse_clustering:276] Graph is not fully connected and the clustering result might not be accurate.\n"
     ]
    },
    {
     "name": "stdout",
     "output_type": "stream",
     "text": [
      "227.75ms 'run_ASR_model'\n",
      "0.04ms '_get_speech_labels_from_decoded_prediction'\n",
      "0.81ms '_get_diar_segments'\n",
      "1.06ms 'getReducedMat'\n",
      "0.84ms 'matchNewOldclusterLabels'\n",
      "54.89ms '_online_diarization'\n",
      "[NeMo I 2021-10-18 17:02:13 streaming_asr_and_diar:1361] Streaming Diar [arm_talk_16k][frame-  239th  ]:\n"
     ]
    },
    {
     "name": "stderr",
     "output_type": "stream",
     "text": [
      "[NeMo W 2021-10-18 17:02:14 nmse_clustering:276] Graph is not fully connected and the clustering result might not be accurate.\n"
     ]
    },
    {
     "name": "stdout",
     "output_type": "stream",
     "text": [
      "218.24ms 'run_ASR_model'\n",
      "0.04ms '_get_speech_labels_from_decoded_prediction'\n",
      "1.01ms '_get_diar_segments'\n",
      "1.03ms 'getReducedMat'\n",
      "0.90ms 'matchNewOldclusterLabels'\n",
      "54.51ms '_online_diarization'\n",
      "[NeMo I 2021-10-18 17:02:14 streaming_asr_and_diar:1361] Streaming Diar [arm_talk_16k][frame-  240th  ]:\n"
     ]
    },
    {
     "name": "stderr",
     "output_type": "stream",
     "text": [
      "[NeMo W 2021-10-18 17:02:15 nmse_clustering:276] Graph is not fully connected and the clustering result might not be accurate.\n"
     ]
    },
    {
     "name": "stdout",
     "output_type": "stream",
     "text": [
      "215.50ms 'run_ASR_model'\n",
      "0.06ms '_get_speech_labels_from_decoded_prediction'\n",
      "0.84ms '_get_diar_segments'\n",
      "1.06ms 'getReducedMat'\n",
      "0.92ms 'matchNewOldclusterLabels'\n",
      "54.37ms '_online_diarization'\n",
      "[NeMo I 2021-10-18 17:02:15 streaming_asr_and_diar:1361] Streaming Diar [arm_talk_16k][frame-  241th  ]:\n"
     ]
    },
    {
     "name": "stderr",
     "output_type": "stream",
     "text": [
      "[NeMo W 2021-10-18 17:02:16 nmse_clustering:276] Graph is not fully connected and the clustering result might not be accurate.\n"
     ]
    },
    {
     "name": "stdout",
     "output_type": "stream",
     "text": [
      "214.46ms 'run_ASR_model'\n",
      "0.04ms '_get_speech_labels_from_decoded_prediction'\n",
      "0.37ms '_get_diar_segments'\n",
      "1.04ms 'getReducedMat'\n",
      "1.04ms 'matchNewOldclusterLabels'\n",
      "56.25ms '_online_diarization'\n",
      "[NeMo I 2021-10-18 17:02:16 streaming_asr_and_diar:1361] Streaming Diar [arm_talk_16k][frame-  242th  ]:\n"
     ]
    },
    {
     "name": "stderr",
     "output_type": "stream",
     "text": [
      "[NeMo W 2021-10-18 17:02:17 nmse_clustering:276] Graph is not fully connected and the clustering result might not be accurate.\n"
     ]
    },
    {
     "name": "stdout",
     "output_type": "stream",
     "text": [
      "213.89ms 'run_ASR_model'\n",
      "0.06ms '_get_speech_labels_from_decoded_prediction'\n",
      "0.62ms '_get_diar_segments'\n",
      "0.99ms 'getReducedMat'\n",
      "0.94ms 'matchNewOldclusterLabels'\n",
      "59.39ms '_online_diarization'\n",
      "[NeMo I 2021-10-18 17:02:17 streaming_asr_and_diar:1361] Streaming Diar [arm_talk_16k][frame-  243th  ]:\n"
     ]
    },
    {
     "name": "stderr",
     "output_type": "stream",
     "text": [
      "[NeMo W 2021-10-18 17:02:18 nmse_clustering:276] Graph is not fully connected and the clustering result might not be accurate.\n"
     ]
    },
    {
     "name": "stdout",
     "output_type": "stream",
     "text": [
      "230.02ms 'run_ASR_model'\n",
      "0.06ms '_get_speech_labels_from_decoded_prediction'\n",
      "1.14ms '_get_diar_segments'\n",
      "0.98ms 'getReducedMat'\n",
      "1.32ms 'matchNewOldclusterLabels'\n",
      "63.89ms '_online_diarization'\n",
      "[NeMo I 2021-10-18 17:02:18 streaming_asr_and_diar:1361] Streaming Diar [arm_talk_16k][frame-  244th  ]:\n"
     ]
    },
    {
     "name": "stderr",
     "output_type": "stream",
     "text": [
      "[NeMo W 2021-10-18 17:02:19 nmse_clustering:276] Graph is not fully connected and the clustering result might not be accurate.\n"
     ]
    },
    {
     "name": "stdout",
     "output_type": "stream",
     "text": [
      "209.32ms 'run_ASR_model'\n",
      "0.07ms '_get_speech_labels_from_decoded_prediction'\n",
      "0.50ms '_get_diar_segments'\n",
      "1.16ms 'getReducedMat'\n",
      "1.28ms 'matchNewOldclusterLabels'\n",
      "62.54ms '_online_diarization'\n",
      "[NeMo I 2021-10-18 17:02:19 streaming_asr_and_diar:1361] Streaming Diar [arm_talk_16k][frame-  245th  ]:\n"
     ]
    },
    {
     "name": "stderr",
     "output_type": "stream",
     "text": [
      "[NeMo W 2021-10-18 17:02:20 nmse_clustering:276] Graph is not fully connected and the clustering result might not be accurate.\n"
     ]
    },
    {
     "name": "stdout",
     "output_type": "stream",
     "text": [
      "214.23ms 'run_ASR_model'\n",
      "0.09ms '_get_speech_labels_from_decoded_prediction'\n",
      "0.28ms '_get_diar_segments'\n",
      "1.32ms 'getReducedMat'\n",
      "1.22ms 'matchNewOldclusterLabels'\n",
      "63.74ms '_online_diarization'\n",
      "[NeMo I 2021-10-18 17:02:20 streaming_asr_and_diar:1361] Streaming Diar [arm_talk_16k][frame-  246th  ]:\n"
     ]
    },
    {
     "name": "stderr",
     "output_type": "stream",
     "text": [
      "[NeMo W 2021-10-18 17:02:21 nmse_clustering:276] Graph is not fully connected and the clustering result might not be accurate.\n"
     ]
    },
    {
     "name": "stdout",
     "output_type": "stream",
     "text": [
      "211.82ms 'run_ASR_model'\n",
      "0.08ms '_get_speech_labels_from_decoded_prediction'\n",
      "0.46ms '_get_diar_segments'\n",
      "1.22ms 'getReducedMat'\n",
      "1.22ms 'matchNewOldclusterLabels'\n",
      "64.51ms '_online_diarization'\n",
      "[NeMo I 2021-10-18 17:02:21 streaming_asr_and_diar:1361] Streaming Diar [arm_talk_16k][frame-  247th  ]:\n"
     ]
    },
    {
     "name": "stderr",
     "output_type": "stream",
     "text": [
      "[NeMo W 2021-10-18 17:02:22 nmse_clustering:276] Graph is not fully connected and the clustering result might not be accurate.\n"
     ]
    },
    {
     "name": "stdout",
     "output_type": "stream",
     "text": [
      "217.49ms 'run_ASR_model'\n",
      "0.08ms '_get_speech_labels_from_decoded_prediction'\n",
      "0.26ms '_get_diar_segments'\n",
      "0.99ms 'getReducedMat'\n",
      "1.07ms 'matchNewOldclusterLabels'\n",
      "55.06ms '_online_diarization'\n",
      "[NeMo I 2021-10-18 17:02:22 streaming_asr_and_diar:1361] Streaming Diar [arm_talk_16k][frame-  248th  ]:\n"
     ]
    },
    {
     "name": "stderr",
     "output_type": "stream",
     "text": [
      "[NeMo W 2021-10-18 17:02:23 nmse_clustering:276] Graph is not fully connected and the clustering result might not be accurate.\n"
     ]
    },
    {
     "name": "stdout",
     "output_type": "stream",
     "text": [
      "239.22ms 'run_ASR_model'\n",
      "0.06ms '_get_speech_labels_from_decoded_prediction'\n",
      "0.78ms '_get_diar_segments'\n",
      "0.90ms 'getReducedMat'\n",
      "1.54ms 'matchNewOldclusterLabels'\n",
      "67.37ms '_online_diarization'\n",
      "[NeMo I 2021-10-18 17:02:23 streaming_asr_and_diar:1361] Streaming Diar [arm_talk_16k][frame-  249th  ]:\n"
     ]
    },
    {
     "name": "stderr",
     "output_type": "stream",
     "text": [
      "[NeMo W 2021-10-18 17:02:24 nmse_clustering:276] Graph is not fully connected and the clustering result might not be accurate.\n"
     ]
    },
    {
     "name": "stdout",
     "output_type": "stream",
     "text": [
      "227.52ms 'run_ASR_model'\n",
      "0.06ms '_get_speech_labels_from_decoded_prediction'\n",
      "0.30ms '_get_diar_segments'\n",
      "0.92ms 'getReducedMat'\n",
      "0.89ms 'matchNewOldclusterLabels'\n",
      "54.04ms '_online_diarization'\n",
      "[NeMo I 2021-10-18 17:02:24 streaming_asr_and_diar:1361] Streaming Diar [arm_talk_16k][frame-  250th  ]:\n"
     ]
    },
    {
     "name": "stderr",
     "output_type": "stream",
     "text": [
      "[NeMo W 2021-10-18 17:02:25 nmse_clustering:276] Graph is not fully connected and the clustering result might not be accurate.\n"
     ]
    },
    {
     "name": "stdout",
     "output_type": "stream",
     "text": [
      "212.03ms 'run_ASR_model'\n",
      "0.06ms '_get_speech_labels_from_decoded_prediction'\n",
      "0.83ms '_get_diar_segments'\n",
      "0.94ms 'getReducedMat'\n",
      "0.88ms 'matchNewOldclusterLabels'\n",
      "61.43ms '_online_diarization'\n",
      "[NeMo I 2021-10-18 17:02:25 streaming_asr_and_diar:1361] Streaming Diar [arm_talk_16k][frame-  251th  ]:\n"
     ]
    },
    {
     "name": "stderr",
     "output_type": "stream",
     "text": [
      "[NeMo W 2021-10-18 17:02:26 nmse_clustering:276] Graph is not fully connected and the clustering result might not be accurate.\n"
     ]
    },
    {
     "name": "stdout",
     "output_type": "stream",
     "text": [
      "216.82ms 'run_ASR_model'\n",
      "0.04ms '_get_speech_labels_from_decoded_prediction'\n",
      "0.81ms '_get_diar_segments'\n",
      "0.95ms 'getReducedMat'\n",
      "1.01ms 'matchNewOldclusterLabels'\n",
      "57.18ms '_online_diarization'\n",
      "[NeMo I 2021-10-18 17:02:26 streaming_asr_and_diar:1361] Streaming Diar [arm_talk_16k][frame-  252th  ]:\n"
     ]
    },
    {
     "name": "stderr",
     "output_type": "stream",
     "text": [
      "[NeMo W 2021-10-18 17:02:27 nmse_clustering:276] Graph is not fully connected and the clustering result might not be accurate.\n"
     ]
    },
    {
     "name": "stdout",
     "output_type": "stream",
     "text": [
      "216.98ms 'run_ASR_model'\n",
      "0.04ms '_get_speech_labels_from_decoded_prediction'\n",
      "1.01ms '_get_diar_segments'\n",
      "0.93ms 'getReducedMat'\n",
      "0.87ms 'matchNewOldclusterLabels'\n",
      "55.07ms '_online_diarization'\n",
      "[NeMo I 2021-10-18 17:02:27 streaming_asr_and_diar:1361] Streaming Diar [arm_talk_16k][frame-  253th  ]:\n"
     ]
    },
    {
     "name": "stderr",
     "output_type": "stream",
     "text": [
      "[NeMo W 2021-10-18 17:02:28 nmse_clustering:276] Graph is not fully connected and the clustering result might not be accurate.\n"
     ]
    },
    {
     "name": "stdout",
     "output_type": "stream",
     "text": [
      "211.47ms 'run_ASR_model'\n",
      "0.05ms '_get_speech_labels_from_decoded_prediction'\n",
      "0.41ms '_get_diar_segments'\n",
      "0.86ms 'getReducedMat'\n",
      "0.90ms 'matchNewOldclusterLabels'\n",
      "52.95ms '_online_diarization'\n",
      "[NeMo I 2021-10-18 17:02:28 streaming_asr_and_diar:1361] Streaming Diar [arm_talk_16k][frame-  254th  ]:\n"
     ]
    },
    {
     "name": "stderr",
     "output_type": "stream",
     "text": [
      "[NeMo W 2021-10-18 17:02:29 nmse_clustering:276] Graph is not fully connected and the clustering result might not be accurate.\n"
     ]
    },
    {
     "name": "stdout",
     "output_type": "stream",
     "text": [
      "211.13ms 'run_ASR_model'\n",
      "0.04ms '_get_speech_labels_from_decoded_prediction'\n",
      "0.31ms '_get_diar_segments'\n",
      "0.92ms 'getReducedMat'\n",
      "0.86ms 'matchNewOldclusterLabels'\n",
      "54.60ms '_online_diarization'\n",
      "[NeMo I 2021-10-18 17:02:29 streaming_asr_and_diar:1361] Streaming Diar [arm_talk_16k][frame-  255th  ]:\n"
     ]
    },
    {
     "name": "stderr",
     "output_type": "stream",
     "text": [
      "[NeMo W 2021-10-18 17:02:30 nmse_clustering:276] Graph is not fully connected and the clustering result might not be accurate.\n"
     ]
    },
    {
     "name": "stdout",
     "output_type": "stream",
     "text": [
      "211.49ms 'run_ASR_model'\n",
      "0.05ms '_get_speech_labels_from_decoded_prediction'\n",
      "1.00ms '_get_diar_segments'\n",
      "0.93ms 'getReducedMat'\n",
      "0.91ms 'matchNewOldclusterLabels'\n",
      "56.37ms '_online_diarization'\n",
      "[NeMo I 2021-10-18 17:02:30 streaming_asr_and_diar:1361] Streaming Diar [arm_talk_16k][frame-  256th  ]:\n"
     ]
    },
    {
     "name": "stderr",
     "output_type": "stream",
     "text": [
      "[NeMo W 2021-10-18 17:02:31 nmse_clustering:276] Graph is not fully connected and the clustering result might not be accurate.\n"
     ]
    },
    {
     "name": "stdout",
     "output_type": "stream",
     "text": [
      "225.12ms 'run_ASR_model'\n",
      "0.05ms '_get_speech_labels_from_decoded_prediction'\n",
      "0.78ms '_get_diar_segments'\n",
      "0.87ms 'getReducedMat'\n",
      "0.87ms 'matchNewOldclusterLabels'\n",
      "54.38ms '_online_diarization'\n",
      "[NeMo I 2021-10-18 17:02:31 streaming_asr_and_diar:1361] Streaming Diar [arm_talk_16k][frame-  257th  ]:\n"
     ]
    },
    {
     "name": "stderr",
     "output_type": "stream",
     "text": [
      "[NeMo W 2021-10-18 17:02:32 nmse_clustering:276] Graph is not fully connected and the clustering result might not be accurate.\n"
     ]
    },
    {
     "name": "stdout",
     "output_type": "stream",
     "text": [
      "218.49ms 'run_ASR_model'\n",
      "0.04ms '_get_speech_labels_from_decoded_prediction'\n",
      "0.51ms '_get_diar_segments'\n",
      "0.84ms 'getReducedMat'\n",
      "0.85ms 'matchNewOldclusterLabels'\n",
      "52.71ms '_online_diarization'\n",
      "[NeMo I 2021-10-18 17:02:32 streaming_asr_and_diar:1361] Streaming Diar [arm_talk_16k][frame-  258th  ]:\n"
     ]
    },
    {
     "name": "stderr",
     "output_type": "stream",
     "text": [
      "[NeMo W 2021-10-18 17:02:33 nmse_clustering:276] Graph is not fully connected and the clustering result might not be accurate.\n"
     ]
    },
    {
     "name": "stdout",
     "output_type": "stream",
     "text": [
      "213.59ms 'run_ASR_model'\n",
      "0.06ms '_get_speech_labels_from_decoded_prediction'\n",
      "0.31ms '_get_diar_segments'\n",
      "0.99ms 'getReducedMat'\n",
      "0.87ms 'matchNewOldclusterLabels'\n",
      "53.90ms '_online_diarization'\n",
      "[NeMo I 2021-10-18 17:02:33 streaming_asr_and_diar:1361] Streaming Diar [arm_talk_16k][frame-  259th  ]:\n"
     ]
    },
    {
     "name": "stderr",
     "output_type": "stream",
     "text": [
      "[NeMo W 2021-10-18 17:02:34 nmse_clustering:276] Graph is not fully connected and the clustering result might not be accurate.\n"
     ]
    },
    {
     "name": "stdout",
     "output_type": "stream",
     "text": [
      "218.74ms 'run_ASR_model'\n",
      "0.05ms '_get_speech_labels_from_decoded_prediction'\n",
      "0.79ms '_get_diar_segments'\n",
      "0.89ms 'getReducedMat'\n",
      "0.85ms 'matchNewOldclusterLabels'\n",
      "53.99ms '_online_diarization'\n",
      "[NeMo I 2021-10-18 17:02:34 streaming_asr_and_diar:1361] Streaming Diar [arm_talk_16k][frame-  260th  ]:\n"
     ]
    },
    {
     "name": "stderr",
     "output_type": "stream",
     "text": [
      "[NeMo W 2021-10-18 17:02:35 nmse_clustering:276] Graph is not fully connected and the clustering result might not be accurate.\n"
     ]
    },
    {
     "name": "stdout",
     "output_type": "stream",
     "text": [
      "216.30ms 'run_ASR_model'\n",
      "0.05ms '_get_speech_labels_from_decoded_prediction'\n",
      "0.64ms '_get_diar_segments'\n",
      "0.89ms 'getReducedMat'\n",
      "1.01ms 'matchNewOldclusterLabels'\n",
      "55.83ms '_online_diarization'\n",
      "[NeMo I 2021-10-18 17:02:35 streaming_asr_and_diar:1361] Streaming Diar [arm_talk_16k][frame-  261th  ]:\n"
     ]
    },
    {
     "name": "stderr",
     "output_type": "stream",
     "text": [
      "[NeMo W 2021-10-18 17:02:36 nmse_clustering:276] Graph is not fully connected and the clustering result might not be accurate.\n"
     ]
    },
    {
     "name": "stdout",
     "output_type": "stream",
     "text": [
      "214.02ms 'run_ASR_model'\n",
      "0.07ms '_get_speech_labels_from_decoded_prediction'\n",
      "0.56ms '_get_diar_segments'\n",
      "0.86ms 'getReducedMat'\n",
      "0.87ms 'matchNewOldclusterLabels'\n",
      "53.78ms '_online_diarization'\n",
      "[NeMo I 2021-10-18 17:02:36 streaming_asr_and_diar:1361] Streaming Diar [arm_talk_16k][frame-  262th  ]:\n"
     ]
    },
    {
     "name": "stderr",
     "output_type": "stream",
     "text": [
      "[NeMo W 2021-10-18 17:02:37 nmse_clustering:276] Graph is not fully connected and the clustering result might not be accurate.\n"
     ]
    },
    {
     "name": "stdout",
     "output_type": "stream",
     "text": [
      "203.90ms 'run_ASR_model'\n",
      "0.05ms '_get_speech_labels_from_decoded_prediction'\n",
      "0.33ms '_get_diar_segments'\n",
      "0.24ms 'getReducedMat'\n",
      "0.85ms 'matchNewOldclusterLabels'\n",
      "53.27ms '_online_diarization'\n",
      "[NeMo I 2021-10-18 17:02:37 streaming_asr_and_diar:1361] Streaming Diar [arm_talk_16k][frame-  263th  ]:\n"
     ]
    },
    {
     "name": "stderr",
     "output_type": "stream",
     "text": [
      "[NeMo W 2021-10-18 17:02:38 nmse_clustering:276] Graph is not fully connected and the clustering result might not be accurate.\n"
     ]
    },
    {
     "name": "stdout",
     "output_type": "stream",
     "text": [
      "227.74ms 'run_ASR_model'\n",
      "0.05ms '_get_speech_labels_from_decoded_prediction'\n",
      "0.33ms '_get_diar_segments'\n",
      "0.84ms 'getReducedMat'\n",
      "1.31ms 'matchNewOldclusterLabels'\n",
      "60.78ms '_online_diarization'\n",
      "[NeMo I 2021-10-18 17:02:38 streaming_asr_and_diar:1361] Streaming Diar [arm_talk_16k][frame-  264th  ]:\n"
     ]
    },
    {
     "name": "stderr",
     "output_type": "stream",
     "text": [
      "[NeMo W 2021-10-18 17:02:39 nmse_clustering:276] Graph is not fully connected and the clustering result might not be accurate.\n"
     ]
    },
    {
     "name": "stdout",
     "output_type": "stream",
     "text": [
      "212.21ms 'run_ASR_model'\n",
      "0.05ms '_get_speech_labels_from_decoded_prediction'\n",
      "0.80ms '_get_diar_segments'\n",
      "1.01ms 'getReducedMat'\n",
      "0.87ms 'matchNewOldclusterLabels'\n",
      "69.62ms '_online_diarization'\n",
      "[NeMo I 2021-10-18 17:02:39 streaming_asr_and_diar:1361] Streaming Diar [arm_talk_16k][frame-  265th  ]:\n"
     ]
    },
    {
     "name": "stderr",
     "output_type": "stream",
     "text": [
      "[NeMo W 2021-10-18 17:02:40 nmse_clustering:276] Graph is not fully connected and the clustering result might not be accurate.\n"
     ]
    },
    {
     "name": "stdout",
     "output_type": "stream",
     "text": [
      "211.93ms 'run_ASR_model'\n",
      "0.05ms '_get_speech_labels_from_decoded_prediction'\n",
      "0.82ms '_get_diar_segments'\n",
      "0.89ms 'getReducedMat'\n",
      "1.06ms 'matchNewOldclusterLabels'\n",
      "55.89ms '_online_diarization'\n",
      "[NeMo I 2021-10-18 17:02:40 streaming_asr_and_diar:1361] Streaming Diar [arm_talk_16k][frame-  266th  ]:\n"
     ]
    },
    {
     "name": "stderr",
     "output_type": "stream",
     "text": [
      "[NeMo W 2021-10-18 17:02:41 nmse_clustering:276] Graph is not fully connected and the clustering result might not be accurate.\n"
     ]
    },
    {
     "name": "stdout",
     "output_type": "stream",
     "text": [
      "225.32ms 'run_ASR_model'\n",
      "0.05ms '_get_speech_labels_from_decoded_prediction'\n",
      "0.82ms '_get_diar_segments'\n",
      "1.13ms 'getReducedMat'\n",
      "1.33ms 'matchNewOldclusterLabels'\n",
      "68.59ms '_online_diarization'\n",
      "[NeMo I 2021-10-18 17:02:41 streaming_asr_and_diar:1361] Streaming Diar [arm_talk_16k][frame-  267th  ]:\n"
     ]
    },
    {
     "name": "stderr",
     "output_type": "stream",
     "text": [
      "[NeMo W 2021-10-18 17:02:42 nmse_clustering:276] Graph is not fully connected and the clustering result might not be accurate.\n"
     ]
    },
    {
     "name": "stdout",
     "output_type": "stream",
     "text": [
      "212.48ms 'run_ASR_model'\n",
      "0.04ms '_get_speech_labels_from_decoded_prediction'\n",
      "0.83ms '_get_diar_segments'\n",
      "0.92ms 'getReducedMat'\n",
      "1.03ms 'matchNewOldclusterLabels'\n",
      "56.36ms '_online_diarization'\n",
      "[NeMo I 2021-10-18 17:02:42 streaming_asr_and_diar:1361] Streaming Diar [arm_talk_16k][frame-  268th  ]:\n"
     ]
    },
    {
     "name": "stderr",
     "output_type": "stream",
     "text": [
      "[NeMo W 2021-10-18 17:02:43 nmse_clustering:276] Graph is not fully connected and the clustering result might not be accurate.\n"
     ]
    },
    {
     "name": "stdout",
     "output_type": "stream",
     "text": [
      "215.37ms 'run_ASR_model'\n",
      "0.05ms '_get_speech_labels_from_decoded_prediction'\n",
      "0.82ms '_get_diar_segments'\n",
      "0.24ms 'getReducedMat'\n",
      "0.86ms 'matchNewOldclusterLabels'\n",
      "53.42ms '_online_diarization'\n",
      "[NeMo I 2021-10-18 17:02:43 streaming_asr_and_diar:1361] Streaming Diar [arm_talk_16k][frame-  269th  ]:\n"
     ]
    },
    {
     "name": "stderr",
     "output_type": "stream",
     "text": [
      "[NeMo W 2021-10-18 17:02:44 nmse_clustering:276] Graph is not fully connected and the clustering result might not be accurate.\n"
     ]
    },
    {
     "name": "stdout",
     "output_type": "stream",
     "text": [
      "213.31ms 'run_ASR_model'\n",
      "0.06ms '_get_speech_labels_from_decoded_prediction'\n",
      "0.84ms '_get_diar_segments'\n",
      "1.12ms 'getReducedMat'\n",
      "0.86ms 'matchNewOldclusterLabels'\n",
      "61.94ms '_online_diarization'\n",
      "[NeMo I 2021-10-18 17:02:44 streaming_asr_and_diar:1361] Streaming Diar [arm_talk_16k][frame-  270th  ]:\n"
     ]
    },
    {
     "name": "stderr",
     "output_type": "stream",
     "text": [
      "[NeMo W 2021-10-18 17:02:45 nmse_clustering:276] Graph is not fully connected and the clustering result might not be accurate.\n"
     ]
    },
    {
     "name": "stdout",
     "output_type": "stream",
     "text": [
      "210.66ms 'run_ASR_model'\n",
      "0.05ms '_get_speech_labels_from_decoded_prediction'\n",
      "0.82ms '_get_diar_segments'\n",
      "0.91ms 'getReducedMat'\n",
      "0.88ms 'matchNewOldclusterLabels'\n",
      "55.50ms '_online_diarization'\n",
      "[NeMo I 2021-10-18 17:02:45 streaming_asr_and_diar:1361] Streaming Diar [arm_talk_16k][frame-  271th  ]:\n"
     ]
    },
    {
     "name": "stderr",
     "output_type": "stream",
     "text": [
      "[NeMo W 2021-10-18 17:02:46 nmse_clustering:276] Graph is not fully connected and the clustering result might not be accurate.\n"
     ]
    },
    {
     "name": "stdout",
     "output_type": "stream",
     "text": [
      "224.92ms 'run_ASR_model'\n",
      "0.05ms '_get_speech_labels_from_decoded_prediction'\n",
      "0.82ms '_get_diar_segments'\n",
      "0.90ms 'getReducedMat'\n",
      "0.89ms 'matchNewOldclusterLabels'\n",
      "60.10ms '_online_diarization'\n",
      "[NeMo I 2021-10-18 17:02:46 streaming_asr_and_diar:1361] Streaming Diar [arm_talk_16k][frame-  272th  ]:\n"
     ]
    },
    {
     "name": "stderr",
     "output_type": "stream",
     "text": [
      "[NeMo W 2021-10-18 17:02:47 nmse_clustering:276] Graph is not fully connected and the clustering result might not be accurate.\n"
     ]
    },
    {
     "name": "stdout",
     "output_type": "stream",
     "text": [
      "224.35ms 'run_ASR_model'\n",
      "0.05ms '_get_speech_labels_from_decoded_prediction'\n",
      "0.82ms '_get_diar_segments'\n",
      "0.85ms 'getReducedMat'\n",
      "1.19ms 'matchNewOldclusterLabels'\n",
      "64.16ms '_online_diarization'\n",
      "[NeMo I 2021-10-18 17:02:47 streaming_asr_and_diar:1361] Streaming Diar [arm_talk_16k][frame-  273th  ]:\n"
     ]
    },
    {
     "name": "stderr",
     "output_type": "stream",
     "text": [
      "[NeMo W 2021-10-18 17:02:48 nmse_clustering:276] Graph is not fully connected and the clustering result might not be accurate.\n"
     ]
    },
    {
     "name": "stdout",
     "output_type": "stream",
     "text": [
      "214.28ms 'run_ASR_model'\n",
      "0.05ms '_get_speech_labels_from_decoded_prediction'\n",
      "0.83ms '_get_diar_segments'\n",
      "0.91ms 'getReducedMat'\n",
      "0.85ms 'matchNewOldclusterLabels'\n",
      "54.43ms '_online_diarization'\n",
      "[NeMo I 2021-10-18 17:02:48 streaming_asr_and_diar:1361] Streaming Diar [arm_talk_16k][frame-  274th  ]:\n"
     ]
    },
    {
     "name": "stderr",
     "output_type": "stream",
     "text": [
      "[NeMo W 2021-10-18 17:02:49 nmse_clustering:276] Graph is not fully connected and the clustering result might not be accurate.\n"
     ]
    },
    {
     "name": "stdout",
     "output_type": "stream",
     "text": [
      "212.69ms 'run_ASR_model'\n",
      "0.05ms '_get_speech_labels_from_decoded_prediction'\n",
      "0.83ms '_get_diar_segments'\n",
      "0.22ms 'getReducedMat'\n",
      "0.88ms 'matchNewOldclusterLabels'\n",
      "54.59ms '_online_diarization'\n",
      "[NeMo I 2021-10-18 17:02:49 streaming_asr_and_diar:1361] Streaming Diar [arm_talk_16k][frame-  275th  ]:\n"
     ]
    },
    {
     "name": "stderr",
     "output_type": "stream",
     "text": [
      "[NeMo W 2021-10-18 17:02:50 nmse_clustering:276] Graph is not fully connected and the clustering result might not be accurate.\n"
     ]
    },
    {
     "name": "stdout",
     "output_type": "stream",
     "text": [
      "226.86ms 'run_ASR_model'\n",
      "0.06ms '_get_speech_labels_from_decoded_prediction'\n",
      "0.79ms '_get_diar_segments'\n",
      "1.28ms 'getReducedMat'\n",
      "0.88ms 'matchNewOldclusterLabels'\n",
      "59.65ms '_online_diarization'\n",
      "[NeMo I 2021-10-18 17:02:50 streaming_asr_and_diar:1361] Streaming Diar [arm_talk_16k][frame-  276th  ]:\n"
     ]
    },
    {
     "name": "stderr",
     "output_type": "stream",
     "text": [
      "[NeMo W 2021-10-18 17:02:51 nmse_clustering:276] Graph is not fully connected and the clustering result might not be accurate.\n"
     ]
    },
    {
     "name": "stdout",
     "output_type": "stream",
     "text": [
      "214.36ms 'run_ASR_model'\n",
      "0.04ms '_get_speech_labels_from_decoded_prediction'\n",
      "0.43ms '_get_diar_segments'\n",
      "1.12ms 'getReducedMat'\n",
      "1.30ms 'matchNewOldclusterLabels'\n",
      "64.56ms '_online_diarization'\n",
      "[NeMo I 2021-10-18 17:02:51 streaming_asr_and_diar:1361] Streaming Diar [arm_talk_16k][frame-  277th  ]:\n"
     ]
    },
    {
     "name": "stderr",
     "output_type": "stream",
     "text": [
      "[NeMo W 2021-10-18 17:02:52 nmse_clustering:276] Graph is not fully connected and the clustering result might not be accurate.\n"
     ]
    },
    {
     "name": "stdout",
     "output_type": "stream",
     "text": [
      "213.34ms 'run_ASR_model'\n",
      "0.06ms '_get_speech_labels_from_decoded_prediction'\n",
      "0.51ms '_get_diar_segments'\n",
      "0.36ms 'getReducedMat'\n",
      "1.29ms 'matchNewOldclusterLabels'\n",
      "65.73ms '_online_diarization'\n",
      "[NeMo I 2021-10-18 17:02:52 streaming_asr_and_diar:1361] Streaming Diar [arm_talk_16k][frame-  278th  ]:\n"
     ]
    },
    {
     "name": "stderr",
     "output_type": "stream",
     "text": [
      "[NeMo W 2021-10-18 17:02:53 nmse_clustering:276] Graph is not fully connected and the clustering result might not be accurate.\n"
     ]
    },
    {
     "name": "stdout",
     "output_type": "stream",
     "text": [
      "215.70ms 'run_ASR_model'\n",
      "0.04ms '_get_speech_labels_from_decoded_prediction'\n",
      "0.77ms '_get_diar_segments'\n",
      "0.90ms 'getReducedMat'\n",
      "0.86ms 'matchNewOldclusterLabels'\n",
      "55.38ms '_online_diarization'\n",
      "[NeMo I 2021-10-18 17:02:53 streaming_asr_and_diar:1361] Streaming Diar [arm_talk_16k][frame-  279th  ]:\n"
     ]
    },
    {
     "name": "stderr",
     "output_type": "stream",
     "text": [
      "[NeMo W 2021-10-18 17:02:54 nmse_clustering:276] Graph is not fully connected and the clustering result might not be accurate.\n"
     ]
    },
    {
     "name": "stdout",
     "output_type": "stream",
     "text": [
      "223.75ms 'run_ASR_model'\n",
      "0.05ms '_get_speech_labels_from_decoded_prediction'\n",
      "0.79ms '_get_diar_segments'\n",
      "0.92ms 'getReducedMat'\n",
      "1.51ms 'matchNewOldclusterLabels'\n",
      "65.89ms '_online_diarization'\n",
      "[NeMo I 2021-10-18 17:02:54 streaming_asr_and_diar:1361] Streaming Diar [arm_talk_16k][frame-  280th  ]:\n"
     ]
    },
    {
     "name": "stderr",
     "output_type": "stream",
     "text": [
      "[NeMo W 2021-10-18 17:02:55 nmse_clustering:276] Graph is not fully connected and the clustering result might not be accurate.\n"
     ]
    },
    {
     "name": "stdout",
     "output_type": "stream",
     "text": [
      "213.89ms 'run_ASR_model'\n",
      "0.04ms '_get_speech_labels_from_decoded_prediction'\n",
      "0.79ms '_get_diar_segments'\n",
      "0.90ms 'getReducedMat'\n",
      "0.88ms 'matchNewOldclusterLabels'\n",
      "54.79ms '_online_diarization'\n",
      "[NeMo I 2021-10-18 17:02:55 streaming_asr_and_diar:1361] Streaming Diar [arm_talk_16k][frame-  281th  ]:\n"
     ]
    },
    {
     "name": "stderr",
     "output_type": "stream",
     "text": [
      "[NeMo W 2021-10-18 17:02:56 nmse_clustering:276] Graph is not fully connected and the clustering result might not be accurate.\n"
     ]
    },
    {
     "name": "stdout",
     "output_type": "stream",
     "text": [
      "204.12ms 'run_ASR_model'\n",
      "0.05ms '_get_speech_labels_from_decoded_prediction'\n",
      "0.78ms '_get_diar_segments'\n",
      "1.00ms 'getReducedMat'\n",
      "0.86ms 'matchNewOldclusterLabels'\n",
      "61.90ms '_online_diarization'\n",
      "[NeMo I 2021-10-18 17:02:56 streaming_asr_and_diar:1361] Streaming Diar [arm_talk_16k][frame-  282th  ]:\n"
     ]
    },
    {
     "name": "stderr",
     "output_type": "stream",
     "text": [
      "[NeMo W 2021-10-18 17:02:57 nmse_clustering:276] Graph is not fully connected and the clustering result might not be accurate.\n"
     ]
    },
    {
     "name": "stdout",
     "output_type": "stream",
     "text": [
      "215.84ms 'run_ASR_model'\n",
      "0.15ms '_get_speech_labels_from_decoded_prediction'\n",
      "0.68ms '_get_diar_segments'\n",
      "1.02ms 'getReducedMat'\n",
      "1.29ms 'matchNewOldclusterLabels'\n",
      "64.05ms '_online_diarization'\n",
      "[NeMo I 2021-10-18 17:02:57 streaming_asr_and_diar:1361] Streaming Diar [arm_talk_16k][frame-  283th  ]:\n"
     ]
    },
    {
     "name": "stderr",
     "output_type": "stream",
     "text": [
      "[NeMo W 2021-10-18 17:02:58 nmse_clustering:276] Graph is not fully connected and the clustering result might not be accurate.\n"
     ]
    },
    {
     "name": "stdout",
     "output_type": "stream",
     "text": [
      "214.83ms 'run_ASR_model'\n",
      "0.05ms '_get_speech_labels_from_decoded_prediction'\n",
      "0.83ms '_get_diar_segments'\n",
      "1.01ms 'getReducedMat'\n",
      "0.87ms 'matchNewOldclusterLabels'\n",
      "54.99ms '_online_diarization'\n",
      "[NeMo I 2021-10-18 17:02:58 streaming_asr_and_diar:1361] Streaming Diar [arm_talk_16k][frame-  284th  ]:\n"
     ]
    },
    {
     "name": "stderr",
     "output_type": "stream",
     "text": [
      "[NeMo W 2021-10-18 17:02:59 nmse_clustering:276] Graph is not fully connected and the clustering result might not be accurate.\n"
     ]
    },
    {
     "name": "stdout",
     "output_type": "stream",
     "text": [
      "224.64ms 'run_ASR_model'\n",
      "0.07ms '_get_speech_labels_from_decoded_prediction'\n",
      "0.82ms '_get_diar_segments'\n",
      "0.92ms 'getReducedMat'\n",
      "1.46ms 'matchNewOldclusterLabels'\n",
      "65.63ms '_online_diarization'\n",
      "[NeMo I 2021-10-18 17:02:59 streaming_asr_and_diar:1361] Streaming Diar [arm_talk_16k][frame-  285th  ]:\n"
     ]
    },
    {
     "name": "stderr",
     "output_type": "stream",
     "text": [
      "[NeMo W 2021-10-18 17:03:00 nmse_clustering:276] Graph is not fully connected and the clustering result might not be accurate.\n"
     ]
    },
    {
     "name": "stdout",
     "output_type": "stream",
     "text": [
      "246.95ms 'run_ASR_model'\n",
      "0.07ms '_get_speech_labels_from_decoded_prediction'\n",
      "0.80ms '_get_diar_segments'\n",
      "0.99ms 'getReducedMat'\n",
      "0.87ms 'matchNewOldclusterLabels'\n",
      "55.60ms '_online_diarization'\n",
      "[NeMo I 2021-10-18 17:03:00 streaming_asr_and_diar:1361] Streaming Diar [arm_talk_16k][frame-  286th  ]:\n"
     ]
    },
    {
     "name": "stderr",
     "output_type": "stream",
     "text": [
      "[NeMo W 2021-10-18 17:03:01 nmse_clustering:276] Graph is not fully connected and the clustering result might not be accurate.\n"
     ]
    },
    {
     "name": "stdout",
     "output_type": "stream",
     "text": [
      "218.08ms 'run_ASR_model'\n",
      "0.07ms '_get_speech_labels_from_decoded_prediction'\n",
      "0.82ms '_get_diar_segments'\n",
      "1.18ms 'getReducedMat'\n",
      "1.30ms 'matchNewOldclusterLabels'\n",
      "65.34ms '_online_diarization'\n",
      "[NeMo I 2021-10-18 17:03:01 streaming_asr_and_diar:1361] Streaming Diar [arm_talk_16k][frame-  287th  ]:\n"
     ]
    },
    {
     "name": "stderr",
     "output_type": "stream",
     "text": [
      "[NeMo W 2021-10-18 17:03:02 nmse_clustering:276] Graph is not fully connected and the clustering result might not be accurate.\n"
     ]
    },
    {
     "name": "stdout",
     "output_type": "stream",
     "text": [
      "225.83ms 'run_ASR_model'\n",
      "0.07ms '_get_speech_labels_from_decoded_prediction'\n",
      "0.81ms '_get_diar_segments'\n",
      "0.90ms 'getReducedMat'\n",
      "1.44ms 'matchNewOldclusterLabels'\n",
      "68.92ms '_online_diarization'\n",
      "[NeMo I 2021-10-18 17:03:02 streaming_asr_and_diar:1361] Streaming Diar [arm_talk_16k][frame-  288th  ]:\n"
     ]
    },
    {
     "name": "stderr",
     "output_type": "stream",
     "text": [
      "[NeMo W 2021-10-18 17:03:03 nmse_clustering:276] Graph is not fully connected and the clustering result might not be accurate.\n"
     ]
    },
    {
     "name": "stdout",
     "output_type": "stream",
     "text": [
      "218.79ms 'run_ASR_model'\n",
      "0.17ms '_get_speech_labels_from_decoded_prediction'\n",
      "1.05ms '_get_diar_segments'\n",
      "0.93ms 'getReducedMat'\n",
      "0.91ms 'matchNewOldclusterLabels'\n",
      "62.20ms '_online_diarization'\n",
      "[NeMo I 2021-10-18 17:03:03 streaming_asr_and_diar:1361] Streaming Diar [arm_talk_16k][frame-  289th  ]:\n"
     ]
    },
    {
     "name": "stderr",
     "output_type": "stream",
     "text": [
      "[NeMo W 2021-10-18 17:03:04 nmse_clustering:276] Graph is not fully connected and the clustering result might not be accurate.\n"
     ]
    },
    {
     "name": "stdout",
     "output_type": "stream",
     "text": [
      "227.61ms 'run_ASR_model'\n",
      "0.10ms '_get_speech_labels_from_decoded_prediction'\n",
      "0.80ms '_get_diar_segments'\n",
      "1.02ms 'getReducedMat'\n",
      "1.51ms 'matchNewOldclusterLabels'\n",
      "67.69ms '_online_diarization'\n",
      "[NeMo I 2021-10-18 17:03:04 streaming_asr_and_diar:1361] Streaming Diar [arm_talk_16k][frame-  290th  ]:\n"
     ]
    },
    {
     "name": "stderr",
     "output_type": "stream",
     "text": [
      "[NeMo W 2021-10-18 17:03:05 nmse_clustering:276] Graph is not fully connected and the clustering result might not be accurate.\n"
     ]
    },
    {
     "name": "stdout",
     "output_type": "stream",
     "text": [
      "213.79ms 'run_ASR_model'\n",
      "0.05ms '_get_speech_labels_from_decoded_prediction'\n",
      "0.81ms '_get_diar_segments'\n",
      "0.36ms 'getReducedMat'\n",
      "1.33ms 'matchNewOldclusterLabels'\n",
      "64.83ms '_online_diarization'\n",
      "[NeMo I 2021-10-18 17:03:05 streaming_asr_and_diar:1361] Streaming Diar [arm_talk_16k][frame-  291th  ]:\n"
     ]
    },
    {
     "name": "stderr",
     "output_type": "stream",
     "text": [
      "[NeMo W 2021-10-18 17:03:06 nmse_clustering:276] Graph is not fully connected and the clustering result might not be accurate.\n"
     ]
    },
    {
     "name": "stdout",
     "output_type": "stream",
     "text": [
      "206.39ms 'run_ASR_model'\n",
      "0.05ms '_get_speech_labels_from_decoded_prediction'\n",
      "0.82ms '_get_diar_segments'\n",
      "1.07ms 'getReducedMat'\n",
      "0.85ms 'matchNewOldclusterLabels'\n",
      "54.70ms '_online_diarization'\n",
      "[NeMo I 2021-10-18 17:03:06 streaming_asr_and_diar:1361] Streaming Diar [arm_talk_16k][frame-  292th  ]:\n"
     ]
    },
    {
     "name": "stderr",
     "output_type": "stream",
     "text": [
      "[NeMo W 2021-10-18 17:03:07 nmse_clustering:276] Graph is not fully connected and the clustering result might not be accurate.\n"
     ]
    },
    {
     "name": "stdout",
     "output_type": "stream",
     "text": [
      "221.89ms 'run_ASR_model'\n",
      "0.05ms '_get_speech_labels_from_decoded_prediction'\n",
      "0.76ms '_get_diar_segments'\n",
      "0.94ms 'getReducedMat'\n",
      "0.85ms 'matchNewOldclusterLabels'\n",
      "54.13ms '_online_diarization'\n",
      "[NeMo I 2021-10-18 17:03:07 streaming_asr_and_diar:1361] Streaming Diar [arm_talk_16k][frame-  293th  ]:\n"
     ]
    },
    {
     "name": "stderr",
     "output_type": "stream",
     "text": [
      "[NeMo W 2021-10-18 17:03:08 nmse_clustering:276] Graph is not fully connected and the clustering result might not be accurate.\n"
     ]
    },
    {
     "name": "stdout",
     "output_type": "stream",
     "text": [
      "217.35ms 'run_ASR_model'\n",
      "0.04ms '_get_speech_labels_from_decoded_prediction'\n",
      "0.52ms '_get_diar_segments'\n",
      "1.04ms 'getReducedMat'\n",
      "0.92ms 'matchNewOldclusterLabels'\n",
      "53.88ms '_online_diarization'\n",
      "[NeMo I 2021-10-18 17:03:08 streaming_asr_and_diar:1361] Streaming Diar [arm_talk_16k][frame-  294th  ]:\n"
     ]
    },
    {
     "name": "stderr",
     "output_type": "stream",
     "text": [
      "[NeMo W 2021-10-18 17:03:09 nmse_clustering:276] Graph is not fully connected and the clustering result might not be accurate.\n"
     ]
    },
    {
     "name": "stdout",
     "output_type": "stream",
     "text": [
      "227.01ms 'run_ASR_model'\n",
      "0.05ms '_get_speech_labels_from_decoded_prediction'\n",
      "0.66ms '_get_diar_segments'\n",
      "1.03ms 'getReducedMat'\n",
      "0.85ms 'matchNewOldclusterLabels'\n",
      "55.00ms '_online_diarization'\n",
      "[NeMo I 2021-10-18 17:03:09 streaming_asr_and_diar:1361] Streaming Diar [arm_talk_16k][frame-  295th  ]:\n"
     ]
    },
    {
     "name": "stderr",
     "output_type": "stream",
     "text": [
      "[NeMo W 2021-10-18 17:03:10 nmse_clustering:276] Graph is not fully connected and the clustering result might not be accurate.\n"
     ]
    },
    {
     "name": "stdout",
     "output_type": "stream",
     "text": [
      "214.04ms 'run_ASR_model'\n",
      "0.05ms '_get_speech_labels_from_decoded_prediction'\n",
      "1.03ms '_get_diar_segments'\n",
      "0.95ms 'getReducedMat'\n",
      "1.00ms 'matchNewOldclusterLabels'\n",
      "56.62ms '_online_diarization'\n",
      "[NeMo I 2021-10-18 17:03:10 streaming_asr_and_diar:1361] Streaming Diar [arm_talk_16k][frame-  296th  ]:\n"
     ]
    },
    {
     "name": "stderr",
     "output_type": "stream",
     "text": [
      "[NeMo W 2021-10-18 17:03:11 nmse_clustering:276] Graph is not fully connected and the clustering result might not be accurate.\n"
     ]
    },
    {
     "name": "stdout",
     "output_type": "stream",
     "text": [
      "212.67ms 'run_ASR_model'\n",
      "0.07ms '_get_speech_labels_from_decoded_prediction'\n",
      "0.76ms '_get_diar_segments'\n",
      "0.93ms 'getReducedMat'\n",
      "0.88ms 'matchNewOldclusterLabels'\n",
      "54.83ms '_online_diarization'\n",
      "[NeMo I 2021-10-18 17:03:11 streaming_asr_and_diar:1361] Streaming Diar [arm_talk_16k][frame-  297th  ]:\n"
     ]
    },
    {
     "name": "stderr",
     "output_type": "stream",
     "text": [
      "[NeMo W 2021-10-18 17:03:12 nmse_clustering:276] Graph is not fully connected and the clustering result might not be accurate.\n"
     ]
    },
    {
     "name": "stdout",
     "output_type": "stream",
     "text": [
      "214.67ms 'run_ASR_model'\n",
      "0.07ms '_get_speech_labels_from_decoded_prediction'\n",
      "0.53ms '_get_diar_segments'\n",
      "1.08ms 'getReducedMat'\n",
      "1.10ms 'matchNewOldclusterLabels'\n",
      "55.13ms '_online_diarization'\n",
      "[NeMo I 2021-10-18 17:03:12 streaming_asr_and_diar:1361] Streaming Diar [arm_talk_16k][frame-  298th  ]:\n"
     ]
    },
    {
     "name": "stderr",
     "output_type": "stream",
     "text": [
      "[NeMo W 2021-10-18 17:03:13 nmse_clustering:276] Graph is not fully connected and the clustering result might not be accurate.\n"
     ]
    },
    {
     "name": "stdout",
     "output_type": "stream",
     "text": [
      "217.14ms 'run_ASR_model'\n",
      "0.07ms '_get_speech_labels_from_decoded_prediction'\n",
      "0.84ms '_get_diar_segments'\n",
      "0.98ms 'getReducedMat'\n",
      "1.15ms 'matchNewOldclusterLabels'\n",
      "63.81ms '_online_diarization'\n",
      "[NeMo I 2021-10-18 17:03:13 streaming_asr_and_diar:1361] Streaming Diar [arm_talk_16k][frame-  299th  ]:\n"
     ]
    },
    {
     "name": "stderr",
     "output_type": "stream",
     "text": [
      "[NeMo W 2021-10-18 17:03:14 nmse_clustering:276] Graph is not fully connected and the clustering result might not be accurate.\n"
     ]
    },
    {
     "name": "stdout",
     "output_type": "stream",
     "text": [
      "218.81ms 'run_ASR_model'\n",
      "0.07ms '_get_speech_labels_from_decoded_prediction'\n",
      "0.80ms '_get_diar_segments'\n",
      "1.19ms 'getReducedMat'\n",
      "0.90ms 'matchNewOldclusterLabels'\n",
      "58.82ms '_online_diarization'\n",
      "[NeMo I 2021-10-18 17:03:14 streaming_asr_and_diar:1361] Streaming Diar [arm_talk_16k][frame-  300th  ]:\n"
     ]
    },
    {
     "name": "stderr",
     "output_type": "stream",
     "text": [
      "[NeMo W 2021-10-18 17:03:15 nmse_clustering:276] Graph is not fully connected and the clustering result might not be accurate.\n"
     ]
    },
    {
     "name": "stdout",
     "output_type": "stream",
     "text": [
      "213.99ms 'run_ASR_model'\n",
      "0.07ms '_get_speech_labels_from_decoded_prediction'\n",
      "0.58ms '_get_diar_segments'\n",
      "1.29ms 'getReducedMat'\n",
      "0.89ms 'matchNewOldclusterLabels'\n",
      "56.35ms '_online_diarization'\n",
      "[NeMo I 2021-10-18 17:03:15 streaming_asr_and_diar:1361] Streaming Diar [arm_talk_16k][frame-  301th  ]:\n"
     ]
    },
    {
     "name": "stderr",
     "output_type": "stream",
     "text": [
      "[NeMo W 2021-10-18 17:03:16 nmse_clustering:276] Graph is not fully connected and the clustering result might not be accurate.\n"
     ]
    },
    {
     "name": "stdout",
     "output_type": "stream",
     "text": [
      "213.26ms 'run_ASR_model'\n",
      "0.07ms '_get_speech_labels_from_decoded_prediction'\n",
      "0.79ms '_get_diar_segments'\n",
      "1.55ms 'getReducedMat'\n",
      "0.87ms 'matchNewOldclusterLabels'\n",
      "67.68ms '_online_diarization'\n",
      "[NeMo I 2021-10-18 17:03:16 streaming_asr_and_diar:1361] Streaming Diar [arm_talk_16k][frame-  302th  ]:\n"
     ]
    },
    {
     "name": "stderr",
     "output_type": "stream",
     "text": [
      "[NeMo W 2021-10-18 17:03:17 nmse_clustering:276] Graph is not fully connected and the clustering result might not be accurate.\n"
     ]
    },
    {
     "name": "stdout",
     "output_type": "stream",
     "text": [
      "214.28ms 'run_ASR_model'\n",
      "0.07ms '_get_speech_labels_from_decoded_prediction'\n",
      "0.64ms '_get_diar_segments'\n",
      "1.03ms 'getReducedMat'\n",
      "0.86ms 'matchNewOldclusterLabels'\n",
      "54.21ms '_online_diarization'\n",
      "[NeMo I 2021-10-18 17:03:17 streaming_asr_and_diar:1361] Streaming Diar [arm_talk_16k][frame-  303th  ]:\n"
     ]
    },
    {
     "name": "stderr",
     "output_type": "stream",
     "text": [
      "[NeMo W 2021-10-18 17:03:18 nmse_clustering:276] Graph is not fully connected and the clustering result might not be accurate.\n"
     ]
    },
    {
     "name": "stdout",
     "output_type": "stream",
     "text": [
      "224.90ms 'run_ASR_model'\n",
      "0.05ms '_get_speech_labels_from_decoded_prediction'\n",
      "0.55ms '_get_diar_segments'\n",
      "0.93ms 'getReducedMat'\n",
      "0.81ms 'matchNewOldclusterLabels'\n",
      "54.83ms '_online_diarization'\n",
      "[NeMo I 2021-10-18 17:03:18 streaming_asr_and_diar:1361] Streaming Diar [arm_talk_16k][frame-  304th  ]:\n"
     ]
    },
    {
     "name": "stderr",
     "output_type": "stream",
     "text": [
      "[NeMo W 2021-10-18 17:03:19 nmse_clustering:276] Graph is not fully connected and the clustering result might not be accurate.\n"
     ]
    },
    {
     "name": "stdout",
     "output_type": "stream",
     "text": [
      "214.37ms 'run_ASR_model'\n",
      "0.07ms '_get_speech_labels_from_decoded_prediction'\n",
      "0.41ms '_get_diar_segments'\n",
      "0.96ms 'getReducedMat'\n",
      "1.32ms 'matchNewOldclusterLabels'\n",
      "59.89ms '_online_diarization'\n",
      "[NeMo I 2021-10-18 17:03:19 streaming_asr_and_diar:1361] Streaming Diar [arm_talk_16k][frame-  305th  ]:\n"
     ]
    },
    {
     "name": "stderr",
     "output_type": "stream",
     "text": [
      "[NeMo W 2021-10-18 17:03:20 nmse_clustering:276] Graph is not fully connected and the clustering result might not be accurate.\n"
     ]
    },
    {
     "name": "stdout",
     "output_type": "stream",
     "text": [
      "225.34ms 'run_ASR_model'\n",
      "0.07ms '_get_speech_labels_from_decoded_prediction'\n",
      "0.60ms '_get_diar_segments'\n",
      "0.95ms 'getReducedMat'\n",
      "1.30ms 'matchNewOldclusterLabels'\n",
      "69.55ms '_online_diarization'\n",
      "[NeMo I 2021-10-18 17:03:20 streaming_asr_and_diar:1361] Streaming Diar [arm_talk_16k][frame-  306th  ]:\n"
     ]
    },
    {
     "name": "stderr",
     "output_type": "stream",
     "text": [
      "[NeMo W 2021-10-18 17:03:21 nmse_clustering:276] Graph is not fully connected and the clustering result might not be accurate.\n"
     ]
    },
    {
     "name": "stdout",
     "output_type": "stream",
     "text": [
      "212.58ms 'run_ASR_model'\n",
      "0.07ms '_get_speech_labels_from_decoded_prediction'\n",
      "0.99ms '_get_diar_segments'\n",
      "0.98ms 'getReducedMat'\n",
      "1.48ms 'matchNewOldclusterLabels'\n",
      "65.31ms '_online_diarization'\n",
      "[NeMo I 2021-10-18 17:03:21 streaming_asr_and_diar:1361] Streaming Diar [arm_talk_16k][frame-  307th  ]:\n"
     ]
    },
    {
     "name": "stderr",
     "output_type": "stream",
     "text": [
      "[NeMo W 2021-10-18 17:03:22 nmse_clustering:276] Graph is not fully connected and the clustering result might not be accurate.\n"
     ]
    },
    {
     "name": "stdout",
     "output_type": "stream",
     "text": [
      "241.52ms 'run_ASR_model'\n",
      "0.07ms '_get_speech_labels_from_decoded_prediction'\n",
      "0.82ms '_get_diar_segments'\n",
      "1.01ms 'getReducedMat'\n",
      "0.88ms 'matchNewOldclusterLabels'\n",
      "55.27ms '_online_diarization'\n",
      "[NeMo I 2021-10-18 17:03:22 streaming_asr_and_diar:1361] Streaming Diar [arm_talk_16k][frame-  308th  ]:\n"
     ]
    },
    {
     "name": "stderr",
     "output_type": "stream",
     "text": [
      "[NeMo W 2021-10-18 17:03:23 nmse_clustering:276] Graph is not fully connected and the clustering result might not be accurate.\n"
     ]
    },
    {
     "name": "stdout",
     "output_type": "stream",
     "text": [
      "212.02ms 'run_ASR_model'\n",
      "0.07ms '_get_speech_labels_from_decoded_prediction'\n",
      "0.80ms '_get_diar_segments'\n",
      "1.06ms 'getReducedMat'\n",
      "0.87ms 'matchNewOldclusterLabels'\n",
      "55.15ms '_online_diarization'\n",
      "[NeMo I 2021-10-18 17:03:23 streaming_asr_and_diar:1361] Streaming Diar [arm_talk_16k][frame-  309th  ]:\n"
     ]
    },
    {
     "name": "stderr",
     "output_type": "stream",
     "text": [
      "[NeMo W 2021-10-18 17:03:24 nmse_clustering:276] Graph is not fully connected and the clustering result might not be accurate.\n"
     ]
    },
    {
     "name": "stdout",
     "output_type": "stream",
     "text": [
      "212.57ms 'run_ASR_model'\n",
      "0.07ms '_get_speech_labels_from_decoded_prediction'\n",
      "0.81ms '_get_diar_segments'\n",
      "1.07ms 'getReducedMat'\n",
      "0.85ms 'matchNewOldclusterLabels'\n",
      "54.59ms '_online_diarization'\n",
      "[NeMo I 2021-10-18 17:03:24 streaming_asr_and_diar:1361] Streaming Diar [arm_talk_16k][frame-  310th  ]:\n"
     ]
    },
    {
     "name": "stderr",
     "output_type": "stream",
     "text": [
      "[NeMo W 2021-10-18 17:03:25 nmse_clustering:276] Graph is not fully connected and the clustering result might not be accurate.\n"
     ]
    },
    {
     "name": "stdout",
     "output_type": "stream",
     "text": [
      "215.67ms 'run_ASR_model'\n",
      "0.09ms '_get_speech_labels_from_decoded_prediction'\n",
      "0.81ms '_get_diar_segments'\n",
      "0.97ms 'getReducedMat'\n",
      "0.88ms 'matchNewOldclusterLabels'\n",
      "55.01ms '_online_diarization'\n",
      "[NeMo I 2021-10-18 17:03:25 streaming_asr_and_diar:1361] Streaming Diar [arm_talk_16k][frame-  311th  ]:\n"
     ]
    },
    {
     "name": "stderr",
     "output_type": "stream",
     "text": [
      "[NeMo W 2021-10-18 17:03:26 nmse_clustering:276] Graph is not fully connected and the clustering result might not be accurate.\n"
     ]
    },
    {
     "name": "stdout",
     "output_type": "stream",
     "text": [
      "214.28ms 'run_ASR_model'\n",
      "0.09ms '_get_speech_labels_from_decoded_prediction'\n",
      "0.79ms '_get_diar_segments'\n",
      "0.97ms 'getReducedMat'\n",
      "0.87ms 'matchNewOldclusterLabels'\n",
      "54.88ms '_online_diarization'\n",
      "[NeMo I 2021-10-18 17:03:26 streaming_asr_and_diar:1361] Streaming Diar [arm_talk_16k][frame-  312th  ]:\n"
     ]
    },
    {
     "name": "stderr",
     "output_type": "stream",
     "text": [
      "[NeMo W 2021-10-18 17:03:27 nmse_clustering:276] Graph is not fully connected and the clustering result might not be accurate.\n"
     ]
    },
    {
     "name": "stdout",
     "output_type": "stream",
     "text": [
      "222.09ms 'run_ASR_model'\n",
      "0.09ms '_get_speech_labels_from_decoded_prediction'\n",
      "0.81ms '_get_diar_segments'\n",
      "0.97ms 'getReducedMat'\n",
      "0.86ms 'matchNewOldclusterLabels'\n",
      "54.85ms '_online_diarization'\n",
      "[NeMo I 2021-10-18 17:03:27 streaming_asr_and_diar:1361] Streaming Diar [arm_talk_16k][frame-  313th  ]:\n"
     ]
    },
    {
     "name": "stderr",
     "output_type": "stream",
     "text": [
      "[NeMo W 2021-10-18 17:03:28 nmse_clustering:276] Graph is not fully connected and the clustering result might not be accurate.\n"
     ]
    },
    {
     "name": "stdout",
     "output_type": "stream",
     "text": [
      "227.51ms 'run_ASR_model'\n",
      "0.08ms '_get_speech_labels_from_decoded_prediction'\n",
      "0.83ms '_get_diar_segments'\n",
      "1.41ms 'getReducedMat'\n",
      "1.30ms 'matchNewOldclusterLabels'\n",
      "67.39ms '_online_diarization'\n",
      "[NeMo I 2021-10-18 17:03:28 streaming_asr_and_diar:1361] Streaming Diar [arm_talk_16k][frame-  314th  ]:\n"
     ]
    },
    {
     "name": "stderr",
     "output_type": "stream",
     "text": [
      "[NeMo W 2021-10-18 17:03:29 nmse_clustering:276] Graph is not fully connected and the clustering result might not be accurate.\n"
     ]
    },
    {
     "name": "stdout",
     "output_type": "stream",
     "text": [
      "236.73ms 'run_ASR_model'\n",
      "0.09ms '_get_speech_labels_from_decoded_prediction'\n",
      "0.80ms '_get_diar_segments'\n",
      "1.18ms 'getReducedMat'\n",
      "1.30ms 'matchNewOldclusterLabels'\n",
      "65.76ms '_online_diarization'\n",
      "[NeMo I 2021-10-18 17:03:29 streaming_asr_and_diar:1361] Streaming Diar [arm_talk_16k][frame-  315th  ]:\n"
     ]
    },
    {
     "name": "stderr",
     "output_type": "stream",
     "text": [
      "[NeMo W 2021-10-18 17:03:30 nmse_clustering:276] Graph is not fully connected and the clustering result might not be accurate.\n"
     ]
    },
    {
     "name": "stdout",
     "output_type": "stream",
     "text": [
      "212.67ms 'run_ASR_model'\n",
      "0.07ms '_get_speech_labels_from_decoded_prediction'\n",
      "0.51ms '_get_diar_segments'\n",
      "0.96ms 'getReducedMat'\n",
      "1.55ms 'matchNewOldclusterLabels'\n",
      "66.78ms '_online_diarization'\n",
      "[NeMo I 2021-10-18 17:03:30 streaming_asr_and_diar:1361] Streaming Diar [arm_talk_16k][frame-  316th  ]:\n"
     ]
    },
    {
     "name": "stderr",
     "output_type": "stream",
     "text": [
      "[NeMo W 2021-10-18 17:03:31 nmse_clustering:276] Graph is not fully connected and the clustering result might not be accurate.\n"
     ]
    },
    {
     "name": "stdout",
     "output_type": "stream",
     "text": [
      "228.35ms 'run_ASR_model'\n",
      "0.05ms '_get_speech_labels_from_decoded_prediction'\n",
      "1.05ms '_get_diar_segments'\n",
      "1.05ms 'getReducedMat'\n",
      "0.87ms 'matchNewOldclusterLabels'\n",
      "68.40ms '_online_diarization'\n",
      "[NeMo I 2021-10-18 17:03:31 streaming_asr_and_diar:1361] Streaming Diar [arm_talk_16k][frame-  317th  ]:\n"
     ]
    },
    {
     "name": "stderr",
     "output_type": "stream",
     "text": [
      "[NeMo W 2021-10-18 17:03:32 nmse_clustering:276] Graph is not fully connected and the clustering result might not be accurate.\n"
     ]
    },
    {
     "name": "stdout",
     "output_type": "stream",
     "text": [
      "223.66ms 'run_ASR_model'\n",
      "0.05ms '_get_speech_labels_from_decoded_prediction'\n",
      "0.86ms '_get_diar_segments'\n",
      "0.36ms 'getReducedMat'\n",
      "1.23ms 'matchNewOldclusterLabels'\n",
      "79.11ms '_online_diarization'\n",
      "[NeMo I 2021-10-18 17:03:32 streaming_asr_and_diar:1361] Streaming Diar [arm_talk_16k][frame-  318th  ]:\n"
     ]
    },
    {
     "name": "stderr",
     "output_type": "stream",
     "text": [
      "[NeMo W 2021-10-18 17:03:33 nmse_clustering:276] Graph is not fully connected and the clustering result might not be accurate.\n"
     ]
    },
    {
     "name": "stdout",
     "output_type": "stream",
     "text": [
      "213.71ms 'run_ASR_model'\n",
      "0.05ms '_get_speech_labels_from_decoded_prediction'\n",
      "0.78ms '_get_diar_segments'\n",
      "1.39ms 'getReducedMat'\n",
      "1.20ms 'matchNewOldclusterLabels'\n",
      "71.24ms '_online_diarization'\n",
      "[NeMo I 2021-10-18 17:03:33 streaming_asr_and_diar:1361] Streaming Diar [arm_talk_16k][frame-  319th  ]:\n"
     ]
    },
    {
     "name": "stderr",
     "output_type": "stream",
     "text": [
      "[NeMo W 2021-10-18 17:03:34 nmse_clustering:276] Graph is not fully connected and the clustering result might not be accurate.\n"
     ]
    },
    {
     "name": "stdout",
     "output_type": "stream",
     "text": [
      "217.09ms 'run_ASR_model'\n",
      "0.04ms '_get_speech_labels_from_decoded_prediction'\n",
      "0.81ms '_get_diar_segments'\n",
      "0.43ms 'getReducedMat'\n",
      "0.86ms 'matchNewOldclusterLabels'\n",
      "56.17ms '_online_diarization'\n",
      "[NeMo I 2021-10-18 17:03:34 streaming_asr_and_diar:1361] Streaming Diar [arm_talk_16k][frame-  320th  ]:\n"
     ]
    },
    {
     "name": "stderr",
     "output_type": "stream",
     "text": [
      "[NeMo W 2021-10-18 17:03:35 nmse_clustering:276] Graph is not fully connected and the clustering result might not be accurate.\n"
     ]
    },
    {
     "name": "stdout",
     "output_type": "stream",
     "text": [
      "223.01ms 'run_ASR_model'\n",
      "0.04ms '_get_speech_labels_from_decoded_prediction'\n",
      "0.61ms '_get_diar_segments'\n",
      "1.02ms 'getReducedMat'\n",
      "0.99ms 'matchNewOldclusterLabels'\n",
      "57.59ms '_online_diarization'\n",
      "[NeMo I 2021-10-18 17:03:35 streaming_asr_and_diar:1361] Streaming Diar [arm_talk_16k][frame-  321th  ]:\n"
     ]
    },
    {
     "name": "stderr",
     "output_type": "stream",
     "text": [
      "[NeMo W 2021-10-18 17:03:36 nmse_clustering:276] Graph is not fully connected and the clustering result might not be accurate.\n"
     ]
    },
    {
     "name": "stdout",
     "output_type": "stream",
     "text": [
      "213.81ms 'run_ASR_model'\n",
      "0.04ms '_get_speech_labels_from_decoded_prediction'\n",
      "0.84ms '_get_diar_segments'\n",
      "1.25ms 'getReducedMat'\n",
      "1.34ms 'matchNewOldclusterLabels'\n",
      "67.12ms '_online_diarization'\n",
      "[NeMo I 2021-10-18 17:03:36 streaming_asr_and_diar:1361] Streaming Diar [arm_talk_16k][frame-  322th  ]:\n"
     ]
    },
    {
     "name": "stderr",
     "output_type": "stream",
     "text": [
      "[NeMo W 2021-10-18 17:03:37 nmse_clustering:276] Graph is not fully connected and the clustering result might not be accurate.\n"
     ]
    },
    {
     "name": "stdout",
     "output_type": "stream",
     "text": [
      "214.03ms 'run_ASR_model'\n",
      "0.05ms '_get_speech_labels_from_decoded_prediction'\n",
      "0.54ms '_get_diar_segments'\n",
      "0.98ms 'getReducedMat'\n",
      "0.86ms 'matchNewOldclusterLabels'\n",
      "55.19ms '_online_diarization'\n",
      "[NeMo I 2021-10-18 17:03:37 streaming_asr_and_diar:1361] Streaming Diar [arm_talk_16k][frame-  323th  ]:\n"
     ]
    },
    {
     "name": "stderr",
     "output_type": "stream",
     "text": [
      "[NeMo W 2021-10-18 17:03:38 nmse_clustering:276] Graph is not fully connected and the clustering result might not be accurate.\n"
     ]
    },
    {
     "name": "stdout",
     "output_type": "stream",
     "text": [
      "228.29ms 'run_ASR_model'\n",
      "0.05ms '_get_speech_labels_from_decoded_prediction'\n",
      "0.87ms '_get_diar_segments'\n",
      "1.22ms 'getReducedMat'\n",
      "0.90ms 'matchNewOldclusterLabels'\n",
      "66.61ms '_online_diarization'\n",
      "[NeMo I 2021-10-18 17:03:38 streaming_asr_and_diar:1361] Streaming Diar [arm_talk_16k][frame-  324th  ]:\n"
     ]
    },
    {
     "name": "stderr",
     "output_type": "stream",
     "text": [
      "[NeMo W 2021-10-18 17:03:39 nmse_clustering:276] Graph is not fully connected and the clustering result might not be accurate.\n"
     ]
    },
    {
     "name": "stdout",
     "output_type": "stream",
     "text": [
      "224.84ms 'run_ASR_model'\n",
      "0.07ms '_get_speech_labels_from_decoded_prediction'\n",
      "0.56ms '_get_diar_segments'\n",
      "1.02ms 'getReducedMat'\n",
      "0.85ms 'matchNewOldclusterLabels'\n",
      "54.80ms '_online_diarization'\n",
      "[NeMo I 2021-10-18 17:03:39 streaming_asr_and_diar:1361] Streaming Diar [arm_talk_16k][frame-  325th  ]:\n"
     ]
    },
    {
     "name": "stderr",
     "output_type": "stream",
     "text": [
      "[NeMo W 2021-10-18 17:03:40 nmse_clustering:276] Graph is not fully connected and the clustering result might not be accurate.\n"
     ]
    },
    {
     "name": "stdout",
     "output_type": "stream",
     "text": [
      "212.25ms 'run_ASR_model'\n",
      "0.07ms '_get_speech_labels_from_decoded_prediction'\n",
      "0.42ms '_get_diar_segments'\n",
      "1.02ms 'getReducedMat'\n",
      "1.53ms 'matchNewOldclusterLabels'\n",
      "70.28ms '_online_diarization'\n",
      "[NeMo I 2021-10-18 17:03:40 streaming_asr_and_diar:1361] Streaming Diar [arm_talk_16k][frame-  326th  ]:\n"
     ]
    },
    {
     "name": "stderr",
     "output_type": "stream",
     "text": [
      "[NeMo W 2021-10-18 17:03:41 nmse_clustering:276] Graph is not fully connected and the clustering result might not be accurate.\n"
     ]
    },
    {
     "name": "stdout",
     "output_type": "stream",
     "text": [
      "209.52ms 'run_ASR_model'\n",
      "0.07ms '_get_speech_labels_from_decoded_prediction'\n",
      "0.80ms '_get_diar_segments'\n",
      "0.43ms 'getReducedMat'\n",
      "1.49ms 'matchNewOldclusterLabels'\n",
      "70.10ms '_online_diarization'\n",
      "[NeMo I 2021-10-18 17:03:41 streaming_asr_and_diar:1361] Streaming Diar [arm_talk_16k][frame-  327th  ]:\n"
     ]
    },
    {
     "name": "stderr",
     "output_type": "stream",
     "text": [
      "[NeMo W 2021-10-18 17:03:42 nmse_clustering:276] Graph is not fully connected and the clustering result might not be accurate.\n"
     ]
    },
    {
     "name": "stdout",
     "output_type": "stream",
     "text": [
      "206.00ms 'run_ASR_model'\n",
      "0.07ms '_get_speech_labels_from_decoded_prediction'\n",
      "0.80ms '_get_diar_segments'\n",
      "1.08ms 'getReducedMat'\n",
      "1.09ms 'matchNewOldclusterLabels'\n",
      "54.31ms '_online_diarization'\n",
      "[NeMo I 2021-10-18 17:03:42 streaming_asr_and_diar:1361] Streaming Diar [arm_talk_16k][frame-  328th  ]:\n"
     ]
    },
    {
     "name": "stderr",
     "output_type": "stream",
     "text": [
      "[NeMo W 2021-10-18 17:03:43 nmse_clustering:276] Graph is not fully connected and the clustering result might not be accurate.\n"
     ]
    },
    {
     "name": "stdout",
     "output_type": "stream",
     "text": [
      "203.83ms 'run_ASR_model'\n",
      "0.05ms '_get_speech_labels_from_decoded_prediction'\n",
      "0.81ms '_get_diar_segments'\n",
      "1.08ms 'getReducedMat'\n",
      "0.86ms 'matchNewOldclusterLabels'\n",
      "56.00ms '_online_diarization'\n",
      "[NeMo I 2021-10-18 17:03:43 streaming_asr_and_diar:1361] Streaming Diar [arm_talk_16k][frame-  329th  ]:\n"
     ]
    },
    {
     "name": "stderr",
     "output_type": "stream",
     "text": [
      "[NeMo W 2021-10-18 17:03:44 nmse_clustering:276] Graph is not fully connected and the clustering result might not be accurate.\n"
     ]
    },
    {
     "name": "stdout",
     "output_type": "stream",
     "text": [
      "227.72ms 'run_ASR_model'\n",
      "0.04ms '_get_speech_labels_from_decoded_prediction'\n",
      "0.83ms '_get_diar_segments'\n",
      "1.29ms 'getReducedMat'\n",
      "1.31ms 'matchNewOldclusterLabels'\n",
      "65.64ms '_online_diarization'\n",
      "[NeMo I 2021-10-18 17:03:44 streaming_asr_and_diar:1361] Streaming Diar [arm_talk_16k][frame-  330th  ]:\n"
     ]
    },
    {
     "name": "stderr",
     "output_type": "stream",
     "text": [
      "[NeMo W 2021-10-18 17:03:45 nmse_clustering:276] Graph is not fully connected and the clustering result might not be accurate.\n"
     ]
    },
    {
     "name": "stdout",
     "output_type": "stream",
     "text": [
      "214.32ms 'run_ASR_model'\n",
      "0.04ms '_get_speech_labels_from_decoded_prediction'\n",
      "0.81ms '_get_diar_segments'\n",
      "0.99ms 'getReducedMat'\n",
      "1.62ms 'matchNewOldclusterLabels'\n",
      "65.96ms '_online_diarization'\n",
      "[NeMo I 2021-10-18 17:03:45 streaming_asr_and_diar:1361] Streaming Diar [arm_talk_16k][frame-  331th  ]:\n"
     ]
    },
    {
     "name": "stderr",
     "output_type": "stream",
     "text": [
      "[NeMo W 2021-10-18 17:03:46 nmse_clustering:276] Graph is not fully connected and the clustering result might not be accurate.\n"
     ]
    },
    {
     "name": "stdout",
     "output_type": "stream",
     "text": [
      "221.21ms 'run_ASR_model'\n",
      "0.04ms '_get_speech_labels_from_decoded_prediction'\n",
      "0.82ms '_get_diar_segments'\n",
      "1.02ms 'getReducedMat'\n",
      "1.45ms 'matchNewOldclusterLabels'\n",
      "65.71ms '_online_diarization'\n",
      "[NeMo I 2021-10-18 17:03:46 streaming_asr_and_diar:1361] Streaming Diar [arm_talk_16k][frame-  332th  ]:\n"
     ]
    },
    {
     "name": "stderr",
     "output_type": "stream",
     "text": [
      "[NeMo W 2021-10-18 17:03:47 nmse_clustering:276] Graph is not fully connected and the clustering result might not be accurate.\n"
     ]
    },
    {
     "name": "stdout",
     "output_type": "stream",
     "text": [
      "219.81ms 'run_ASR_model'\n",
      "0.04ms '_get_speech_labels_from_decoded_prediction'\n",
      "0.31ms '_get_diar_segments'\n",
      "1.36ms 'getReducedMat'\n",
      "0.91ms 'matchNewOldclusterLabels'\n",
      "69.62ms '_online_diarization'\n",
      "[NeMo I 2021-10-18 17:03:47 streaming_asr_and_diar:1361] Streaming Diar [arm_talk_16k][frame-  333th  ]:\n"
     ]
    },
    {
     "name": "stderr",
     "output_type": "stream",
     "text": [
      "[NeMo W 2021-10-18 17:03:48 nmse_clustering:276] Graph is not fully connected and the clustering result might not be accurate.\n"
     ]
    },
    {
     "name": "stdout",
     "output_type": "stream",
     "text": [
      "207.92ms 'run_ASR_model'\n",
      "0.05ms '_get_speech_labels_from_decoded_prediction'\n",
      "0.78ms '_get_diar_segments'\n",
      "1.15ms 'getReducedMat'\n",
      "0.90ms 'matchNewOldclusterLabels'\n",
      "55.80ms '_online_diarization'\n",
      "[NeMo I 2021-10-18 17:03:48 streaming_asr_and_diar:1361] Streaming Diar [arm_talk_16k][frame-  334th  ]:\n"
     ]
    },
    {
     "name": "stderr",
     "output_type": "stream",
     "text": [
      "[NeMo W 2021-10-18 17:03:49 nmse_clustering:276] Graph is not fully connected and the clustering result might not be accurate.\n"
     ]
    },
    {
     "name": "stdout",
     "output_type": "stream",
     "text": [
      "238.39ms 'run_ASR_model'\n",
      "0.08ms '_get_speech_labels_from_decoded_prediction'\n",
      "0.85ms '_get_diar_segments'\n",
      "1.34ms 'getReducedMat'\n",
      "1.19ms 'matchNewOldclusterLabels'\n",
      "78.16ms '_online_diarization'\n",
      "[NeMo I 2021-10-18 17:03:49 streaming_asr_and_diar:1361] Streaming Diar [arm_talk_16k][frame-  335th  ]:\n"
     ]
    },
    {
     "name": "stderr",
     "output_type": "stream",
     "text": [
      "[NeMo W 2021-10-18 17:03:50 nmse_clustering:276] Graph is not fully connected and the clustering result might not be accurate.\n"
     ]
    },
    {
     "name": "stdout",
     "output_type": "stream",
     "text": [
      "215.72ms 'run_ASR_model'\n",
      "0.07ms '_get_speech_labels_from_decoded_prediction'\n",
      "0.29ms '_get_diar_segments'\n",
      "0.97ms 'getReducedMat'\n",
      "0.88ms 'matchNewOldclusterLabels'\n",
      "55.86ms '_online_diarization'\n",
      "[NeMo I 2021-10-18 17:03:50 streaming_asr_and_diar:1361] Streaming Diar [arm_talk_16k][frame-  336th  ]:\n"
     ]
    },
    {
     "name": "stderr",
     "output_type": "stream",
     "text": [
      "[NeMo W 2021-10-18 17:03:51 nmse_clustering:276] Graph is not fully connected and the clustering result might not be accurate.\n"
     ]
    },
    {
     "name": "stdout",
     "output_type": "stream",
     "text": [
      "214.34ms 'run_ASR_model'\n",
      "0.07ms '_get_speech_labels_from_decoded_prediction'\n",
      "0.52ms '_get_diar_segments'\n",
      "0.99ms 'getReducedMat'\n",
      "0.87ms 'matchNewOldclusterLabels'\n",
      "55.78ms '_online_diarization'\n",
      "[NeMo I 2021-10-18 17:03:51 streaming_asr_and_diar:1361] Streaming Diar [arm_talk_16k][frame-  337th  ]:\n"
     ]
    },
    {
     "name": "stderr",
     "output_type": "stream",
     "text": [
      "[NeMo W 2021-10-18 17:03:52 nmse_clustering:276] Graph is not fully connected and the clustering result might not be accurate.\n"
     ]
    },
    {
     "name": "stdout",
     "output_type": "stream",
     "text": [
      "229.07ms 'run_ASR_model'\n",
      "0.07ms '_get_speech_labels_from_decoded_prediction'\n",
      "0.59ms '_get_diar_segments'\n",
      "1.02ms 'getReducedMat'\n",
      "0.84ms 'matchNewOldclusterLabels'\n",
      "55.48ms '_online_diarization'\n",
      "[NeMo I 2021-10-18 17:03:52 streaming_asr_and_diar:1361] Streaming Diar [arm_talk_16k][frame-  338th  ]:\n"
     ]
    },
    {
     "name": "stderr",
     "output_type": "stream",
     "text": [
      "[NeMo W 2021-10-18 17:03:53 nmse_clustering:276] Graph is not fully connected and the clustering result might not be accurate.\n"
     ]
    },
    {
     "name": "stdout",
     "output_type": "stream",
     "text": [
      "213.04ms 'run_ASR_model'\n",
      "0.08ms '_get_speech_labels_from_decoded_prediction'\n",
      "0.40ms '_get_diar_segments'\n",
      "1.15ms 'getReducedMat'\n",
      "0.89ms 'matchNewOldclusterLabels'\n",
      "55.40ms '_online_diarization'\n",
      "[NeMo I 2021-10-18 17:03:53 streaming_asr_and_diar:1361] Streaming Diar [arm_talk_16k][frame-  339th  ]:\n"
     ]
    },
    {
     "name": "stderr",
     "output_type": "stream",
     "text": [
      "[NeMo W 2021-10-18 17:03:54 nmse_clustering:276] Graph is not fully connected and the clustering result might not be accurate.\n"
     ]
    },
    {
     "name": "stdout",
     "output_type": "stream",
     "text": [
      "214.22ms 'run_ASR_model'\n",
      "0.05ms '_get_speech_labels_from_decoded_prediction'\n",
      "0.34ms '_get_diar_segments'\n",
      "1.31ms 'getReducedMat'\n",
      "1.32ms 'matchNewOldclusterLabels'\n",
      "66.53ms '_online_diarization'\n",
      "[NeMo I 2021-10-18 17:03:54 streaming_asr_and_diar:1361] Streaming Diar [arm_talk_16k][frame-  340th  ]:\n"
     ]
    },
    {
     "name": "stderr",
     "output_type": "stream",
     "text": [
      "[NeMo W 2021-10-18 17:03:55 nmse_clustering:276] Graph is not fully connected and the clustering result might not be accurate.\n"
     ]
    },
    {
     "name": "stdout",
     "output_type": "stream",
     "text": [
      "216.01ms 'run_ASR_model'\n",
      "0.05ms '_get_speech_labels_from_decoded_prediction'\n",
      "0.51ms '_get_diar_segments'\n",
      "1.01ms 'getReducedMat'\n",
      "0.87ms 'matchNewOldclusterLabels'\n",
      "54.84ms '_online_diarization'\n",
      "[NeMo I 2021-10-18 17:03:55 streaming_asr_and_diar:1361] Streaming Diar [arm_talk_16k][frame-  341th  ]:\n"
     ]
    },
    {
     "name": "stderr",
     "output_type": "stream",
     "text": [
      "[NeMo W 2021-10-18 17:03:56 nmse_clustering:276] Graph is not fully connected and the clustering result might not be accurate.\n"
     ]
    },
    {
     "name": "stdout",
     "output_type": "stream",
     "text": [
      "210.69ms 'run_ASR_model'\n",
      "0.05ms '_get_speech_labels_from_decoded_prediction'\n",
      "0.54ms '_get_diar_segments'\n",
      "1.00ms 'getReducedMat'\n",
      "0.95ms 'matchNewOldclusterLabels'\n",
      "56.58ms '_online_diarization'\n",
      "[NeMo I 2021-10-18 17:03:56 streaming_asr_and_diar:1361] Streaming Diar [arm_talk_16k][frame-  342th  ]:\n"
     ]
    },
    {
     "name": "stderr",
     "output_type": "stream",
     "text": [
      "[NeMo W 2021-10-18 17:03:57 nmse_clustering:276] Graph is not fully connected and the clustering result might not be accurate.\n"
     ]
    },
    {
     "name": "stdout",
     "output_type": "stream",
     "text": [
      "213.52ms 'run_ASR_model'\n",
      "0.05ms '_get_speech_labels_from_decoded_prediction'\n",
      "0.84ms '_get_diar_segments'\n",
      "1.00ms 'getReducedMat'\n",
      "0.99ms 'matchNewOldclusterLabels'\n",
      "61.72ms '_online_diarization'\n",
      "[NeMo I 2021-10-18 17:03:57 streaming_asr_and_diar:1361] Streaming Diar [arm_talk_16k][frame-  343th  ]:\n"
     ]
    },
    {
     "name": "stderr",
     "output_type": "stream",
     "text": [
      "[NeMo W 2021-10-18 17:03:58 nmse_clustering:276] Graph is not fully connected and the clustering result might not be accurate.\n"
     ]
    },
    {
     "name": "stdout",
     "output_type": "stream",
     "text": [
      "214.85ms 'run_ASR_model'\n",
      "0.05ms '_get_speech_labels_from_decoded_prediction'\n",
      "0.87ms '_get_diar_segments'\n",
      "1.73ms 'getReducedMat'\n",
      "1.40ms 'matchNewOldclusterLabels'\n",
      "83.76ms '_online_diarization'\n",
      "[NeMo I 2021-10-18 17:03:58 streaming_asr_and_diar:1361] Streaming Diar [arm_talk_16k][frame-  344th  ]:\n"
     ]
    },
    {
     "name": "stderr",
     "output_type": "stream",
     "text": [
      "[NeMo W 2021-10-18 17:03:59 nmse_clustering:276] Graph is not fully connected and the clustering result might not be accurate.\n"
     ]
    },
    {
     "name": "stdout",
     "output_type": "stream",
     "text": [
      "220.35ms 'run_ASR_model'\n",
      "0.04ms '_get_speech_labels_from_decoded_prediction'\n",
      "0.82ms '_get_diar_segments'\n",
      "1.14ms 'getReducedMat'\n",
      "1.51ms 'matchNewOldclusterLabels'\n",
      "66.20ms '_online_diarization'\n",
      "[NeMo I 2021-10-18 17:03:59 streaming_asr_and_diar:1361] Streaming Diar [arm_talk_16k][frame-  345th  ]:\n"
     ]
    },
    {
     "name": "stderr",
     "output_type": "stream",
     "text": [
      "[NeMo W 2021-10-18 17:04:00 nmse_clustering:276] Graph is not fully connected and the clustering result might not be accurate.\n"
     ]
    },
    {
     "name": "stdout",
     "output_type": "stream",
     "text": [
      "234.22ms 'run_ASR_model'\n",
      "0.05ms '_get_speech_labels_from_decoded_prediction'\n",
      "0.82ms '_get_diar_segments'\n",
      "1.03ms 'getReducedMat'\n",
      "0.87ms 'matchNewOldclusterLabels'\n",
      "56.89ms '_online_diarization'\n",
      "[NeMo I 2021-10-18 17:04:00 streaming_asr_and_diar:1361] Streaming Diar [arm_talk_16k][frame-  346th  ]:\n"
     ]
    },
    {
     "name": "stderr",
     "output_type": "stream",
     "text": [
      "[NeMo W 2021-10-18 17:04:01 nmse_clustering:276] Graph is not fully connected and the clustering result might not be accurate.\n"
     ]
    },
    {
     "name": "stdout",
     "output_type": "stream",
     "text": [
      "212.97ms 'run_ASR_model'\n",
      "0.04ms '_get_speech_labels_from_decoded_prediction'\n",
      "0.44ms '_get_diar_segments'\n",
      "1.01ms 'getReducedMat'\n",
      "0.83ms 'matchNewOldclusterLabels'\n",
      "54.64ms '_online_diarization'\n",
      "[NeMo I 2021-10-18 17:04:01 streaming_asr_and_diar:1361] Streaming Diar [arm_talk_16k][frame-  347th  ]:\n"
     ]
    },
    {
     "name": "stderr",
     "output_type": "stream",
     "text": [
      "[NeMo W 2021-10-18 17:04:02 nmse_clustering:276] Graph is not fully connected and the clustering result might not be accurate.\n"
     ]
    },
    {
     "name": "stdout",
     "output_type": "stream",
     "text": [
      "225.24ms 'run_ASR_model'\n",
      "0.04ms '_get_speech_labels_from_decoded_prediction'\n",
      "0.30ms '_get_diar_segments'\n",
      "1.16ms 'getReducedMat'\n",
      "0.85ms 'matchNewOldclusterLabels'\n",
      "55.18ms '_online_diarization'\n",
      "[NeMo I 2021-10-18 17:04:02 streaming_asr_and_diar:1361] Streaming Diar [arm_talk_16k][frame-  348th  ]:\n"
     ]
    },
    {
     "name": "stderr",
     "output_type": "stream",
     "text": [
      "[NeMo W 2021-10-18 17:04:03 nmse_clustering:276] Graph is not fully connected and the clustering result might not be accurate.\n"
     ]
    },
    {
     "name": "stdout",
     "output_type": "stream",
     "text": [
      "222.25ms 'run_ASR_model'\n",
      "0.04ms '_get_speech_labels_from_decoded_prediction'\n",
      "0.52ms '_get_diar_segments'\n",
      "1.36ms 'getReducedMat'\n",
      "1.36ms 'matchNewOldclusterLabels'\n",
      "72.03ms '_online_diarization'\n",
      "[NeMo I 2021-10-18 17:04:03 streaming_asr_and_diar:1361] Streaming Diar [arm_talk_16k][frame-  349th  ]:\n"
     ]
    },
    {
     "name": "stderr",
     "output_type": "stream",
     "text": [
      "[NeMo W 2021-10-18 17:04:04 nmse_clustering:276] Graph is not fully connected and the clustering result might not be accurate.\n"
     ]
    },
    {
     "name": "stdout",
     "output_type": "stream",
     "text": [
      "219.85ms 'run_ASR_model'\n",
      "0.05ms '_get_speech_labels_from_decoded_prediction'\n",
      "0.61ms '_get_diar_segments'\n",
      "1.09ms 'getReducedMat'\n",
      "1.30ms 'matchNewOldclusterLabels'\n",
      "63.73ms '_online_diarization'\n",
      "[NeMo I 2021-10-18 17:04:04 streaming_asr_and_diar:1361] Streaming Diar [arm_talk_16k][frame-  350th  ]:\n"
     ]
    },
    {
     "name": "stderr",
     "output_type": "stream",
     "text": [
      "[NeMo W 2021-10-18 17:04:05 nmse_clustering:276] Graph is not fully connected and the clustering result might not be accurate.\n"
     ]
    },
    {
     "name": "stdout",
     "output_type": "stream",
     "text": [
      "224.71ms 'run_ASR_model'\n",
      "0.05ms '_get_speech_labels_from_decoded_prediction'\n",
      "0.32ms '_get_diar_segments'\n",
      "1.32ms 'getReducedMat'\n",
      "0.86ms 'matchNewOldclusterLabels'\n",
      "74.32ms '_online_diarization'\n",
      "[NeMo I 2021-10-18 17:04:05 streaming_asr_and_diar:1361] Streaming Diar [arm_talk_16k][frame-  351th  ]:\n"
     ]
    },
    {
     "name": "stderr",
     "output_type": "stream",
     "text": [
      "[NeMo W 2021-10-18 17:04:06 nmse_clustering:276] Graph is not fully connected and the clustering result might not be accurate.\n"
     ]
    },
    {
     "name": "stdout",
     "output_type": "stream",
     "text": [
      "221.55ms 'run_ASR_model'\n",
      "0.05ms '_get_speech_labels_from_decoded_prediction'\n",
      "0.30ms '_get_diar_segments'\n",
      "1.05ms 'getReducedMat'\n",
      "1.30ms 'matchNewOldclusterLabels'\n",
      "65.03ms '_online_diarization'\n",
      "[NeMo I 2021-10-18 17:04:06 streaming_asr_and_diar:1361] Streaming Diar [arm_talk_16k][frame-  352th  ]:\n"
     ]
    },
    {
     "name": "stderr",
     "output_type": "stream",
     "text": [
      "[NeMo W 2021-10-18 17:04:07 nmse_clustering:276] Graph is not fully connected and the clustering result might not be accurate.\n"
     ]
    },
    {
     "name": "stdout",
     "output_type": "stream",
     "text": [
      "216.83ms 'run_ASR_model'\n",
      "0.05ms '_get_speech_labels_from_decoded_prediction'\n",
      "0.31ms '_get_diar_segments'\n",
      "1.08ms 'getReducedMat'\n",
      "1.29ms 'matchNewOldclusterLabels'\n",
      "62.65ms '_online_diarization'\n",
      "[NeMo I 2021-10-18 17:04:07 streaming_asr_and_diar:1361] Streaming Diar [arm_talk_16k][frame-  353th  ]:\n"
     ]
    },
    {
     "name": "stderr",
     "output_type": "stream",
     "text": [
      "[NeMo W 2021-10-18 17:04:08 nmse_clustering:276] Graph is not fully connected and the clustering result might not be accurate.\n"
     ]
    },
    {
     "name": "stdout",
     "output_type": "stream",
     "text": [
      "225.28ms 'run_ASR_model'\n",
      "0.05ms '_get_speech_labels_from_decoded_prediction'\n",
      "0.85ms '_get_diar_segments'\n",
      "1.00ms 'getReducedMat'\n",
      "1.25ms 'matchNewOldclusterLabels'\n",
      "73.62ms '_online_diarization'\n",
      "[NeMo I 2021-10-18 17:04:08 streaming_asr_and_diar:1361] Streaming Diar [arm_talk_16k][frame-  354th  ]:\n"
     ]
    },
    {
     "name": "stderr",
     "output_type": "stream",
     "text": [
      "[NeMo W 2021-10-18 17:04:09 nmse_clustering:276] Graph is not fully connected and the clustering result might not be accurate.\n"
     ]
    },
    {
     "name": "stdout",
     "output_type": "stream",
     "text": [
      "231.53ms 'run_ASR_model'\n",
      "0.07ms '_get_speech_labels_from_decoded_prediction'\n",
      "0.79ms '_get_diar_segments'\n",
      "1.04ms 'getReducedMat'\n",
      "0.87ms 'matchNewOldclusterLabels'\n",
      "58.99ms '_online_diarization'\n",
      "[NeMo I 2021-10-18 17:04:09 streaming_asr_and_diar:1361] Streaming Diar [arm_talk_16k][frame-  355th  ]:\n"
     ]
    },
    {
     "name": "stderr",
     "output_type": "stream",
     "text": [
      "[NeMo W 2021-10-18 17:04:10 nmse_clustering:276] Graph is not fully connected and the clustering result might not be accurate.\n"
     ]
    },
    {
     "name": "stdout",
     "output_type": "stream",
     "text": [
      "223.23ms 'run_ASR_model'\n",
      "0.07ms '_get_speech_labels_from_decoded_prediction'\n",
      "0.60ms '_get_diar_segments'\n",
      "1.52ms 'getReducedMat'\n",
      "1.32ms 'matchNewOldclusterLabels'\n",
      "67.14ms '_online_diarization'\n",
      "[NeMo I 2021-10-18 17:04:10 streaming_asr_and_diar:1361] Streaming Diar [arm_talk_16k][frame-  356th  ]:\n"
     ]
    },
    {
     "name": "stderr",
     "output_type": "stream",
     "text": [
      "[NeMo W 2021-10-18 17:04:11 nmse_clustering:276] Graph is not fully connected and the clustering result might not be accurate.\n"
     ]
    },
    {
     "name": "stdout",
     "output_type": "stream",
     "text": [
      "212.17ms 'run_ASR_model'\n",
      "0.08ms '_get_speech_labels_from_decoded_prediction'\n",
      "0.39ms '_get_diar_segments'\n",
      "1.60ms 'getReducedMat'\n",
      "1.19ms 'matchNewOldclusterLabels'\n",
      "70.39ms '_online_diarization'\n",
      "[NeMo I 2021-10-18 17:04:11 streaming_asr_and_diar:1361] Streaming Diar [arm_talk_16k][frame-  357th  ]:\n"
     ]
    },
    {
     "name": "stderr",
     "output_type": "stream",
     "text": [
      "[NeMo W 2021-10-18 17:04:12 nmse_clustering:276] Graph is not fully connected and the clustering result might not be accurate.\n"
     ]
    },
    {
     "name": "stdout",
     "output_type": "stream",
     "text": [
      "214.60ms 'run_ASR_model'\n",
      "0.09ms '_get_speech_labels_from_decoded_prediction'\n",
      "0.77ms '_get_diar_segments'\n",
      "1.05ms 'getReducedMat'\n",
      "1.20ms 'matchNewOldclusterLabels'\n",
      "67.43ms '_online_diarization'\n",
      "[NeMo I 2021-10-18 17:04:12 streaming_asr_and_diar:1361] Streaming Diar [arm_talk_16k][frame-  358th  ]:\n"
     ]
    },
    {
     "name": "stderr",
     "output_type": "stream",
     "text": [
      "[NeMo W 2021-10-18 17:04:13 nmse_clustering:276] Graph is not fully connected and the clustering result might not be accurate.\n"
     ]
    },
    {
     "name": "stdout",
     "output_type": "stream",
     "text": [
      "214.46ms 'run_ASR_model'\n",
      "0.08ms '_get_speech_labels_from_decoded_prediction'\n",
      "0.81ms '_get_diar_segments'\n",
      "1.51ms 'getReducedMat'\n",
      "1.32ms 'matchNewOldclusterLabels'\n",
      "67.22ms '_online_diarization'\n",
      "[NeMo I 2021-10-18 17:04:13 streaming_asr_and_diar:1361] Streaming Diar [arm_talk_16k][frame-  359th  ]:\n"
     ]
    },
    {
     "name": "stderr",
     "output_type": "stream",
     "text": [
      "[NeMo W 2021-10-18 17:04:14 nmse_clustering:276] Graph is not fully connected and the clustering result might not be accurate.\n"
     ]
    },
    {
     "name": "stdout",
     "output_type": "stream",
     "text": [
      "218.58ms 'run_ASR_model'\n",
      "0.09ms '_get_speech_labels_from_decoded_prediction'\n",
      "0.87ms '_get_diar_segments'\n",
      "1.17ms 'getReducedMat'\n",
      "0.99ms 'matchNewOldclusterLabels'\n",
      "58.64ms '_online_diarization'\n",
      "[NeMo I 2021-10-18 17:04:14 streaming_asr_and_diar:1361] Streaming Diar [arm_talk_16k][frame-  360th  ]:\n"
     ]
    },
    {
     "name": "stderr",
     "output_type": "stream",
     "text": [
      "[NeMo W 2021-10-18 17:04:15 nmse_clustering:276] Graph is not fully connected and the clustering result might not be accurate.\n"
     ]
    },
    {
     "name": "stdout",
     "output_type": "stream",
     "text": [
      "212.97ms 'run_ASR_model'\n",
      "0.07ms '_get_speech_labels_from_decoded_prediction'\n",
      "0.65ms '_get_diar_segments'\n",
      "1.93ms 'getReducedMat'\n",
      "0.85ms 'matchNewOldclusterLabels'\n",
      "81.45ms '_online_diarization'\n",
      "[NeMo I 2021-10-18 17:04:15 streaming_asr_and_diar:1361] Streaming Diar [arm_talk_16k][frame-  361th  ]:\n"
     ]
    },
    {
     "name": "stderr",
     "output_type": "stream",
     "text": [
      "[NeMo W 2021-10-18 17:04:16 nmse_clustering:276] Graph is not fully connected and the clustering result might not be accurate.\n"
     ]
    },
    {
     "name": "stdout",
     "output_type": "stream",
     "text": [
      "214.14ms 'run_ASR_model'\n",
      "0.06ms '_get_speech_labels_from_decoded_prediction'\n",
      "0.89ms '_get_diar_segments'\n",
      "1.36ms 'getReducedMat'\n",
      "0.87ms 'matchNewOldclusterLabels'\n",
      "65.92ms '_online_diarization'\n",
      "[NeMo I 2021-10-18 17:04:16 streaming_asr_and_diar:1361] Streaming Diar [arm_talk_16k][frame-  362th  ]:\n"
     ]
    },
    {
     "name": "stderr",
     "output_type": "stream",
     "text": [
      "[NeMo W 2021-10-18 17:04:17 nmse_clustering:276] Graph is not fully connected and the clustering result might not be accurate.\n"
     ]
    },
    {
     "name": "stdout",
     "output_type": "stream",
     "text": [
      "206.14ms 'run_ASR_model'\n",
      "0.07ms '_get_speech_labels_from_decoded_prediction'\n",
      "0.81ms '_get_diar_segments'\n",
      "1.50ms 'getReducedMat'\n",
      "1.34ms 'matchNewOldclusterLabels'\n",
      "82.34ms '_online_diarization'\n",
      "[NeMo I 2021-10-18 17:04:17 streaming_asr_and_diar:1361] Streaming Diar [arm_talk_16k][frame-  363th  ]:\n"
     ]
    },
    {
     "name": "stderr",
     "output_type": "stream",
     "text": [
      "[NeMo W 2021-10-18 17:04:18 nmse_clustering:276] Graph is not fully connected and the clustering result might not be accurate.\n"
     ]
    },
    {
     "name": "stdout",
     "output_type": "stream",
     "text": [
      "226.79ms 'run_ASR_model'\n",
      "0.08ms '_get_speech_labels_from_decoded_prediction'\n",
      "0.75ms '_get_diar_segments'\n",
      "2.17ms 'getReducedMat'\n",
      "1.32ms 'matchNewOldclusterLabels'\n",
      "75.02ms '_online_diarization'\n",
      "[NeMo I 2021-10-18 17:04:18 streaming_asr_and_diar:1361] Streaming Diar [arm_talk_16k][frame-  364th  ]:\n"
     ]
    },
    {
     "name": "stderr",
     "output_type": "stream",
     "text": [
      "[NeMo W 2021-10-18 17:04:19 nmse_clustering:276] Graph is not fully connected and the clustering result might not be accurate.\n"
     ]
    },
    {
     "name": "stdout",
     "output_type": "stream",
     "text": [
      "216.39ms 'run_ASR_model'\n",
      "0.05ms '_get_speech_labels_from_decoded_prediction'\n",
      "0.83ms '_get_diar_segments'\n",
      "1.07ms 'getReducedMat'\n",
      "0.89ms 'matchNewOldclusterLabels'\n",
      "56.35ms '_online_diarization'\n",
      "[NeMo I 2021-10-18 17:04:19 streaming_asr_and_diar:1361] Streaming Diar [arm_talk_16k][frame-  365th  ]:\n"
     ]
    },
    {
     "name": "stderr",
     "output_type": "stream",
     "text": [
      "[NeMo W 2021-10-18 17:04:20 nmse_clustering:276] Graph is not fully connected and the clustering result might not be accurate.\n"
     ]
    },
    {
     "name": "stdout",
     "output_type": "stream",
     "text": [
      "211.93ms 'run_ASR_model'\n",
      "0.06ms '_get_speech_labels_from_decoded_prediction'\n",
      "0.79ms '_get_diar_segments'\n",
      "1.07ms 'getReducedMat'\n",
      "0.84ms 'matchNewOldclusterLabels'\n",
      "55.79ms '_online_diarization'\n",
      "[NeMo I 2021-10-18 17:04:20 streaming_asr_and_diar:1361] Streaming Diar [arm_talk_16k][frame-  366th  ]:\n"
     ]
    },
    {
     "name": "stderr",
     "output_type": "stream",
     "text": [
      "[NeMo W 2021-10-18 17:04:21 nmse_clustering:276] Graph is not fully connected and the clustering result might not be accurate.\n"
     ]
    },
    {
     "name": "stdout",
     "output_type": "stream",
     "text": [
      "211.00ms 'run_ASR_model'\n",
      "0.07ms '_get_speech_labels_from_decoded_prediction'\n",
      "0.60ms '_get_diar_segments'\n",
      "1.06ms 'getReducedMat'\n",
      "1.44ms 'matchNewOldclusterLabels'\n",
      "65.97ms '_online_diarization'\n",
      "[NeMo I 2021-10-18 17:04:21 streaming_asr_and_diar:1361] Streaming Diar [arm_talk_16k][frame-  367th  ]:\n"
     ]
    },
    {
     "name": "stderr",
     "output_type": "stream",
     "text": [
      "[NeMo W 2021-10-18 17:04:22 nmse_clustering:276] Graph is not fully connected and the clustering result might not be accurate.\n"
     ]
    },
    {
     "name": "stdout",
     "output_type": "stream",
     "text": [
      "212.26ms 'run_ASR_model'\n",
      "0.07ms '_get_speech_labels_from_decoded_prediction'\n",
      "0.88ms '_get_diar_segments'\n",
      "1.07ms 'getReducedMat'\n",
      "0.85ms 'matchNewOldclusterLabels'\n",
      "57.74ms '_online_diarization'\n",
      "[NeMo I 2021-10-18 17:04:22 streaming_asr_and_diar:1361] Streaming Diar [arm_talk_16k][frame-  368th  ]:\n"
     ]
    },
    {
     "name": "stderr",
     "output_type": "stream",
     "text": [
      "[NeMo W 2021-10-18 17:04:23 nmse_clustering:276] Graph is not fully connected and the clustering result might not be accurate.\n"
     ]
    },
    {
     "name": "stdout",
     "output_type": "stream",
     "text": [
      "217.99ms 'run_ASR_model'\n",
      "0.08ms '_get_speech_labels_from_decoded_prediction'\n",
      "0.66ms '_get_diar_segments'\n",
      "1.42ms 'getReducedMat'\n",
      "1.20ms 'matchNewOldclusterLabels'\n",
      "70.62ms '_online_diarization'\n",
      "[NeMo I 2021-10-18 17:04:23 streaming_asr_and_diar:1361] Streaming Diar [arm_talk_16k][frame-  369th  ]:\n"
     ]
    },
    {
     "name": "stderr",
     "output_type": "stream",
     "text": [
      "[NeMo W 2021-10-18 17:04:24 nmse_clustering:276] Graph is not fully connected and the clustering result might not be accurate.\n"
     ]
    },
    {
     "name": "stdout",
     "output_type": "stream",
     "text": [
      "243.95ms 'run_ASR_model'\n",
      "0.05ms '_get_speech_labels_from_decoded_prediction'\n",
      "0.57ms '_get_diar_segments'\n",
      "1.36ms 'getReducedMat'\n",
      "1.23ms 'matchNewOldclusterLabels'\n",
      "67.13ms '_online_diarization'\n",
      "[NeMo I 2021-10-18 17:04:24 streaming_asr_and_diar:1361] Streaming Diar [arm_talk_16k][frame-  370th  ]:\n"
     ]
    },
    {
     "name": "stderr",
     "output_type": "stream",
     "text": [
      "[NeMo W 2021-10-18 17:04:25 nmse_clustering:276] Graph is not fully connected and the clustering result might not be accurate.\n"
     ]
    },
    {
     "name": "stdout",
     "output_type": "stream",
     "text": [
      "206.81ms 'run_ASR_model'\n",
      "0.05ms '_get_speech_labels_from_decoded_prediction'\n",
      "0.80ms '_get_diar_segments'\n",
      "1.50ms 'getReducedMat'\n",
      "1.32ms 'matchNewOldclusterLabels'\n",
      "70.98ms '_online_diarization'\n",
      "[NeMo I 2021-10-18 17:04:25 streaming_asr_and_diar:1361] Streaming Diar [arm_talk_16k][frame-  371th  ]:\n"
     ]
    },
    {
     "name": "stderr",
     "output_type": "stream",
     "text": [
      "[NeMo W 2021-10-18 17:04:26 nmse_clustering:276] Graph is not fully connected and the clustering result might not be accurate.\n"
     ]
    },
    {
     "name": "stdout",
     "output_type": "stream",
     "text": [
      "202.82ms 'run_ASR_model'\n",
      "0.05ms '_get_speech_labels_from_decoded_prediction'\n",
      "0.82ms '_get_diar_segments'\n",
      "1.41ms 'getReducedMat'\n",
      "1.30ms 'matchNewOldclusterLabels'\n",
      "67.46ms '_online_diarization'\n",
      "[NeMo I 2021-10-18 17:04:26 streaming_asr_and_diar:1361] Streaming Diar [arm_talk_16k][frame-  372th  ]:\n"
     ]
    },
    {
     "name": "stderr",
     "output_type": "stream",
     "text": [
      "[NeMo W 2021-10-18 17:04:27 nmse_clustering:276] Graph is not fully connected and the clustering result might not be accurate.\n"
     ]
    },
    {
     "name": "stdout",
     "output_type": "stream",
     "text": [
      "224.18ms 'run_ASR_model'\n",
      "0.04ms '_get_speech_labels_from_decoded_prediction'\n",
      "0.53ms '_get_diar_segments'\n",
      "1.14ms 'getReducedMat'\n",
      "0.86ms 'matchNewOldclusterLabels'\n",
      "56.50ms '_online_diarization'\n",
      "[NeMo I 2021-10-18 17:04:27 streaming_asr_and_diar:1361] Streaming Diar [arm_talk_16k][frame-  373th  ]:\n"
     ]
    },
    {
     "name": "stderr",
     "output_type": "stream",
     "text": [
      "[NeMo W 2021-10-18 17:04:28 nmse_clustering:276] Graph is not fully connected and the clustering result might not be accurate.\n"
     ]
    },
    {
     "name": "stdout",
     "output_type": "stream",
     "text": [
      "216.10ms 'run_ASR_model'\n",
      "0.05ms '_get_speech_labels_from_decoded_prediction'\n",
      "1.15ms '_get_diar_segments'\n",
      "1.41ms 'getReducedMat'\n",
      "0.87ms 'matchNewOldclusterLabels'\n",
      "68.94ms '_online_diarization'\n",
      "[NeMo I 2021-10-18 17:04:28 streaming_asr_and_diar:1361] Streaming Diar [arm_talk_16k][frame-  374th  ]:\n"
     ]
    },
    {
     "name": "stderr",
     "output_type": "stream",
     "text": [
      "[NeMo W 2021-10-18 17:04:29 nmse_clustering:276] Graph is not fully connected and the clustering result might not be accurate.\n"
     ]
    },
    {
     "name": "stdout",
     "output_type": "stream",
     "text": [
      "227.94ms 'run_ASR_model'\n",
      "0.06ms '_get_speech_labels_from_decoded_prediction'\n",
      "0.29ms '_get_diar_segments'\n",
      "1.18ms 'getReducedMat'\n",
      "0.87ms 'matchNewOldclusterLabels'\n",
      "56.51ms '_online_diarization'\n",
      "[NeMo I 2021-10-18 17:04:29 streaming_asr_and_diar:1361] Streaming Diar [arm_talk_16k][frame-  375th  ]:\n"
     ]
    },
    {
     "name": "stderr",
     "output_type": "stream",
     "text": [
      "[NeMo W 2021-10-18 17:04:30 nmse_clustering:276] Graph is not fully connected and the clustering result might not be accurate.\n"
     ]
    },
    {
     "name": "stdout",
     "output_type": "stream",
     "text": [
      "215.71ms 'run_ASR_model'\n",
      "0.05ms '_get_speech_labels_from_decoded_prediction'\n",
      "0.80ms '_get_diar_segments'\n",
      "1.09ms 'getReducedMat'\n",
      "0.87ms 'matchNewOldclusterLabels'\n",
      "57.64ms '_online_diarization'\n",
      "[NeMo I 2021-10-18 17:04:30 streaming_asr_and_diar:1361] Streaming Diar [arm_talk_16k][frame-  376th  ]:\n"
     ]
    },
    {
     "name": "stderr",
     "output_type": "stream",
     "text": [
      "[NeMo W 2021-10-18 17:04:31 nmse_clustering:276] Graph is not fully connected and the clustering result might not be accurate.\n"
     ]
    },
    {
     "name": "stdout",
     "output_type": "stream",
     "text": [
      "218.95ms 'run_ASR_model'\n",
      "0.06ms '_get_speech_labels_from_decoded_prediction'\n",
      "0.81ms '_get_diar_segments'\n",
      "1.08ms 'getReducedMat'\n",
      "1.00ms 'matchNewOldclusterLabels'\n",
      "58.06ms '_online_diarization'\n",
      "[NeMo I 2021-10-18 17:04:31 streaming_asr_and_diar:1361] Streaming Diar [arm_talk_16k][frame-  377th  ]:\n"
     ]
    },
    {
     "name": "stderr",
     "output_type": "stream",
     "text": [
      "[NeMo W 2021-10-18 17:04:32 nmse_clustering:276] Graph is not fully connected and the clustering result might not be accurate.\n"
     ]
    },
    {
     "name": "stdout",
     "output_type": "stream",
     "text": [
      "217.46ms 'run_ASR_model'\n",
      "0.08ms '_get_speech_labels_from_decoded_prediction'\n",
      "0.40ms '_get_diar_segments'\n",
      "1.00ms 'getReducedMat'\n",
      "0.86ms 'matchNewOldclusterLabels'\n",
      "54.80ms '_online_diarization'\n",
      "[NeMo I 2021-10-18 17:04:32 streaming_asr_and_diar:1361] Streaming Diar [arm_talk_16k][frame-  378th  ]:\n"
     ]
    },
    {
     "name": "stderr",
     "output_type": "stream",
     "text": [
      "[NeMo W 2021-10-18 17:04:33 nmse_clustering:276] Graph is not fully connected and the clustering result might not be accurate.\n"
     ]
    },
    {
     "name": "stdout",
     "output_type": "stream",
     "text": [
      "216.28ms 'run_ASR_model'\n",
      "0.09ms '_get_speech_labels_from_decoded_prediction'\n",
      "0.58ms '_get_diar_segments'\n",
      "1.09ms 'getReducedMat'\n",
      "0.97ms 'matchNewOldclusterLabels'\n",
      "58.05ms '_online_diarization'\n",
      "[NeMo I 2021-10-18 17:04:33 streaming_asr_and_diar:1361] Streaming Diar [arm_talk_16k][frame-  379th  ]:\n"
     ]
    },
    {
     "name": "stderr",
     "output_type": "stream",
     "text": [
      "[NeMo W 2021-10-18 17:04:34 nmse_clustering:276] Graph is not fully connected and the clustering result might not be accurate.\n"
     ]
    },
    {
     "name": "stdout",
     "output_type": "stream",
     "text": [
      "225.31ms 'run_ASR_model'\n",
      "0.05ms '_get_speech_labels_from_decoded_prediction'\n",
      "0.52ms '_get_diar_segments'\n",
      "1.10ms 'getReducedMat'\n",
      "0.87ms 'matchNewOldclusterLabels'\n",
      "55.24ms '_online_diarization'\n",
      "[NeMo I 2021-10-18 17:04:34 streaming_asr_and_diar:1361] Streaming Diar [arm_talk_16k][frame-  380th  ]:\n"
     ]
    },
    {
     "name": "stderr",
     "output_type": "stream",
     "text": [
      "[NeMo W 2021-10-18 17:04:35 nmse_clustering:276] Graph is not fully connected and the clustering result might not be accurate.\n"
     ]
    },
    {
     "name": "stdout",
     "output_type": "stream",
     "text": [
      "221.03ms 'run_ASR_model'\n",
      "0.04ms '_get_speech_labels_from_decoded_prediction'\n",
      "0.93ms '_get_diar_segments'\n",
      "1.17ms 'getReducedMat'\n",
      "1.21ms 'matchNewOldclusterLabels'\n",
      "77.70ms '_online_diarization'\n",
      "[NeMo I 2021-10-18 17:04:35 streaming_asr_and_diar:1361] Streaming Diar [arm_talk_16k][frame-  381th  ]:\n"
     ]
    },
    {
     "name": "stderr",
     "output_type": "stream",
     "text": [
      "[NeMo W 2021-10-18 17:04:36 nmse_clustering:276] Graph is not fully connected and the clustering result might not be accurate.\n"
     ]
    },
    {
     "name": "stdout",
     "output_type": "stream",
     "text": [
      "216.63ms 'run_ASR_model'\n",
      "0.04ms '_get_speech_labels_from_decoded_prediction'\n",
      "0.41ms '_get_diar_segments'\n",
      "1.09ms 'getReducedMat'\n",
      "1.27ms 'matchNewOldclusterLabels'\n",
      "63.20ms '_online_diarization'\n",
      "[NeMo I 2021-10-18 17:04:36 streaming_asr_and_diar:1361] Streaming Diar [arm_talk_16k][frame-  382th  ]:\n"
     ]
    },
    {
     "name": "stderr",
     "output_type": "stream",
     "text": [
      "[NeMo W 2021-10-18 17:04:37 nmse_clustering:276] Graph is not fully connected and the clustering result might not be accurate.\n"
     ]
    },
    {
     "name": "stdout",
     "output_type": "stream",
     "text": [
      "226.69ms 'run_ASR_model'\n",
      "0.04ms '_get_speech_labels_from_decoded_prediction'\n",
      "0.53ms '_get_diar_segments'\n",
      "1.02ms 'getReducedMat'\n",
      "0.87ms 'matchNewOldclusterLabels'\n",
      "55.94ms '_online_diarization'\n",
      "[NeMo I 2021-10-18 17:04:37 streaming_asr_and_diar:1361] Streaming Diar [arm_talk_16k][frame-  383th  ]:\n"
     ]
    },
    {
     "name": "stderr",
     "output_type": "stream",
     "text": [
      "[NeMo W 2021-10-18 17:04:38 nmse_clustering:276] Graph is not fully connected and the clustering result might not be accurate.\n"
     ]
    },
    {
     "name": "stdout",
     "output_type": "stream",
     "text": [
      "203.02ms 'run_ASR_model'\n",
      "0.04ms '_get_speech_labels_from_decoded_prediction'\n",
      "0.43ms '_get_diar_segments'\n",
      "1.05ms 'getReducedMat'\n",
      "0.86ms 'matchNewOldclusterLabels'\n",
      "69.23ms '_online_diarization'\n",
      "[NeMo I 2021-10-18 17:04:38 streaming_asr_and_diar:1361] Streaming Diar [arm_talk_16k][frame-  384th  ]:\n"
     ]
    },
    {
     "name": "stderr",
     "output_type": "stream",
     "text": [
      "[NeMo W 2021-10-18 17:04:39 nmse_clustering:276] Graph is not fully connected and the clustering result might not be accurate.\n"
     ]
    },
    {
     "name": "stdout",
     "output_type": "stream",
     "text": [
      "217.76ms 'run_ASR_model'\n",
      "0.04ms '_get_speech_labels_from_decoded_prediction'\n",
      "0.83ms '_get_diar_segments'\n",
      "1.05ms 'getReducedMat'\n",
      "0.86ms 'matchNewOldclusterLabels'\n",
      "56.03ms '_online_diarization'\n",
      "[NeMo I 2021-10-18 17:04:39 streaming_asr_and_diar:1361] Streaming Diar [arm_talk_16k][frame-  385th  ]:\n"
     ]
    },
    {
     "name": "stderr",
     "output_type": "stream",
     "text": [
      "[NeMo W 2021-10-18 17:04:40 nmse_clustering:276] Graph is not fully connected and the clustering result might not be accurate.\n"
     ]
    },
    {
     "name": "stdout",
     "output_type": "stream",
     "text": [
      "212.60ms 'run_ASR_model'\n",
      "0.06ms '_get_speech_labels_from_decoded_prediction'\n",
      "0.81ms '_get_diar_segments'\n",
      "1.10ms 'getReducedMat'\n",
      "1.37ms 'matchNewOldclusterLabels'\n",
      "57.48ms '_online_diarization'\n",
      "[NeMo I 2021-10-18 17:04:40 streaming_asr_and_diar:1361] Streaming Diar [arm_talk_16k][frame-  386th  ]:\n"
     ]
    },
    {
     "name": "stderr",
     "output_type": "stream",
     "text": [
      "[NeMo W 2021-10-18 17:04:41 nmse_clustering:276] Graph is not fully connected and the clustering result might not be accurate.\n"
     ]
    },
    {
     "name": "stdout",
     "output_type": "stream",
     "text": [
      "218.05ms 'run_ASR_model'\n",
      "0.04ms '_get_speech_labels_from_decoded_prediction'\n",
      "0.85ms '_get_diar_segments'\n",
      "1.13ms 'getReducedMat'\n",
      "0.91ms 'matchNewOldclusterLabels'\n",
      "56.36ms '_online_diarization'\n",
      "[NeMo I 2021-10-18 17:04:41 streaming_asr_and_diar:1361] Streaming Diar [arm_talk_16k][frame-  387th  ]:\n"
     ]
    },
    {
     "name": "stderr",
     "output_type": "stream",
     "text": [
      "[NeMo W 2021-10-18 17:04:42 nmse_clustering:276] Graph is not fully connected and the clustering result might not be accurate.\n"
     ]
    },
    {
     "name": "stdout",
     "output_type": "stream",
     "text": [
      "223.86ms 'run_ASR_model'\n",
      "0.05ms '_get_speech_labels_from_decoded_prediction'\n",
      "0.96ms '_get_diar_segments'\n",
      "1.13ms 'getReducedMat'\n",
      "0.87ms 'matchNewOldclusterLabels'\n",
      "57.54ms '_online_diarization'\n",
      "[NeMo I 2021-10-18 17:04:42 streaming_asr_and_diar:1361] Streaming Diar [arm_talk_16k][frame-  388th  ]:\n"
     ]
    },
    {
     "name": "stderr",
     "output_type": "stream",
     "text": [
      "[NeMo W 2021-10-18 17:04:43 nmse_clustering:276] Graph is not fully connected and the clustering result might not be accurate.\n"
     ]
    },
    {
     "name": "stdout",
     "output_type": "stream",
     "text": [
      "205.93ms 'run_ASR_model'\n",
      "0.04ms '_get_speech_labels_from_decoded_prediction'\n",
      "0.82ms '_get_diar_segments'\n",
      "1.08ms 'getReducedMat'\n",
      "1.30ms 'matchNewOldclusterLabels'\n",
      "62.56ms '_online_diarization'\n",
      "[NeMo I 2021-10-18 17:04:43 streaming_asr_and_diar:1361] Streaming Diar [arm_talk_16k][frame-  389th  ]:\n"
     ]
    },
    {
     "name": "stderr",
     "output_type": "stream",
     "text": [
      "[NeMo W 2021-10-18 17:04:44 nmse_clustering:276] Graph is not fully connected and the clustering result might not be accurate.\n"
     ]
    },
    {
     "name": "stdout",
     "output_type": "stream",
     "text": [
      "225.56ms 'run_ASR_model'\n",
      "0.06ms '_get_speech_labels_from_decoded_prediction'\n",
      "0.83ms '_get_diar_segments'\n",
      "1.03ms 'getReducedMat'\n",
      "1.37ms 'matchNewOldclusterLabels'\n",
      "62.64ms '_online_diarization'\n",
      "[NeMo I 2021-10-18 17:04:44 streaming_asr_and_diar:1361] Streaming Diar [arm_talk_16k][frame-  390th  ]:\n"
     ]
    },
    {
     "name": "stderr",
     "output_type": "stream",
     "text": [
      "[NeMo W 2021-10-18 17:04:45 nmse_clustering:276] Graph is not fully connected and the clustering result might not be accurate.\n"
     ]
    },
    {
     "name": "stdout",
     "output_type": "stream",
     "text": [
      "220.52ms 'run_ASR_model'\n",
      "0.04ms '_get_speech_labels_from_decoded_prediction'\n",
      "0.62ms '_get_diar_segments'\n",
      "1.34ms 'getReducedMat'\n",
      "0.99ms 'matchNewOldclusterLabels'\n",
      "70.90ms '_online_diarization'\n",
      "[NeMo I 2021-10-18 17:04:45 streaming_asr_and_diar:1361] Streaming Diar [arm_talk_16k][frame-  391th  ]:\n"
     ]
    },
    {
     "name": "stderr",
     "output_type": "stream",
     "text": [
      "[NeMo W 2021-10-18 17:04:46 nmse_clustering:276] Graph is not fully connected and the clustering result might not be accurate.\n"
     ]
    },
    {
     "name": "stdout",
     "output_type": "stream",
     "text": [
      "229.41ms 'run_ASR_model'\n",
      "0.04ms '_get_speech_labels_from_decoded_prediction'\n",
      "0.79ms '_get_diar_segments'\n",
      "1.28ms 'getReducedMat'\n",
      "0.87ms 'matchNewOldclusterLabels'\n",
      "70.08ms '_online_diarization'\n",
      "[NeMo I 2021-10-18 17:04:46 streaming_asr_and_diar:1361] Streaming Diar [arm_talk_16k][frame-  392th  ]:\n"
     ]
    },
    {
     "name": "stderr",
     "output_type": "stream",
     "text": [
      "[NeMo W 2021-10-18 17:04:47 nmse_clustering:276] Graph is not fully connected and the clustering result might not be accurate.\n"
     ]
    },
    {
     "name": "stdout",
     "output_type": "stream",
     "text": [
      "214.68ms 'run_ASR_model'\n",
      "0.05ms '_get_speech_labels_from_decoded_prediction'\n",
      "0.85ms '_get_diar_segments'\n",
      "1.10ms 'getReducedMat'\n",
      "0.91ms 'matchNewOldclusterLabels'\n",
      "58.21ms '_online_diarization'\n",
      "[NeMo I 2021-10-18 17:04:47 streaming_asr_and_diar:1361] Streaming Diar [arm_talk_16k][frame-  393th  ]:\n"
     ]
    },
    {
     "name": "stderr",
     "output_type": "stream",
     "text": [
      "[NeMo W 2021-10-18 17:04:48 nmse_clustering:276] Graph is not fully connected and the clustering result might not be accurate.\n"
     ]
    },
    {
     "name": "stdout",
     "output_type": "stream",
     "text": [
      "220.72ms 'run_ASR_model'\n",
      "0.05ms '_get_speech_labels_from_decoded_prediction'\n",
      "0.44ms '_get_diar_segments'\n",
      "1.11ms 'getReducedMat'\n",
      "0.84ms 'matchNewOldclusterLabels'\n",
      "55.67ms '_online_diarization'\n",
      "[NeMo I 2021-10-18 17:04:48 streaming_asr_and_diar:1361] Streaming Diar [arm_talk_16k][frame-  394th  ]:\n"
     ]
    },
    {
     "name": "stderr",
     "output_type": "stream",
     "text": [
      "[NeMo W 2021-10-18 17:04:49 nmse_clustering:276] Graph is not fully connected and the clustering result might not be accurate.\n"
     ]
    },
    {
     "name": "stdout",
     "output_type": "stream",
     "text": [
      "219.33ms 'run_ASR_model'\n",
      "0.05ms '_get_speech_labels_from_decoded_prediction'\n",
      "0.58ms '_get_diar_segments'\n",
      "1.05ms 'getReducedMat'\n",
      "0.86ms 'matchNewOldclusterLabels'\n",
      "56.39ms '_online_diarization'\n",
      "[NeMo I 2021-10-18 17:04:49 streaming_asr_and_diar:1361] Streaming Diar [arm_talk_16k][frame-  395th  ]:\n"
     ]
    },
    {
     "name": "stderr",
     "output_type": "stream",
     "text": [
      "[NeMo W 2021-10-18 17:04:50 nmse_clustering:276] Graph is not fully connected and the clustering result might not be accurate.\n"
     ]
    },
    {
     "name": "stdout",
     "output_type": "stream",
     "text": [
      "212.87ms 'run_ASR_model'\n",
      "0.05ms '_get_speech_labels_from_decoded_prediction'\n",
      "0.63ms '_get_diar_segments'\n",
      "1.05ms 'getReducedMat'\n",
      "1.01ms 'matchNewOldclusterLabels'\n",
      "58.54ms '_online_diarization'\n",
      "[NeMo I 2021-10-18 17:04:50 streaming_asr_and_diar:1361] Streaming Diar [arm_talk_16k][frame-  396th  ]:\n"
     ]
    },
    {
     "name": "stderr",
     "output_type": "stream",
     "text": [
      "[NeMo W 2021-10-18 17:04:51 nmse_clustering:276] Graph is not fully connected and the clustering result might not be accurate.\n"
     ]
    },
    {
     "name": "stdout",
     "output_type": "stream",
     "text": [
      "202.35ms 'run_ASR_model'\n",
      "0.07ms '_get_speech_labels_from_decoded_prediction'\n",
      "0.32ms '_get_diar_segments'\n",
      "1.44ms 'getReducedMat'\n",
      "1.47ms 'matchNewOldclusterLabels'\n",
      "69.49ms '_online_diarization'\n",
      "[NeMo I 2021-10-18 17:04:51 streaming_asr_and_diar:1361] Streaming Diar [arm_talk_16k][frame-  397th  ]:\n"
     ]
    },
    {
     "name": "stderr",
     "output_type": "stream",
     "text": [
      "[NeMo W 2021-10-18 17:04:52 nmse_clustering:276] Graph is not fully connected and the clustering result might not be accurate.\n"
     ]
    },
    {
     "name": "stdout",
     "output_type": "stream",
     "text": [
      "216.72ms 'run_ASR_model'\n",
      "0.07ms '_get_speech_labels_from_decoded_prediction'\n",
      "0.80ms '_get_diar_segments'\n",
      "1.13ms 'getReducedMat'\n",
      "0.97ms 'matchNewOldclusterLabels'\n",
      "56.76ms '_online_diarization'\n",
      "[NeMo I 2021-10-18 17:04:52 streaming_asr_and_diar:1361] Streaming Diar [arm_talk_16k][frame-  398th  ]:\n"
     ]
    },
    {
     "name": "stderr",
     "output_type": "stream",
     "text": [
      "[NeMo W 2021-10-18 17:04:53 nmse_clustering:276] Graph is not fully connected and the clustering result might not be accurate.\n"
     ]
    },
    {
     "name": "stdout",
     "output_type": "stream",
     "text": [
      "238.25ms 'run_ASR_model'\n",
      "0.08ms '_get_speech_labels_from_decoded_prediction'\n",
      "0.62ms '_get_diar_segments'\n",
      "1.47ms 'getReducedMat'\n",
      "1.30ms 'matchNewOldclusterLabels'\n",
      "67.94ms '_online_diarization'\n",
      "[NeMo I 2021-10-18 17:04:53 streaming_asr_and_diar:1361] Streaming Diar [arm_talk_16k][frame-  399th  ]:\n"
     ]
    },
    {
     "name": "stderr",
     "output_type": "stream",
     "text": [
      "[NeMo W 2021-10-18 17:04:54 nmse_clustering:276] Graph is not fully connected and the clustering result might not be accurate.\n"
     ]
    },
    {
     "name": "stdout",
     "output_type": "stream",
     "text": [
      "234.69ms 'run_ASR_model'\n",
      "0.05ms '_get_speech_labels_from_decoded_prediction'\n",
      "0.84ms '_get_diar_segments'\n",
      "1.75ms 'getReducedMat'\n",
      "1.29ms 'matchNewOldclusterLabels'\n",
      "77.94ms '_online_diarization'\n",
      "[NeMo I 2021-10-18 17:04:54 streaming_asr_and_diar:1361] Streaming Diar [arm_talk_16k][frame-  400th  ]:\n"
     ]
    },
    {
     "name": "stderr",
     "output_type": "stream",
     "text": [
      "[NeMo W 2021-10-18 17:04:55 nmse_clustering:276] Graph is not fully connected and the clustering result might not be accurate.\n"
     ]
    },
    {
     "name": "stdout",
     "output_type": "stream",
     "text": [
      "222.60ms 'run_ASR_model'\n",
      "0.05ms '_get_speech_labels_from_decoded_prediction'\n",
      "0.83ms '_get_diar_segments'\n",
      "1.19ms 'getReducedMat'\n",
      "0.99ms 'matchNewOldclusterLabels'\n",
      "60.30ms '_online_diarization'\n",
      "[NeMo I 2021-10-18 17:04:55 streaming_asr_and_diar:1361] Streaming Diar [arm_talk_16k][frame-  401th  ]:\n"
     ]
    },
    {
     "name": "stderr",
     "output_type": "stream",
     "text": [
      "[NeMo W 2021-10-18 17:04:56 nmse_clustering:276] Graph is not fully connected and the clustering result might not be accurate.\n"
     ]
    },
    {
     "name": "stdout",
     "output_type": "stream",
     "text": [
      "217.22ms 'run_ASR_model'\n",
      "0.07ms '_get_speech_labels_from_decoded_prediction'\n",
      "0.59ms '_get_diar_segments'\n",
      "1.17ms 'getReducedMat'\n",
      "1.32ms 'matchNewOldclusterLabels'\n",
      "63.97ms '_online_diarization'\n",
      "[NeMo I 2021-10-18 17:04:56 streaming_asr_and_diar:1361] Streaming Diar [arm_talk_16k][frame-  402th  ]:\n"
     ]
    },
    {
     "name": "stderr",
     "output_type": "stream",
     "text": [
      "[NeMo W 2021-10-18 17:04:57 nmse_clustering:276] Graph is not fully connected and the clustering result might not be accurate.\n"
     ]
    },
    {
     "name": "stdout",
     "output_type": "stream",
     "text": [
      "259.48ms 'run_ASR_model'\n",
      "0.05ms '_get_speech_labels_from_decoded_prediction'\n",
      "0.35ms '_get_diar_segments'\n",
      "1.46ms 'getReducedMat'\n",
      "1.15ms 'matchNewOldclusterLabels'\n",
      "72.05ms '_online_diarization'\n",
      "[NeMo I 2021-10-18 17:04:58 streaming_asr_and_diar:1361] Streaming Diar [arm_talk_16k][frame-  403th  ]:\n"
     ]
    },
    {
     "name": "stderr",
     "output_type": "stream",
     "text": [
      "[NeMo W 2021-10-18 17:04:58 nmse_clustering:276] Graph is not fully connected and the clustering result might not be accurate.\n"
     ]
    },
    {
     "name": "stdout",
     "output_type": "stream",
     "text": [
      "230.37ms 'run_ASR_model'\n",
      "0.05ms '_get_speech_labels_from_decoded_prediction'\n",
      "0.86ms '_get_diar_segments'\n",
      "1.48ms 'getReducedMat'\n",
      "1.28ms 'matchNewOldclusterLabels'\n",
      "68.46ms '_online_diarization'\n",
      "[NeMo I 2021-10-18 17:04:58 streaming_asr_and_diar:1361] Streaming Diar [arm_talk_16k][frame-  404th  ]:\n"
     ]
    },
    {
     "name": "stderr",
     "output_type": "stream",
     "text": [
      "[NeMo W 2021-10-18 17:04:59 nmse_clustering:276] Graph is not fully connected and the clustering result might not be accurate.\n"
     ]
    },
    {
     "name": "stdout",
     "output_type": "stream",
     "text": [
      "217.73ms 'run_ASR_model'\n",
      "0.07ms '_get_speech_labels_from_decoded_prediction'\n",
      "0.79ms '_get_diar_segments'\n",
      "1.49ms 'getReducedMat'\n",
      "1.32ms 'matchNewOldclusterLabels'\n",
      "70.09ms '_online_diarization'\n",
      "[NeMo I 2021-10-18 17:04:59 streaming_asr_and_diar:1361] Streaming Diar [arm_talk_16k][frame-  405th  ]:\n"
     ]
    },
    {
     "name": "stderr",
     "output_type": "stream",
     "text": [
      "[NeMo W 2021-10-18 17:05:00 nmse_clustering:276] Graph is not fully connected and the clustering result might not be accurate.\n"
     ]
    },
    {
     "name": "stdout",
     "output_type": "stream",
     "text": [
      "232.45ms 'run_ASR_model'\n",
      "0.06ms '_get_speech_labels_from_decoded_prediction'\n",
      "0.85ms '_get_diar_segments'\n",
      "1.18ms 'getReducedMat'\n",
      "0.87ms 'matchNewOldclusterLabels'\n",
      "66.56ms '_online_diarization'\n",
      "[NeMo I 2021-10-18 17:05:00 streaming_asr_and_diar:1361] Streaming Diar [arm_talk_16k][frame-  406th  ]:\n"
     ]
    },
    {
     "name": "stderr",
     "output_type": "stream",
     "text": [
      "[NeMo W 2021-10-18 17:05:01 nmse_clustering:276] Graph is not fully connected and the clustering result might not be accurate.\n"
     ]
    },
    {
     "name": "stdout",
     "output_type": "stream",
     "text": [
      "209.12ms 'run_ASR_model'\n",
      "0.05ms '_get_speech_labels_from_decoded_prediction'\n",
      "0.83ms '_get_diar_segments'\n",
      "1.24ms 'getReducedMat'\n",
      "0.84ms 'matchNewOldclusterLabels'\n",
      "68.49ms '_online_diarization'\n",
      "[NeMo I 2021-10-18 17:05:01 streaming_asr_and_diar:1361] Streaming Diar [arm_talk_16k][frame-  407th  ]:\n"
     ]
    },
    {
     "name": "stderr",
     "output_type": "stream",
     "text": [
      "[NeMo W 2021-10-18 17:05:02 nmse_clustering:276] Graph is not fully connected and the clustering result might not be accurate.\n"
     ]
    },
    {
     "name": "stdout",
     "output_type": "stream",
     "text": [
      "209.47ms 'run_ASR_model'\n",
      "0.07ms '_get_speech_labels_from_decoded_prediction'\n",
      "0.95ms '_get_diar_segments'\n",
      "1.51ms 'getReducedMat'\n",
      "1.22ms 'matchNewOldclusterLabels'\n",
      "85.93ms '_online_diarization'\n",
      "[NeMo I 2021-10-18 17:05:02 streaming_asr_and_diar:1361] Streaming Diar [arm_talk_16k][frame-  408th  ]:\n"
     ]
    },
    {
     "name": "stderr",
     "output_type": "stream",
     "text": [
      "[NeMo W 2021-10-18 17:05:03 nmse_clustering:276] Graph is not fully connected and the clustering result might not be accurate.\n"
     ]
    },
    {
     "name": "stdout",
     "output_type": "stream",
     "text": [
      "218.59ms 'run_ASR_model'\n",
      "0.06ms '_get_speech_labels_from_decoded_prediction'\n",
      "0.80ms '_get_diar_segments'\n",
      "1.20ms 'getReducedMat'\n",
      "1.40ms 'matchNewOldclusterLabels'\n",
      "66.87ms '_online_diarization'\n",
      "[NeMo I 2021-10-18 17:05:03 streaming_asr_and_diar:1361] Streaming Diar [arm_talk_16k][frame-  409th  ]:\n"
     ]
    },
    {
     "name": "stderr",
     "output_type": "stream",
     "text": [
      "[NeMo W 2021-10-18 17:05:04 nmse_clustering:276] Graph is not fully connected and the clustering result might not be accurate.\n"
     ]
    },
    {
     "name": "stdout",
     "output_type": "stream",
     "text": [
      "216.09ms 'run_ASR_model'\n",
      "0.07ms '_get_speech_labels_from_decoded_prediction'\n",
      "0.31ms '_get_diar_segments'\n",
      "1.18ms 'getReducedMat'\n",
      "1.10ms 'matchNewOldclusterLabels'\n",
      "63.44ms '_online_diarization'\n",
      "[NeMo I 2021-10-18 17:05:04 streaming_asr_and_diar:1361] Streaming Diar [arm_talk_16k][frame-  410th  ]:\n"
     ]
    },
    {
     "name": "stderr",
     "output_type": "stream",
     "text": [
      "[NeMo W 2021-10-18 17:05:05 nmse_clustering:276] Graph is not fully connected and the clustering result might not be accurate.\n"
     ]
    },
    {
     "name": "stdout",
     "output_type": "stream",
     "text": [
      "229.04ms 'run_ASR_model'\n",
      "0.06ms '_get_speech_labels_from_decoded_prediction'\n",
      "0.81ms '_get_diar_segments'\n",
      "1.20ms 'getReducedMat'\n",
      "1.50ms 'matchNewOldclusterLabels'\n",
      "68.71ms '_online_diarization'\n",
      "[NeMo I 2021-10-18 17:05:05 streaming_asr_and_diar:1361] Streaming Diar [arm_talk_16k][frame-  411th  ]:\n"
     ]
    },
    {
     "name": "stderr",
     "output_type": "stream",
     "text": [
      "[NeMo W 2021-10-18 17:05:06 nmse_clustering:276] Graph is not fully connected and the clustering result might not be accurate.\n"
     ]
    },
    {
     "name": "stdout",
     "output_type": "stream",
     "text": [
      "239.62ms 'run_ASR_model'\n",
      "0.05ms '_get_speech_labels_from_decoded_prediction'\n",
      "0.31ms '_get_diar_segments'\n",
      "1.20ms 'getReducedMat'\n",
      "0.85ms 'matchNewOldclusterLabels'\n",
      "56.76ms '_online_diarization'\n",
      "[NeMo I 2021-10-18 17:05:06 streaming_asr_and_diar:1361] Streaming Diar [arm_talk_16k][frame-  412th  ]:\n"
     ]
    },
    {
     "name": "stderr",
     "output_type": "stream",
     "text": [
      "[NeMo W 2021-10-18 17:05:07 nmse_clustering:276] Graph is not fully connected and the clustering result might not be accurate.\n"
     ]
    },
    {
     "name": "stdout",
     "output_type": "stream",
     "text": [
      "221.69ms 'run_ASR_model'\n",
      "0.06ms '_get_speech_labels_from_decoded_prediction'\n",
      "0.95ms '_get_diar_segments'\n",
      "1.23ms 'getReducedMat'\n",
      "0.87ms 'matchNewOldclusterLabels'\n",
      "67.77ms '_online_diarization'\n",
      "[NeMo I 2021-10-18 17:05:07 streaming_asr_and_diar:1361] Streaming Diar [arm_talk_16k][frame-  413th  ]:\n"
     ]
    },
    {
     "name": "stderr",
     "output_type": "stream",
     "text": [
      "[NeMo W 2021-10-18 17:05:08 nmse_clustering:276] Graph is not fully connected and the clustering result might not be accurate.\n"
     ]
    },
    {
     "name": "stdout",
     "output_type": "stream",
     "text": [
      "214.22ms 'run_ASR_model'\n",
      "0.05ms '_get_speech_labels_from_decoded_prediction'\n",
      "0.85ms '_get_diar_segments'\n",
      "1.18ms 'getReducedMat'\n",
      "0.88ms 'matchNewOldclusterLabels'\n",
      "60.23ms '_online_diarization'\n",
      "[NeMo I 2021-10-18 17:05:08 streaming_asr_and_diar:1361] Streaming Diar [arm_talk_16k][frame-  414th  ]:\n"
     ]
    },
    {
     "name": "stderr",
     "output_type": "stream",
     "text": [
      "[NeMo W 2021-10-18 17:05:09 nmse_clustering:276] Graph is not fully connected and the clustering result might not be accurate.\n"
     ]
    },
    {
     "name": "stdout",
     "output_type": "stream",
     "text": [
      "204.97ms 'run_ASR_model'\n",
      "0.05ms '_get_speech_labels_from_decoded_prediction'\n",
      "0.31ms '_get_diar_segments'\n",
      "1.51ms 'getReducedMat'\n",
      "0.85ms 'matchNewOldclusterLabels'\n",
      "63.67ms '_online_diarization'\n",
      "[NeMo I 2021-10-18 17:05:09 streaming_asr_and_diar:1361] Streaming Diar [arm_talk_16k][frame-  415th  ]:\n"
     ]
    },
    {
     "name": "stderr",
     "output_type": "stream",
     "text": [
      "[NeMo W 2021-10-18 17:05:10 nmse_clustering:276] Graph is not fully connected and the clustering result might not be accurate.\n"
     ]
    },
    {
     "name": "stdout",
     "output_type": "stream",
     "text": [
      "231.02ms 'run_ASR_model'\n",
      "0.08ms '_get_speech_labels_from_decoded_prediction'\n",
      "1.11ms '_get_diar_segments'\n",
      "1.94ms 'getReducedMat'\n",
      "1.21ms 'matchNewOldclusterLabels'\n",
      "81.68ms '_online_diarization'\n",
      "[NeMo I 2021-10-18 17:05:11 streaming_asr_and_diar:1361] Streaming Diar [arm_talk_16k][frame-  416th  ]:\n"
     ]
    },
    {
     "name": "stderr",
     "output_type": "stream",
     "text": [
      "[NeMo W 2021-10-18 17:05:11 nmse_clustering:276] Graph is not fully connected and the clustering result might not be accurate.\n"
     ]
    },
    {
     "name": "stdout",
     "output_type": "stream",
     "text": [
      "215.48ms 'run_ASR_model'\n",
      "0.04ms '_get_speech_labels_from_decoded_prediction'\n",
      "0.80ms '_get_diar_segments'\n",
      "0.68ms 'getReducedMat'\n",
      "1.30ms 'matchNewOldclusterLabels'\n",
      "68.19ms '_online_diarization'\n",
      "[NeMo I 2021-10-18 17:05:11 streaming_asr_and_diar:1361] Streaming Diar [arm_talk_16k][frame-  417th  ]:\n"
     ]
    },
    {
     "name": "stderr",
     "output_type": "stream",
     "text": [
      "[NeMo W 2021-10-18 17:05:12 nmse_clustering:276] Graph is not fully connected and the clustering result might not be accurate.\n"
     ]
    },
    {
     "name": "stdout",
     "output_type": "stream",
     "text": [
      "216.54ms 'run_ASR_model'\n",
      "0.05ms '_get_speech_labels_from_decoded_prediction'\n",
      "0.81ms '_get_diar_segments'\n",
      "1.25ms 'getReducedMat'\n",
      "0.86ms 'matchNewOldclusterLabels'\n",
      "58.31ms '_online_diarization'\n",
      "[NeMo I 2021-10-18 17:05:12 streaming_asr_and_diar:1361] Streaming Diar [arm_talk_16k][frame-  418th  ]:\n"
     ]
    },
    {
     "name": "stderr",
     "output_type": "stream",
     "text": [
      "[NeMo W 2021-10-18 17:05:13 nmse_clustering:276] Graph is not fully connected and the clustering result might not be accurate.\n"
     ]
    },
    {
     "name": "stdout",
     "output_type": "stream",
     "text": [
      "218.45ms 'run_ASR_model'\n",
      "0.06ms '_get_speech_labels_from_decoded_prediction'\n",
      "0.43ms '_get_diar_segments'\n",
      "1.23ms 'getReducedMat'\n",
      "0.90ms 'matchNewOldclusterLabels'\n",
      "56.84ms '_online_diarization'\n",
      "[NeMo I 2021-10-18 17:05:13 streaming_asr_and_diar:1361] Streaming Diar [arm_talk_16k][frame-  419th  ]:\n"
     ]
    },
    {
     "name": "stderr",
     "output_type": "stream",
     "text": [
      "[NeMo W 2021-10-18 17:05:14 nmse_clustering:276] Graph is not fully connected and the clustering result might not be accurate.\n"
     ]
    },
    {
     "name": "stdout",
     "output_type": "stream",
     "text": [
      "215.31ms 'run_ASR_model'\n",
      "0.07ms '_get_speech_labels_from_decoded_prediction'\n",
      "0.54ms '_get_diar_segments'\n",
      "1.20ms 'getReducedMat'\n",
      "0.87ms 'matchNewOldclusterLabels'\n",
      "57.00ms '_online_diarization'\n",
      "[NeMo I 2021-10-18 17:05:14 streaming_asr_and_diar:1361] Streaming Diar [arm_talk_16k][frame-  420th  ]:\n"
     ]
    },
    {
     "name": "stderr",
     "output_type": "stream",
     "text": [
      "[NeMo W 2021-10-18 17:05:15 nmse_clustering:276] Graph is not fully connected and the clustering result might not be accurate.\n"
     ]
    },
    {
     "name": "stdout",
     "output_type": "stream",
     "text": [
      "217.05ms 'run_ASR_model'\n",
      "0.05ms '_get_speech_labels_from_decoded_prediction'\n",
      "0.52ms '_get_diar_segments'\n",
      "1.23ms 'getReducedMat'\n",
      "0.86ms 'matchNewOldclusterLabels'\n",
      "57.22ms '_online_diarization'\n",
      "[NeMo I 2021-10-18 17:05:15 streaming_asr_and_diar:1361] Streaming Diar [arm_talk_16k][frame-  421th  ]:\n"
     ]
    },
    {
     "name": "stderr",
     "output_type": "stream",
     "text": [
      "[NeMo W 2021-10-18 17:05:16 nmse_clustering:276] Graph is not fully connected and the clustering result might not be accurate.\n"
     ]
    },
    {
     "name": "stdout",
     "output_type": "stream",
     "text": [
      "214.78ms 'run_ASR_model'\n",
      "0.07ms '_get_speech_labels_from_decoded_prediction'\n",
      "0.50ms '_get_diar_segments'\n",
      "1.25ms 'getReducedMat'\n",
      "1.45ms 'matchNewOldclusterLabels'\n",
      "62.91ms '_online_diarization'\n",
      "[NeMo I 2021-10-18 17:05:16 streaming_asr_and_diar:1361] Streaming Diar [arm_talk_16k][frame-  422th  ]:\n"
     ]
    },
    {
     "name": "stderr",
     "output_type": "stream",
     "text": [
      "[NeMo W 2021-10-18 17:05:17 nmse_clustering:276] Graph is not fully connected and the clustering result might not be accurate.\n"
     ]
    },
    {
     "name": "stdout",
     "output_type": "stream",
     "text": [
      "226.01ms 'run_ASR_model'\n",
      "0.07ms '_get_speech_labels_from_decoded_prediction'\n",
      "0.57ms '_get_diar_segments'\n",
      "1.21ms 'getReducedMat'\n",
      "1.20ms 'matchNewOldclusterLabels'\n",
      "64.97ms '_online_diarization'\n",
      "[NeMo I 2021-10-18 17:05:17 streaming_asr_and_diar:1361] Streaming Diar [arm_talk_16k][frame-  423th  ]:\n"
     ]
    },
    {
     "name": "stderr",
     "output_type": "stream",
     "text": [
      "[NeMo W 2021-10-18 17:05:18 nmse_clustering:276] Graph is not fully connected and the clustering result might not be accurate.\n"
     ]
    },
    {
     "name": "stdout",
     "output_type": "stream",
     "text": [
      "227.78ms 'run_ASR_model'\n",
      "0.05ms '_get_speech_labels_from_decoded_prediction'\n",
      "0.84ms '_get_diar_segments'\n",
      "1.35ms 'getReducedMat'\n",
      "1.18ms 'matchNewOldclusterLabels'\n",
      "69.94ms '_online_diarization'\n",
      "[NeMo I 2021-10-18 17:05:18 streaming_asr_and_diar:1361] Streaming Diar [arm_talk_16k][frame-  424th  ]:\n"
     ]
    },
    {
     "name": "stderr",
     "output_type": "stream",
     "text": [
      "[NeMo W 2021-10-18 17:05:19 nmse_clustering:276] Graph is not fully connected and the clustering result might not be accurate.\n"
     ]
    },
    {
     "name": "stdout",
     "output_type": "stream",
     "text": [
      "212.93ms 'run_ASR_model'\n",
      "0.07ms '_get_speech_labels_from_decoded_prediction'\n",
      "1.13ms '_get_diar_segments'\n",
      "1.52ms 'getReducedMat'\n",
      "1.31ms 'matchNewOldclusterLabels'\n",
      "75.80ms '_online_diarization'\n",
      "[NeMo I 2021-10-18 17:05:19 streaming_asr_and_diar:1361] Streaming Diar [arm_talk_16k][frame-  425th  ]:\n"
     ]
    },
    {
     "name": "stderr",
     "output_type": "stream",
     "text": [
      "[NeMo W 2021-10-18 17:05:20 nmse_clustering:276] Graph is not fully connected and the clustering result might not be accurate.\n"
     ]
    },
    {
     "name": "stdout",
     "output_type": "stream",
     "text": [
      "205.77ms 'run_ASR_model'\n",
      "0.05ms '_get_speech_labels_from_decoded_prediction'\n",
      "0.54ms '_get_diar_segments'\n",
      "1.55ms 'getReducedMat'\n",
      "0.85ms 'matchNewOldclusterLabels'\n",
      "65.97ms '_online_diarization'\n",
      "[NeMo I 2021-10-18 17:05:20 streaming_asr_and_diar:1361] Streaming Diar [arm_talk_16k][frame-  426th  ]:\n"
     ]
    },
    {
     "name": "stderr",
     "output_type": "stream",
     "text": [
      "[NeMo W 2021-10-18 17:05:21 nmse_clustering:276] Graph is not fully connected and the clustering result might not be accurate.\n"
     ]
    },
    {
     "name": "stdout",
     "output_type": "stream",
     "text": [
      "226.84ms 'run_ASR_model'\n",
      "0.07ms '_get_speech_labels_from_decoded_prediction'\n",
      "0.79ms '_get_diar_segments'\n",
      "1.28ms 'getReducedMat'\n",
      "0.86ms 'matchNewOldclusterLabels'\n",
      "57.60ms '_online_diarization'\n",
      "[NeMo I 2021-10-18 17:05:21 streaming_asr_and_diar:1361] Streaming Diar [arm_talk_16k][frame-  427th  ]:\n"
     ]
    },
    {
     "name": "stderr",
     "output_type": "stream",
     "text": [
      "[NeMo W 2021-10-18 17:05:22 nmse_clustering:276] Graph is not fully connected and the clustering result might not be accurate.\n"
     ]
    },
    {
     "name": "stdout",
     "output_type": "stream",
     "text": [
      "215.20ms 'run_ASR_model'\n",
      "0.05ms '_get_speech_labels_from_decoded_prediction'\n",
      "0.83ms '_get_diar_segments'\n",
      "1.52ms 'getReducedMat'\n",
      "1.30ms 'matchNewOldclusterLabels'\n",
      "69.08ms '_online_diarization'\n",
      "[NeMo I 2021-10-18 17:05:22 streaming_asr_and_diar:1361] Streaming Diar [arm_talk_16k][frame-  428th  ]:\n"
     ]
    },
    {
     "name": "stderr",
     "output_type": "stream",
     "text": [
      "[NeMo W 2021-10-18 17:05:23 nmse_clustering:276] Graph is not fully connected and the clustering result might not be accurate.\n"
     ]
    },
    {
     "name": "stdout",
     "output_type": "stream",
     "text": [
      "228.00ms 'run_ASR_model'\n",
      "0.07ms '_get_speech_labels_from_decoded_prediction'\n",
      "0.62ms '_get_diar_segments'\n",
      "1.23ms 'getReducedMat'\n",
      "1.32ms 'matchNewOldclusterLabels'\n",
      "81.68ms '_online_diarization'\n",
      "[NeMo I 2021-10-18 17:05:24 streaming_asr_and_diar:1361] Streaming Diar [arm_talk_16k][frame-  429th  ]:\n"
     ]
    },
    {
     "name": "stderr",
     "output_type": "stream",
     "text": [
      "[NeMo W 2021-10-18 17:05:24 nmse_clustering:276] Graph is not fully connected and the clustering result might not be accurate.\n"
     ]
    },
    {
     "name": "stdout",
     "output_type": "stream",
     "text": [
      "233.69ms 'run_ASR_model'\n",
      "0.07ms '_get_speech_labels_from_decoded_prediction'\n",
      "0.80ms '_get_diar_segments'\n",
      "1.25ms 'getReducedMat'\n",
      "0.88ms 'matchNewOldclusterLabels'\n",
      "58.69ms '_online_diarization'\n",
      "[NeMo I 2021-10-18 17:05:24 streaming_asr_and_diar:1361] Streaming Diar [arm_talk_16k][frame-  430th  ]:\n"
     ]
    },
    {
     "name": "stderr",
     "output_type": "stream",
     "text": [
      "[NeMo W 2021-10-18 17:05:25 nmse_clustering:276] Graph is not fully connected and the clustering result might not be accurate.\n"
     ]
    },
    {
     "name": "stdout",
     "output_type": "stream",
     "text": [
      "206.71ms 'run_ASR_model'\n",
      "0.05ms '_get_speech_labels_from_decoded_prediction'\n",
      "0.54ms '_get_diar_segments'\n",
      "1.26ms 'getReducedMat'\n",
      "0.87ms 'matchNewOldclusterLabels'\n",
      "58.12ms '_online_diarization'\n",
      "[NeMo I 2021-10-18 17:05:25 streaming_asr_and_diar:1361] Streaming Diar [arm_talk_16k][frame-  431th  ]:\n"
     ]
    },
    {
     "name": "stderr",
     "output_type": "stream",
     "text": [
      "[NeMo W 2021-10-18 17:05:26 nmse_clustering:276] Graph is not fully connected and the clustering result might not be accurate.\n"
     ]
    },
    {
     "name": "stdout",
     "output_type": "stream",
     "text": [
      "211.44ms 'run_ASR_model'\n",
      "0.06ms '_get_speech_labels_from_decoded_prediction'\n",
      "0.92ms '_get_diar_segments'\n",
      "2.00ms 'getReducedMat'\n",
      "1.20ms 'matchNewOldclusterLabels'\n",
      "87.83ms '_online_diarization'\n",
      "[NeMo I 2021-10-18 17:05:27 streaming_asr_and_diar:1361] Streaming Diar [arm_talk_16k][frame-  432th  ]:\n"
     ]
    },
    {
     "name": "stderr",
     "output_type": "stream",
     "text": [
      "[NeMo W 2021-10-18 17:05:27 nmse_clustering:276] Graph is not fully connected and the clustering result might not be accurate.\n"
     ]
    },
    {
     "name": "stdout",
     "output_type": "stream",
     "text": [
      "232.22ms 'run_ASR_model'\n",
      "0.04ms '_get_speech_labels_from_decoded_prediction'\n",
      "0.56ms '_get_diar_segments'\n",
      "1.59ms 'getReducedMat'\n",
      "1.21ms 'matchNewOldclusterLabels'\n",
      "69.13ms '_online_diarization'\n",
      "[NeMo I 2021-10-18 17:05:28 streaming_asr_and_diar:1361] Streaming Diar [arm_talk_16k][frame-  433th  ]:\n"
     ]
    },
    {
     "name": "stderr",
     "output_type": "stream",
     "text": [
      "[NeMo W 2021-10-18 17:05:28 nmse_clustering:276] Graph is not fully connected and the clustering result might not be accurate.\n"
     ]
    },
    {
     "name": "stdout",
     "output_type": "stream",
     "text": [
      "214.21ms 'run_ASR_model'\n",
      "0.04ms '_get_speech_labels_from_decoded_prediction'\n",
      "0.76ms '_get_diar_segments'\n",
      "1.69ms 'getReducedMat'\n",
      "1.19ms 'matchNewOldclusterLabels'\n",
      "76.99ms '_online_diarization'\n",
      "[NeMo I 2021-10-18 17:05:29 streaming_asr_and_diar:1361] Streaming Diar [arm_talk_16k][frame-  434th  ]:\n"
     ]
    },
    {
     "name": "stderr",
     "output_type": "stream",
     "text": [
      "[NeMo W 2021-10-18 17:05:29 nmse_clustering:276] Graph is not fully connected and the clustering result might not be accurate.\n"
     ]
    },
    {
     "name": "stdout",
     "output_type": "stream",
     "text": [
      "237.15ms 'run_ASR_model'\n",
      "0.05ms '_get_speech_labels_from_decoded_prediction'\n",
      "0.98ms '_get_diar_segments'\n",
      "1.59ms 'getReducedMat'\n",
      "1.19ms 'matchNewOldclusterLabels'\n",
      "72.67ms '_online_diarization'\n",
      "[NeMo I 2021-10-18 17:05:30 streaming_asr_and_diar:1361] Streaming Diar [arm_talk_16k][frame-  435th  ]:\n"
     ]
    },
    {
     "name": "stderr",
     "output_type": "stream",
     "text": [
      "[NeMo W 2021-10-18 17:05:30 nmse_clustering:276] Graph is not fully connected and the clustering result might not be accurate.\n"
     ]
    },
    {
     "name": "stdout",
     "output_type": "stream",
     "text": [
      "213.76ms 'run_ASR_model'\n",
      "0.04ms '_get_speech_labels_from_decoded_prediction'\n",
      "0.68ms '_get_diar_segments'\n",
      "1.60ms 'getReducedMat'\n",
      "0.86ms 'matchNewOldclusterLabels'\n",
      "77.08ms '_online_diarization'\n",
      "[NeMo I 2021-10-18 17:05:30 streaming_asr_and_diar:1361] Streaming Diar [arm_talk_16k][frame-  436th  ]:\n"
     ]
    },
    {
     "name": "stderr",
     "output_type": "stream",
     "text": [
      "[NeMo W 2021-10-18 17:05:31 nmse_clustering:276] Graph is not fully connected and the clustering result might not be accurate.\n"
     ]
    },
    {
     "name": "stdout",
     "output_type": "stream",
     "text": [
      "203.25ms 'run_ASR_model'\n",
      "0.03ms '_get_speech_labels_from_decoded_prediction'\n",
      "0.80ms '_get_diar_segments'\n",
      "1.55ms 'getReducedMat'\n",
      "1.29ms 'matchNewOldclusterLabels'\n",
      "69.11ms '_online_diarization'\n",
      "[NeMo I 2021-10-18 17:05:31 streaming_asr_and_diar:1361] Streaming Diar [arm_talk_16k][frame-  437th  ]:\n"
     ]
    },
    {
     "name": "stderr",
     "output_type": "stream",
     "text": [
      "[NeMo W 2021-10-18 17:05:32 nmse_clustering:276] Graph is not fully connected and the clustering result might not be accurate.\n"
     ]
    },
    {
     "name": "stdout",
     "output_type": "stream",
     "text": [
      "205.63ms 'run_ASR_model'\n",
      "0.05ms '_get_speech_labels_from_decoded_prediction'\n",
      "0.82ms '_get_diar_segments'\n",
      "1.45ms 'getReducedMat'\n",
      "0.98ms 'matchNewOldclusterLabels'\n",
      "59.04ms '_online_diarization'\n",
      "[NeMo I 2021-10-18 17:05:32 streaming_asr_and_diar:1361] Streaming Diar [arm_talk_16k][frame-  438th  ]:\n"
     ]
    },
    {
     "name": "stderr",
     "output_type": "stream",
     "text": [
      "[NeMo W 2021-10-18 17:05:33 nmse_clustering:276] Graph is not fully connected and the clustering result might not be accurate.\n"
     ]
    },
    {
     "name": "stdout",
     "output_type": "stream",
     "text": [
      "213.94ms 'run_ASR_model'\n",
      "0.04ms '_get_speech_labels_from_decoded_prediction'\n",
      "0.88ms '_get_diar_segments'\n",
      "1.28ms 'getReducedMat'\n",
      "0.88ms 'matchNewOldclusterLabels'\n",
      "57.21ms '_online_diarization'\n",
      "[NeMo I 2021-10-18 17:05:33 streaming_asr_and_diar:1361] Streaming Diar [arm_talk_16k][frame-  439th  ]:\n"
     ]
    },
    {
     "name": "stderr",
     "output_type": "stream",
     "text": [
      "[NeMo W 2021-10-18 17:05:34 nmse_clustering:276] Graph is not fully connected and the clustering result might not be accurate.\n"
     ]
    },
    {
     "name": "stdout",
     "output_type": "stream",
     "text": [
      "216.39ms 'run_ASR_model'\n",
      "0.04ms '_get_speech_labels_from_decoded_prediction'\n",
      "0.68ms '_get_diar_segments'\n",
      "1.26ms 'getReducedMat'\n",
      "0.87ms 'matchNewOldclusterLabels'\n",
      "58.37ms '_online_diarization'\n",
      "[NeMo I 2021-10-18 17:05:34 streaming_asr_and_diar:1361] Streaming Diar [arm_talk_16k][frame-  440th  ]:\n"
     ]
    },
    {
     "name": "stderr",
     "output_type": "stream",
     "text": [
      "[NeMo W 2021-10-18 17:05:35 nmse_clustering:276] Graph is not fully connected and the clustering result might not be accurate.\n"
     ]
    },
    {
     "name": "stdout",
     "output_type": "stream",
     "text": [
      "217.12ms 'run_ASR_model'\n",
      "0.06ms '_get_speech_labels_from_decoded_prediction'\n",
      "0.81ms '_get_diar_segments'\n",
      "1.27ms 'getReducedMat'\n",
      "0.86ms 'matchNewOldclusterLabels'\n",
      "60.21ms '_online_diarization'\n",
      "[NeMo I 2021-10-18 17:05:35 streaming_asr_and_diar:1361] Streaming Diar [arm_talk_16k][frame-  441th  ]:\n"
     ]
    },
    {
     "name": "stderr",
     "output_type": "stream",
     "text": [
      "[NeMo W 2021-10-18 17:05:36 nmse_clustering:276] Graph is not fully connected and the clustering result might not be accurate.\n"
     ]
    },
    {
     "name": "stdout",
     "output_type": "stream",
     "text": [
      "226.07ms 'run_ASR_model'\n",
      "0.04ms '_get_speech_labels_from_decoded_prediction'\n",
      "0.31ms '_get_diar_segments'\n",
      "1.28ms 'getReducedMat'\n",
      "1.19ms 'matchNewOldclusterLabels'\n",
      "65.14ms '_online_diarization'\n",
      "[NeMo I 2021-10-18 17:05:37 streaming_asr_and_diar:1361] Streaming Diar [arm_talk_16k][frame-  442th  ]:\n"
     ]
    },
    {
     "name": "stderr",
     "output_type": "stream",
     "text": [
      "[NeMo W 2021-10-18 17:05:37 nmse_clustering:276] Graph is not fully connected and the clustering result might not be accurate.\n"
     ]
    },
    {
     "name": "stdout",
     "output_type": "stream",
     "text": [
      "233.43ms 'run_ASR_model'\n",
      "0.05ms '_get_speech_labels_from_decoded_prediction'\n",
      "0.73ms '_get_diar_segments'\n",
      "1.28ms 'getReducedMat'\n",
      "0.97ms 'matchNewOldclusterLabels'\n",
      "61.10ms '_online_diarization'\n",
      "[NeMo I 2021-10-18 17:05:38 streaming_asr_and_diar:1361] Streaming Diar [arm_talk_16k][frame-  443th  ]:\n"
     ]
    },
    {
     "name": "stderr",
     "output_type": "stream",
     "text": [
      "[NeMo W 2021-10-18 17:05:38 nmse_clustering:276] Graph is not fully connected and the clustering result might not be accurate.\n"
     ]
    },
    {
     "name": "stdout",
     "output_type": "stream",
     "text": [
      "215.01ms 'run_ASR_model'\n",
      "0.08ms '_get_speech_labels_from_decoded_prediction'\n",
      "0.93ms '_get_diar_segments'\n",
      "1.63ms 'getReducedMat'\n",
      "1.32ms 'matchNewOldclusterLabels'\n",
      "76.57ms '_online_diarization'\n",
      "[NeMo I 2021-10-18 17:05:39 streaming_asr_and_diar:1361] Streaming Diar [arm_talk_16k][frame-  444th  ]:\n"
     ]
    },
    {
     "name": "stderr",
     "output_type": "stream",
     "text": [
      "[NeMo W 2021-10-18 17:05:39 nmse_clustering:276] Graph is not fully connected and the clustering result might not be accurate.\n"
     ]
    },
    {
     "name": "stdout",
     "output_type": "stream",
     "text": [
      "216.16ms 'run_ASR_model'\n",
      "0.07ms '_get_speech_labels_from_decoded_prediction'\n",
      "0.83ms '_get_diar_segments'\n",
      "1.62ms 'getReducedMat'\n",
      "1.29ms 'matchNewOldclusterLabels'\n",
      "68.67ms '_online_diarization'\n",
      "[NeMo I 2021-10-18 17:05:39 streaming_asr_and_diar:1361] Streaming Diar [arm_talk_16k][frame-  445th  ]:\n"
     ]
    },
    {
     "name": "stderr",
     "output_type": "stream",
     "text": [
      "[NeMo W 2021-10-18 17:05:40 nmse_clustering:276] Graph is not fully connected and the clustering result might not be accurate.\n"
     ]
    },
    {
     "name": "stdout",
     "output_type": "stream",
     "text": [
      "226.81ms 'run_ASR_model'\n",
      "0.07ms '_get_speech_labels_from_decoded_prediction'\n",
      "0.68ms '_get_diar_segments'\n",
      "1.51ms 'getReducedMat'\n",
      "1.30ms 'matchNewOldclusterLabels'\n",
      "66.27ms '_online_diarization'\n",
      "[NeMo I 2021-10-18 17:05:41 streaming_asr_and_diar:1361] Streaming Diar [arm_talk_16k][frame-  446th  ]:\n"
     ]
    },
    {
     "name": "stderr",
     "output_type": "stream",
     "text": [
      "[NeMo W 2021-10-18 17:05:41 nmse_clustering:276] Graph is not fully connected and the clustering result might not be accurate.\n"
     ]
    },
    {
     "name": "stdout",
     "output_type": "stream",
     "text": [
      "236.65ms 'run_ASR_model'\n",
      "0.07ms '_get_speech_labels_from_decoded_prediction'\n",
      "0.96ms '_get_diar_segments'\n",
      "1.30ms 'getReducedMat'\n",
      "1.47ms 'matchNewOldclusterLabels'\n",
      "63.46ms '_online_diarization'\n",
      "[NeMo I 2021-10-18 17:05:42 streaming_asr_and_diar:1361] Streaming Diar [arm_talk_16k][frame-  447th  ]:\n"
     ]
    },
    {
     "name": "stderr",
     "output_type": "stream",
     "text": [
      "[NeMo W 2021-10-18 17:05:42 nmse_clustering:276] Graph is not fully connected and the clustering result might not be accurate.\n"
     ]
    },
    {
     "name": "stdout",
     "output_type": "stream",
     "text": [
      "215.31ms 'run_ASR_model'\n",
      "0.09ms '_get_speech_labels_from_decoded_prediction'\n",
      "0.85ms '_get_diar_segments'\n",
      "1.28ms 'getReducedMat'\n",
      "0.88ms 'matchNewOldclusterLabels'\n",
      "58.34ms '_online_diarization'\n",
      "[NeMo I 2021-10-18 17:05:42 streaming_asr_and_diar:1361] Streaming Diar [arm_talk_16k][frame-  448th  ]:\n"
     ]
    },
    {
     "name": "stderr",
     "output_type": "stream",
     "text": [
      "[NeMo W 2021-10-18 17:05:43 nmse_clustering:276] Graph is not fully connected and the clustering result might not be accurate.\n"
     ]
    },
    {
     "name": "stdout",
     "output_type": "stream",
     "text": [
      "215.75ms 'run_ASR_model'\n",
      "0.08ms '_get_speech_labels_from_decoded_prediction'\n",
      "0.52ms '_get_diar_segments'\n",
      "1.57ms 'getReducedMat'\n",
      "1.30ms 'matchNewOldclusterLabels'\n",
      "68.96ms '_online_diarization'\n",
      "[NeMo I 2021-10-18 17:05:44 streaming_asr_and_diar:1361] Streaming Diar [arm_talk_16k][frame-  449th  ]:\n"
     ]
    },
    {
     "name": "stderr",
     "output_type": "stream",
     "text": [
      "[NeMo W 2021-10-18 17:05:44 nmse_clustering:276] Graph is not fully connected and the clustering result might not be accurate.\n"
     ]
    },
    {
     "name": "stdout",
     "output_type": "stream",
     "text": [
      "229.57ms 'run_ASR_model'\n",
      "0.07ms '_get_speech_labels_from_decoded_prediction'\n",
      "0.68ms '_get_diar_segments'\n",
      "1.32ms 'getReducedMat'\n",
      "1.00ms 'matchNewOldclusterLabels'\n",
      "58.87ms '_online_diarization'\n",
      "[NeMo I 2021-10-18 17:05:45 streaming_asr_and_diar:1361] Streaming Diar [arm_talk_16k][frame-  450th  ]:\n"
     ]
    },
    {
     "name": "stderr",
     "output_type": "stream",
     "text": [
      "[NeMo W 2021-10-18 17:05:45 nmse_clustering:276] Graph is not fully connected and the clustering result might not be accurate.\n"
     ]
    },
    {
     "name": "stdout",
     "output_type": "stream",
     "text": [
      "237.66ms 'run_ASR_model'\n",
      "0.07ms '_get_speech_labels_from_decoded_prediction'\n",
      "0.68ms '_get_diar_segments'\n",
      "1.36ms 'getReducedMat'\n",
      "1.32ms 'matchNewOldclusterLabels'\n",
      "64.62ms '_online_diarization'\n",
      "[NeMo I 2021-10-18 17:05:46 streaming_asr_and_diar:1361] Streaming Diar [arm_talk_16k][frame-  451th  ]:\n"
     ]
    },
    {
     "name": "stderr",
     "output_type": "stream",
     "text": [
      "[NeMo W 2021-10-18 17:05:46 nmse_clustering:276] Graph is not fully connected and the clustering result might not be accurate.\n"
     ]
    },
    {
     "name": "stdout",
     "output_type": "stream",
     "text": [
      "218.16ms 'run_ASR_model'\n",
      "0.10ms '_get_speech_labels_from_decoded_prediction'\n",
      "0.80ms '_get_diar_segments'\n",
      "1.20ms 'getReducedMat'\n",
      "1.07ms 'matchNewOldclusterLabels'\n",
      "77.15ms '_online_diarization'\n",
      "[NeMo I 2021-10-18 17:05:47 streaming_asr_and_diar:1361] Streaming Diar [arm_talk_16k][frame-  452th  ]:\n"
     ]
    },
    {
     "name": "stderr",
     "output_type": "stream",
     "text": [
      "[NeMo W 2021-10-18 17:05:47 nmse_clustering:276] Graph is not fully connected and the clustering result might not be accurate.\n"
     ]
    },
    {
     "name": "stdout",
     "output_type": "stream",
     "text": [
      "228.14ms 'run_ASR_model'\n",
      "0.05ms '_get_speech_labels_from_decoded_prediction'\n",
      "0.63ms '_get_diar_segments'\n",
      "1.18ms 'getReducedMat'\n",
      "0.95ms 'matchNewOldclusterLabels'\n",
      "60.66ms '_online_diarization'\n",
      "[NeMo I 2021-10-18 17:05:48 streaming_asr_and_diar:1361] Streaming Diar [arm_talk_16k][frame-  453th  ]:\n"
     ]
    },
    {
     "name": "stderr",
     "output_type": "stream",
     "text": [
      "[NeMo W 2021-10-18 17:05:48 nmse_clustering:276] Graph is not fully connected and the clustering result might not be accurate.\n"
     ]
    },
    {
     "name": "stdout",
     "output_type": "stream",
     "text": [
      "218.38ms 'run_ASR_model'\n",
      "0.05ms '_get_speech_labels_from_decoded_prediction'\n",
      "0.69ms '_get_diar_segments'\n",
      "1.57ms 'getReducedMat'\n",
      "1.30ms 'matchNewOldclusterLabels'\n",
      "69.50ms '_online_diarization'\n",
      "[NeMo I 2021-10-18 17:05:49 streaming_asr_and_diar:1361] Streaming Diar [arm_talk_16k][frame-  454th  ]:\n"
     ]
    },
    {
     "name": "stderr",
     "output_type": "stream",
     "text": [
      "[NeMo W 2021-10-18 17:05:49 nmse_clustering:276] Graph is not fully connected and the clustering result might not be accurate.\n"
     ]
    },
    {
     "name": "stdout",
     "output_type": "stream",
     "text": [
      "215.87ms 'run_ASR_model'\n",
      "0.05ms '_get_speech_labels_from_decoded_prediction'\n",
      "0.84ms '_get_diar_segments'\n",
      "1.52ms 'getReducedMat'\n",
      "0.87ms 'matchNewOldclusterLabels'\n",
      "65.33ms '_online_diarization'\n",
      "[NeMo I 2021-10-18 17:05:49 streaming_asr_and_diar:1361] Streaming Diar [arm_talk_16k][frame-  455th  ]:\n"
     ]
    },
    {
     "name": "stderr",
     "output_type": "stream",
     "text": [
      "[NeMo W 2021-10-18 17:05:50 nmse_clustering:276] Graph is not fully connected and the clustering result might not be accurate.\n"
     ]
    },
    {
     "name": "stdout",
     "output_type": "stream",
     "text": [
      "219.17ms 'run_ASR_model'\n",
      "0.05ms '_get_speech_labels_from_decoded_prediction'\n",
      "0.82ms '_get_diar_segments'\n",
      "1.51ms 'getReducedMat'\n",
      "0.87ms 'matchNewOldclusterLabels'\n",
      "61.79ms '_online_diarization'\n",
      "[NeMo I 2021-10-18 17:05:50 streaming_asr_and_diar:1361] Streaming Diar [arm_talk_16k][frame-  456th  ]:\n"
     ]
    },
    {
     "name": "stderr",
     "output_type": "stream",
     "text": [
      "[NeMo W 2021-10-18 17:05:51 nmse_clustering:276] Graph is not fully connected and the clustering result might not be accurate.\n"
     ]
    },
    {
     "name": "stdout",
     "output_type": "stream",
     "text": [
      "224.58ms 'run_ASR_model'\n",
      "0.05ms '_get_speech_labels_from_decoded_prediction'\n",
      "0.93ms '_get_diar_segments'\n",
      "1.62ms 'getReducedMat'\n",
      "1.27ms 'matchNewOldclusterLabels'\n",
      "67.75ms '_online_diarization'\n",
      "[NeMo I 2021-10-18 17:05:52 streaming_asr_and_diar:1361] Streaming Diar [arm_talk_16k][frame-  457th  ]:\n"
     ]
    },
    {
     "name": "stderr",
     "output_type": "stream",
     "text": [
      "[NeMo W 2021-10-18 17:05:52 nmse_clustering:276] Graph is not fully connected and the clustering result might not be accurate.\n"
     ]
    },
    {
     "name": "stdout",
     "output_type": "stream",
     "text": [
      "222.17ms 'run_ASR_model'\n",
      "0.06ms '_get_speech_labels_from_decoded_prediction'\n",
      "0.80ms '_get_diar_segments'\n",
      "1.92ms 'getReducedMat'\n",
      "1.29ms 'matchNewOldclusterLabels'\n",
      "68.87ms '_online_diarization'\n",
      "[NeMo I 2021-10-18 17:05:53 streaming_asr_and_diar:1361] Streaming Diar [arm_talk_16k][frame-  458th  ]:\n"
     ]
    },
    {
     "name": "stderr",
     "output_type": "stream",
     "text": [
      "[NeMo W 2021-10-18 17:05:53 nmse_clustering:276] Graph is not fully connected and the clustering result might not be accurate.\n"
     ]
    },
    {
     "name": "stdout",
     "output_type": "stream",
     "text": [
      "221.57ms 'run_ASR_model'\n",
      "0.07ms '_get_speech_labels_from_decoded_prediction'\n",
      "0.79ms '_get_diar_segments'\n",
      "1.67ms 'getReducedMat'\n",
      "1.01ms 'matchNewOldclusterLabels'\n",
      "68.67ms '_online_diarization'\n",
      "[NeMo I 2021-10-18 17:05:54 streaming_asr_and_diar:1361] Streaming Diar [arm_talk_16k][frame-  459th  ]:\n"
     ]
    },
    {
     "name": "stderr",
     "output_type": "stream",
     "text": [
      "[NeMo W 2021-10-18 17:05:54 nmse_clustering:276] Graph is not fully connected and the clustering result might not be accurate.\n"
     ]
    },
    {
     "name": "stdout",
     "output_type": "stream",
     "text": [
      "225.23ms 'run_ASR_model'\n",
      "0.07ms '_get_speech_labels_from_decoded_prediction'\n",
      "0.81ms '_get_diar_segments'\n",
      "1.66ms 'getReducedMat'\n",
      "1.33ms 'matchNewOldclusterLabels'\n",
      "69.65ms '_online_diarization'\n",
      "[NeMo I 2021-10-18 17:05:55 streaming_asr_and_diar:1361] Streaming Diar [arm_talk_16k][frame-  460th  ]:\n"
     ]
    },
    {
     "name": "stderr",
     "output_type": "stream",
     "text": [
      "[NeMo W 2021-10-18 17:05:55 nmse_clustering:276] Graph is not fully connected and the clustering result might not be accurate.\n"
     ]
    },
    {
     "name": "stdout",
     "output_type": "stream",
     "text": [
      "205.40ms 'run_ASR_model'\n",
      "0.08ms '_get_speech_labels_from_decoded_prediction'\n",
      "0.29ms '_get_diar_segments'\n",
      "1.36ms 'getReducedMat'\n",
      "0.87ms 'matchNewOldclusterLabels'\n",
      "57.72ms '_online_diarization'\n",
      "[NeMo I 2021-10-18 17:05:55 streaming_asr_and_diar:1361] Streaming Diar [arm_talk_16k][frame-  461th  ]:\n"
     ]
    },
    {
     "name": "stderr",
     "output_type": "stream",
     "text": [
      "[NeMo W 2021-10-18 17:05:56 nmse_clustering:276] Graph is not fully connected and the clustering result might not be accurate.\n"
     ]
    },
    {
     "name": "stdout",
     "output_type": "stream",
     "text": [
      "202.70ms 'run_ASR_model'\n",
      "0.07ms '_get_speech_labels_from_decoded_prediction'\n",
      "0.58ms '_get_diar_segments'\n",
      "1.55ms 'getReducedMat'\n",
      "1.15ms 'matchNewOldclusterLabels'\n",
      "74.62ms '_online_diarization'\n",
      "[NeMo I 2021-10-18 17:05:57 streaming_asr_and_diar:1361] Streaming Diar [arm_talk_16k][frame-  462th  ]:\n"
     ]
    },
    {
     "name": "stderr",
     "output_type": "stream",
     "text": [
      "[NeMo W 2021-10-18 17:05:57 nmse_clustering:276] Graph is not fully connected and the clustering result might not be accurate.\n"
     ]
    },
    {
     "name": "stdout",
     "output_type": "stream",
     "text": [
      "202.62ms 'run_ASR_model'\n",
      "0.06ms '_get_speech_labels_from_decoded_prediction'\n",
      "0.79ms '_get_diar_segments'\n",
      "1.68ms 'getReducedMat'\n",
      "1.31ms 'matchNewOldclusterLabels'\n",
      "68.38ms '_online_diarization'\n",
      "[NeMo I 2021-10-18 17:05:58 streaming_asr_and_diar:1361] Streaming Diar [arm_talk_16k][frame-  463th  ]:\n"
     ]
    },
    {
     "name": "stderr",
     "output_type": "stream",
     "text": [
      "[NeMo W 2021-10-18 17:05:58 nmse_clustering:276] Graph is not fully connected and the clustering result might not be accurate.\n"
     ]
    },
    {
     "name": "stdout",
     "output_type": "stream",
     "text": [
      "220.50ms 'run_ASR_model'\n",
      "0.05ms '_get_speech_labels_from_decoded_prediction'\n",
      "0.43ms '_get_diar_segments'\n",
      "1.51ms 'getReducedMat'\n",
      "0.83ms 'matchNewOldclusterLabels'\n",
      "70.91ms '_online_diarization'\n",
      "[NeMo I 2021-10-18 17:05:59 streaming_asr_and_diar:1361] Streaming Diar [arm_talk_16k][frame-  464th  ]:\n"
     ]
    },
    {
     "name": "stderr",
     "output_type": "stream",
     "text": [
      "[NeMo W 2021-10-18 17:05:59 nmse_clustering:276] Graph is not fully connected and the clustering result might not be accurate.\n"
     ]
    },
    {
     "name": "stdout",
     "output_type": "stream",
     "text": [
      "229.56ms 'run_ASR_model'\n",
      "0.05ms '_get_speech_labels_from_decoded_prediction'\n",
      "0.85ms '_get_diar_segments'\n",
      "1.57ms 'getReducedMat'\n",
      "1.30ms 'matchNewOldclusterLabels'\n",
      "68.67ms '_online_diarization'\n",
      "[NeMo I 2021-10-18 17:06:00 streaming_asr_and_diar:1361] Streaming Diar [arm_talk_16k][frame-  465th  ]:\n"
     ]
    },
    {
     "name": "stderr",
     "output_type": "stream",
     "text": [
      "[NeMo W 2021-10-18 17:06:00 nmse_clustering:276] Graph is not fully connected and the clustering result might not be accurate.\n"
     ]
    },
    {
     "name": "stdout",
     "output_type": "stream",
     "text": [
      "216.09ms 'run_ASR_model'\n",
      "0.05ms '_get_speech_labels_from_decoded_prediction'\n",
      "0.85ms '_get_diar_segments'\n",
      "1.72ms 'getReducedMat'\n",
      "1.21ms 'matchNewOldclusterLabels'\n",
      "69.75ms '_online_diarization'\n",
      "[NeMo I 2021-10-18 17:06:01 streaming_asr_and_diar:1361] Streaming Diar [arm_talk_16k][frame-  466th  ]:\n"
     ]
    },
    {
     "name": "stderr",
     "output_type": "stream",
     "text": [
      "[NeMo W 2021-10-18 17:06:01 nmse_clustering:276] Graph is not fully connected and the clustering result might not be accurate.\n"
     ]
    },
    {
     "name": "stdout",
     "output_type": "stream",
     "text": [
      "214.87ms 'run_ASR_model'\n",
      "0.06ms '_get_speech_labels_from_decoded_prediction'\n",
      "0.82ms '_get_diar_segments'\n",
      "1.94ms 'getReducedMat'\n",
      "1.31ms 'matchNewOldclusterLabels'\n",
      "69.26ms '_online_diarization'\n",
      "[NeMo I 2021-10-18 17:06:02 streaming_asr_and_diar:1361] Streaming Diar [arm_talk_16k][frame-  467th  ]:\n"
     ]
    },
    {
     "name": "stderr",
     "output_type": "stream",
     "text": [
      "[NeMo W 2021-10-18 17:06:02 nmse_clustering:276] Graph is not fully connected and the clustering result might not be accurate.\n"
     ]
    },
    {
     "name": "stdout",
     "output_type": "stream",
     "text": [
      "214.17ms 'run_ASR_model'\n",
      "0.06ms '_get_speech_labels_from_decoded_prediction'\n",
      "0.83ms '_get_diar_segments'\n",
      "1.67ms 'getReducedMat'\n",
      "1.27ms 'matchNewOldclusterLabels'\n",
      "68.94ms '_online_diarization'\n",
      "[NeMo I 2021-10-18 17:06:03 streaming_asr_and_diar:1361] Streaming Diar [arm_talk_16k][frame-  468th  ]:\n"
     ]
    },
    {
     "name": "stderr",
     "output_type": "stream",
     "text": [
      "[NeMo W 2021-10-18 17:06:03 nmse_clustering:276] Graph is not fully connected and the clustering result might not be accurate.\n"
     ]
    },
    {
     "name": "stdout",
     "output_type": "stream",
     "text": [
      "208.90ms 'run_ASR_model'\n",
      "0.07ms '_get_speech_labels_from_decoded_prediction'\n",
      "0.74ms '_get_diar_segments'\n",
      "1.75ms 'getReducedMat'\n",
      "1.31ms 'matchNewOldclusterLabels'\n",
      "69.32ms '_online_diarization'\n",
      "[NeMo I 2021-10-18 17:06:04 streaming_asr_and_diar:1361] Streaming Diar [arm_talk_16k][frame-  469th  ]:\n"
     ]
    },
    {
     "name": "stderr",
     "output_type": "stream",
     "text": [
      "[NeMo W 2021-10-18 17:06:04 nmse_clustering:276] Graph is not fully connected and the clustering result might not be accurate.\n"
     ]
    },
    {
     "name": "stdout",
     "output_type": "stream",
     "text": [
      "218.60ms 'run_ASR_model'\n",
      "0.08ms '_get_speech_labels_from_decoded_prediction'\n",
      "0.82ms '_get_diar_segments'\n",
      "1.71ms 'getReducedMat'\n",
      "0.86ms 'matchNewOldclusterLabels'\n",
      "64.48ms '_online_diarization'\n",
      "[NeMo I 2021-10-18 17:06:05 streaming_asr_and_diar:1361] Streaming Diar [arm_talk_16k][frame-  470th  ]:\n"
     ]
    },
    {
     "name": "stderr",
     "output_type": "stream",
     "text": [
      "[NeMo W 2021-10-18 17:06:05 nmse_clustering:276] Graph is not fully connected and the clustering result might not be accurate.\n"
     ]
    },
    {
     "name": "stdout",
     "output_type": "stream",
     "text": [
      "217.03ms 'run_ASR_model'\n",
      "0.08ms '_get_speech_labels_from_decoded_prediction'\n",
      "0.79ms '_get_diar_segments'\n",
      "1.57ms 'getReducedMat'\n",
      "1.31ms 'matchNewOldclusterLabels'\n",
      "74.88ms '_online_diarization'\n",
      "[NeMo I 2021-10-18 17:06:06 streaming_asr_and_diar:1361] Streaming Diar [arm_talk_16k][frame-  471th  ]:\n"
     ]
    },
    {
     "name": "stderr",
     "output_type": "stream",
     "text": [
      "[NeMo W 2021-10-18 17:06:06 nmse_clustering:276] Graph is not fully connected and the clustering result might not be accurate.\n"
     ]
    },
    {
     "name": "stdout",
     "output_type": "stream",
     "text": [
      "230.21ms 'run_ASR_model'\n",
      "0.07ms '_get_speech_labels_from_decoded_prediction'\n",
      "0.82ms '_get_diar_segments'\n",
      "1.71ms 'getReducedMat'\n",
      "1.21ms 'matchNewOldclusterLabels'\n",
      "79.69ms '_online_diarization'\n",
      "[NeMo I 2021-10-18 17:06:07 streaming_asr_and_diar:1361] Streaming Diar [arm_talk_16k][frame-  472th  ]:\n"
     ]
    },
    {
     "name": "stderr",
     "output_type": "stream",
     "text": [
      "[NeMo W 2021-10-18 17:06:07 nmse_clustering:276] Graph is not fully connected and the clustering result might not be accurate.\n"
     ]
    },
    {
     "name": "stdout",
     "output_type": "stream",
     "text": [
      "207.67ms 'run_ASR_model'\n",
      "0.05ms '_get_speech_labels_from_decoded_prediction'\n",
      "0.94ms '_get_diar_segments'\n",
      "2.06ms 'getReducedMat'\n",
      "1.20ms 'matchNewOldclusterLabels'\n",
      "80.77ms '_online_diarization'\n",
      "[NeMo I 2021-10-18 17:06:08 streaming_asr_and_diar:1361] Streaming Diar [arm_talk_16k][frame-  473th  ]:\n"
     ]
    },
    {
     "name": "stderr",
     "output_type": "stream",
     "text": [
      "[NeMo W 2021-10-18 17:06:08 nmse_clustering:276] Graph is not fully connected and the clustering result might not be accurate.\n"
     ]
    },
    {
     "name": "stdout",
     "output_type": "stream",
     "text": [
      "217.87ms 'run_ASR_model'\n",
      "0.08ms '_get_speech_labels_from_decoded_prediction'\n",
      "0.55ms '_get_diar_segments'\n",
      "1.95ms 'getReducedMat'\n",
      "1.32ms 'matchNewOldclusterLabels'\n",
      "69.48ms '_online_diarization'\n",
      "[NeMo I 2021-10-18 17:06:09 streaming_asr_and_diar:1361] Streaming Diar [arm_talk_16k][frame-  474th  ]:\n"
     ]
    },
    {
     "name": "stderr",
     "output_type": "stream",
     "text": [
      "[NeMo W 2021-10-18 17:06:09 nmse_clustering:276] Graph is not fully connected and the clustering result might not be accurate.\n"
     ]
    },
    {
     "name": "stdout",
     "output_type": "stream",
     "text": [
      "216.72ms 'run_ASR_model'\n",
      "0.05ms '_get_speech_labels_from_decoded_prediction'\n",
      "0.31ms '_get_diar_segments'\n",
      "1.69ms 'getReducedMat'\n",
      "1.27ms 'matchNewOldclusterLabels'\n",
      "67.48ms '_online_diarization'\n",
      "[NeMo I 2021-10-18 17:06:10 streaming_asr_and_diar:1361] Streaming Diar [arm_talk_16k][frame-  475th  ]:\n"
     ]
    },
    {
     "name": "stderr",
     "output_type": "stream",
     "text": [
      "[NeMo W 2021-10-18 17:06:10 nmse_clustering:276] Graph is not fully connected and the clustering result might not be accurate.\n"
     ]
    },
    {
     "name": "stdout",
     "output_type": "stream",
     "text": [
      "229.84ms 'run_ASR_model'\n",
      "0.07ms '_get_speech_labels_from_decoded_prediction'\n",
      "0.83ms '_get_diar_segments'\n",
      "1.38ms 'getReducedMat'\n",
      "1.28ms 'matchNewOldclusterLabels'\n",
      "66.48ms '_online_diarization'\n",
      "[NeMo I 2021-10-18 17:06:11 streaming_asr_and_diar:1361] Streaming Diar [arm_talk_16k][frame-  476th  ]:\n"
     ]
    },
    {
     "name": "stderr",
     "output_type": "stream",
     "text": [
      "[NeMo W 2021-10-18 17:06:11 nmse_clustering:276] Graph is not fully connected and the clustering result might not be accurate.\n"
     ]
    },
    {
     "name": "stdout",
     "output_type": "stream",
     "text": [
      "225.87ms 'run_ASR_model'\n",
      "0.07ms '_get_speech_labels_from_decoded_prediction'\n",
      "0.78ms '_get_diar_segments'\n",
      "1.39ms 'getReducedMat'\n",
      "0.88ms 'matchNewOldclusterLabels'\n",
      "61.68ms '_online_diarization'\n",
      "[NeMo I 2021-10-18 17:06:12 streaming_asr_and_diar:1361] Streaming Diar [arm_talk_16k][frame-  477th  ]:\n"
     ]
    },
    {
     "name": "stderr",
     "output_type": "stream",
     "text": [
      "[NeMo W 2021-10-18 17:06:12 nmse_clustering:276] Graph is not fully connected and the clustering result might not be accurate.\n"
     ]
    },
    {
     "name": "stdout",
     "output_type": "stream",
     "text": [
      "207.39ms 'run_ASR_model'\n",
      "0.07ms '_get_speech_labels_from_decoded_prediction'\n",
      "0.29ms '_get_diar_segments'\n",
      "1.72ms 'getReducedMat'\n",
      "1.31ms 'matchNewOldclusterLabels'\n",
      "68.97ms '_online_diarization'\n",
      "[NeMo I 2021-10-18 17:06:13 streaming_asr_and_diar:1361] Streaming Diar [arm_talk_16k][frame-  478th  ]:\n"
     ]
    },
    {
     "name": "stderr",
     "output_type": "stream",
     "text": [
      "[NeMo W 2021-10-18 17:06:13 nmse_clustering:276] Graph is not fully connected and the clustering result might not be accurate.\n"
     ]
    },
    {
     "name": "stdout",
     "output_type": "stream",
     "text": [
      "203.70ms 'run_ASR_model'\n",
      "0.08ms '_get_speech_labels_from_decoded_prediction'\n",
      "0.80ms '_get_diar_segments'\n",
      "1.37ms 'getReducedMat'\n",
      "0.88ms 'matchNewOldclusterLabels'\n",
      "57.60ms '_online_diarization'\n",
      "[NeMo I 2021-10-18 17:06:14 streaming_asr_and_diar:1361] Streaming Diar [arm_talk_16k][frame-  479th  ]:\n"
     ]
    },
    {
     "name": "stderr",
     "output_type": "stream",
     "text": [
      "[NeMo W 2021-10-18 17:06:14 nmse_clustering:276] Graph is not fully connected and the clustering result might not be accurate.\n"
     ]
    },
    {
     "name": "stdout",
     "output_type": "stream",
     "text": [
      "217.54ms 'run_ASR_model'\n",
      "0.08ms '_get_speech_labels_from_decoded_prediction'\n",
      "0.80ms '_get_diar_segments'\n",
      "1.38ms 'getReducedMat'\n",
      "1.54ms 'matchNewOldclusterLabels'\n",
      "74.63ms '_online_diarization'\n",
      "[NeMo I 2021-10-18 17:06:15 streaming_asr_and_diar:1361] Streaming Diar [arm_talk_16k][frame-  480th  ]:\n"
     ]
    },
    {
     "name": "stderr",
     "output_type": "stream",
     "text": [
      "[NeMo W 2021-10-18 17:06:15 nmse_clustering:276] Graph is not fully connected and the clustering result might not be accurate.\n"
     ]
    },
    {
     "name": "stdout",
     "output_type": "stream",
     "text": [
      "223.46ms 'run_ASR_model'\n",
      "0.14ms '_get_speech_labels_from_decoded_prediction'\n",
      "0.95ms '_get_diar_segments'\n",
      "1.39ms 'getReducedMat'\n",
      "1.32ms 'matchNewOldclusterLabels'\n",
      "68.81ms '_online_diarization'\n",
      "[NeMo I 2021-10-18 17:06:16 streaming_asr_and_diar:1361] Streaming Diar [arm_talk_16k][frame-  481th  ]:\n"
     ]
    },
    {
     "name": "stderr",
     "output_type": "stream",
     "text": [
      "[NeMo W 2021-10-18 17:06:16 nmse_clustering:276] Graph is not fully connected and the clustering result might not be accurate.\n"
     ]
    },
    {
     "name": "stdout",
     "output_type": "stream",
     "text": [
      "218.50ms 'run_ASR_model'\n",
      "0.08ms '_get_speech_labels_from_decoded_prediction'\n",
      "0.84ms '_get_diar_segments'\n",
      "1.45ms 'getReducedMat'\n",
      "1.30ms 'matchNewOldclusterLabels'\n",
      "68.35ms '_online_diarization'\n",
      "[NeMo I 2021-10-18 17:06:17 streaming_asr_and_diar:1361] Streaming Diar [arm_talk_16k][frame-  482th  ]:\n"
     ]
    },
    {
     "name": "stderr",
     "output_type": "stream",
     "text": [
      "[NeMo W 2021-10-18 17:06:17 nmse_clustering:276] Graph is not fully connected and the clustering result might not be accurate.\n"
     ]
    },
    {
     "name": "stdout",
     "output_type": "stream",
     "text": [
      "210.28ms 'run_ASR_model'\n",
      "0.08ms '_get_speech_labels_from_decoded_prediction'\n",
      "0.82ms '_get_diar_segments'\n",
      "1.64ms 'getReducedMat'\n",
      "1.31ms 'matchNewOldclusterLabels'\n",
      "70.23ms '_online_diarization'\n",
      "[NeMo I 2021-10-18 17:06:18 streaming_asr_and_diar:1361] Streaming Diar [arm_talk_16k][frame-  483th  ]:\n"
     ]
    },
    {
     "name": "stderr",
     "output_type": "stream",
     "text": [
      "[NeMo W 2021-10-18 17:06:18 nmse_clustering:276] Graph is not fully connected and the clustering result might not be accurate.\n"
     ]
    },
    {
     "name": "stdout",
     "output_type": "stream",
     "text": [
      "221.09ms 'run_ASR_model'\n",
      "0.07ms '_get_speech_labels_from_decoded_prediction'\n",
      "0.80ms '_get_diar_segments'\n",
      "1.76ms 'getReducedMat'\n",
      "1.33ms 'matchNewOldclusterLabels'\n",
      "69.63ms '_online_diarization'\n",
      "[NeMo I 2021-10-18 17:06:19 streaming_asr_and_diar:1361] Streaming Diar [arm_talk_16k][frame-  484th  ]:\n"
     ]
    },
    {
     "name": "stderr",
     "output_type": "stream",
     "text": [
      "[NeMo W 2021-10-18 17:06:20 nmse_clustering:276] Graph is not fully connected and the clustering result might not be accurate.\n"
     ]
    },
    {
     "name": "stdout",
     "output_type": "stream",
     "text": [
      "210.32ms 'run_ASR_model'\n",
      "0.07ms '_get_speech_labels_from_decoded_prediction'\n",
      "0.81ms '_get_diar_segments'\n",
      "1.87ms 'getReducedMat'\n",
      "1.34ms 'matchNewOldclusterLabels'\n",
      "92.75ms '_online_diarization'\n",
      "[NeMo I 2021-10-18 17:06:20 streaming_asr_and_diar:1361] Streaming Diar [arm_talk_16k][frame-  485th  ]:\n"
     ]
    },
    {
     "name": "stderr",
     "output_type": "stream",
     "text": [
      "[NeMo W 2021-10-18 17:06:20 nmse_clustering:276] Graph is not fully connected and the clustering result might not be accurate.\n"
     ]
    },
    {
     "name": "stdout",
     "output_type": "stream",
     "text": [
      "215.20ms 'run_ASR_model'\n",
      "0.08ms '_get_speech_labels_from_decoded_prediction'\n",
      "0.81ms '_get_diar_segments'\n",
      "1.75ms 'getReducedMat'\n",
      "1.30ms 'matchNewOldclusterLabels'\n",
      "69.13ms '_online_diarization'\n",
      "[NeMo I 2021-10-18 17:06:21 streaming_asr_and_diar:1361] Streaming Diar [arm_talk_16k][frame-  486th  ]:\n"
     ]
    },
    {
     "name": "stderr",
     "output_type": "stream",
     "text": [
      "[NeMo W 2021-10-18 17:06:21 nmse_clustering:276] Graph is not fully connected and the clustering result might not be accurate.\n"
     ]
    },
    {
     "name": "stdout",
     "output_type": "stream",
     "text": [
      "216.76ms 'run_ASR_model'\n",
      "0.07ms '_get_speech_labels_from_decoded_prediction'\n",
      "0.83ms '_get_diar_segments'\n",
      "1.78ms 'getReducedMat'\n",
      "1.33ms 'matchNewOldclusterLabels'\n",
      "72.64ms '_online_diarization'\n",
      "[NeMo I 2021-10-18 17:06:22 streaming_asr_and_diar:1361] Streaming Diar [arm_talk_16k][frame-  487th  ]:\n"
     ]
    },
    {
     "name": "stderr",
     "output_type": "stream",
     "text": [
      "[NeMo W 2021-10-18 17:06:22 nmse_clustering:276] Graph is not fully connected and the clustering result might not be accurate.\n"
     ]
    },
    {
     "name": "stdout",
     "output_type": "stream",
     "text": [
      "219.29ms 'run_ASR_model'\n",
      "0.07ms '_get_speech_labels_from_decoded_prediction'\n",
      "0.83ms '_get_diar_segments'\n",
      "1.73ms 'getReducedMat'\n",
      "1.18ms 'matchNewOldclusterLabels'\n",
      "68.46ms '_online_diarization'\n",
      "[NeMo I 2021-10-18 17:06:23 streaming_asr_and_diar:1361] Streaming Diar [arm_talk_16k][frame-  488th  ]:\n"
     ]
    },
    {
     "name": "stderr",
     "output_type": "stream",
     "text": [
      "[NeMo W 2021-10-18 17:06:24 nmse_clustering:276] Graph is not fully connected and the clustering result might not be accurate.\n"
     ]
    },
    {
     "name": "stdout",
     "output_type": "stream",
     "text": [
      "229.36ms 'run_ASR_model'\n",
      "0.05ms '_get_speech_labels_from_decoded_prediction'\n",
      "0.52ms '_get_diar_segments'\n",
      "1.77ms 'getReducedMat'\n",
      "1.29ms 'matchNewOldclusterLabels'\n",
      "69.40ms '_online_diarization'\n",
      "[NeMo I 2021-10-18 17:06:24 streaming_asr_and_diar:1361] Streaming Diar [arm_talk_16k][frame-  489th  ]:\n"
     ]
    },
    {
     "name": "stderr",
     "output_type": "stream",
     "text": [
      "[NeMo W 2021-10-18 17:06:24 nmse_clustering:276] Graph is not fully connected and the clustering result might not be accurate.\n"
     ]
    },
    {
     "name": "stdout",
     "output_type": "stream",
     "text": [
      "213.35ms 'run_ASR_model'\n",
      "0.05ms '_get_speech_labels_from_decoded_prediction'\n",
      "0.83ms '_get_diar_segments'\n",
      "1.79ms 'getReducedMat'\n",
      "1.15ms 'matchNewOldclusterLabels'\n",
      "68.36ms '_online_diarization'\n",
      "[NeMo I 2021-10-18 17:06:25 streaming_asr_and_diar:1361] Streaming Diar [arm_talk_16k][frame-  490th  ]:\n"
     ]
    },
    {
     "name": "stderr",
     "output_type": "stream",
     "text": [
      "[NeMo W 2021-10-18 17:06:25 nmse_clustering:276] Graph is not fully connected and the clustering result might not be accurate.\n"
     ]
    },
    {
     "name": "stdout",
     "output_type": "stream",
     "text": [
      "224.29ms 'run_ASR_model'\n",
      "0.05ms '_get_speech_labels_from_decoded_prediction'\n",
      "0.83ms '_get_diar_segments'\n",
      "1.71ms 'getReducedMat'\n",
      "1.31ms 'matchNewOldclusterLabels'\n",
      "68.86ms '_online_diarization'\n",
      "[NeMo I 2021-10-18 17:06:26 streaming_asr_and_diar:1361] Streaming Diar [arm_talk_16k][frame-  491th  ]:\n"
     ]
    },
    {
     "name": "stderr",
     "output_type": "stream",
     "text": [
      "[NeMo W 2021-10-18 17:06:26 nmse_clustering:276] Graph is not fully connected and the clustering result might not be accurate.\n"
     ]
    },
    {
     "name": "stdout",
     "output_type": "stream",
     "text": [
      "203.70ms 'run_ASR_model'\n",
      "0.05ms '_get_speech_labels_from_decoded_prediction'\n",
      "0.69ms '_get_diar_segments'\n",
      "1.68ms 'getReducedMat'\n",
      "1.28ms 'matchNewOldclusterLabels'\n",
      "80.98ms '_online_diarization'\n",
      "[NeMo I 2021-10-18 17:06:27 streaming_asr_and_diar:1361] Streaming Diar [arm_talk_16k][frame-  492th  ]:\n"
     ]
    },
    {
     "name": "stderr",
     "output_type": "stream",
     "text": [
      "[NeMo W 2021-10-18 17:06:28 nmse_clustering:276] Graph is not fully connected and the clustering result might not be accurate.\n"
     ]
    },
    {
     "name": "stdout",
     "output_type": "stream",
     "text": [
      "223.02ms 'run_ASR_model'\n",
      "0.05ms '_get_speech_labels_from_decoded_prediction'\n",
      "0.84ms '_get_diar_segments'\n",
      "1.43ms 'getReducedMat'\n",
      "1.31ms 'matchNewOldclusterLabels'\n",
      "79.34ms '_online_diarization'\n",
      "[NeMo I 2021-10-18 17:06:28 streaming_asr_and_diar:1361] Streaming Diar [arm_talk_16k][frame-  493th  ]:\n"
     ]
    },
    {
     "name": "stderr",
     "output_type": "stream",
     "text": [
      "[NeMo W 2021-10-18 17:06:28 nmse_clustering:276] Graph is not fully connected and the clustering result might not be accurate.\n"
     ]
    },
    {
     "name": "stdout",
     "output_type": "stream",
     "text": [
      "219.27ms 'run_ASR_model'\n",
      "0.05ms '_get_speech_labels_from_decoded_prediction'\n",
      "0.82ms '_get_diar_segments'\n",
      "1.34ms 'getReducedMat'\n",
      "1.51ms 'matchNewOldclusterLabels'\n",
      "72.59ms '_online_diarization'\n",
      "[NeMo I 2021-10-18 17:06:29 streaming_asr_and_diar:1361] Streaming Diar [arm_talk_16k][frame-  494th  ]:\n"
     ]
    },
    {
     "name": "stderr",
     "output_type": "stream",
     "text": [
      "[NeMo W 2021-10-18 17:06:29 nmse_clustering:276] Graph is not fully connected and the clustering result might not be accurate.\n"
     ]
    },
    {
     "name": "stdout",
     "output_type": "stream",
     "text": [
      "218.68ms 'run_ASR_model'\n",
      "0.05ms '_get_speech_labels_from_decoded_prediction'\n",
      "0.82ms '_get_diar_segments'\n",
      "1.64ms 'getReducedMat'\n",
      "1.33ms 'matchNewOldclusterLabels'\n",
      "68.99ms '_online_diarization'\n",
      "[NeMo I 2021-10-18 17:06:30 streaming_asr_and_diar:1361] Streaming Diar [arm_talk_16k][frame-  495th  ]:\n"
     ]
    },
    {
     "name": "stderr",
     "output_type": "stream",
     "text": [
      "[NeMo W 2021-10-18 17:06:31 nmse_clustering:276] Graph is not fully connected and the clustering result might not be accurate.\n"
     ]
    },
    {
     "name": "stdout",
     "output_type": "stream",
     "text": [
      "214.54ms 'run_ASR_model'\n",
      "0.05ms '_get_speech_labels_from_decoded_prediction'\n",
      "1.03ms '_get_diar_segments'\n",
      "1.50ms 'getReducedMat'\n",
      "1.32ms 'matchNewOldclusterLabels'\n",
      "80.50ms '_online_diarization'\n",
      "[NeMo I 2021-10-18 17:06:31 streaming_asr_and_diar:1361] Streaming Diar [arm_talk_16k][frame-  496th  ]:\n"
     ]
    },
    {
     "name": "stderr",
     "output_type": "stream",
     "text": [
      "[NeMo W 2021-10-18 17:06:31 nmse_clustering:276] Graph is not fully connected and the clustering result might not be accurate.\n"
     ]
    },
    {
     "name": "stdout",
     "output_type": "stream",
     "text": [
      "220.52ms 'run_ASR_model'\n",
      "0.06ms '_get_speech_labels_from_decoded_prediction'\n",
      "0.83ms '_get_diar_segments'\n",
      "1.48ms 'getReducedMat'\n",
      "1.12ms 'matchNewOldclusterLabels'\n",
      "60.04ms '_online_diarization'\n",
      "[NeMo I 2021-10-18 17:06:32 streaming_asr_and_diar:1361] Streaming Diar [arm_talk_16k][frame-  497th  ]:\n"
     ]
    },
    {
     "name": "stderr",
     "output_type": "stream",
     "text": [
      "[NeMo W 2021-10-18 17:06:33 nmse_clustering:276] Graph is not fully connected and the clustering result might not be accurate.\n"
     ]
    },
    {
     "name": "stdout",
     "output_type": "stream",
     "text": [
      "227.41ms 'run_ASR_model'\n",
      "0.07ms '_get_speech_labels_from_decoded_prediction'\n",
      "0.85ms '_get_diar_segments'\n",
      "1.76ms 'getReducedMat'\n",
      "1.20ms 'matchNewOldclusterLabels'\n",
      "68.65ms '_online_diarization'\n",
      "[NeMo I 2021-10-18 17:06:33 streaming_asr_and_diar:1361] Streaming Diar [arm_talk_16k][frame-  498th  ]:\n"
     ]
    },
    {
     "name": "stderr",
     "output_type": "stream",
     "text": [
      "[NeMo W 2021-10-18 17:06:33 nmse_clustering:276] Graph is not fully connected and the clustering result might not be accurate.\n"
     ]
    },
    {
     "name": "stdout",
     "output_type": "stream",
     "text": [
      "217.81ms 'run_ASR_model'\n",
      "0.07ms '_get_speech_labels_from_decoded_prediction'\n",
      "0.97ms '_get_diar_segments'\n",
      "1.43ms 'getReducedMat'\n",
      "1.09ms 'matchNewOldclusterLabels'\n",
      "57.68ms '_online_diarization'\n",
      "[NeMo I 2021-10-18 17:06:34 streaming_asr_and_diar:1361] Streaming Diar [arm_talk_16k][frame-  499th  ]:\n"
     ]
    },
    {
     "name": "stderr",
     "output_type": "stream",
     "text": [
      "[NeMo W 2021-10-18 17:06:34 nmse_clustering:276] Graph is not fully connected and the clustering result might not be accurate.\n"
     ]
    },
    {
     "name": "stdout",
     "output_type": "stream",
     "text": [
      "214.17ms 'run_ASR_model'\n",
      "0.09ms '_get_speech_labels_from_decoded_prediction'\n",
      "0.40ms '_get_diar_segments'\n",
      "1.49ms 'getReducedMat'\n",
      "0.90ms 'matchNewOldclusterLabels'\n",
      "56.53ms '_online_diarization'\n",
      "[NeMo I 2021-10-18 17:06:35 streaming_asr_and_diar:1361] Streaming Diar [arm_talk_16k][frame-  500th  ]:\n"
     ]
    },
    {
     "name": "stderr",
     "output_type": "stream",
     "text": [
      "[NeMo W 2021-10-18 17:06:35 nmse_clustering:276] Graph is not fully connected and the clustering result might not be accurate.\n"
     ]
    },
    {
     "name": "stdout",
     "output_type": "stream",
     "text": [
      "205.94ms 'run_ASR_model'\n",
      "0.05ms '_get_speech_labels_from_decoded_prediction'\n",
      "0.31ms '_get_diar_segments'\n",
      "1.80ms 'getReducedMat'\n",
      "1.33ms 'matchNewOldclusterLabels'\n",
      "69.52ms '_online_diarization'\n",
      "[NeMo I 2021-10-18 17:06:36 streaming_asr_and_diar:1361] Streaming Diar [arm_talk_16k][frame-  501th  ]:\n"
     ]
    },
    {
     "name": "stderr",
     "output_type": "stream",
     "text": [
      "[NeMo W 2021-10-18 17:06:37 nmse_clustering:276] Graph is not fully connected and the clustering result might not be accurate.\n"
     ]
    },
    {
     "name": "stdout",
     "output_type": "stream",
     "text": [
      "233.77ms 'run_ASR_model'\n",
      "0.05ms '_get_speech_labels_from_decoded_prediction'\n",
      "0.82ms '_get_diar_segments'\n",
      "1.78ms 'getReducedMat'\n",
      "1.20ms 'matchNewOldclusterLabels'\n",
      "68.05ms '_online_diarization'\n",
      "[NeMo I 2021-10-18 17:06:37 streaming_asr_and_diar:1361] Streaming Diar [arm_talk_16k][frame-  502th  ]:\n"
     ]
    },
    {
     "name": "stderr",
     "output_type": "stream",
     "text": [
      "[NeMo W 2021-10-18 17:06:38 nmse_clustering:276] Graph is not fully connected and the clustering result might not be accurate.\n"
     ]
    },
    {
     "name": "stdout",
     "output_type": "stream",
     "text": [
      "224.19ms 'run_ASR_model'\n",
      "0.07ms '_get_speech_labels_from_decoded_prediction'\n",
      "0.79ms '_get_diar_segments'\n",
      "1.45ms 'getReducedMat'\n",
      "0.86ms 'matchNewOldclusterLabels'\n",
      "56.90ms '_online_diarization'\n",
      "[NeMo I 2021-10-18 17:06:38 streaming_asr_and_diar:1361] Streaming Diar [arm_talk_16k][frame-  503th  ]:\n"
     ]
    },
    {
     "name": "stderr",
     "output_type": "stream",
     "text": [
      "[NeMo W 2021-10-18 17:06:39 nmse_clustering:276] Graph is not fully connected and the clustering result might not be accurate.\n"
     ]
    },
    {
     "name": "stdout",
     "output_type": "stream",
     "text": [
      "234.19ms 'run_ASR_model'\n",
      "0.04ms '_get_speech_labels_from_decoded_prediction'\n",
      "0.54ms '_get_diar_segments'\n",
      "1.46ms 'getReducedMat'\n",
      "0.89ms 'matchNewOldclusterLabels'\n",
      "58.91ms '_online_diarization'\n",
      "[NeMo I 2021-10-18 17:06:39 streaming_asr_and_diar:1361] Streaming Diar [arm_talk_16k][frame-  504th  ]:\n"
     ]
    },
    {
     "name": "stderr",
     "output_type": "stream",
     "text": [
      "[NeMo W 2021-10-18 17:06:40 nmse_clustering:276] Graph is not fully connected and the clustering result might not be accurate.\n"
     ]
    },
    {
     "name": "stdout",
     "output_type": "stream",
     "text": [
      "211.11ms 'run_ASR_model'\n",
      "0.04ms '_get_speech_labels_from_decoded_prediction'\n",
      "0.98ms '_get_diar_segments'\n",
      "1.81ms 'getReducedMat'\n",
      "1.19ms 'matchNewOldclusterLabels'\n",
      "85.80ms '_online_diarization'\n",
      "[NeMo I 2021-10-18 17:06:40 streaming_asr_and_diar:1361] Streaming Diar [arm_talk_16k][frame-  505th  ]:\n"
     ]
    },
    {
     "name": "stderr",
     "output_type": "stream",
     "text": [
      "[NeMo W 2021-10-18 17:06:41 nmse_clustering:276] Graph is not fully connected and the clustering result might not be accurate.\n"
     ]
    },
    {
     "name": "stdout",
     "output_type": "stream",
     "text": [
      "230.01ms 'run_ASR_model'\n",
      "0.05ms '_get_speech_labels_from_decoded_prediction'\n",
      "0.79ms '_get_diar_segments'\n",
      "1.50ms 'getReducedMat'\n",
      "1.32ms 'matchNewOldclusterLabels'\n",
      "93.73ms '_online_diarization'\n",
      "[NeMo I 2021-10-18 17:06:41 streaming_asr_and_diar:1361] Streaming Diar [arm_talk_16k][frame-  506th  ]:\n"
     ]
    },
    {
     "name": "stderr",
     "output_type": "stream",
     "text": [
      "[NeMo W 2021-10-18 17:06:41 nmse_clustering:276] Graph is not fully connected and the clustering result might not be accurate.\n"
     ]
    },
    {
     "name": "stdout",
     "output_type": "stream",
     "text": [
      "207.84ms 'run_ASR_model'\n",
      "0.05ms '_get_speech_labels_from_decoded_prediction'\n",
      "0.78ms '_get_diar_segments'\n",
      "1.33ms 'getReducedMat'\n",
      "1.21ms 'matchNewOldclusterLabels'\n",
      "63.01ms '_online_diarization'\n",
      "[NeMo I 2021-10-18 17:06:42 streaming_asr_and_diar:1361] Streaming Diar [arm_talk_16k][frame-  507th  ]:\n"
     ]
    },
    {
     "name": "stderr",
     "output_type": "stream",
     "text": [
      "[NeMo W 2021-10-18 17:06:43 nmse_clustering:276] Graph is not fully connected and the clustering result might not be accurate.\n"
     ]
    },
    {
     "name": "stdout",
     "output_type": "stream",
     "text": [
      "216.50ms 'run_ASR_model'\n",
      "0.05ms '_get_speech_labels_from_decoded_prediction'\n",
      "0.68ms '_get_diar_segments'\n",
      "1.70ms 'getReducedMat'\n",
      "1.30ms 'matchNewOldclusterLabels'\n",
      "81.87ms '_online_diarization'\n",
      "[NeMo I 2021-10-18 17:06:43 streaming_asr_and_diar:1361] Streaming Diar [arm_talk_16k][frame-  508th  ]:\n"
     ]
    },
    {
     "name": "stderr",
     "output_type": "stream",
     "text": [
      "[NeMo W 2021-10-18 17:06:44 nmse_clustering:276] Graph is not fully connected and the clustering result might not be accurate.\n"
     ]
    },
    {
     "name": "stdout",
     "output_type": "stream",
     "text": [
      "222.67ms 'run_ASR_model'\n",
      "0.05ms '_get_speech_labels_from_decoded_prediction'\n",
      "0.74ms '_get_diar_segments'\n",
      "1.77ms 'getReducedMat'\n",
      "1.30ms 'matchNewOldclusterLabels'\n",
      "69.31ms '_online_diarization'\n",
      "[NeMo I 2021-10-18 17:06:44 streaming_asr_and_diar:1361] Streaming Diar [arm_talk_16k][frame-  509th  ]:\n"
     ]
    },
    {
     "name": "stderr",
     "output_type": "stream",
     "text": [
      "[NeMo W 2021-10-18 17:06:45 nmse_clustering:276] Graph is not fully connected and the clustering result might not be accurate.\n"
     ]
    },
    {
     "name": "stdout",
     "output_type": "stream",
     "text": [
      "227.85ms 'run_ASR_model'\n",
      "0.05ms '_get_speech_labels_from_decoded_prediction'\n",
      "0.89ms '_get_diar_segments'\n",
      "2.09ms 'getReducedMat'\n",
      "1.31ms 'matchNewOldclusterLabels'\n",
      "80.98ms '_online_diarization'\n",
      "[NeMo I 2021-10-18 17:06:45 streaming_asr_and_diar:1361] Streaming Diar [arm_talk_16k][frame-  510th  ]:\n"
     ]
    },
    {
     "name": "stderr",
     "output_type": "stream",
     "text": [
      "[NeMo W 2021-10-18 17:06:46 nmse_clustering:276] Graph is not fully connected and the clustering result might not be accurate.\n"
     ]
    },
    {
     "name": "stdout",
     "output_type": "stream",
     "text": [
      "226.29ms 'run_ASR_model'\n",
      "0.07ms '_get_speech_labels_from_decoded_prediction'\n",
      "0.85ms '_get_diar_segments'\n",
      "1.95ms 'getReducedMat'\n",
      "1.30ms 'matchNewOldclusterLabels'\n",
      "82.18ms '_online_diarization'\n",
      "[NeMo I 2021-10-18 17:06:46 streaming_asr_and_diar:1361] Streaming Diar [arm_talk_16k][frame-  511th  ]:\n"
     ]
    },
    {
     "name": "stderr",
     "output_type": "stream",
     "text": [
      "[NeMo W 2021-10-18 17:06:47 nmse_clustering:276] Graph is not fully connected and the clustering result might not be accurate.\n"
     ]
    },
    {
     "name": "stdout",
     "output_type": "stream",
     "text": [
      "214.69ms 'run_ASR_model'\n",
      "0.05ms '_get_speech_labels_from_decoded_prediction'\n",
      "0.72ms '_get_diar_segments'\n",
      "1.48ms 'getReducedMat'\n",
      "0.89ms 'matchNewOldclusterLabels'\n",
      "73.55ms '_online_diarization'\n",
      "[NeMo I 2021-10-18 17:06:47 streaming_asr_and_diar:1361] Streaming Diar [arm_talk_16k][frame-  512th  ]:\n"
     ]
    },
    {
     "name": "stderr",
     "output_type": "stream",
     "text": [
      "[NeMo W 2021-10-18 17:06:48 nmse_clustering:276] Graph is not fully connected and the clustering result might not be accurate.\n"
     ]
    },
    {
     "name": "stdout",
     "output_type": "stream",
     "text": [
      "216.90ms 'run_ASR_model'\n",
      "0.05ms '_get_speech_labels_from_decoded_prediction'\n",
      "0.38ms '_get_diar_segments'\n",
      "1.24ms 'getReducedMat'\n",
      "1.22ms 'matchNewOldclusterLabels'\n",
      "68.62ms '_online_diarization'\n",
      "[NeMo I 2021-10-18 17:06:48 streaming_asr_and_diar:1361] Streaming Diar [arm_talk_16k][frame-  513th  ]:\n"
     ]
    },
    {
     "name": "stderr",
     "output_type": "stream",
     "text": [
      "[NeMo W 2021-10-18 17:06:49 nmse_clustering:276] Graph is not fully connected and the clustering result might not be accurate.\n"
     ]
    },
    {
     "name": "stdout",
     "output_type": "stream",
     "text": [
      "222.90ms 'run_ASR_model'\n",
      "0.04ms '_get_speech_labels_from_decoded_prediction'\n",
      "0.76ms '_get_diar_segments'\n",
      "1.82ms 'getReducedMat'\n",
      "1.29ms 'matchNewOldclusterLabels'\n",
      "68.30ms '_online_diarization'\n",
      "[NeMo I 2021-10-18 17:06:49 streaming_asr_and_diar:1361] Streaming Diar [arm_talk_16k][frame-  514th  ]:\n"
     ]
    },
    {
     "name": "stderr",
     "output_type": "stream",
     "text": [
      "[NeMo W 2021-10-18 17:06:50 nmse_clustering:276] Graph is not fully connected and the clustering result might not be accurate.\n"
     ]
    },
    {
     "name": "stdout",
     "output_type": "stream",
     "text": [
      "224.88ms 'run_ASR_model'\n",
      "0.05ms '_get_speech_labels_from_decoded_prediction'\n",
      "0.81ms '_get_diar_segments'\n",
      "1.82ms 'getReducedMat'\n",
      "0.98ms 'matchNewOldclusterLabels'\n",
      "64.08ms '_online_diarization'\n",
      "[NeMo I 2021-10-18 17:06:50 streaming_asr_and_diar:1361] Streaming Diar [arm_talk_16k][frame-  515th  ]:\n"
     ]
    },
    {
     "name": "stderr",
     "output_type": "stream",
     "text": [
      "[NeMo W 2021-10-18 17:06:51 nmse_clustering:276] Graph is not fully connected and the clustering result might not be accurate.\n"
     ]
    },
    {
     "name": "stdout",
     "output_type": "stream",
     "text": [
      "216.71ms 'run_ASR_model'\n",
      "0.07ms '_get_speech_labels_from_decoded_prediction'\n",
      "0.38ms '_get_diar_segments'\n",
      "1.90ms 'getReducedMat'\n",
      "1.31ms 'matchNewOldclusterLabels'\n",
      "70.37ms '_online_diarization'\n",
      "[NeMo I 2021-10-18 17:06:51 streaming_asr_and_diar:1361] Streaming Diar [arm_talk_16k][frame-  516th  ]:\n"
     ]
    },
    {
     "name": "stderr",
     "output_type": "stream",
     "text": [
      "[NeMo W 2021-10-18 17:06:52 nmse_clustering:276] Graph is not fully connected and the clustering result might not be accurate.\n"
     ]
    },
    {
     "name": "stdout",
     "output_type": "stream",
     "text": [
      "223.86ms 'run_ASR_model'\n",
      "0.07ms '_get_speech_labels_from_decoded_prediction'\n",
      "0.56ms '_get_diar_segments'\n",
      "1.88ms 'getReducedMat'\n",
      "1.31ms 'matchNewOldclusterLabels'\n",
      "69.69ms '_online_diarization'\n",
      "[NeMo I 2021-10-18 17:06:52 streaming_asr_and_diar:1361] Streaming Diar [arm_talk_16k][frame-  517th  ]:\n"
     ]
    },
    {
     "name": "stderr",
     "output_type": "stream",
     "text": [
      "[NeMo W 2021-10-18 17:06:53 nmse_clustering:276] Graph is not fully connected and the clustering result might not be accurate.\n"
     ]
    },
    {
     "name": "stdout",
     "output_type": "stream",
     "text": [
      "219.18ms 'run_ASR_model'\n",
      "0.05ms '_get_speech_labels_from_decoded_prediction'\n",
      "0.81ms '_get_diar_segments'\n",
      "1.85ms 'getReducedMat'\n",
      "1.29ms 'matchNewOldclusterLabels'\n",
      "68.72ms '_online_diarization'\n",
      "[NeMo I 2021-10-18 17:06:53 streaming_asr_and_diar:1361] Streaming Diar [arm_talk_16k][frame-  518th  ]:\n"
     ]
    },
    {
     "name": "stderr",
     "output_type": "stream",
     "text": [
      "[NeMo W 2021-10-18 17:06:54 nmse_clustering:276] Graph is not fully connected and the clustering result might not be accurate.\n"
     ]
    },
    {
     "name": "stdout",
     "output_type": "stream",
     "text": [
      "216.99ms 'run_ASR_model'\n",
      "0.09ms '_get_speech_labels_from_decoded_prediction'\n",
      "0.83ms '_get_diar_segments'\n",
      "1.90ms 'getReducedMat'\n",
      "1.35ms 'matchNewOldclusterLabels'\n",
      "71.20ms '_online_diarization'\n",
      "[NeMo I 2021-10-18 17:06:54 streaming_asr_and_diar:1361] Streaming Diar [arm_talk_16k][frame-  519th  ]:\n"
     ]
    },
    {
     "name": "stderr",
     "output_type": "stream",
     "text": [
      "[NeMo W 2021-10-18 17:06:55 nmse_clustering:276] Graph is not fully connected and the clustering result might not be accurate.\n"
     ]
    },
    {
     "name": "stdout",
     "output_type": "stream",
     "text": [
      "222.25ms 'run_ASR_model'\n",
      "0.09ms '_get_speech_labels_from_decoded_prediction'\n",
      "0.81ms '_get_diar_segments'\n",
      "1.72ms 'getReducedMat'\n",
      "0.87ms 'matchNewOldclusterLabels'\n",
      "63.72ms '_online_diarization'\n",
      "[NeMo I 2021-10-18 17:06:55 streaming_asr_and_diar:1361] Streaming Diar [arm_talk_16k][frame-  520th  ]:\n"
     ]
    },
    {
     "name": "stderr",
     "output_type": "stream",
     "text": [
      "[NeMo W 2021-10-18 17:06:56 nmse_clustering:276] Graph is not fully connected and the clustering result might not be accurate.\n"
     ]
    },
    {
     "name": "stdout",
     "output_type": "stream",
     "text": [
      "212.79ms 'run_ASR_model'\n",
      "0.09ms '_get_speech_labels_from_decoded_prediction'\n",
      "0.79ms '_get_diar_segments'\n",
      "1.72ms 'getReducedMat'\n",
      "1.21ms 'matchNewOldclusterLabels'\n",
      "69.17ms '_online_diarization'\n",
      "[NeMo I 2021-10-18 17:06:56 streaming_asr_and_diar:1361] Streaming Diar [arm_talk_16k][frame-  521th  ]:\n"
     ]
    },
    {
     "name": "stderr",
     "output_type": "stream",
     "text": [
      "[NeMo W 2021-10-18 17:06:57 nmse_clustering:276] Graph is not fully connected and the clustering result might not be accurate.\n"
     ]
    },
    {
     "name": "stdout",
     "output_type": "stream",
     "text": [
      "218.21ms 'run_ASR_model'\n",
      "0.06ms '_get_speech_labels_from_decoded_prediction'\n",
      "0.88ms '_get_diar_segments'\n",
      "2.00ms 'getReducedMat'\n",
      "1.29ms 'matchNewOldclusterLabels'\n",
      "82.86ms '_online_diarization'\n",
      "[NeMo I 2021-10-18 17:06:57 streaming_asr_and_diar:1361] Streaming Diar [arm_talk_16k][frame-  522th  ]:\n"
     ]
    },
    {
     "name": "stderr",
     "output_type": "stream",
     "text": [
      "[NeMo W 2021-10-18 17:06:58 nmse_clustering:276] Graph is not fully connected and the clustering result might not be accurate.\n"
     ]
    },
    {
     "name": "stdout",
     "output_type": "stream",
     "text": [
      "223.27ms 'run_ASR_model'\n",
      "0.04ms '_get_speech_labels_from_decoded_prediction'\n",
      "0.82ms '_get_diar_segments'\n",
      "1.68ms 'getReducedMat'\n",
      "1.29ms 'matchNewOldclusterLabels'\n",
      "69.10ms '_online_diarization'\n",
      "[NeMo I 2021-10-18 17:06:58 streaming_asr_and_diar:1361] Streaming Diar [arm_talk_16k][frame-  523th  ]:\n"
     ]
    },
    {
     "name": "stderr",
     "output_type": "stream",
     "text": [
      "[NeMo W 2021-10-18 17:06:59 nmse_clustering:276] Graph is not fully connected and the clustering result might not be accurate.\n"
     ]
    },
    {
     "name": "stdout",
     "output_type": "stream",
     "text": [
      "230.80ms 'run_ASR_model'\n",
      "0.05ms '_get_speech_labels_from_decoded_prediction'\n",
      "0.82ms '_get_diar_segments'\n",
      "1.88ms 'getReducedMat'\n",
      "1.28ms 'matchNewOldclusterLabels'\n",
      "69.80ms '_online_diarization'\n",
      "[NeMo I 2021-10-18 17:06:59 streaming_asr_and_diar:1361] Streaming Diar [arm_talk_16k][frame-  524th  ]:\n"
     ]
    },
    {
     "name": "stderr",
     "output_type": "stream",
     "text": [
      "[NeMo W 2021-10-18 17:07:00 nmse_clustering:276] Graph is not fully connected and the clustering result might not be accurate.\n"
     ]
    },
    {
     "name": "stdout",
     "output_type": "stream",
     "text": [
      "227.94ms 'run_ASR_model'\n",
      "0.06ms '_get_speech_labels_from_decoded_prediction'\n",
      "1.01ms '_get_diar_segments'\n",
      "2.11ms 'getReducedMat'\n",
      "1.22ms 'matchNewOldclusterLabels'\n",
      "79.57ms '_online_diarization'\n",
      "[NeMo I 2021-10-18 17:07:00 streaming_asr_and_diar:1361] Streaming Diar [arm_talk_16k][frame-  525th  ]:\n"
     ]
    },
    {
     "name": "stderr",
     "output_type": "stream",
     "text": [
      "[NeMo W 2021-10-18 17:07:01 nmse_clustering:276] Graph is not fully connected and the clustering result might not be accurate.\n"
     ]
    },
    {
     "name": "stdout",
     "output_type": "stream",
     "text": [
      "217.32ms 'run_ASR_model'\n",
      "0.05ms '_get_speech_labels_from_decoded_prediction'\n",
      "0.86ms '_get_diar_segments'\n",
      "2.19ms 'getReducedMat'\n",
      "1.33ms 'matchNewOldclusterLabels'\n",
      "70.75ms '_online_diarization'\n",
      "[NeMo I 2021-10-18 17:07:01 streaming_asr_and_diar:1361] Streaming Diar [arm_talk_16k][frame-  526th  ]:\n"
     ]
    },
    {
     "name": "stderr",
     "output_type": "stream",
     "text": [
      "[NeMo W 2021-10-18 17:07:02 nmse_clustering:276] Graph is not fully connected and the clustering result might not be accurate.\n"
     ]
    },
    {
     "name": "stdout",
     "output_type": "stream",
     "text": [
      "216.63ms 'run_ASR_model'\n",
      "0.05ms '_get_speech_labels_from_decoded_prediction'\n",
      "0.83ms '_get_diar_segments'\n",
      "1.92ms 'getReducedMat'\n",
      "1.31ms 'matchNewOldclusterLabels'\n",
      "70.92ms '_online_diarization'\n",
      "[NeMo I 2021-10-18 17:07:02 streaming_asr_and_diar:1361] Streaming Diar [arm_talk_16k][frame-  527th  ]:\n"
     ]
    },
    {
     "name": "stderr",
     "output_type": "stream",
     "text": [
      "[NeMo W 2021-10-18 17:07:03 nmse_clustering:276] Graph is not fully connected and the clustering result might not be accurate.\n"
     ]
    },
    {
     "name": "stdout",
     "output_type": "stream",
     "text": [
      "218.67ms 'run_ASR_model'\n",
      "0.05ms '_get_speech_labels_from_decoded_prediction'\n",
      "0.84ms '_get_diar_segments'\n",
      "1.89ms 'getReducedMat'\n",
      "1.29ms 'matchNewOldclusterLabels'\n",
      "71.12ms '_online_diarization'\n",
      "[NeMo I 2021-10-18 17:07:03 streaming_asr_and_diar:1361] Streaming Diar [arm_talk_16k][frame-  528th  ]:\n"
     ]
    },
    {
     "name": "stderr",
     "output_type": "stream",
     "text": [
      "[NeMo W 2021-10-18 17:07:04 nmse_clustering:276] Graph is not fully connected and the clustering result might not be accurate.\n"
     ]
    },
    {
     "name": "stdout",
     "output_type": "stream",
     "text": [
      "221.00ms 'run_ASR_model'\n",
      "0.05ms '_get_speech_labels_from_decoded_prediction'\n",
      "0.79ms '_get_diar_segments'\n",
      "1.91ms 'getReducedMat'\n",
      "1.31ms 'matchNewOldclusterLabels'\n",
      "71.52ms '_online_diarization'\n",
      "[NeMo I 2021-10-18 17:07:04 streaming_asr_and_diar:1361] Streaming Diar [arm_talk_16k][frame-  529th  ]:\n"
     ]
    },
    {
     "name": "stderr",
     "output_type": "stream",
     "text": [
      "[NeMo W 2021-10-18 17:07:05 nmse_clustering:276] Graph is not fully connected and the clustering result might not be accurate.\n"
     ]
    },
    {
     "name": "stdout",
     "output_type": "stream",
     "text": [
      "213.68ms 'run_ASR_model'\n",
      "0.05ms '_get_speech_labels_from_decoded_prediction'\n",
      "0.77ms '_get_diar_segments'\n",
      "1.91ms 'getReducedMat'\n",
      "1.29ms 'matchNewOldclusterLabels'\n",
      "69.83ms '_online_diarization'\n",
      "[NeMo I 2021-10-18 17:07:05 streaming_asr_and_diar:1361] Streaming Diar [arm_talk_16k][frame-  530th  ]:\n"
     ]
    },
    {
     "name": "stderr",
     "output_type": "stream",
     "text": [
      "[NeMo W 2021-10-18 17:07:06 nmse_clustering:276] Graph is not fully connected and the clustering result might not be accurate.\n"
     ]
    },
    {
     "name": "stdout",
     "output_type": "stream",
     "text": [
      "216.61ms 'run_ASR_model'\n",
      "0.05ms '_get_speech_labels_from_decoded_prediction'\n",
      "0.63ms '_get_diar_segments'\n",
      "1.94ms 'getReducedMat'\n",
      "1.33ms 'matchNewOldclusterLabels'\n",
      "83.35ms '_online_diarization'\n",
      "[NeMo I 2021-10-18 17:07:06 streaming_asr_and_diar:1361] Streaming Diar [arm_talk_16k][frame-  531th  ]:\n"
     ]
    },
    {
     "name": "stderr",
     "output_type": "stream",
     "text": [
      "[NeMo W 2021-10-18 17:07:07 nmse_clustering:276] Graph is not fully connected and the clustering result might not be accurate.\n"
     ]
    },
    {
     "name": "stdout",
     "output_type": "stream",
     "text": [
      "211.97ms 'run_ASR_model'\n",
      "0.05ms '_get_speech_labels_from_decoded_prediction'\n",
      "0.83ms '_get_diar_segments'\n",
      "1.89ms 'getReducedMat'\n",
      "1.31ms 'matchNewOldclusterLabels'\n",
      "70.53ms '_online_diarization'\n",
      "[NeMo I 2021-10-18 17:07:07 streaming_asr_and_diar:1361] Streaming Diar [arm_talk_16k][frame-  532th  ]:\n"
     ]
    },
    {
     "name": "stderr",
     "output_type": "stream",
     "text": [
      "[NeMo W 2021-10-18 17:07:08 nmse_clustering:276] Graph is not fully connected and the clustering result might not be accurate.\n"
     ]
    },
    {
     "name": "stdout",
     "output_type": "stream",
     "text": [
      "214.45ms 'run_ASR_model'\n",
      "0.06ms '_get_speech_labels_from_decoded_prediction'\n",
      "0.73ms '_get_diar_segments'\n",
      "1.94ms 'getReducedMat'\n",
      "1.29ms 'matchNewOldclusterLabels'\n",
      "85.16ms '_online_diarization'\n",
      "[NeMo I 2021-10-18 17:07:08 streaming_asr_and_diar:1361] Streaming Diar [arm_talk_16k][frame-  533th  ]:\n"
     ]
    },
    {
     "name": "stderr",
     "output_type": "stream",
     "text": [
      "[NeMo W 2021-10-18 17:07:09 nmse_clustering:276] Graph is not fully connected and the clustering result might not be accurate.\n"
     ]
    },
    {
     "name": "stdout",
     "output_type": "stream",
     "text": [
      "232.63ms 'run_ASR_model'\n",
      "0.05ms '_get_speech_labels_from_decoded_prediction'\n",
      "0.62ms '_get_diar_segments'\n",
      "1.96ms 'getReducedMat'\n",
      "1.30ms 'matchNewOldclusterLabels'\n",
      "69.58ms '_online_diarization'\n",
      "[NeMo I 2021-10-18 17:07:09 streaming_asr_and_diar:1361] Streaming Diar [arm_talk_16k][frame-  534th  ]:\n"
     ]
    },
    {
     "name": "stderr",
     "output_type": "stream",
     "text": [
      "[NeMo W 2021-10-18 17:07:10 nmse_clustering:276] Graph is not fully connected and the clustering result might not be accurate.\n"
     ]
    },
    {
     "name": "stdout",
     "output_type": "stream",
     "text": [
      "216.18ms 'run_ASR_model'\n",
      "0.06ms '_get_speech_labels_from_decoded_prediction'\n",
      "0.70ms '_get_diar_segments'\n",
      "1.72ms 'getReducedMat'\n",
      "0.86ms 'matchNewOldclusterLabels'\n",
      "64.55ms '_online_diarization'\n",
      "[NeMo I 2021-10-18 17:07:10 streaming_asr_and_diar:1361] Streaming Diar [arm_talk_16k][frame-  535th  ]:\n"
     ]
    },
    {
     "name": "stderr",
     "output_type": "stream",
     "text": [
      "[NeMo W 2021-10-18 17:07:11 nmse_clustering:276] Graph is not fully connected and the clustering result might not be accurate.\n"
     ]
    },
    {
     "name": "stdout",
     "output_type": "stream",
     "text": [
      "226.59ms 'run_ASR_model'\n",
      "0.04ms '_get_speech_labels_from_decoded_prediction'\n",
      "0.83ms '_get_diar_segments'\n",
      "1.79ms 'getReducedMat'\n",
      "1.32ms 'matchNewOldclusterLabels'\n",
      "70.21ms '_online_diarization'\n",
      "[NeMo I 2021-10-18 17:07:11 streaming_asr_and_diar:1361] Streaming Diar [arm_talk_16k][frame-  536th  ]:\n"
     ]
    },
    {
     "name": "stderr",
     "output_type": "stream",
     "text": [
      "[NeMo W 2021-10-18 17:07:12 nmse_clustering:276] Graph is not fully connected and the clustering result might not be accurate.\n"
     ]
    },
    {
     "name": "stdout",
     "output_type": "stream",
     "text": [
      "215.88ms 'run_ASR_model'\n",
      "0.05ms '_get_speech_labels_from_decoded_prediction'\n",
      "0.83ms '_get_diar_segments'\n",
      "1.79ms 'getReducedMat'\n",
      "1.31ms 'matchNewOldclusterLabels'\n",
      "70.09ms '_online_diarization'\n",
      "[NeMo I 2021-10-18 17:07:12 streaming_asr_and_diar:1361] Streaming Diar [arm_talk_16k][frame-  537th  ]:\n"
     ]
    },
    {
     "name": "stderr",
     "output_type": "stream",
     "text": [
      "[NeMo W 2021-10-18 17:07:13 nmse_clustering:276] Graph is not fully connected and the clustering result might not be accurate.\n"
     ]
    },
    {
     "name": "stdout",
     "output_type": "stream",
     "text": [
      "226.32ms 'run_ASR_model'\n",
      "0.06ms '_get_speech_labels_from_decoded_prediction'\n",
      "0.44ms '_get_diar_segments'\n",
      "1.89ms 'getReducedMat'\n",
      "1.42ms 'matchNewOldclusterLabels'\n",
      "77.92ms '_online_diarization'\n",
      "[NeMo I 2021-10-18 17:07:13 streaming_asr_and_diar:1361] Streaming Diar [arm_talk_16k][frame-  538th  ]:\n"
     ]
    },
    {
     "name": "stderr",
     "output_type": "stream",
     "text": [
      "[NeMo W 2021-10-18 17:07:14 nmse_clustering:276] Graph is not fully connected and the clustering result might not be accurate.\n"
     ]
    },
    {
     "name": "stdout",
     "output_type": "stream",
     "text": [
      "235.35ms 'run_ASR_model'\n",
      "0.05ms '_get_speech_labels_from_decoded_prediction'\n",
      "0.41ms '_get_diar_segments'\n",
      "2.24ms 'getReducedMat'\n",
      "1.31ms 'matchNewOldclusterLabels'\n",
      "71.96ms '_online_diarization'\n",
      "[NeMo I 2021-10-18 17:07:14 streaming_asr_and_diar:1361] Streaming Diar [arm_talk_16k][frame-  539th  ]:\n"
     ]
    },
    {
     "name": "stderr",
     "output_type": "stream",
     "text": [
      "[NeMo W 2021-10-18 17:07:15 nmse_clustering:276] Graph is not fully connected and the clustering result might not be accurate.\n"
     ]
    },
    {
     "name": "stdout",
     "output_type": "stream",
     "text": [
      "215.43ms 'run_ASR_model'\n",
      "0.06ms '_get_speech_labels_from_decoded_prediction'\n",
      "0.82ms '_get_diar_segments'\n",
      "2.14ms 'getReducedMat'\n",
      "1.39ms 'matchNewOldclusterLabels'\n",
      "90.17ms '_online_diarization'\n",
      "[NeMo I 2021-10-18 17:07:15 streaming_asr_and_diar:1361] Streaming Diar [arm_talk_16k][frame-  540th  ]:\n"
     ]
    },
    {
     "name": "stderr",
     "output_type": "stream",
     "text": [
      "[NeMo W 2021-10-18 17:07:16 nmse_clustering:276] Graph is not fully connected and the clustering result might not be accurate.\n"
     ]
    },
    {
     "name": "stdout",
     "output_type": "stream",
     "text": [
      "242.39ms 'run_ASR_model'\n",
      "0.06ms '_get_speech_labels_from_decoded_prediction'\n",
      "0.57ms '_get_diar_segments'\n",
      "1.90ms 'getReducedMat'\n",
      "1.30ms 'matchNewOldclusterLabels'\n",
      "69.42ms '_online_diarization'\n",
      "[NeMo I 2021-10-18 17:07:16 streaming_asr_and_diar:1361] Streaming Diar [arm_talk_16k][frame-  541th  ]:\n"
     ]
    },
    {
     "name": "stderr",
     "output_type": "stream",
     "text": [
      "[NeMo W 2021-10-18 17:07:17 nmse_clustering:276] Graph is not fully connected and the clustering result might not be accurate.\n"
     ]
    },
    {
     "name": "stdout",
     "output_type": "stream",
     "text": [
      "207.49ms 'run_ASR_model'\n",
      "0.05ms '_get_speech_labels_from_decoded_prediction'\n",
      "0.85ms '_get_diar_segments'\n",
      "1.95ms 'getReducedMat'\n",
      "0.86ms 'matchNewOldclusterLabels'\n",
      "67.95ms '_online_diarization'\n",
      "[NeMo I 2021-10-18 17:07:17 streaming_asr_and_diar:1361] Streaming Diar [arm_talk_16k][frame-  542th  ]:\n"
     ]
    },
    {
     "name": "stderr",
     "output_type": "stream",
     "text": [
      "[NeMo W 2021-10-18 17:07:18 nmse_clustering:276] Graph is not fully connected and the clustering result might not be accurate.\n"
     ]
    },
    {
     "name": "stdout",
     "output_type": "stream",
     "text": [
      "212.30ms 'run_ASR_model'\n",
      "0.05ms '_get_speech_labels_from_decoded_prediction'\n",
      "0.82ms '_get_diar_segments'\n",
      "1.97ms 'getReducedMat'\n",
      "1.20ms 'matchNewOldclusterLabels'\n",
      "70.44ms '_online_diarization'\n",
      "[NeMo I 2021-10-18 17:07:18 streaming_asr_and_diar:1361] Streaming Diar [arm_talk_16k][frame-  543th  ]:\n"
     ]
    },
    {
     "name": "stderr",
     "output_type": "stream",
     "text": [
      "[NeMo W 2021-10-18 17:07:19 nmse_clustering:276] Graph is not fully connected and the clustering result might not be accurate.\n"
     ]
    },
    {
     "name": "stdout",
     "output_type": "stream",
     "text": [
      "216.23ms 'run_ASR_model'\n",
      "0.04ms '_get_speech_labels_from_decoded_prediction'\n",
      "0.66ms '_get_diar_segments'\n",
      "1.78ms 'getReducedMat'\n",
      "0.94ms 'matchNewOldclusterLabels'\n",
      "71.81ms '_online_diarization'\n",
      "[NeMo I 2021-10-18 17:07:19 streaming_asr_and_diar:1361] Streaming Diar [arm_talk_16k][frame-  544th  ]:\n"
     ]
    },
    {
     "name": "stderr",
     "output_type": "stream",
     "text": [
      "[NeMo W 2021-10-18 17:07:20 nmse_clustering:276] Graph is not fully connected and the clustering result might not be accurate.\n"
     ]
    },
    {
     "name": "stdout",
     "output_type": "stream",
     "text": [
      "216.43ms 'run_ASR_model'\n",
      "0.04ms '_get_speech_labels_from_decoded_prediction'\n",
      "0.83ms '_get_diar_segments'\n",
      "1.55ms 'getReducedMat'\n",
      "0.86ms 'matchNewOldclusterLabels'\n",
      "73.66ms '_online_diarization'\n",
      "[NeMo I 2021-10-18 17:07:20 streaming_asr_and_diar:1361] Streaming Diar [arm_talk_16k][frame-  545th  ]:\n"
     ]
    },
    {
     "name": "stderr",
     "output_type": "stream",
     "text": [
      "[NeMo W 2021-10-18 17:07:21 nmse_clustering:276] Graph is not fully connected and the clustering result might not be accurate.\n"
     ]
    },
    {
     "name": "stdout",
     "output_type": "stream",
     "text": [
      "225.81ms 'run_ASR_model'\n",
      "0.05ms '_get_speech_labels_from_decoded_prediction'\n",
      "0.56ms '_get_diar_segments'\n",
      "1.89ms 'getReducedMat'\n",
      "0.86ms 'matchNewOldclusterLabels'\n",
      "59.44ms '_online_diarization'\n",
      "[NeMo I 2021-10-18 17:07:21 streaming_asr_and_diar:1361] Streaming Diar [arm_talk_16k][frame-  546th  ]:\n"
     ]
    },
    {
     "name": "stderr",
     "output_type": "stream",
     "text": [
      "[NeMo W 2021-10-18 17:07:22 nmse_clustering:276] Graph is not fully connected and the clustering result might not be accurate.\n"
     ]
    },
    {
     "name": "stdout",
     "output_type": "stream",
     "text": [
      "213.87ms 'run_ASR_model'\n",
      "0.07ms '_get_speech_labels_from_decoded_prediction'\n",
      "0.75ms '_get_diar_segments'\n",
      "1.41ms 'getReducedMat'\n",
      "0.86ms 'matchNewOldclusterLabels'\n",
      "62.11ms '_online_diarization'\n",
      "[NeMo I 2021-10-18 17:07:22 streaming_asr_and_diar:1361] Streaming Diar [arm_talk_16k][frame-  547th  ]:\n"
     ]
    },
    {
     "name": "stderr",
     "output_type": "stream",
     "text": [
      "[NeMo W 2021-10-18 17:07:23 nmse_clustering:276] Graph is not fully connected and the clustering result might not be accurate.\n"
     ]
    },
    {
     "name": "stdout",
     "output_type": "stream",
     "text": [
      "211.48ms 'run_ASR_model'\n",
      "0.05ms '_get_speech_labels_from_decoded_prediction'\n",
      "0.82ms '_get_diar_segments'\n",
      "0.92ms 'getReducedMat'\n",
      "1.31ms 'matchNewOldclusterLabels'\n",
      "69.10ms '_online_diarization'\n",
      "[NeMo I 2021-10-18 17:07:23 streaming_asr_and_diar:1361] Streaming Diar [arm_talk_16k][frame-  548th  ]:\n"
     ]
    },
    {
     "name": "stderr",
     "output_type": "stream",
     "text": [
      "[NeMo W 2021-10-18 17:07:24 nmse_clustering:276] Graph is not fully connected and the clustering result might not be accurate.\n"
     ]
    },
    {
     "name": "stdout",
     "output_type": "stream",
     "text": [
      "230.22ms 'run_ASR_model'\n",
      "0.04ms '_get_speech_labels_from_decoded_prediction'\n",
      "0.72ms '_get_diar_segments'\n",
      "1.76ms 'getReducedMat'\n",
      "1.30ms 'matchNewOldclusterLabels'\n",
      "78.34ms '_online_diarization'\n",
      "[NeMo I 2021-10-18 17:07:24 streaming_asr_and_diar:1361] Streaming Diar [arm_talk_16k][frame-  549th  ]:\n"
     ]
    },
    {
     "name": "stderr",
     "output_type": "stream",
     "text": [
      "[NeMo W 2021-10-18 17:07:25 nmse_clustering:276] Graph is not fully connected and the clustering result might not be accurate.\n"
     ]
    },
    {
     "name": "stdout",
     "output_type": "stream",
     "text": [
      "226.37ms 'run_ASR_model'\n",
      "0.04ms '_get_speech_labels_from_decoded_prediction'\n",
      "0.84ms '_get_diar_segments'\n",
      "1.83ms 'getReducedMat'\n",
      "1.28ms 'matchNewOldclusterLabels'\n",
      "65.70ms '_online_diarization'\n",
      "[NeMo I 2021-10-18 17:07:25 streaming_asr_and_diar:1361] Streaming Diar [arm_talk_16k][frame-  550th  ]:\n"
     ]
    },
    {
     "name": "stderr",
     "output_type": "stream",
     "text": [
      "[NeMo W 2021-10-18 17:07:26 nmse_clustering:276] Graph is not fully connected and the clustering result might not be accurate.\n"
     ]
    },
    {
     "name": "stdout",
     "output_type": "stream",
     "text": [
      "216.84ms 'run_ASR_model'\n",
      "0.04ms '_get_speech_labels_from_decoded_prediction'\n",
      "0.75ms '_get_diar_segments'\n",
      "1.95ms 'getReducedMat'\n",
      "1.20ms 'matchNewOldclusterLabels'\n",
      "75.71ms '_online_diarization'\n",
      "[NeMo I 2021-10-18 17:07:26 streaming_asr_and_diar:1361] Streaming Diar [arm_talk_16k][frame-  551th  ]:\n"
     ]
    },
    {
     "name": "stderr",
     "output_type": "stream",
     "text": [
      "[NeMo W 2021-10-18 17:07:27 nmse_clustering:276] Graph is not fully connected and the clustering result might not be accurate.\n"
     ]
    },
    {
     "name": "stdout",
     "output_type": "stream",
     "text": [
      "228.87ms 'run_ASR_model'\n",
      "0.04ms '_get_speech_labels_from_decoded_prediction'\n",
      "0.33ms '_get_diar_segments'\n",
      "1.95ms 'getReducedMat'\n",
      "1.21ms 'matchNewOldclusterLabels'\n",
      "73.63ms '_online_diarization'\n",
      "[NeMo I 2021-10-18 17:07:27 streaming_asr_and_diar:1361] Streaming Diar [arm_talk_16k][frame-  552th  ]:\n"
     ]
    },
    {
     "name": "stderr",
     "output_type": "stream",
     "text": [
      "[NeMo W 2021-10-18 17:07:28 nmse_clustering:276] Graph is not fully connected and the clustering result might not be accurate.\n"
     ]
    },
    {
     "name": "stdout",
     "output_type": "stream",
     "text": [
      "217.04ms 'run_ASR_model'\n",
      "0.05ms '_get_speech_labels_from_decoded_prediction'\n",
      "0.82ms '_get_diar_segments'\n",
      "1.98ms 'getReducedMat'\n",
      "1.22ms 'matchNewOldclusterLabels'\n",
      "70.98ms '_online_diarization'\n",
      "[NeMo I 2021-10-18 17:07:28 streaming_asr_and_diar:1361] Streaming Diar [arm_talk_16k][frame-  553th  ]:\n"
     ]
    },
    {
     "name": "stderr",
     "output_type": "stream",
     "text": [
      "[NeMo W 2021-10-18 17:07:29 nmse_clustering:276] Graph is not fully connected and the clustering result might not be accurate.\n"
     ]
    },
    {
     "name": "stdout",
     "output_type": "stream",
     "text": [
      "207.15ms 'run_ASR_model'\n",
      "0.05ms '_get_speech_labels_from_decoded_prediction'\n",
      "0.61ms '_get_diar_segments'\n",
      "2.04ms 'getReducedMat'\n",
      "1.33ms 'matchNewOldclusterLabels'\n",
      "71.23ms '_online_diarization'\n",
      "[NeMo I 2021-10-18 17:07:29 streaming_asr_and_diar:1361] Streaming Diar [arm_talk_16k][frame-  554th  ]:\n"
     ]
    },
    {
     "name": "stderr",
     "output_type": "stream",
     "text": [
      "[NeMo W 2021-10-18 17:07:30 nmse_clustering:276] Graph is not fully connected and the clustering result might not be accurate.\n"
     ]
    },
    {
     "name": "stdout",
     "output_type": "stream",
     "text": [
      "217.59ms 'run_ASR_model'\n",
      "0.05ms '_get_speech_labels_from_decoded_prediction'\n",
      "0.70ms '_get_diar_segments'\n",
      "1.96ms 'getReducedMat'\n",
      "1.31ms 'matchNewOldclusterLabels'\n",
      "71.38ms '_online_diarization'\n",
      "[NeMo I 2021-10-18 17:07:30 streaming_asr_and_diar:1361] Streaming Diar [arm_talk_16k][frame-  555th  ]:\n"
     ]
    },
    {
     "name": "stderr",
     "output_type": "stream",
     "text": [
      "[NeMo W 2021-10-18 17:07:31 nmse_clustering:276] Graph is not fully connected and the clustering result might not be accurate.\n"
     ]
    },
    {
     "name": "stdout",
     "output_type": "stream",
     "text": [
      "228.63ms 'run_ASR_model'\n",
      "0.05ms '_get_speech_labels_from_decoded_prediction'\n",
      "0.80ms '_get_diar_segments'\n",
      "2.12ms 'getReducedMat'\n",
      "1.29ms 'matchNewOldclusterLabels'\n",
      "82.65ms '_online_diarization'\n",
      "[NeMo I 2021-10-18 17:07:31 streaming_asr_and_diar:1361] Streaming Diar [arm_talk_16k][frame-  556th  ]:\n"
     ]
    },
    {
     "name": "stderr",
     "output_type": "stream",
     "text": [
      "[NeMo W 2021-10-18 17:07:32 nmse_clustering:276] Graph is not fully connected and the clustering result might not be accurate.\n"
     ]
    },
    {
     "name": "stdout",
     "output_type": "stream",
     "text": [
      "217.39ms 'run_ASR_model'\n",
      "0.07ms '_get_speech_labels_from_decoded_prediction'\n",
      "0.81ms '_get_diar_segments'\n",
      "2.00ms 'getReducedMat'\n",
      "1.28ms 'matchNewOldclusterLabels'\n",
      "70.15ms '_online_diarization'\n",
      "[NeMo I 2021-10-18 17:07:32 streaming_asr_and_diar:1361] Streaming Diar [arm_talk_16k][frame-  557th  ]:\n"
     ]
    },
    {
     "name": "stderr",
     "output_type": "stream",
     "text": [
      "[NeMo W 2021-10-18 17:07:33 nmse_clustering:276] Graph is not fully connected and the clustering result might not be accurate.\n"
     ]
    },
    {
     "name": "stdout",
     "output_type": "stream",
     "text": [
      "230.08ms 'run_ASR_model'\n",
      "0.09ms '_get_speech_labels_from_decoded_prediction'\n",
      "0.81ms '_get_diar_segments'\n",
      "1.80ms 'getReducedMat'\n",
      "0.97ms 'matchNewOldclusterLabels'\n",
      "64.94ms '_online_diarization'\n",
      "[NeMo I 2021-10-18 17:07:33 streaming_asr_and_diar:1361] Streaming Diar [arm_talk_16k][frame-  558th  ]:\n"
     ]
    },
    {
     "name": "stderr",
     "output_type": "stream",
     "text": [
      "[NeMo W 2021-10-18 17:07:34 nmse_clustering:276] Graph is not fully connected and the clustering result might not be accurate.\n"
     ]
    },
    {
     "name": "stdout",
     "output_type": "stream",
     "text": [
      "210.04ms 'run_ASR_model'\n",
      "0.07ms '_get_speech_labels_from_decoded_prediction'\n",
      "0.93ms '_get_diar_segments'\n",
      "2.06ms 'getReducedMat'\n",
      "1.29ms 'matchNewOldclusterLabels'\n",
      "83.10ms '_online_diarization'\n",
      "[NeMo I 2021-10-18 17:07:34 streaming_asr_and_diar:1361] Streaming Diar [arm_talk_16k][frame-  559th  ]:\n"
     ]
    },
    {
     "name": "stderr",
     "output_type": "stream",
     "text": [
      "[NeMo W 2021-10-18 17:07:35 nmse_clustering:276] Graph is not fully connected and the clustering result might not be accurate.\n"
     ]
    },
    {
     "name": "stdout",
     "output_type": "stream",
     "text": [
      "217.83ms 'run_ASR_model'\n",
      "0.08ms '_get_speech_labels_from_decoded_prediction'\n",
      "0.54ms '_get_diar_segments'\n",
      "2.08ms 'getReducedMat'\n",
      "1.32ms 'matchNewOldclusterLabels'\n",
      "71.16ms '_online_diarization'\n",
      "[NeMo I 2021-10-18 17:07:35 streaming_asr_and_diar:1361] Streaming Diar [arm_talk_16k][frame-  560th  ]:\n"
     ]
    },
    {
     "name": "stderr",
     "output_type": "stream",
     "text": [
      "[NeMo W 2021-10-18 17:07:36 nmse_clustering:276] Graph is not fully connected and the clustering result might not be accurate.\n"
     ]
    },
    {
     "name": "stdout",
     "output_type": "stream",
     "text": [
      "217.75ms 'run_ASR_model'\n",
      "0.08ms '_get_speech_labels_from_decoded_prediction'\n",
      "0.42ms '_get_diar_segments'\n",
      "1.93ms 'getReducedMat'\n",
      "1.30ms 'matchNewOldclusterLabels'\n",
      "69.42ms '_online_diarization'\n",
      "[NeMo I 2021-10-18 17:07:36 streaming_asr_and_diar:1361] Streaming Diar [arm_talk_16k][frame-  561th  ]:\n"
     ]
    },
    {
     "name": "stderr",
     "output_type": "stream",
     "text": [
      "[NeMo W 2021-10-18 17:07:37 nmse_clustering:276] Graph is not fully connected and the clustering result might not be accurate.\n"
     ]
    },
    {
     "name": "stdout",
     "output_type": "stream",
     "text": [
      "217.29ms 'run_ASR_model'\n",
      "0.07ms '_get_speech_labels_from_decoded_prediction'\n",
      "0.81ms '_get_diar_segments'\n",
      "2.02ms 'getReducedMat'\n",
      "1.22ms 'matchNewOldclusterLabels'\n",
      "70.38ms '_online_diarization'\n",
      "[NeMo I 2021-10-18 17:07:37 streaming_asr_and_diar:1361] Streaming Diar [arm_talk_16k][frame-  562th  ]:\n"
     ]
    },
    {
     "name": "stderr",
     "output_type": "stream",
     "text": [
      "[NeMo W 2021-10-18 17:07:38 nmse_clustering:276] Graph is not fully connected and the clustering result might not be accurate.\n"
     ]
    },
    {
     "name": "stdout",
     "output_type": "stream",
     "text": [
      "223.55ms 'run_ASR_model'\n",
      "0.08ms '_get_speech_labels_from_decoded_prediction'\n",
      "0.57ms '_get_diar_segments'\n",
      "1.76ms 'getReducedMat'\n",
      "1.00ms 'matchNewOldclusterLabels'\n",
      "68.55ms '_online_diarization'\n",
      "[NeMo I 2021-10-18 17:07:38 streaming_asr_and_diar:1361] Streaming Diar [arm_talk_16k][frame-  563th  ]:\n"
     ]
    },
    {
     "name": "stderr",
     "output_type": "stream",
     "text": [
      "[NeMo W 2021-10-18 17:07:39 nmse_clustering:276] Graph is not fully connected and the clustering result might not be accurate.\n"
     ]
    },
    {
     "name": "stdout",
     "output_type": "stream",
     "text": [
      "213.15ms 'run_ASR_model'\n",
      "0.09ms '_get_speech_labels_from_decoded_prediction'\n",
      "0.81ms '_get_diar_segments'\n",
      "1.97ms 'getReducedMat'\n",
      "1.33ms 'matchNewOldclusterLabels'\n",
      "71.03ms '_online_diarization'\n",
      "[NeMo I 2021-10-18 17:07:39 streaming_asr_and_diar:1361] Streaming Diar [arm_talk_16k][frame-  564th  ]:\n"
     ]
    },
    {
     "name": "stderr",
     "output_type": "stream",
     "text": [
      "[NeMo W 2021-10-18 17:07:40 nmse_clustering:276] Graph is not fully connected and the clustering result might not be accurate.\n"
     ]
    },
    {
     "name": "stdout",
     "output_type": "stream",
     "text": [
      "224.25ms 'run_ASR_model'\n",
      "0.14ms '_get_speech_labels_from_decoded_prediction'\n",
      "0.92ms '_get_diar_segments'\n",
      "2.06ms 'getReducedMat'\n",
      "1.29ms 'matchNewOldclusterLabels'\n",
      "74.77ms '_online_diarization'\n",
      "[NeMo I 2021-10-18 17:07:40 streaming_asr_and_diar:1361] Streaming Diar [arm_talk_16k][frame-  565th  ]:\n"
     ]
    },
    {
     "name": "stderr",
     "output_type": "stream",
     "text": [
      "[NeMo W 2021-10-18 17:07:41 nmse_clustering:276] Graph is not fully connected and the clustering result might not be accurate.\n"
     ]
    },
    {
     "name": "stdout",
     "output_type": "stream",
     "text": [
      "216.39ms 'run_ASR_model'\n",
      "0.05ms '_get_speech_labels_from_decoded_prediction'\n",
      "0.86ms '_get_diar_segments'\n",
      "2.05ms 'getReducedMat'\n",
      "1.31ms 'matchNewOldclusterLabels'\n",
      "71.71ms '_online_diarization'\n",
      "[NeMo I 2021-10-18 17:07:41 streaming_asr_and_diar:1361] Streaming Diar [arm_talk_16k][frame-  566th  ]:\n"
     ]
    },
    {
     "name": "stderr",
     "output_type": "stream",
     "text": [
      "[NeMo W 2021-10-18 17:07:42 nmse_clustering:276] Graph is not fully connected and the clustering result might not be accurate.\n"
     ]
    },
    {
     "name": "stdout",
     "output_type": "stream",
     "text": [
      "233.87ms 'run_ASR_model'\n",
      "0.05ms '_get_speech_labels_from_decoded_prediction'\n",
      "0.83ms '_get_diar_segments'\n",
      "2.07ms 'getReducedMat'\n",
      "1.49ms 'matchNewOldclusterLabels'\n",
      "78.40ms '_online_diarization'\n",
      "[NeMo I 2021-10-18 17:07:42 streaming_asr_and_diar:1361] Streaming Diar [arm_talk_16k][frame-  567th  ]:\n"
     ]
    },
    {
     "name": "stderr",
     "output_type": "stream",
     "text": [
      "[NeMo W 2021-10-18 17:07:43 nmse_clustering:276] Graph is not fully connected and the clustering result might not be accurate.\n"
     ]
    },
    {
     "name": "stdout",
     "output_type": "stream",
     "text": [
      "217.75ms 'run_ASR_model'\n",
      "0.05ms '_get_speech_labels_from_decoded_prediction'\n",
      "0.83ms '_get_diar_segments'\n",
      "2.06ms 'getReducedMat'\n",
      "1.23ms 'matchNewOldclusterLabels'\n",
      "71.15ms '_online_diarization'\n",
      "[NeMo I 2021-10-18 17:07:43 streaming_asr_and_diar:1361] Streaming Diar [arm_talk_16k][frame-  568th  ]:\n"
     ]
    },
    {
     "name": "stderr",
     "output_type": "stream",
     "text": [
      "[NeMo W 2021-10-18 17:07:44 nmse_clustering:276] Graph is not fully connected and the clustering result might not be accurate.\n"
     ]
    },
    {
     "name": "stdout",
     "output_type": "stream",
     "text": [
      "206.40ms 'run_ASR_model'\n",
      "0.05ms '_get_speech_labels_from_decoded_prediction'\n",
      "0.69ms '_get_diar_segments'\n",
      "2.02ms 'getReducedMat'\n",
      "1.32ms 'matchNewOldclusterLabels'\n",
      "71.53ms '_online_diarization'\n",
      "[NeMo I 2021-10-18 17:07:44 streaming_asr_and_diar:1361] Streaming Diar [arm_talk_16k][frame-  569th  ]:\n"
     ]
    },
    {
     "name": "stderr",
     "output_type": "stream",
     "text": [
      "[NeMo W 2021-10-18 17:07:45 nmse_clustering:276] Graph is not fully connected and the clustering result might not be accurate.\n"
     ]
    },
    {
     "name": "stdout",
     "output_type": "stream",
     "text": [
      "230.54ms 'run_ASR_model'\n",
      "0.06ms '_get_speech_labels_from_decoded_prediction'\n",
      "0.84ms '_get_diar_segments'\n",
      "2.00ms 'getReducedMat'\n",
      "1.30ms 'matchNewOldclusterLabels'\n",
      "72.19ms '_online_diarization'\n",
      "[NeMo I 2021-10-18 17:07:45 streaming_asr_and_diar:1361] Streaming Diar [arm_talk_16k][frame-  570th  ]:\n"
     ]
    },
    {
     "name": "stderr",
     "output_type": "stream",
     "text": [
      "[NeMo W 2021-10-18 17:07:46 nmse_clustering:276] Graph is not fully connected and the clustering result might not be accurate.\n"
     ]
    },
    {
     "name": "stdout",
     "output_type": "stream",
     "text": [
      "228.94ms 'run_ASR_model'\n",
      "0.05ms '_get_speech_labels_from_decoded_prediction'\n",
      "0.32ms '_get_diar_segments'\n",
      "2.08ms 'getReducedMat'\n",
      "1.21ms 'matchNewOldclusterLabels'\n",
      "72.62ms '_online_diarization'\n",
      "[NeMo I 2021-10-18 17:07:46 streaming_asr_and_diar:1361] Streaming Diar [arm_talk_16k][frame-  571th  ]:\n"
     ]
    },
    {
     "name": "stderr",
     "output_type": "stream",
     "text": [
      "[NeMo W 2021-10-18 17:07:47 nmse_clustering:276] Graph is not fully connected and the clustering result might not be accurate.\n"
     ]
    },
    {
     "name": "stdout",
     "output_type": "stream",
     "text": [
      "217.14ms 'run_ASR_model'\n",
      "0.08ms '_get_speech_labels_from_decoded_prediction'\n",
      "0.55ms '_get_diar_segments'\n",
      "2.02ms 'getReducedMat'\n",
      "1.32ms 'matchNewOldclusterLabels'\n",
      "71.13ms '_online_diarization'\n",
      "[NeMo I 2021-10-18 17:07:47 streaming_asr_and_diar:1361] Streaming Diar [arm_talk_16k][frame-  572th  ]:\n"
     ]
    },
    {
     "name": "stderr",
     "output_type": "stream",
     "text": [
      "[NeMo W 2021-10-18 17:07:48 nmse_clustering:276] Graph is not fully connected and the clustering result might not be accurate.\n"
     ]
    },
    {
     "name": "stdout",
     "output_type": "stream",
     "text": [
      "219.84ms 'run_ASR_model'\n",
      "0.06ms '_get_speech_labels_from_decoded_prediction'\n",
      "1.09ms '_get_diar_segments'\n",
      "3.75ms 'getReducedMat'\n",
      "1.27ms 'matchNewOldclusterLabels'\n",
      "96.89ms '_online_diarization'\n",
      "[NeMo I 2021-10-18 17:07:48 streaming_asr_and_diar:1361] Streaming Diar [arm_talk_16k][frame-  573th  ]:\n"
     ]
    },
    {
     "name": "stderr",
     "output_type": "stream",
     "text": [
      "[NeMo W 2021-10-18 17:07:49 nmse_clustering:276] Graph is not fully connected and the clustering result might not be accurate.\n"
     ]
    },
    {
     "name": "stdout",
     "output_type": "stream",
     "text": [
      "227.93ms 'run_ASR_model'\n",
      "0.05ms '_get_speech_labels_from_decoded_prediction'\n",
      "0.84ms '_get_diar_segments'\n",
      "2.12ms 'getReducedMat'\n",
      "1.31ms 'matchNewOldclusterLabels'\n",
      "73.30ms '_online_diarization'\n",
      "[NeMo I 2021-10-18 17:07:49 streaming_asr_and_diar:1361] Streaming Diar [arm_talk_16k][frame-  574th  ]:\n"
     ]
    },
    {
     "name": "stderr",
     "output_type": "stream",
     "text": [
      "[NeMo W 2021-10-18 17:07:50 nmse_clustering:276] Graph is not fully connected and the clustering result might not be accurate.\n"
     ]
    },
    {
     "name": "stdout",
     "output_type": "stream",
     "text": [
      "217.16ms 'run_ASR_model'\n",
      "0.05ms '_get_speech_labels_from_decoded_prediction'\n",
      "0.82ms '_get_diar_segments'\n",
      "2.07ms 'getReducedMat'\n",
      "1.31ms 'matchNewOldclusterLabels'\n",
      "71.24ms '_online_diarization'\n",
      "[NeMo I 2021-10-18 17:07:50 streaming_asr_and_diar:1361] Streaming Diar [arm_talk_16k][frame-  575th  ]:\n"
     ]
    },
    {
     "name": "stderr",
     "output_type": "stream",
     "text": [
      "[NeMo W 2021-10-18 17:07:51 nmse_clustering:276] Graph is not fully connected and the clustering result might not be accurate.\n"
     ]
    },
    {
     "name": "stdout",
     "output_type": "stream",
     "text": [
      "232.40ms 'run_ASR_model'\n",
      "0.05ms '_get_speech_labels_from_decoded_prediction'\n",
      "0.82ms '_get_diar_segments'\n",
      "2.00ms 'getReducedMat'\n",
      "1.25ms 'matchNewOldclusterLabels'\n",
      "71.99ms '_online_diarization'\n",
      "[NeMo I 2021-10-18 17:07:51 streaming_asr_and_diar:1361] Streaming Diar [arm_talk_16k][frame-  576th  ]:\n"
     ]
    },
    {
     "name": "stderr",
     "output_type": "stream",
     "text": [
      "[NeMo W 2021-10-18 17:07:52 nmse_clustering:276] Graph is not fully connected and the clustering result might not be accurate.\n"
     ]
    },
    {
     "name": "stdout",
     "output_type": "stream",
     "text": [
      "217.22ms 'run_ASR_model'\n",
      "0.05ms '_get_speech_labels_from_decoded_prediction'\n",
      "0.85ms '_get_diar_segments'\n",
      "2.13ms 'getReducedMat'\n",
      "0.87ms 'matchNewOldclusterLabels'\n",
      "83.03ms '_online_diarization'\n",
      "[NeMo I 2021-10-18 17:07:52 streaming_asr_and_diar:1361] Streaming Diar [arm_talk_16k][frame-  577th  ]:\n"
     ]
    },
    {
     "name": "stderr",
     "output_type": "stream",
     "text": [
      "[NeMo W 2021-10-18 17:07:53 nmse_clustering:276] Graph is not fully connected and the clustering result might not be accurate.\n"
     ]
    },
    {
     "name": "stdout",
     "output_type": "stream",
     "text": [
      "227.74ms 'run_ASR_model'\n",
      "0.07ms '_get_speech_labels_from_decoded_prediction'\n",
      "0.85ms '_get_diar_segments'\n",
      "2.09ms 'getReducedMat'\n",
      "1.30ms 'matchNewOldclusterLabels'\n",
      "72.03ms '_online_diarization'\n",
      "[NeMo I 2021-10-18 17:07:53 streaming_asr_and_diar:1361] Streaming Diar [arm_talk_16k][frame-  578th  ]:\n"
     ]
    },
    {
     "name": "stderr",
     "output_type": "stream",
     "text": [
      "[NeMo W 2021-10-18 17:07:54 nmse_clustering:276] Graph is not fully connected and the clustering result might not be accurate.\n"
     ]
    },
    {
     "name": "stdout",
     "output_type": "stream",
     "text": [
      "230.31ms 'run_ASR_model'\n",
      "0.05ms '_get_speech_labels_from_decoded_prediction'\n",
      "0.82ms '_get_diar_segments'\n",
      "2.06ms 'getReducedMat'\n",
      "1.31ms 'matchNewOldclusterLabels'\n",
      "72.20ms '_online_diarization'\n",
      "[NeMo I 2021-10-18 17:07:54 streaming_asr_and_diar:1361] Streaming Diar [arm_talk_16k][frame-  579th  ]:\n"
     ]
    },
    {
     "name": "stderr",
     "output_type": "stream",
     "text": [
      "[NeMo W 2021-10-18 17:07:55 nmse_clustering:276] Graph is not fully connected and the clustering result might not be accurate.\n"
     ]
    },
    {
     "name": "stdout",
     "output_type": "stream",
     "text": [
      "216.13ms 'run_ASR_model'\n",
      "0.07ms '_get_speech_labels_from_decoded_prediction'\n",
      "0.83ms '_get_diar_segments'\n",
      "2.13ms 'getReducedMat'\n",
      "1.20ms 'matchNewOldclusterLabels'\n",
      "72.38ms '_online_diarization'\n",
      "[NeMo I 2021-10-18 17:07:55 streaming_asr_and_diar:1361] Streaming Diar [arm_talk_16k][frame-  580th  ]:\n"
     ]
    },
    {
     "name": "stderr",
     "output_type": "stream",
     "text": [
      "[NeMo W 2021-10-18 17:07:56 nmse_clustering:276] Graph is not fully connected and the clustering result might not be accurate.\n"
     ]
    },
    {
     "name": "stdout",
     "output_type": "stream",
     "text": [
      "223.64ms 'run_ASR_model'\n",
      "0.05ms '_get_speech_labels_from_decoded_prediction'\n",
      "0.62ms '_get_diar_segments'\n",
      "2.17ms 'getReducedMat'\n",
      "1.30ms 'matchNewOldclusterLabels'\n",
      "75.65ms '_online_diarization'\n",
      "[NeMo I 2021-10-18 17:07:56 streaming_asr_and_diar:1361] Streaming Diar [arm_talk_16k][frame-  581th  ]:\n"
     ]
    },
    {
     "name": "stderr",
     "output_type": "stream",
     "text": [
      "[NeMo W 2021-10-18 17:07:57 nmse_clustering:276] Graph is not fully connected and the clustering result might not be accurate.\n"
     ]
    },
    {
     "name": "stdout",
     "output_type": "stream",
     "text": [
      "227.24ms 'run_ASR_model'\n",
      "0.07ms '_get_speech_labels_from_decoded_prediction'\n",
      "0.58ms '_get_diar_segments'\n",
      "1.68ms 'getReducedMat'\n",
      "1.24ms 'matchNewOldclusterLabels'\n",
      "67.25ms '_online_diarization'\n",
      "[NeMo I 2021-10-18 17:07:57 streaming_asr_and_diar:1361] Streaming Diar [arm_talk_16k][frame-  582th  ]:\n"
     ]
    },
    {
     "name": "stderr",
     "output_type": "stream",
     "text": [
      "[NeMo W 2021-10-18 17:07:58 nmse_clustering:276] Graph is not fully connected and the clustering result might not be accurate.\n"
     ]
    },
    {
     "name": "stdout",
     "output_type": "stream",
     "text": [
      "229.24ms 'run_ASR_model'\n",
      "0.07ms '_get_speech_labels_from_decoded_prediction'\n",
      "0.73ms '_get_diar_segments'\n",
      "1.71ms 'getReducedMat'\n",
      "0.85ms 'matchNewOldclusterLabels'\n",
      "58.16ms '_online_diarization'\n",
      "[NeMo I 2021-10-18 17:07:58 streaming_asr_and_diar:1361] Streaming Diar [arm_talk_16k][frame-  583th  ]:\n"
     ]
    },
    {
     "name": "stderr",
     "output_type": "stream",
     "text": [
      "[NeMo W 2021-10-18 17:07:59 nmse_clustering:276] Graph is not fully connected and the clustering result might not be accurate.\n"
     ]
    },
    {
     "name": "stdout",
     "output_type": "stream",
     "text": [
      "214.25ms 'run_ASR_model'\n",
      "0.07ms '_get_speech_labels_from_decoded_prediction'\n",
      "0.51ms '_get_diar_segments'\n",
      "2.16ms 'getReducedMat'\n",
      "1.35ms 'matchNewOldclusterLabels'\n",
      "73.45ms '_online_diarization'\n",
      "[NeMo I 2021-10-18 17:07:59 streaming_asr_and_diar:1361] Streaming Diar [arm_talk_16k][frame-  584th  ]:\n"
     ]
    },
    {
     "name": "stderr",
     "output_type": "stream",
     "text": [
      "[NeMo W 2021-10-18 17:08:00 nmse_clustering:276] Graph is not fully connected and the clustering result might not be accurate.\n"
     ]
    },
    {
     "name": "stdout",
     "output_type": "stream",
     "text": [
      "204.72ms 'run_ASR_model'\n",
      "0.08ms '_get_speech_labels_from_decoded_prediction'\n",
      "0.81ms '_get_diar_segments'\n",
      "2.03ms 'getReducedMat'\n",
      "1.50ms 'matchNewOldclusterLabels'\n",
      "75.57ms '_online_diarization'\n",
      "[NeMo I 2021-10-18 17:08:00 streaming_asr_and_diar:1361] Streaming Diar [arm_talk_16k][frame-  585th  ]:\n"
     ]
    },
    {
     "name": "stderr",
     "output_type": "stream",
     "text": [
      "[NeMo W 2021-10-18 17:08:01 nmse_clustering:276] Graph is not fully connected and the clustering result might not be accurate.\n"
     ]
    },
    {
     "name": "stdout",
     "output_type": "stream",
     "text": [
      "204.32ms 'run_ASR_model'\n",
      "0.07ms '_get_speech_labels_from_decoded_prediction'\n",
      "0.81ms '_get_diar_segments'\n",
      "2.12ms 'getReducedMat'\n",
      "1.33ms 'matchNewOldclusterLabels'\n",
      "71.40ms '_online_diarization'\n",
      "[NeMo I 2021-10-18 17:08:01 streaming_asr_and_diar:1361] Streaming Diar [arm_talk_16k][frame-  586th  ]:\n"
     ]
    },
    {
     "name": "stderr",
     "output_type": "stream",
     "text": [
      "[NeMo W 2021-10-18 17:08:02 nmse_clustering:276] Graph is not fully connected and the clustering result might not be accurate.\n"
     ]
    },
    {
     "name": "stdout",
     "output_type": "stream",
     "text": [
      "214.48ms 'run_ASR_model'\n",
      "0.07ms '_get_speech_labels_from_decoded_prediction'\n",
      "0.77ms '_get_diar_segments'\n",
      "2.07ms 'getReducedMat'\n",
      "1.29ms 'matchNewOldclusterLabels'\n",
      "72.50ms '_online_diarization'\n",
      "[NeMo I 2021-10-18 17:08:02 streaming_asr_and_diar:1361] Streaming Diar [arm_talk_16k][frame-  587th  ]:\n",
      "234.46ms 'run_ASR_model'\n",
      "0.07ms '_get_speech_labels_from_decoded_prediction'\n",
      "0.82ms '_get_diar_segments'\n",
      "3.03ms 'getReducedMat'\n",
      "1.28ms 'matchNewOldclusterLabels'\n",
      "105.03ms '_online_diarization'\n",
      "[NeMo I 2021-10-18 17:08:03 streaming_asr_and_diar:1361] Streaming Diar [arm_talk_16k][frame-  588th  ]:\n",
      "232.64ms 'run_ASR_model'\n",
      "0.06ms '_get_speech_labels_from_decoded_prediction'\n",
      "0.80ms '_get_diar_segments'\n",
      "2.19ms 'getReducedMat'\n",
      "1.22ms 'matchNewOldclusterLabels'\n",
      "74.51ms '_online_diarization'\n",
      "[NeMo I 2021-10-18 17:08:04 streaming_asr_and_diar:1361] Streaming Diar [arm_talk_16k][frame-  589th  ]:\n",
      "206.29ms 'run_ASR_model'\n",
      "0.05ms '_get_speech_labels_from_decoded_prediction'\n",
      "0.68ms '_get_diar_segments'\n",
      "2.21ms 'getReducedMat'\n",
      "1.33ms 'matchNewOldclusterLabels'\n",
      "74.72ms '_online_diarization'\n",
      "[NeMo I 2021-10-18 17:08:05 streaming_asr_and_diar:1361] Streaming Diar [arm_talk_16k][frame-  590th  ]:\n",
      "214.68ms 'run_ASR_model'\n",
      "0.06ms '_get_speech_labels_from_decoded_prediction'\n",
      "0.82ms '_get_diar_segments'\n",
      "2.32ms 'getReducedMat'\n",
      "1.51ms 'matchNewOldclusterLabels'\n",
      "103.35ms '_online_diarization'\n",
      "[NeMo I 2021-10-18 17:08:06 streaming_asr_and_diar:1361] Streaming Diar [arm_talk_16k][frame-  591th  ]:\n",
      "215.92ms 'run_ASR_model'\n",
      "0.05ms '_get_speech_labels_from_decoded_prediction'\n",
      "0.53ms '_get_diar_segments'\n",
      "1.71ms 'getReducedMat'\n",
      "0.84ms 'matchNewOldclusterLabels'\n",
      "60.38ms '_online_diarization'\n",
      "[NeMo I 2021-10-18 17:08:07 streaming_asr_and_diar:1361] Streaming Diar [arm_talk_16k][frame-  592th  ]:\n",
      "220.18ms 'run_ASR_model'\n",
      "0.07ms '_get_speech_labels_from_decoded_prediction'\n",
      "0.54ms '_get_diar_segments'\n",
      "2.17ms 'getReducedMat'\n",
      "1.30ms 'matchNewOldclusterLabels'\n",
      "74.53ms '_online_diarization'\n",
      "[NeMo I 2021-10-18 17:08:08 streaming_asr_and_diar:1361] Streaming Diar [arm_talk_16k][frame-  593th  ]:\n",
      "211.79ms 'run_ASR_model'\n",
      "0.07ms '_get_speech_labels_from_decoded_prediction'\n",
      "0.54ms '_get_diar_segments'\n",
      "2.10ms 'getReducedMat'\n",
      "1.30ms 'matchNewOldclusterLabels'\n",
      "72.86ms '_online_diarization'\n",
      "[NeMo I 2021-10-18 17:08:09 streaming_asr_and_diar:1361] Streaming Diar [arm_talk_16k][frame-  594th  ]:\n",
      "214.66ms 'run_ASR_model'\n",
      "0.05ms '_get_speech_labels_from_decoded_prediction'\n",
      "0.65ms '_get_diar_segments'\n",
      "1.23ms 'getReducedMat'\n",
      "1.21ms 'matchNewOldclusterLabels'\n",
      "72.90ms '_online_diarization'\n",
      "[NeMo I 2021-10-18 17:08:10 streaming_asr_and_diar:1361] Streaming Diar [arm_talk_16k][frame-  595th  ]:\n",
      "217.30ms 'run_ASR_model'\n",
      "0.05ms '_get_speech_labels_from_decoded_prediction'\n",
      "0.81ms '_get_diar_segments'\n",
      "1.81ms 'getReducedMat'\n",
      "0.93ms 'matchNewOldclusterLabels'\n",
      "62.23ms '_online_diarization'\n",
      "[NeMo I 2021-10-18 17:08:11 streaming_asr_and_diar:1361] Streaming Diar [arm_talk_16k][frame-  596th  ]:\n",
      "221.48ms 'run_ASR_model'\n",
      "0.05ms '_get_speech_labels_from_decoded_prediction'\n",
      "0.84ms '_get_diar_segments'\n",
      "1.73ms 'getReducedMat'\n",
      "0.85ms 'matchNewOldclusterLabels'\n",
      "60.81ms '_online_diarization'\n",
      "[NeMo I 2021-10-18 17:08:12 streaming_asr_and_diar:1361] Streaming Diar [arm_talk_16k][frame-  597th  ]:\n",
      "216.44ms 'run_ASR_model'\n",
      "0.05ms '_get_speech_labels_from_decoded_prediction'\n",
      "0.31ms '_get_diar_segments'\n",
      "2.24ms 'getReducedMat'\n",
      "1.32ms 'matchNewOldclusterLabels'\n",
      "75.86ms '_online_diarization'\n",
      "[NeMo I 2021-10-18 17:08:13 streaming_asr_and_diar:1361] Streaming Diar [arm_talk_16k][frame-  598th  ]:\n",
      "212.30ms 'run_ASR_model'\n",
      "0.05ms '_get_speech_labels_from_decoded_prediction'\n",
      "0.45ms '_get_diar_segments'\n",
      "2.12ms 'getReducedMat'\n",
      "1.02ms 'matchNewOldclusterLabels'\n",
      "69.46ms '_online_diarization'\n",
      "[NeMo I 2021-10-18 17:08:14 streaming_asr_and_diar:1361] Streaming Diar [arm_talk_16k][frame-  599th  ]:\n",
      "225.56ms 'run_ASR_model'\n",
      "0.05ms '_get_speech_labels_from_decoded_prediction'\n",
      "0.54ms '_get_diar_segments'\n",
      "2.21ms 'getReducedMat'\n",
      "1.31ms 'matchNewOldclusterLabels'\n",
      "76.01ms '_online_diarization'\n",
      "[NeMo I 2021-10-18 17:08:15 streaming_asr_and_diar:1361] Streaming Diar [arm_talk_16k][frame-  600th  ]:\n",
      "217.20ms 'run_ASR_model'\n",
      "0.09ms '_get_speech_labels_from_decoded_prediction'\n",
      "0.94ms '_get_diar_segments'\n",
      "1.77ms 'getReducedMat'\n",
      "0.88ms 'matchNewOldclusterLabels'\n",
      "67.06ms '_online_diarization'\n",
      "[NeMo I 2021-10-18 17:08:16 streaming_asr_and_diar:1361] Streaming Diar [arm_talk_16k][frame-  601th  ]:\n",
      "216.19ms 'run_ASR_model'\n",
      "0.08ms '_get_speech_labels_from_decoded_prediction'\n",
      "0.61ms '_get_diar_segments'\n",
      "2.12ms 'getReducedMat'\n",
      "1.31ms 'matchNewOldclusterLabels'\n",
      "74.74ms '_online_diarization'\n",
      "[NeMo I 2021-10-18 17:08:17 streaming_asr_and_diar:1361] Streaming Diar [arm_talk_16k][frame-  602th  ]:\n",
      "219.01ms 'run_ASR_model'\n",
      "0.07ms '_get_speech_labels_from_decoded_prediction'\n",
      "0.62ms '_get_diar_segments'\n",
      "2.23ms 'getReducedMat'\n",
      "1.31ms 'matchNewOldclusterLabels'\n",
      "74.73ms '_online_diarization'\n",
      "[NeMo I 2021-10-18 17:08:18 streaming_asr_and_diar:1361] Streaming Diar [arm_talk_16k][frame-  603th  ]:\n",
      "206.58ms 'run_ASR_model'\n",
      "0.05ms '_get_speech_labels_from_decoded_prediction'\n",
      "0.84ms '_get_diar_segments'\n",
      "2.19ms 'getReducedMat'\n",
      "1.32ms 'matchNewOldclusterLabels'\n",
      "75.40ms '_online_diarization'\n",
      "[NeMo I 2021-10-18 17:08:19 streaming_asr_and_diar:1361] Streaming Diar [arm_talk_16k][frame-  604th  ]:\n",
      "214.82ms 'run_ASR_model'\n",
      "0.07ms '_get_speech_labels_from_decoded_prediction'\n",
      "1.06ms '_get_diar_segments'\n",
      "2.13ms 'getReducedMat'\n",
      "1.32ms 'matchNewOldclusterLabels'\n",
      "74.98ms '_online_diarization'\n",
      "[NeMo I 2021-10-18 17:08:20 streaming_asr_and_diar:1361] Streaming Diar [arm_talk_16k][frame-  605th  ]:\n",
      "217.47ms 'run_ASR_model'\n",
      "0.04ms '_get_speech_labels_from_decoded_prediction'\n",
      "0.82ms '_get_diar_segments'\n",
      "2.17ms 'getReducedMat'\n",
      "1.30ms 'matchNewOldclusterLabels'\n",
      "86.30ms '_online_diarization'\n",
      "[NeMo I 2021-10-18 17:08:21 streaming_asr_and_diar:1361] Streaming Diar [arm_talk_16k][frame-  606th  ]:\n",
      "219.09ms 'run_ASR_model'\n",
      "0.05ms '_get_speech_labels_from_decoded_prediction'\n",
      "0.83ms '_get_diar_segments'\n",
      "2.30ms 'getReducedMat'\n",
      "1.29ms 'matchNewOldclusterLabels'\n",
      "74.33ms '_online_diarization'\n",
      "[NeMo I 2021-10-18 17:08:22 streaming_asr_and_diar:1361] Streaming Diar [arm_talk_16k][frame-  607th  ]:\n",
      "206.82ms 'run_ASR_model'\n",
      "0.05ms '_get_speech_labels_from_decoded_prediction'\n",
      "0.84ms '_get_diar_segments'\n",
      "2.10ms 'getReducedMat'\n",
      "1.60ms 'matchNewOldclusterLabels'\n",
      "63.42ms '_online_diarization'\n",
      "[NeMo I 2021-10-18 17:08:23 streaming_asr_and_diar:1361] Streaming Diar [arm_talk_16k][frame-  608th  ]:\n",
      "205.43ms 'run_ASR_model'\n",
      "0.05ms '_get_speech_labels_from_decoded_prediction'\n",
      "0.55ms '_get_diar_segments'\n",
      "2.25ms 'getReducedMat'\n",
      "1.29ms 'matchNewOldclusterLabels'\n",
      "74.53ms '_online_diarization'\n",
      "[NeMo I 2021-10-18 17:08:24 streaming_asr_and_diar:1361] Streaming Diar [arm_talk_16k][frame-  609th  ]:\n",
      "216.86ms 'run_ASR_model'\n",
      "0.05ms '_get_speech_labels_from_decoded_prediction'\n",
      "1.01ms '_get_diar_segments'\n",
      "2.26ms 'getReducedMat'\n",
      "1.33ms 'matchNewOldclusterLabels'\n",
      "76.12ms '_online_diarization'\n",
      "[NeMo I 2021-10-18 17:08:25 streaming_asr_and_diar:1361] Streaming Diar [arm_talk_16k][frame-  610th  ]:\n",
      "223.48ms 'run_ASR_model'\n",
      "0.13ms '_get_speech_labels_from_decoded_prediction'\n",
      "0.84ms '_get_diar_segments'\n",
      "2.24ms 'getReducedMat'\n",
      "1.38ms 'matchNewOldclusterLabels'\n",
      "85.17ms '_online_diarization'\n",
      "[NeMo I 2021-10-18 17:08:26 streaming_asr_and_diar:1361] Streaming Diar [arm_talk_16k][frame-  611th  ]:\n",
      "219.57ms 'run_ASR_model'\n",
      "0.04ms '_get_speech_labels_from_decoded_prediction'\n",
      "0.83ms '_get_diar_segments'\n",
      "2.24ms 'getReducedMat'\n",
      "1.30ms 'matchNewOldclusterLabels'\n",
      "74.70ms '_online_diarization'\n",
      "[NeMo I 2021-10-18 17:08:27 streaming_asr_and_diar:1361] Streaming Diar [arm_talk_16k][frame-  612th  ]:\n",
      "215.98ms 'run_ASR_model'\n",
      "0.04ms '_get_speech_labels_from_decoded_prediction'\n",
      "0.85ms '_get_diar_segments'\n",
      "2.21ms 'getReducedMat'\n",
      "1.29ms 'matchNewOldclusterLabels'\n",
      "75.85ms '_online_diarization'\n",
      "[NeMo I 2021-10-18 17:08:28 streaming_asr_and_diar:1361] Streaming Diar [arm_talk_16k][frame-  613th  ]:\n",
      "202.03ms 'run_ASR_model'\n",
      "0.04ms '_get_speech_labels_from_decoded_prediction'\n",
      "0.82ms '_get_diar_segments'\n",
      "2.16ms 'getReducedMat'\n",
      "1.19ms 'matchNewOldclusterLabels'\n",
      "74.09ms '_online_diarization'\n",
      "[NeMo I 2021-10-18 17:08:29 streaming_asr_and_diar:1361] Streaming Diar [arm_talk_16k][frame-  614th  ]:\n"
     ]
    },
    {
     "name": "stdout",
     "output_type": "stream",
     "text": [
      "219.06ms 'run_ASR_model'\n",
      "0.04ms '_get_speech_labels_from_decoded_prediction'\n",
      "0.91ms '_get_diar_segments'\n",
      "2.27ms 'getReducedMat'\n",
      "1.29ms 'matchNewOldclusterLabels'\n",
      "86.69ms '_online_diarization'\n",
      "[NeMo I 2021-10-18 17:08:30 streaming_asr_and_diar:1361] Streaming Diar [arm_talk_16k][frame-  615th  ]:\n",
      "230.14ms 'run_ASR_model'\n",
      "0.04ms '_get_speech_labels_from_decoded_prediction'\n",
      "0.82ms '_get_diar_segments'\n",
      "2.25ms 'getReducedMat'\n",
      "1.30ms 'matchNewOldclusterLabels'\n",
      "74.01ms '_online_diarization'\n",
      "[NeMo I 2021-10-18 17:08:31 streaming_asr_and_diar:1361] Streaming Diar [arm_talk_16k][frame-  616th  ]:\n",
      "221.16ms 'run_ASR_model'\n",
      "0.05ms '_get_speech_labels_from_decoded_prediction'\n",
      "0.89ms '_get_diar_segments'\n",
      "2.16ms 'getReducedMat'\n",
      "1.20ms 'matchNewOldclusterLabels'\n",
      "74.39ms '_online_diarization'\n",
      "[NeMo I 2021-10-18 17:08:32 streaming_asr_and_diar:1361] Streaming Diar [arm_talk_16k][frame-  617th  ]:\n",
      "219.77ms 'run_ASR_model'\n",
      "0.09ms '_get_speech_labels_from_decoded_prediction'\n",
      "0.82ms '_get_diar_segments'\n",
      "2.22ms 'getReducedMat'\n",
      "1.32ms 'matchNewOldclusterLabels'\n",
      "75.14ms '_online_diarization'\n",
      "[NeMo I 2021-10-18 17:08:33 streaming_asr_and_diar:1361] Streaming Diar [arm_talk_16k][frame-  618th  ]:\n"
     ]
    },
    {
     "name": "stderr",
     "output_type": "stream",
     "text": [
      "[NeMo W 2021-10-18 17:08:34 nmse_clustering:276] Graph is not fully connected and the clustering result might not be accurate.\n"
     ]
    },
    {
     "name": "stdout",
     "output_type": "stream",
     "text": [
      "226.79ms 'run_ASR_model'\n",
      "0.10ms '_get_speech_labels_from_decoded_prediction'\n",
      "0.55ms '_get_diar_segments'\n",
      "2.26ms 'getReducedMat'\n",
      "1.29ms 'matchNewOldclusterLabels'\n",
      "81.89ms '_online_diarization'\n",
      "[NeMo I 2021-10-18 17:08:34 streaming_asr_and_diar:1361] Streaming Diar [arm_talk_16k][frame-  619th  ]:\n"
     ]
    },
    {
     "name": "stderr",
     "output_type": "stream",
     "text": [
      "[NeMo W 2021-10-18 17:08:35 nmse_clustering:276] Graph is not fully connected and the clustering result might not be accurate.\n"
     ]
    },
    {
     "name": "stdout",
     "output_type": "stream",
     "text": [
      "215.40ms 'run_ASR_model'\n",
      "0.08ms '_get_speech_labels_from_decoded_prediction'\n",
      "0.82ms '_get_diar_segments'\n",
      "1.34ms 'getReducedMat'\n",
      "1.29ms 'matchNewOldclusterLabels'\n",
      "72.67ms '_online_diarization'\n",
      "[NeMo I 2021-10-18 17:08:35 streaming_asr_and_diar:1361] Streaming Diar [arm_talk_16k][frame-  620th  ]:\n",
      "225.23ms 'run_ASR_model'\n",
      "0.08ms '_get_speech_labels_from_decoded_prediction'\n",
      "0.81ms '_get_diar_segments'\n",
      "1.92ms 'getReducedMat'\n",
      "0.88ms 'matchNewOldclusterLabels'\n",
      "64.47ms '_online_diarization'\n",
      "[NeMo I 2021-10-18 17:08:36 streaming_asr_and_diar:1361] Streaming Diar [arm_talk_16k][frame-  621th  ]:\n",
      "204.72ms 'run_ASR_model'\n",
      "0.08ms '_get_speech_labels_from_decoded_prediction'\n",
      "0.69ms '_get_diar_segments'\n",
      "2.23ms 'getReducedMat'\n",
      "1.29ms 'matchNewOldclusterLabels'\n",
      "75.51ms '_online_diarization'\n",
      "[NeMo I 2021-10-18 17:08:37 streaming_asr_and_diar:1361] Streaming Diar [arm_talk_16k][frame-  622th  ]:\n",
      "214.16ms 'run_ASR_model'\n",
      "0.08ms '_get_speech_labels_from_decoded_prediction'\n",
      "0.81ms '_get_diar_segments'\n",
      "2.18ms 'getReducedMat'\n",
      "1.32ms 'matchNewOldclusterLabels'\n",
      "75.69ms '_online_diarization'\n",
      "[NeMo I 2021-10-18 17:08:38 streaming_asr_and_diar:1361] Streaming Diar [arm_talk_16k][frame-  623th  ]:\n",
      "215.77ms 'run_ASR_model'\n",
      "0.07ms '_get_speech_labels_from_decoded_prediction'\n",
      "0.83ms '_get_diar_segments'\n",
      "2.25ms 'getReducedMat'\n",
      "1.30ms 'matchNewOldclusterLabels'\n",
      "74.36ms '_online_diarization'\n",
      "[NeMo I 2021-10-18 17:08:39 streaming_asr_and_diar:1361] Streaming Diar [arm_talk_16k][frame-  624th  ]:\n",
      "217.09ms 'run_ASR_model'\n",
      "0.05ms '_get_speech_labels_from_decoded_prediction'\n",
      "0.82ms '_get_diar_segments'\n",
      "1.38ms 'getReducedMat'\n",
      "1.20ms 'matchNewOldclusterLabels'\n",
      "72.90ms '_online_diarization'\n",
      "[NeMo I 2021-10-18 17:08:40 streaming_asr_and_diar:1361] Streaming Diar [arm_talk_16k][frame-  625th  ]:\n",
      "214.84ms 'run_ASR_model'\n",
      "0.05ms '_get_speech_labels_from_decoded_prediction'\n",
      "0.52ms '_get_diar_segments'\n",
      "2.21ms 'getReducedMat'\n",
      "1.21ms 'matchNewOldclusterLabels'\n",
      "75.47ms '_online_diarization'\n",
      "[NeMo I 2021-10-18 17:08:41 streaming_asr_and_diar:1361] Streaming Diar [arm_talk_16k][frame-  626th  ]:\n",
      "204.46ms 'run_ASR_model'\n",
      "0.04ms '_get_speech_labels_from_decoded_prediction'\n",
      "0.82ms '_get_diar_segments'\n",
      "2.23ms 'getReducedMat'\n",
      "1.33ms 'matchNewOldclusterLabels'\n",
      "75.12ms '_online_diarization'\n",
      "[NeMo I 2021-10-18 17:08:42 streaming_asr_and_diar:1361] Streaming Diar [arm_talk_16k][frame-  627th  ]:\n",
      "207.99ms 'run_ASR_model'\n",
      "0.04ms '_get_speech_labels_from_decoded_prediction'\n",
      "0.84ms '_get_diar_segments'\n",
      "2.21ms 'getReducedMat'\n",
      "1.32ms 'matchNewOldclusterLabels'\n",
      "75.56ms '_online_diarization'\n",
      "[NeMo I 2021-10-18 17:08:43 streaming_asr_and_diar:1361] Streaming Diar [arm_talk_16k][frame-  628th  ]:\n",
      "232.09ms 'run_ASR_model'\n",
      "0.04ms '_get_speech_labels_from_decoded_prediction'\n",
      "0.69ms '_get_diar_segments'\n",
      "2.30ms 'getReducedMat'\n",
      "1.00ms 'matchNewOldclusterLabels'\n",
      "78.27ms '_online_diarization'\n",
      "[NeMo I 2021-10-18 17:08:44 streaming_asr_and_diar:1361] Streaming Diar [arm_talk_16k][frame-  629th  ]:\n",
      "248.57ms 'run_ASR_model'\n",
      "0.04ms '_get_speech_labels_from_decoded_prediction'\n",
      "1.03ms '_get_diar_segments'\n",
      "2.23ms 'getReducedMat'\n",
      "1.29ms 'matchNewOldclusterLabels'\n",
      "76.17ms '_online_diarization'\n",
      "[NeMo I 2021-10-18 17:08:45 streaming_asr_and_diar:1361] Streaming Diar [arm_talk_16k][frame-  630th  ]:\n",
      "217.76ms 'run_ASR_model'\n",
      "0.04ms '_get_speech_labels_from_decoded_prediction'\n",
      "0.81ms '_get_diar_segments'\n",
      "2.24ms 'getReducedMat'\n",
      "1.32ms 'matchNewOldclusterLabels'\n",
      "76.32ms '_online_diarization'\n",
      "[NeMo I 2021-10-18 17:08:46 streaming_asr_and_diar:1361] Streaming Diar [arm_talk_16k][frame-  631th  ]:\n",
      "212.13ms 'run_ASR_model'\n",
      "0.05ms '_get_speech_labels_from_decoded_prediction'\n",
      "0.82ms '_get_diar_segments'\n",
      "2.29ms 'getReducedMat'\n",
      "1.22ms 'matchNewOldclusterLabels'\n",
      "76.04ms '_online_diarization'\n",
      "[NeMo I 2021-10-18 17:08:47 streaming_asr_and_diar:1361] Streaming Diar [arm_talk_16k][frame-  632th  ]:\n",
      "215.68ms 'run_ASR_model'\n",
      "0.07ms '_get_speech_labels_from_decoded_prediction'\n",
      "0.78ms '_get_diar_segments'\n",
      "2.25ms 'getReducedMat'\n",
      "1.32ms 'matchNewOldclusterLabels'\n",
      "76.17ms '_online_diarization'\n",
      "[NeMo I 2021-10-18 17:08:48 streaming_asr_and_diar:1361] Streaming Diar [arm_talk_16k][frame-  633th  ]:\n",
      "222.48ms 'run_ASR_model'\n",
      "0.05ms '_get_speech_labels_from_decoded_prediction'\n",
      "0.83ms '_get_diar_segments'\n",
      "1.92ms 'getReducedMat'\n",
      "1.08ms 'matchNewOldclusterLabels'\n",
      "74.62ms '_online_diarization'\n",
      "[NeMo I 2021-10-18 17:08:49 streaming_asr_and_diar:1361] Streaming Diar [arm_talk_16k][frame-  634th  ]:\n",
      "216.21ms 'run_ASR_model'\n",
      "0.07ms '_get_speech_labels_from_decoded_prediction'\n",
      "0.82ms '_get_diar_segments'\n",
      "2.27ms 'getReducedMat'\n",
      "0.99ms 'matchNewOldclusterLabels'\n",
      "64.53ms '_online_diarization'\n",
      "[NeMo I 2021-10-18 17:08:50 streaming_asr_and_diar:1361] Streaming Diar [arm_talk_16k][frame-  635th  ]:\n",
      "217.67ms 'run_ASR_model'\n",
      "0.05ms '_get_speech_labels_from_decoded_prediction'\n",
      "0.50ms '_get_diar_segments'\n",
      "1.26ms 'getReducedMat'\n",
      "1.31ms 'matchNewOldclusterLabels'\n",
      "73.22ms '_online_diarization'\n",
      "[NeMo I 2021-10-18 17:08:51 streaming_asr_and_diar:1361] Streaming Diar [arm_talk_16k][frame-  636th  ]:\n",
      "224.00ms 'run_ASR_model'\n",
      "0.04ms '_get_speech_labels_from_decoded_prediction'\n",
      "0.59ms '_get_diar_segments'\n",
      "1.87ms 'getReducedMat'\n",
      "0.85ms 'matchNewOldclusterLabels'\n",
      "61.64ms '_online_diarization'\n",
      "[NeMo I 2021-10-18 17:08:52 streaming_asr_and_diar:1361] Streaming Diar [arm_talk_16k][frame-  637th  ]:\n",
      "206.23ms 'run_ASR_model'\n",
      "0.06ms '_get_speech_labels_from_decoded_prediction'\n",
      "0.81ms '_get_diar_segments'\n",
      "2.48ms 'getReducedMat'\n",
      "1.30ms 'matchNewOldclusterLabels'\n",
      "83.26ms '_online_diarization'\n",
      "[NeMo I 2021-10-18 17:08:53 streaming_asr_and_diar:1361] Streaming Diar [arm_talk_16k][frame-  638th  ]:\n",
      "215.04ms 'run_ASR_model'\n",
      "0.04ms '_get_speech_labels_from_decoded_prediction'\n",
      "0.68ms '_get_diar_segments'\n",
      "2.31ms 'getReducedMat'\n",
      "1.31ms 'matchNewOldclusterLabels'\n",
      "75.33ms '_online_diarization'\n",
      "[NeMo I 2021-10-18 17:08:54 streaming_asr_and_diar:1361] Streaming Diar [arm_talk_16k][frame-  639th  ]:\n",
      "233.55ms 'run_ASR_model'\n",
      "0.06ms '_get_speech_labels_from_decoded_prediction'\n",
      "0.82ms '_get_diar_segments'\n",
      "2.43ms 'getReducedMat'\n",
      "0.90ms 'matchNewOldclusterLabels'\n",
      "90.84ms '_online_diarization'\n",
      "[NeMo I 2021-10-18 17:08:55 streaming_asr_and_diar:1361] Streaming Diar [arm_talk_16k][frame-  640th  ]:\n",
      "215.28ms 'run_ASR_model'\n",
      "0.04ms '_get_speech_labels_from_decoded_prediction'\n",
      "0.55ms '_get_diar_segments'\n",
      "2.32ms 'getReducedMat'\n",
      "1.19ms 'matchNewOldclusterLabels'\n",
      "75.72ms '_online_diarization'\n",
      "[NeMo I 2021-10-18 17:08:56 streaming_asr_and_diar:1361] Streaming Diar [arm_talk_16k][frame-  641th  ]:\n",
      "216.03ms 'run_ASR_model'\n",
      "0.06ms '_get_speech_labels_from_decoded_prediction'\n",
      "0.88ms '_get_diar_segments'\n",
      "2.30ms 'getReducedMat'\n",
      "1.36ms 'matchNewOldclusterLabels'\n",
      "80.90ms '_online_diarization'\n",
      "[NeMo I 2021-10-18 17:08:57 streaming_asr_and_diar:1361] Streaming Diar [arm_talk_16k][frame-  642th  ]:\n",
      "216.56ms 'run_ASR_model'\n",
      "0.07ms '_get_speech_labels_from_decoded_prediction'\n",
      "0.81ms '_get_diar_segments'\n",
      "2.33ms 'getReducedMat'\n",
      "1.31ms 'matchNewOldclusterLabels'\n",
      "84.12ms '_online_diarization'\n",
      "[NeMo I 2021-10-18 17:08:58 streaming_asr_and_diar:1361] Streaming Diar [arm_talk_16k][frame-  643th  ]:\n",
      "210.57ms 'run_ASR_model'\n",
      "0.05ms '_get_speech_labels_from_decoded_prediction'\n",
      "0.38ms '_get_diar_segments'\n",
      "1.89ms 'getReducedMat'\n",
      "0.94ms 'matchNewOldclusterLabels'\n",
      "62.44ms '_online_diarization'\n",
      "[NeMo I 2021-10-18 17:08:59 streaming_asr_and_diar:1361] Streaming Diar [arm_talk_16k][frame-  644th  ]:\n",
      "218.20ms 'run_ASR_model'\n",
      "0.05ms '_get_speech_labels_from_decoded_prediction'\n",
      "0.59ms '_get_diar_segments'\n",
      "2.40ms 'getReducedMat'\n",
      "1.29ms 'matchNewOldclusterLabels'\n",
      "76.80ms '_online_diarization'\n",
      "[NeMo I 2021-10-18 17:09:00 streaming_asr_and_diar:1361] Streaming Diar [arm_talk_16k][frame-  645th  ]:\n",
      "227.94ms 'run_ASR_model'\n",
      "0.06ms '_get_speech_labels_from_decoded_prediction'\n",
      "0.83ms '_get_diar_segments'\n",
      "2.34ms 'getReducedMat'\n",
      "1.31ms 'matchNewOldclusterLabels'\n",
      "76.79ms '_online_diarization'\n",
      "[NeMo I 2021-10-18 17:09:01 streaming_asr_and_diar:1361] Streaming Diar [arm_talk_16k][frame-  646th  ]:\n",
      "218.78ms 'run_ASR_model'\n",
      "0.05ms '_get_speech_labels_from_decoded_prediction'\n",
      "0.82ms '_get_diar_segments'\n",
      "2.27ms 'getReducedMat'\n",
      "1.30ms 'matchNewOldclusterLabels'\n",
      "75.87ms '_online_diarization'\n",
      "[NeMo I 2021-10-18 17:09:02 streaming_asr_and_diar:1361] Streaming Diar [arm_talk_16k][frame-  647th  ]:\n"
     ]
    },
    {
     "name": "stdout",
     "output_type": "stream",
     "text": [
      "218.71ms 'run_ASR_model'\n",
      "0.05ms '_get_speech_labels_from_decoded_prediction'\n",
      "0.62ms '_get_diar_segments'\n",
      "2.35ms 'getReducedMat'\n",
      "1.30ms 'matchNewOldclusterLabels'\n",
      "77.32ms '_online_diarization'\n",
      "[NeMo I 2021-10-18 17:09:03 streaming_asr_and_diar:1361] Streaming Diar [arm_talk_16k][frame-  648th  ]:\n",
      "210.77ms 'run_ASR_model'\n",
      "0.04ms '_get_speech_labels_from_decoded_prediction'\n",
      "0.95ms '_get_diar_segments'\n",
      "2.65ms 'getReducedMat'\n",
      "1.25ms 'matchNewOldclusterLabels'\n",
      "93.59ms '_online_diarization'\n",
      "[NeMo I 2021-10-18 17:09:04 streaming_asr_and_diar:1361] Streaming Diar [arm_talk_16k][frame-  649th  ]:\n",
      "241.77ms 'run_ASR_model'\n",
      "0.05ms '_get_speech_labels_from_decoded_prediction'\n",
      "0.45ms '_get_diar_segments'\n",
      "1.92ms 'getReducedMat'\n",
      "1.33ms 'matchNewOldclusterLabels'\n",
      "85.93ms '_online_diarization'\n",
      "[NeMo I 2021-10-18 17:09:05 streaming_asr_and_diar:1361] Streaming Diar [arm_talk_16k][frame-  650th  ]:\n",
      "221.72ms 'run_ASR_model'\n",
      "0.05ms '_get_speech_labels_from_decoded_prediction'\n",
      "1.08ms '_get_diar_segments'\n",
      "2.97ms 'getReducedMat'\n",
      "1.30ms 'matchNewOldclusterLabels'\n",
      "89.20ms '_online_diarization'\n",
      "[NeMo I 2021-10-18 17:09:06 streaming_asr_and_diar:1361] Streaming Diar [arm_talk_16k][frame-  651th  ]:\n",
      "205.57ms 'run_ASR_model'\n",
      "0.05ms '_get_speech_labels_from_decoded_prediction'\n",
      "0.62ms '_get_diar_segments'\n",
      "1.45ms 'getReducedMat'\n",
      "1.20ms 'matchNewOldclusterLabels'\n",
      "76.02ms '_online_diarization'\n",
      "[NeMo I 2021-10-18 17:09:07 streaming_asr_and_diar:1361] Streaming Diar [arm_talk_16k][frame-  652th  ]:\n",
      "227.90ms 'run_ASR_model'\n",
      "0.05ms '_get_speech_labels_from_decoded_prediction'\n",
      "0.83ms '_get_diar_segments'\n",
      "2.32ms 'getReducedMat'\n",
      "1.21ms 'matchNewOldclusterLabels'\n",
      "76.54ms '_online_diarization'\n",
      "[NeMo I 2021-10-18 17:09:08 streaming_asr_and_diar:1361] Streaming Diar [arm_talk_16k][frame-  653th  ]:\n",
      "220.62ms 'run_ASR_model'\n",
      "0.04ms '_get_speech_labels_from_decoded_prediction'\n",
      "0.30ms '_get_diar_segments'\n",
      "2.42ms 'getReducedMat'\n",
      "1.30ms 'matchNewOldclusterLabels'\n",
      "76.96ms '_online_diarization'\n",
      "[NeMo I 2021-10-18 17:09:09 streaming_asr_and_diar:1361] Streaming Diar [arm_talk_16k][frame-  654th  ]:\n",
      "209.61ms 'run_ASR_model'\n",
      "0.04ms '_get_speech_labels_from_decoded_prediction'\n",
      "0.83ms '_get_diar_segments'\n",
      "2.45ms 'getReducedMat'\n",
      "1.29ms 'matchNewOldclusterLabels'\n",
      "77.14ms '_online_diarization'\n",
      "[NeMo I 2021-10-18 17:09:10 streaming_asr_and_diar:1361] Streaming Diar [arm_talk_16k][frame-  655th  ]:\n",
      "215.83ms 'run_ASR_model'\n",
      "0.04ms '_get_speech_labels_from_decoded_prediction'\n",
      "0.83ms '_get_diar_segments'\n",
      "1.99ms 'getReducedMat'\n",
      "1.00ms 'matchNewOldclusterLabels'\n",
      "64.98ms '_online_diarization'\n",
      "[NeMo I 2021-10-18 17:09:11 streaming_asr_and_diar:1361] Streaming Diar [arm_talk_16k][frame-  656th  ]:\n",
      "216.63ms 'run_ASR_model'\n",
      "0.05ms '_get_speech_labels_from_decoded_prediction'\n",
      "0.49ms '_get_diar_segments'\n",
      "2.00ms 'getReducedMat'\n",
      "0.98ms 'matchNewOldclusterLabels'\n",
      "63.36ms '_online_diarization'\n",
      "[NeMo I 2021-10-18 17:09:12 streaming_asr_and_diar:1361] Streaming Diar [arm_talk_16k][frame-  657th  ]:\n",
      "218.59ms 'run_ASR_model'\n",
      "0.05ms '_get_speech_labels_from_decoded_prediction'\n",
      "0.46ms '_get_diar_segments'\n",
      "2.10ms 'getReducedMat'\n",
      "1.29ms 'matchNewOldclusterLabels'\n",
      "71.23ms '_online_diarization'\n",
      "[NeMo I 2021-10-18 17:09:13 streaming_asr_and_diar:1361] Streaming Diar [arm_talk_16k][frame-  658th  ]:\n",
      "217.70ms 'run_ASR_model'\n",
      "0.07ms '_get_speech_labels_from_decoded_prediction'\n",
      "0.61ms '_get_diar_segments'\n",
      "2.41ms 'getReducedMat'\n",
      "1.21ms 'matchNewOldclusterLabels'\n",
      "81.38ms '_online_diarization'\n",
      "[NeMo I 2021-10-18 17:09:14 streaming_asr_and_diar:1361] Streaming Diar [arm_talk_16k][frame-  659th  ]:\n",
      "217.58ms 'run_ASR_model'\n",
      "0.05ms '_get_speech_labels_from_decoded_prediction'\n",
      "0.84ms '_get_diar_segments'\n",
      "2.52ms 'getReducedMat'\n",
      "1.22ms 'matchNewOldclusterLabels'\n",
      "77.45ms '_online_diarization'\n",
      "[NeMo I 2021-10-18 17:09:15 streaming_asr_and_diar:1361] Streaming Diar [arm_talk_16k][frame-  660th  ]:\n",
      "226.70ms 'run_ASR_model'\n",
      "0.05ms '_get_speech_labels_from_decoded_prediction'\n",
      "0.83ms '_get_diar_segments'\n",
      "2.47ms 'getReducedMat'\n",
      "1.32ms 'matchNewOldclusterLabels'\n",
      "77.13ms '_online_diarization'\n",
      "[NeMo I 2021-10-18 17:09:16 streaming_asr_and_diar:1361] Streaming Diar [arm_talk_16k][frame-  661th  ]:\n",
      "210.15ms 'run_ASR_model'\n",
      "0.05ms '_get_speech_labels_from_decoded_prediction'\n",
      "0.81ms '_get_diar_segments'\n",
      "2.36ms 'getReducedMat'\n",
      "1.30ms 'matchNewOldclusterLabels'\n",
      "76.29ms '_online_diarization'\n",
      "[NeMo I 2021-10-18 17:09:17 streaming_asr_and_diar:1361] Streaming Diar [arm_talk_16k][frame-  662th  ]:\n",
      "238.41ms 'run_ASR_model'\n",
      "0.06ms '_get_speech_labels_from_decoded_prediction'\n",
      "0.85ms '_get_diar_segments'\n",
      "2.15ms 'getReducedMat'\n",
      "0.85ms 'matchNewOldclusterLabels'\n",
      "62.69ms '_online_diarization'\n",
      "[NeMo I 2021-10-18 17:09:18 streaming_asr_and_diar:1361] Streaming Diar [arm_talk_16k][frame-  663th  ]:\n",
      "229.11ms 'run_ASR_model'\n",
      "0.06ms '_get_speech_labels_from_decoded_prediction'\n",
      "0.73ms '_get_diar_segments'\n",
      "1.55ms 'getReducedMat'\n",
      "1.29ms 'matchNewOldclusterLabels'\n",
      "78.74ms '_online_diarization'\n",
      "[NeMo I 2021-10-18 17:09:19 streaming_asr_and_diar:1361] Streaming Diar [arm_talk_16k][frame-  664th  ]:\n",
      "220.59ms 'run_ASR_model'\n",
      "0.04ms '_get_speech_labels_from_decoded_prediction'\n",
      "0.40ms '_get_diar_segments'\n",
      "2.44ms 'getReducedMat'\n",
      "1.08ms 'matchNewOldclusterLabels'\n",
      "83.63ms '_online_diarization'\n",
      "[NeMo I 2021-10-18 17:09:20 streaming_asr_and_diar:1361] Streaming Diar [arm_talk_16k][frame-  665th  ]:\n",
      "211.78ms 'run_ASR_model'\n",
      "0.04ms '_get_speech_labels_from_decoded_prediction'\n",
      "0.41ms '_get_diar_segments'\n",
      "2.44ms 'getReducedMat'\n",
      "1.03ms 'matchNewOldclusterLabels'\n",
      "77.09ms '_online_diarization'\n",
      "[NeMo I 2021-10-18 17:09:21 streaming_asr_and_diar:1361] Streaming Diar [arm_talk_16k][frame-  666th  ]:\n",
      "214.25ms 'run_ASR_model'\n",
      "0.05ms '_get_speech_labels_from_decoded_prediction'\n",
      "0.85ms '_get_diar_segments'\n",
      "2.51ms 'getReducedMat'\n",
      "0.87ms 'matchNewOldclusterLabels'\n",
      "68.00ms '_online_diarization'\n",
      "[NeMo I 2021-10-18 17:09:22 streaming_asr_and_diar:1361] Streaming Diar [arm_talk_16k][frame-  667th  ]:\n",
      "234.69ms 'run_ASR_model'\n",
      "0.06ms '_get_speech_labels_from_decoded_prediction'\n",
      "0.82ms '_get_diar_segments'\n",
      "2.42ms 'getReducedMat'\n",
      "1.30ms 'matchNewOldclusterLabels'\n",
      "77.53ms '_online_diarization'\n",
      "[NeMo I 2021-10-18 17:09:23 streaming_asr_and_diar:1361] Streaming Diar [arm_talk_16k][frame-  668th  ]:\n",
      "211.21ms 'run_ASR_model'\n",
      "0.04ms '_get_speech_labels_from_decoded_prediction'\n",
      "0.41ms '_get_diar_segments'\n",
      "2.56ms 'getReducedMat'\n",
      "1.32ms 'matchNewOldclusterLabels'\n",
      "78.54ms '_online_diarization'\n",
      "[NeMo I 2021-10-18 17:09:24 streaming_asr_and_diar:1361] Streaming Diar [arm_talk_16k][frame-  669th  ]:\n",
      "213.09ms 'run_ASR_model'\n",
      "0.05ms '_get_speech_labels_from_decoded_prediction'\n",
      "0.60ms '_get_diar_segments'\n",
      "2.52ms 'getReducedMat'\n",
      "1.31ms 'matchNewOldclusterLabels'\n",
      "80.11ms '_online_diarization'\n",
      "[NeMo I 2021-10-18 17:09:25 streaming_asr_and_diar:1361] Streaming Diar [arm_talk_16k][frame-  670th  ]:\n",
      "231.93ms 'run_ASR_model'\n",
      "0.05ms '_get_speech_labels_from_decoded_prediction'\n",
      "0.85ms '_get_diar_segments'\n",
      "2.39ms 'getReducedMat'\n",
      "1.23ms 'matchNewOldclusterLabels'\n",
      "78.50ms '_online_diarization'\n",
      "[NeMo I 2021-10-18 17:09:26 streaming_asr_and_diar:1361] Streaming Diar [arm_talk_16k][frame-  671th  ]:\n",
      "214.53ms 'run_ASR_model'\n",
      "0.05ms '_get_speech_labels_from_decoded_prediction'\n",
      "0.82ms '_get_diar_segments'\n",
      "2.48ms 'getReducedMat'\n",
      "1.31ms 'matchNewOldclusterLabels'\n",
      "87.14ms '_online_diarization'\n",
      "[NeMo I 2021-10-18 17:09:27 streaming_asr_and_diar:1361] Streaming Diar [arm_talk_16k][frame-  672th  ]:\n",
      "237.73ms 'run_ASR_model'\n",
      "0.04ms '_get_speech_labels_from_decoded_prediction'\n",
      "0.84ms '_get_diar_segments'\n",
      "2.01ms 'getReducedMat'\n",
      "1.44ms 'matchNewOldclusterLabels'\n",
      "66.12ms '_online_diarization'\n",
      "[NeMo I 2021-10-18 17:09:28 streaming_asr_and_diar:1361] Streaming Diar [arm_talk_16k][frame-  673th  ]:\n",
      "219.28ms 'run_ASR_model'\n",
      "0.05ms '_get_speech_labels_from_decoded_prediction'\n",
      "0.86ms '_get_diar_segments'\n",
      "2.47ms 'getReducedMat'\n",
      "1.30ms 'matchNewOldclusterLabels'\n",
      "89.77ms '_online_diarization'\n",
      "[NeMo I 2021-10-18 17:09:29 streaming_asr_and_diar:1361] Streaming Diar [arm_talk_16k][frame-  674th  ]:\n",
      "203.86ms 'run_ASR_model'\n",
      "0.05ms '_get_speech_labels_from_decoded_prediction'\n",
      "0.62ms '_get_diar_segments'\n",
      "2.54ms 'getReducedMat'\n",
      "1.31ms 'matchNewOldclusterLabels'\n",
      "78.21ms '_online_diarization'\n",
      "[NeMo I 2021-10-18 17:09:30 streaming_asr_and_diar:1361] Streaming Diar [arm_talk_16k][frame-  675th  ]:\n"
     ]
    },
    {
     "name": "stdout",
     "output_type": "stream",
     "text": [
      "219.60ms 'run_ASR_model'\n",
      "0.07ms '_get_speech_labels_from_decoded_prediction'\n",
      "0.62ms '_get_diar_segments'\n",
      "2.56ms 'getReducedMat'\n",
      "1.31ms 'matchNewOldclusterLabels'\n",
      "79.06ms '_online_diarization'\n",
      "[NeMo I 2021-10-18 17:09:31 streaming_asr_and_diar:1361] Streaming Diar [arm_talk_16k][frame-  676th  ]:\n",
      "206.55ms 'run_ASR_model'\n",
      "0.07ms '_get_speech_labels_from_decoded_prediction'\n",
      "0.81ms '_get_diar_segments'\n",
      "2.43ms 'getReducedMat'\n",
      "1.33ms 'matchNewOldclusterLabels'\n",
      "78.01ms '_online_diarization'\n",
      "[NeMo I 2021-10-18 17:09:32 streaming_asr_and_diar:1361] Streaming Diar [arm_talk_16k][frame-  677th  ]:\n",
      "210.52ms 'run_ASR_model'\n",
      "0.05ms '_get_speech_labels_from_decoded_prediction'\n",
      "0.84ms '_get_diar_segments'\n",
      "2.56ms 'getReducedMat'\n",
      "1.29ms 'matchNewOldclusterLabels'\n",
      "78.31ms '_online_diarization'\n",
      "[NeMo I 2021-10-18 17:09:33 streaming_asr_and_diar:1361] Streaming Diar [arm_talk_16k][frame-  678th  ]:\n",
      "217.97ms 'run_ASR_model'\n",
      "0.07ms '_get_speech_labels_from_decoded_prediction'\n",
      "0.79ms '_get_diar_segments'\n",
      "2.11ms 'getReducedMat'\n",
      "1.29ms 'matchNewOldclusterLabels'\n",
      "70.62ms '_online_diarization'\n",
      "[NeMo I 2021-10-18 17:09:34 streaming_asr_and_diar:1361] Streaming Diar [arm_talk_16k][frame-  679th  ]:\n",
      "236.83ms 'run_ASR_model'\n",
      "0.09ms '_get_speech_labels_from_decoded_prediction'\n",
      "0.89ms '_get_diar_segments'\n",
      "2.47ms 'getReducedMat'\n",
      "1.30ms 'matchNewOldclusterLabels'\n",
      "79.92ms '_online_diarization'\n",
      "[NeMo I 2021-10-18 17:09:35 streaming_asr_and_diar:1361] Streaming Diar [arm_talk_16k][frame-  680th  ]:\n",
      "226.78ms 'run_ASR_model'\n",
      "0.05ms '_get_speech_labels_from_decoded_prediction'\n",
      "0.33ms '_get_diar_segments'\n",
      "2.09ms 'getReducedMat'\n",
      "1.62ms 'matchNewOldclusterLabels'\n",
      "80.20ms '_online_diarization'\n",
      "[NeMo I 2021-10-18 17:09:36 streaming_asr_and_diar:1361] Streaming Diar [arm_talk_16k][frame-  681th  ]:\n",
      "231.26ms 'run_ASR_model'\n",
      "0.07ms '_get_speech_labels_from_decoded_prediction'\n",
      "0.50ms '_get_diar_segments'\n",
      "2.50ms 'getReducedMat'\n",
      "1.31ms 'matchNewOldclusterLabels'\n",
      "83.28ms '_online_diarization'\n",
      "[NeMo I 2021-10-18 17:09:37 streaming_asr_and_diar:1361] Streaming Diar [arm_talk_16k][frame-  682th  ]:\n",
      "216.00ms 'run_ASR_model'\n",
      "0.07ms '_get_speech_labels_from_decoded_prediction'\n",
      "0.29ms '_get_diar_segments'\n",
      "2.47ms 'getReducedMat'\n",
      "1.28ms 'matchNewOldclusterLabels'\n",
      "77.79ms '_online_diarization'\n",
      "[NeMo I 2021-10-18 17:09:38 streaming_asr_and_diar:1361] Streaming Diar [arm_talk_16k][frame-  683th  ]:\n",
      "213.51ms 'run_ASR_model'\n",
      "0.08ms '_get_speech_labels_from_decoded_prediction'\n",
      "0.31ms '_get_diar_segments'\n",
      "2.55ms 'getReducedMat'\n",
      "1.27ms 'matchNewOldclusterLabels'\n",
      "79.07ms '_online_diarization'\n",
      "[NeMo I 2021-10-18 17:09:39 streaming_asr_and_diar:1361] Streaming Diar [arm_talk_16k][frame-  684th  ]:\n",
      "212.19ms 'run_ASR_model'\n",
      "0.07ms '_get_speech_labels_from_decoded_prediction'\n",
      "0.75ms '_get_diar_segments'\n",
      "2.60ms 'getReducedMat'\n",
      "1.30ms 'matchNewOldclusterLabels'\n",
      "78.05ms '_online_diarization'\n",
      "[NeMo I 2021-10-18 17:09:40 streaming_asr_and_diar:1361] Streaming Diar [arm_talk_16k][frame-  685th  ]:\n",
      "213.86ms 'run_ASR_model'\n",
      "0.07ms '_get_speech_labels_from_decoded_prediction'\n",
      "0.84ms '_get_diar_segments'\n",
      "2.09ms 'getReducedMat'\n",
      "0.88ms 'matchNewOldclusterLabels'\n",
      "86.43ms '_online_diarization'\n",
      "[NeMo I 2021-10-18 17:09:41 streaming_asr_and_diar:1361] Streaming Diar [arm_talk_16k][frame-  686th  ]:\n",
      "214.44ms 'run_ASR_model'\n",
      "0.07ms '_get_speech_labels_from_decoded_prediction'\n",
      "0.77ms '_get_diar_segments'\n",
      "2.29ms 'getReducedMat'\n",
      "0.86ms 'matchNewOldclusterLabels'\n",
      "81.30ms '_online_diarization'\n",
      "[NeMo I 2021-10-18 17:09:42 streaming_asr_and_diar:1361] Streaming Diar [arm_talk_16k][frame-  687th  ]:\n",
      "216.81ms 'run_ASR_model'\n",
      "0.08ms '_get_speech_labels_from_decoded_prediction'\n",
      "0.64ms '_get_diar_segments'\n",
      "2.62ms 'getReducedMat'\n",
      "1.30ms 'matchNewOldclusterLabels'\n",
      "79.16ms '_online_diarization'\n",
      "[NeMo I 2021-10-18 17:09:43 streaming_asr_and_diar:1361] Streaming Diar [arm_talk_16k][frame-  688th  ]:\n",
      "230.61ms 'run_ASR_model'\n",
      "0.07ms '_get_speech_labels_from_decoded_prediction'\n",
      "0.61ms '_get_diar_segments'\n",
      "2.57ms 'getReducedMat'\n",
      "1.30ms 'matchNewOldclusterLabels'\n",
      "79.80ms '_online_diarization'\n",
      "[NeMo I 2021-10-18 17:09:44 streaming_asr_and_diar:1361] Streaming Diar [arm_talk_16k][frame-  689th  ]:\n",
      "216.88ms 'run_ASR_model'\n",
      "0.07ms '_get_speech_labels_from_decoded_prediction'\n",
      "0.86ms '_get_diar_segments'\n",
      "2.57ms 'getReducedMat'\n",
      "1.29ms 'matchNewOldclusterLabels'\n",
      "78.54ms '_online_diarization'\n",
      "[NeMo I 2021-10-18 17:09:45 streaming_asr_and_diar:1361] Streaming Diar [arm_talk_16k][frame-  690th  ]:\n",
      "218.98ms 'run_ASR_model'\n",
      "0.07ms '_get_speech_labels_from_decoded_prediction'\n",
      "0.98ms '_get_diar_segments'\n",
      "2.66ms 'getReducedMat'\n",
      "1.30ms 'matchNewOldclusterLabels'\n",
      "79.70ms '_online_diarization'\n",
      "[NeMo I 2021-10-18 17:09:46 streaming_asr_and_diar:1361] Streaming Diar [arm_talk_16k][frame-  691th  ]:\n",
      "217.10ms 'run_ASR_model'\n",
      "0.08ms '_get_speech_labels_from_decoded_prediction'\n",
      "0.82ms '_get_diar_segments'\n",
      "2.59ms 'getReducedMat'\n",
      "1.30ms 'matchNewOldclusterLabels'\n",
      "79.20ms '_online_diarization'\n",
      "[NeMo I 2021-10-18 17:09:47 streaming_asr_and_diar:1361] Streaming Diar [arm_talk_16k][frame-  692th  ]:\n",
      "217.51ms 'run_ASR_model'\n",
      "0.05ms '_get_speech_labels_from_decoded_prediction'\n",
      "0.82ms '_get_diar_segments'\n",
      "2.77ms 'getReducedMat'\n",
      "1.29ms 'matchNewOldclusterLabels'\n",
      "78.06ms '_online_diarization'\n",
      "[NeMo I 2021-10-18 17:09:48 streaming_asr_and_diar:1361] Streaming Diar [arm_talk_16k][frame-  693th  ]:\n",
      "213.98ms 'run_ASR_model'\n",
      "0.06ms '_get_speech_labels_from_decoded_prediction'\n",
      "0.83ms '_get_diar_segments'\n",
      "2.53ms 'getReducedMat'\n",
      "1.29ms 'matchNewOldclusterLabels'\n",
      "78.80ms '_online_diarization'\n",
      "[NeMo I 2021-10-18 17:09:49 streaming_asr_and_diar:1361] Streaming Diar [arm_talk_16k][frame-  694th  ]:\n",
      "219.18ms 'run_ASR_model'\n",
      "0.07ms '_get_speech_labels_from_decoded_prediction'\n",
      "0.98ms '_get_diar_segments'\n",
      "2.67ms 'getReducedMat'\n",
      "1.31ms 'matchNewOldclusterLabels'\n",
      "83.83ms '_online_diarization'\n",
      "[NeMo I 2021-10-18 17:09:50 streaming_asr_and_diar:1361] Streaming Diar [arm_talk_16k][frame-  695th  ]:\n",
      "227.99ms 'run_ASR_model'\n",
      "0.05ms '_get_speech_labels_from_decoded_prediction'\n",
      "0.38ms '_get_diar_segments'\n",
      "2.62ms 'getReducedMat'\n",
      "1.30ms 'matchNewOldclusterLabels'\n",
      "79.43ms '_online_diarization'\n",
      "[NeMo I 2021-10-18 17:09:51 streaming_asr_and_diar:1361] Streaming Diar [arm_talk_16k][frame-  696th  ]:\n"
     ]
    },
    {
     "name": "stderr",
     "output_type": "stream",
     "text": [
      "[NeMo W 2021-10-18 17:09:52 nmse_clustering:276] Graph is not fully connected and the clustering result might not be accurate.\n"
     ]
    },
    {
     "name": "stdout",
     "output_type": "stream",
     "text": [
      "229.79ms 'run_ASR_model'\n",
      "0.06ms '_get_speech_labels_from_decoded_prediction'\n",
      "0.90ms '_get_diar_segments'\n",
      "2.13ms 'getReducedMat'\n",
      "1.32ms 'matchNewOldclusterLabels'\n",
      "79.98ms '_online_diarization'\n",
      "[NeMo I 2021-10-18 17:09:52 streaming_asr_and_diar:1361] Streaming Diar [arm_talk_16k][frame-  697th  ]:\n"
     ]
    },
    {
     "name": "stderr",
     "output_type": "stream",
     "text": [
      "[NeMo W 2021-10-18 17:09:53 nmse_clustering:276] Graph is not fully connected and the clustering result might not be accurate.\n"
     ]
    },
    {
     "name": "stdout",
     "output_type": "stream",
     "text": [
      "208.40ms 'run_ASR_model'\n",
      "0.05ms '_get_speech_labels_from_decoded_prediction'\n",
      "0.34ms '_get_diar_segments'\n",
      "2.64ms 'getReducedMat'\n",
      "0.85ms 'matchNewOldclusterLabels'\n",
      "71.22ms '_online_diarization'\n",
      "[NeMo I 2021-10-18 17:09:53 streaming_asr_and_diar:1361] Streaming Diar [arm_talk_16k][frame-  698th  ]:\n"
     ]
    },
    {
     "name": "stderr",
     "output_type": "stream",
     "text": [
      "[NeMo W 2021-10-18 17:09:54 nmse_clustering:276] Graph is not fully connected and the clustering result might not be accurate.\n"
     ]
    },
    {
     "name": "stdout",
     "output_type": "stream",
     "text": [
      "242.64ms 'run_ASR_model'\n",
      "0.05ms '_get_speech_labels_from_decoded_prediction'\n",
      "0.76ms '_get_diar_segments'\n",
      "2.25ms 'getReducedMat'\n",
      "1.42ms 'matchNewOldclusterLabels'\n",
      "76.57ms '_online_diarization'\n",
      "[NeMo I 2021-10-18 17:09:54 streaming_asr_and_diar:1361] Streaming Diar [arm_talk_16k][frame-  699th  ]:\n"
     ]
    },
    {
     "name": "stderr",
     "output_type": "stream",
     "text": [
      "[NeMo W 2021-10-18 17:09:55 nmse_clustering:276] Graph is not fully connected and the clustering result might not be accurate.\n"
     ]
    },
    {
     "name": "stdout",
     "output_type": "stream",
     "text": [
      "215.71ms 'run_ASR_model'\n",
      "0.04ms '_get_speech_labels_from_decoded_prediction'\n",
      "0.83ms '_get_diar_segments'\n",
      "2.72ms 'getReducedMat'\n",
      "0.85ms 'matchNewOldclusterLabels'\n",
      "67.17ms '_online_diarization'\n",
      "[NeMo I 2021-10-18 17:09:55 streaming_asr_and_diar:1361] Streaming Diar [arm_talk_16k][frame-  700th  ]:\n"
     ]
    },
    {
     "name": "stderr",
     "output_type": "stream",
     "text": [
      "[NeMo W 2021-10-18 17:09:56 nmse_clustering:276] Graph is not fully connected and the clustering result might not be accurate.\n"
     ]
    },
    {
     "name": "stdout",
     "output_type": "stream",
     "text": [
      "217.76ms 'run_ASR_model'\n",
      "0.04ms '_get_speech_labels_from_decoded_prediction'\n",
      "0.84ms '_get_diar_segments'\n",
      "2.28ms 'getReducedMat'\n",
      "0.96ms 'matchNewOldclusterLabels'\n",
      "105.56ms '_online_diarization'\n",
      "[NeMo I 2021-10-18 17:09:56 streaming_asr_and_diar:1361] Streaming Diar [arm_talk_16k][frame-  701th  ]:\n"
     ]
    },
    {
     "name": "stderr",
     "output_type": "stream",
     "text": [
      "[NeMo W 2021-10-18 17:09:57 nmse_clustering:276] Graph is not fully connected and the clustering result might not be accurate.\n"
     ]
    },
    {
     "name": "stdout",
     "output_type": "stream",
     "text": [
      "229.79ms 'run_ASR_model'\n",
      "0.06ms '_get_speech_labels_from_decoded_prediction'\n",
      "0.81ms '_get_diar_segments'\n",
      "2.69ms 'getReducedMat'\n",
      "1.32ms 'matchNewOldclusterLabels'\n",
      "78.84ms '_online_diarization'\n",
      "[NeMo I 2021-10-18 17:09:57 streaming_asr_and_diar:1361] Streaming Diar [arm_talk_16k][frame-  702th  ]:\n"
     ]
    },
    {
     "name": "stderr",
     "output_type": "stream",
     "text": [
      "[NeMo W 2021-10-18 17:09:58 nmse_clustering:276] Graph is not fully connected and the clustering result might not be accurate.\n"
     ]
    },
    {
     "name": "stdout",
     "output_type": "stream",
     "text": [
      "214.54ms 'run_ASR_model'\n",
      "0.05ms '_get_speech_labels_from_decoded_prediction'\n",
      "0.81ms '_get_diar_segments'\n",
      "2.66ms 'getReducedMat'\n",
      "1.29ms 'matchNewOldclusterLabels'\n",
      "76.31ms '_online_diarization'\n",
      "[NeMo I 2021-10-18 17:09:58 streaming_asr_and_diar:1361] Streaming Diar [arm_talk_16k][frame-  703th  ]:\n"
     ]
    },
    {
     "name": "stderr",
     "output_type": "stream",
     "text": [
      "[NeMo W 2021-10-18 17:09:59 nmse_clustering:276] Graph is not fully connected and the clustering result might not be accurate.\n"
     ]
    },
    {
     "name": "stdout",
     "output_type": "stream",
     "text": [
      "218.04ms 'run_ASR_model'\n",
      "0.05ms '_get_speech_labels_from_decoded_prediction'\n",
      "0.81ms '_get_diar_segments'\n",
      "2.56ms 'getReducedMat'\n",
      "1.29ms 'matchNewOldclusterLabels'\n",
      "77.47ms '_online_diarization'\n",
      "[NeMo I 2021-10-18 17:09:59 streaming_asr_and_diar:1361] Streaming Diar [arm_talk_16k][frame-  704th  ]:\n"
     ]
    },
    {
     "name": "stderr",
     "output_type": "stream",
     "text": [
      "[NeMo W 2021-10-18 17:10:00 nmse_clustering:276] Graph is not fully connected and the clustering result might not be accurate.\n"
     ]
    },
    {
     "name": "stdout",
     "output_type": "stream",
     "text": [
      "214.38ms 'run_ASR_model'\n",
      "0.05ms '_get_speech_labels_from_decoded_prediction'\n",
      "0.84ms '_get_diar_segments'\n",
      "2.70ms 'getReducedMat'\n",
      "1.33ms 'matchNewOldclusterLabels'\n",
      "82.43ms '_online_diarization'\n",
      "[NeMo I 2021-10-18 17:10:00 streaming_asr_and_diar:1361] Streaming Diar [arm_talk_16k][frame-  705th  ]:\n"
     ]
    },
    {
     "name": "stderr",
     "output_type": "stream",
     "text": [
      "[NeMo W 2021-10-18 17:10:01 nmse_clustering:276] Graph is not fully connected and the clustering result might not be accurate.\n"
     ]
    },
    {
     "name": "stdout",
     "output_type": "stream",
     "text": [
      "232.80ms 'run_ASR_model'\n",
      "0.07ms '_get_speech_labels_from_decoded_prediction'\n",
      "0.82ms '_get_diar_segments'\n",
      "2.94ms 'getReducedMat'\n",
      "1.33ms 'matchNewOldclusterLabels'\n",
      "90.61ms '_online_diarization'\n",
      "[NeMo I 2021-10-18 17:10:01 streaming_asr_and_diar:1361] Streaming Diar [arm_talk_16k][frame-  706th  ]:\n"
     ]
    },
    {
     "name": "stderr",
     "output_type": "stream",
     "text": [
      "[NeMo W 2021-10-18 17:10:02 nmse_clustering:276] Graph is not fully connected and the clustering result might not be accurate.\n"
     ]
    },
    {
     "name": "stdout",
     "output_type": "stream",
     "text": [
      "216.54ms 'run_ASR_model'\n",
      "0.08ms '_get_speech_labels_from_decoded_prediction'\n",
      "0.96ms '_get_diar_segments'\n",
      "2.61ms 'getReducedMat'\n",
      "1.19ms 'matchNewOldclusterLabels'\n",
      "85.38ms '_online_diarization'\n",
      "[NeMo I 2021-10-18 17:10:02 streaming_asr_and_diar:1361] Streaming Diar [arm_talk_16k][frame-  707th  ]:\n"
     ]
    },
    {
     "name": "stderr",
     "output_type": "stream",
     "text": [
      "[NeMo W 2021-10-18 17:10:03 nmse_clustering:276] Graph is not fully connected and the clustering result might not be accurate.\n"
     ]
    },
    {
     "name": "stdout",
     "output_type": "stream",
     "text": [
      "215.29ms 'run_ASR_model'\n",
      "0.08ms '_get_speech_labels_from_decoded_prediction'\n",
      "0.84ms '_get_diar_segments'\n",
      "2.69ms 'getReducedMat'\n",
      "1.32ms 'matchNewOldclusterLabels'\n",
      "80.48ms '_online_diarization'\n",
      "[NeMo I 2021-10-18 17:10:03 streaming_asr_and_diar:1361] Streaming Diar [arm_talk_16k][frame-  708th  ]:\n"
     ]
    },
    {
     "name": "stderr",
     "output_type": "stream",
     "text": [
      "[NeMo W 2021-10-18 17:10:04 nmse_clustering:276] Graph is not fully connected and the clustering result might not be accurate.\n"
     ]
    },
    {
     "name": "stdout",
     "output_type": "stream",
     "text": [
      "208.50ms 'run_ASR_model'\n",
      "0.07ms '_get_speech_labels_from_decoded_prediction'\n",
      "0.81ms '_get_diar_segments'\n",
      "2.72ms 'getReducedMat'\n",
      "1.20ms 'matchNewOldclusterLabels'\n",
      "77.14ms '_online_diarization'\n",
      "[NeMo I 2021-10-18 17:10:04 streaming_asr_and_diar:1361] Streaming Diar [arm_talk_16k][frame-  709th  ]:\n"
     ]
    },
    {
     "name": "stderr",
     "output_type": "stream",
     "text": [
      "[NeMo W 2021-10-18 17:10:05 nmse_clustering:276] Graph is not fully connected and the clustering result might not be accurate.\n"
     ]
    },
    {
     "name": "stdout",
     "output_type": "stream",
     "text": [
      "217.58ms 'run_ASR_model'\n",
      "0.09ms '_get_speech_labels_from_decoded_prediction'\n",
      "0.84ms '_get_diar_segments'\n",
      "2.65ms 'getReducedMat'\n",
      "1.31ms 'matchNewOldclusterLabels'\n",
      "78.43ms '_online_diarization'\n",
      "[NeMo I 2021-10-18 17:10:05 streaming_asr_and_diar:1361] Streaming Diar [arm_talk_16k][frame-  710th  ]:\n"
     ]
    },
    {
     "name": "stderr",
     "output_type": "stream",
     "text": [
      "[NeMo W 2021-10-18 17:10:06 nmse_clustering:276] Graph is not fully connected and the clustering result might not be accurate.\n"
     ]
    },
    {
     "name": "stdout",
     "output_type": "stream",
     "text": [
      "228.40ms 'run_ASR_model'\n",
      "0.08ms '_get_speech_labels_from_decoded_prediction'\n",
      "0.81ms '_get_diar_segments'\n",
      "2.33ms 'getReducedMat'\n",
      "1.31ms 'matchNewOldclusterLabels'\n",
      "86.17ms '_online_diarization'\n",
      "[NeMo I 2021-10-18 17:10:06 streaming_asr_and_diar:1361] Streaming Diar [arm_talk_16k][frame-  711th  ]:\n"
     ]
    },
    {
     "name": "stderr",
     "output_type": "stream",
     "text": [
      "[NeMo W 2021-10-18 17:10:07 nmse_clustering:276] Graph is not fully connected and the clustering result might not be accurate.\n"
     ]
    },
    {
     "name": "stdout",
     "output_type": "stream",
     "text": [
      "230.44ms 'run_ASR_model'\n",
      "0.08ms '_get_speech_labels_from_decoded_prediction'\n",
      "0.30ms '_get_diar_segments'\n",
      "2.20ms 'getReducedMat'\n",
      "0.97ms 'matchNewOldclusterLabels'\n",
      "64.68ms '_online_diarization'\n",
      "[NeMo I 2021-10-18 17:10:07 streaming_asr_and_diar:1361] Streaming Diar [arm_talk_16k][frame-  712th  ]:\n"
     ]
    },
    {
     "name": "stderr",
     "output_type": "stream",
     "text": [
      "[NeMo W 2021-10-18 17:10:08 nmse_clustering:276] Graph is not fully connected and the clustering result might not be accurate.\n"
     ]
    },
    {
     "name": "stdout",
     "output_type": "stream",
     "text": [
      "229.71ms 'run_ASR_model'\n",
      "0.07ms '_get_speech_labels_from_decoded_prediction'\n",
      "0.57ms '_get_diar_segments'\n",
      "2.71ms 'getReducedMat'\n",
      "1.28ms 'matchNewOldclusterLabels'\n",
      "77.02ms '_online_diarization'\n",
      "[NeMo I 2021-10-18 17:10:08 streaming_asr_and_diar:1361] Streaming Diar [arm_talk_16k][frame-  713th  ]:\n"
     ]
    },
    {
     "name": "stderr",
     "output_type": "stream",
     "text": [
      "[NeMo W 2021-10-18 17:10:09 nmse_clustering:276] Graph is not fully connected and the clustering result might not be accurate.\n"
     ]
    },
    {
     "name": "stdout",
     "output_type": "stream",
     "text": [
      "215.64ms 'run_ASR_model'\n",
      "0.05ms '_get_speech_labels_from_decoded_prediction'\n",
      "0.72ms '_get_diar_segments'\n",
      "2.75ms 'getReducedMat'\n",
      "1.25ms 'matchNewOldclusterLabels'\n",
      "77.94ms '_online_diarization'\n",
      "[NeMo I 2021-10-18 17:10:09 streaming_asr_and_diar:1361] Streaming Diar [arm_talk_16k][frame-  714th  ]:\n"
     ]
    },
    {
     "name": "stderr",
     "output_type": "stream",
     "text": [
      "[NeMo W 2021-10-18 17:10:10 nmse_clustering:276] Graph is not fully connected and the clustering result might not be accurate.\n"
     ]
    },
    {
     "name": "stdout",
     "output_type": "stream",
     "text": [
      "215.27ms 'run_ASR_model'\n",
      "0.07ms '_get_speech_labels_from_decoded_prediction'\n",
      "0.80ms '_get_diar_segments'\n",
      "2.77ms 'getReducedMat'\n",
      "1.32ms 'matchNewOldclusterLabels'\n",
      "78.12ms '_online_diarization'\n",
      "[NeMo I 2021-10-18 17:10:10 streaming_asr_and_diar:1361] Streaming Diar [arm_talk_16k][frame-  715th  ]:\n"
     ]
    },
    {
     "name": "stderr",
     "output_type": "stream",
     "text": [
      "[NeMo W 2021-10-18 17:10:11 nmse_clustering:276] Graph is not fully connected and the clustering result might not be accurate.\n"
     ]
    },
    {
     "name": "stdout",
     "output_type": "stream",
     "text": [
      "228.08ms 'run_ASR_model'\n",
      "0.05ms '_get_speech_labels_from_decoded_prediction'\n",
      "0.84ms '_get_diar_segments'\n",
      "2.16ms 'getReducedMat'\n",
      "1.00ms 'matchNewOldclusterLabels'\n",
      "66.00ms '_online_diarization'\n",
      "[NeMo I 2021-10-18 17:10:11 streaming_asr_and_diar:1361] Streaming Diar [arm_talk_16k][frame-  716th  ]:\n"
     ]
    },
    {
     "name": "stderr",
     "output_type": "stream",
     "text": [
      "[NeMo W 2021-10-18 17:10:12 nmse_clustering:276] Graph is not fully connected and the clustering result might not be accurate.\n"
     ]
    },
    {
     "name": "stdout",
     "output_type": "stream",
     "text": [
      "250.39ms 'run_ASR_model'\n",
      "0.05ms '_get_speech_labels_from_decoded_prediction'\n",
      "0.32ms '_get_diar_segments'\n",
      "2.79ms 'getReducedMat'\n",
      "1.27ms 'matchNewOldclusterLabels'\n",
      "79.99ms '_online_diarization'\n",
      "[NeMo I 2021-10-18 17:10:12 streaming_asr_and_diar:1361] Streaming Diar [arm_talk_16k][frame-  717th  ]:\n"
     ]
    },
    {
     "name": "stderr",
     "output_type": "stream",
     "text": [
      "[NeMo W 2021-10-18 17:10:13 nmse_clustering:276] Graph is not fully connected and the clustering result might not be accurate.\n"
     ]
    },
    {
     "name": "stdout",
     "output_type": "stream",
     "text": [
      "214.57ms 'run_ASR_model'\n",
      "0.05ms '_get_speech_labels_from_decoded_prediction'\n",
      "0.82ms '_get_diar_segments'\n",
      "2.71ms 'getReducedMat'\n",
      "1.05ms 'matchNewOldclusterLabels'\n",
      "73.77ms '_online_diarization'\n",
      "[NeMo I 2021-10-18 17:10:13 streaming_asr_and_diar:1361] Streaming Diar [arm_talk_16k][frame-  718th  ]:\n"
     ]
    },
    {
     "name": "stderr",
     "output_type": "stream",
     "text": [
      "[NeMo W 2021-10-18 17:10:14 nmse_clustering:276] Graph is not fully connected and the clustering result might not be accurate.\n"
     ]
    },
    {
     "name": "stdout",
     "output_type": "stream",
     "text": [
      "213.35ms 'run_ASR_model'\n",
      "0.05ms '_get_speech_labels_from_decoded_prediction'\n",
      "0.32ms '_get_diar_segments'\n",
      "2.60ms 'getReducedMat'\n",
      "1.31ms 'matchNewOldclusterLabels'\n",
      "76.16ms '_online_diarization'\n",
      "[NeMo I 2021-10-18 17:10:14 streaming_asr_and_diar:1361] Streaming Diar [arm_talk_16k][frame-  719th  ]:\n"
     ]
    },
    {
     "name": "stderr",
     "output_type": "stream",
     "text": [
      "[NeMo W 2021-10-18 17:10:15 nmse_clustering:276] Graph is not fully connected and the clustering result might not be accurate.\n"
     ]
    },
    {
     "name": "stdout",
     "output_type": "stream",
     "text": [
      "232.77ms 'run_ASR_model'\n",
      "0.05ms '_get_speech_labels_from_decoded_prediction'\n",
      "0.83ms '_get_diar_segments'\n",
      "2.74ms 'getReducedMat'\n",
      "1.28ms 'matchNewOldclusterLabels'\n",
      "77.01ms '_online_diarization'\n",
      "[NeMo I 2021-10-18 17:10:15 streaming_asr_and_diar:1361] Streaming Diar [arm_talk_16k][frame-  720th  ]:\n"
     ]
    },
    {
     "name": "stderr",
     "output_type": "stream",
     "text": [
      "[NeMo W 2021-10-18 17:10:16 nmse_clustering:276] Graph is not fully connected and the clustering result might not be accurate.\n"
     ]
    },
    {
     "name": "stdout",
     "output_type": "stream",
     "text": [
      "227.98ms 'run_ASR_model'\n",
      "0.05ms '_get_speech_labels_from_decoded_prediction'\n",
      "0.83ms '_get_diar_segments'\n",
      "2.83ms 'getReducedMat'\n",
      "1.24ms 'matchNewOldclusterLabels'\n",
      "80.07ms '_online_diarization'\n",
      "[NeMo I 2021-10-18 17:10:16 streaming_asr_and_diar:1361] Streaming Diar [arm_talk_16k][frame-  721th  ]:\n"
     ]
    },
    {
     "name": "stderr",
     "output_type": "stream",
     "text": [
      "[NeMo W 2021-10-18 17:10:17 nmse_clustering:276] Graph is not fully connected and the clustering result might not be accurate.\n"
     ]
    },
    {
     "name": "stdout",
     "output_type": "stream",
     "text": [
      "221.08ms 'run_ASR_model'\n",
      "0.06ms '_get_speech_labels_from_decoded_prediction'\n",
      "0.87ms '_get_diar_segments'\n",
      "2.71ms 'getReducedMat'\n",
      "1.25ms 'matchNewOldclusterLabels'\n",
      "77.03ms '_online_diarization'\n",
      "[NeMo I 2021-10-18 17:10:17 streaming_asr_and_diar:1361] Streaming Diar [arm_talk_16k][frame-  722th  ]:\n"
     ]
    },
    {
     "name": "stderr",
     "output_type": "stream",
     "text": [
      "[NeMo W 2021-10-18 17:10:18 nmse_clustering:276] Graph is not fully connected and the clustering result might not be accurate.\n"
     ]
    },
    {
     "name": "stdout",
     "output_type": "stream",
     "text": [
      "218.31ms 'run_ASR_model'\n",
      "0.04ms '_get_speech_labels_from_decoded_prediction'\n",
      "0.64ms '_get_diar_segments'\n",
      "2.78ms 'getReducedMat'\n",
      "1.23ms 'matchNewOldclusterLabels'\n",
      "77.49ms '_online_diarization'\n",
      "[NeMo I 2021-10-18 17:10:18 streaming_asr_and_diar:1361] Streaming Diar [arm_talk_16k][frame-  723th  ]:\n"
     ]
    },
    {
     "name": "stderr",
     "output_type": "stream",
     "text": [
      "[NeMo W 2021-10-18 17:10:19 nmse_clustering:276] Graph is not fully connected and the clustering result might not be accurate.\n"
     ]
    },
    {
     "name": "stdout",
     "output_type": "stream",
     "text": [
      "229.08ms 'run_ASR_model'\n",
      "0.04ms '_get_speech_labels_from_decoded_prediction'\n",
      "0.83ms '_get_diar_segments'\n",
      "2.81ms 'getReducedMat'\n",
      "1.21ms 'matchNewOldclusterLabels'\n",
      "77.16ms '_online_diarization'\n",
      "[NeMo I 2021-10-18 17:10:19 streaming_asr_and_diar:1361] Streaming Diar [arm_talk_16k][frame-  724th  ]:\n"
     ]
    },
    {
     "name": "stderr",
     "output_type": "stream",
     "text": [
      "[NeMo W 2021-10-18 17:10:20 nmse_clustering:276] Graph is not fully connected and the clustering result might not be accurate.\n"
     ]
    },
    {
     "name": "stdout",
     "output_type": "stream",
     "text": [
      "226.25ms 'run_ASR_model'\n",
      "0.04ms '_get_speech_labels_from_decoded_prediction'\n",
      "0.85ms '_get_diar_segments'\n",
      "2.68ms 'getReducedMat'\n",
      "1.25ms 'matchNewOldclusterLabels'\n",
      "78.97ms '_online_diarization'\n",
      "[NeMo I 2021-10-18 17:10:20 streaming_asr_and_diar:1361] Streaming Diar [arm_talk_16k][frame-  725th  ]:\n"
     ]
    },
    {
     "name": "stderr",
     "output_type": "stream",
     "text": [
      "[NeMo W 2021-10-18 17:10:21 nmse_clustering:276] Graph is not fully connected and the clustering result might not be accurate.\n"
     ]
    },
    {
     "name": "stdout",
     "output_type": "stream",
     "text": [
      "229.30ms 'run_ASR_model'\n",
      "0.05ms '_get_speech_labels_from_decoded_prediction'\n",
      "0.59ms '_get_diar_segments'\n",
      "2.20ms 'getReducedMat'\n",
      "0.84ms 'matchNewOldclusterLabels'\n",
      "62.81ms '_online_diarization'\n",
      "[NeMo I 2021-10-18 17:10:21 streaming_asr_and_diar:1361] Streaming Diar [arm_talk_16k][frame-  726th  ]:\n"
     ]
    },
    {
     "name": "stderr",
     "output_type": "stream",
     "text": [
      "[NeMo W 2021-10-18 17:10:22 nmse_clustering:276] Graph is not fully connected and the clustering result might not be accurate.\n"
     ]
    },
    {
     "name": "stdout",
     "output_type": "stream",
     "text": [
      "218.27ms 'run_ASR_model'\n",
      "0.05ms '_get_speech_labels_from_decoded_prediction'\n",
      "0.85ms '_get_diar_segments'\n",
      "2.83ms 'getReducedMat'\n",
      "1.34ms 'matchNewOldclusterLabels'\n",
      "96.05ms '_online_diarization'\n",
      "[NeMo I 2021-10-18 17:10:22 streaming_asr_and_diar:1361] Streaming Diar [arm_talk_16k][frame-  727th  ]:\n"
     ]
    },
    {
     "name": "stderr",
     "output_type": "stream",
     "text": [
      "[NeMo W 2021-10-18 17:10:23 nmse_clustering:276] Graph is not fully connected and the clustering result might not be accurate.\n"
     ]
    },
    {
     "name": "stdout",
     "output_type": "stream",
     "text": [
      "218.84ms 'run_ASR_model'\n",
      "0.04ms '_get_speech_labels_from_decoded_prediction'\n",
      "0.81ms '_get_diar_segments'\n",
      "1.89ms 'getReducedMat'\n",
      "1.32ms 'matchNewOldclusterLabels'\n",
      "79.26ms '_online_diarization'\n",
      "[NeMo I 2021-10-18 17:10:23 streaming_asr_and_diar:1361] Streaming Diar [arm_talk_16k][frame-  728th  ]:\n"
     ]
    },
    {
     "name": "stderr",
     "output_type": "stream",
     "text": [
      "[NeMo W 2021-10-18 17:10:24 nmse_clustering:276] Graph is not fully connected and the clustering result might not be accurate.\n"
     ]
    },
    {
     "name": "stdout",
     "output_type": "stream",
     "text": [
      "227.44ms 'run_ASR_model'\n",
      "0.05ms '_get_speech_labels_from_decoded_prediction'\n",
      "0.75ms '_get_diar_segments'\n",
      "2.25ms 'getReducedMat'\n",
      "1.57ms 'matchNewOldclusterLabels'\n",
      "70.48ms '_online_diarization'\n",
      "[NeMo I 2021-10-18 17:10:24 streaming_asr_and_diar:1361] Streaming Diar [arm_talk_16k][frame-  729th  ]:\n"
     ]
    },
    {
     "name": "stderr",
     "output_type": "stream",
     "text": [
      "[NeMo W 2021-10-18 17:10:25 nmse_clustering:276] Graph is not fully connected and the clustering result might not be accurate.\n"
     ]
    },
    {
     "name": "stdout",
     "output_type": "stream",
     "text": [
      "226.14ms 'run_ASR_model'\n",
      "0.07ms '_get_speech_labels_from_decoded_prediction'\n",
      "0.81ms '_get_diar_segments'\n",
      "2.79ms 'getReducedMat'\n",
      "1.03ms 'matchNewOldclusterLabels'\n",
      "74.57ms '_online_diarization'\n",
      "[NeMo I 2021-10-18 17:10:25 streaming_asr_and_diar:1361] Streaming Diar [arm_talk_16k][frame-  730th  ]:\n"
     ]
    },
    {
     "name": "stderr",
     "output_type": "stream",
     "text": [
      "[NeMo W 2021-10-18 17:10:26 nmse_clustering:276] Graph is not fully connected and the clustering result might not be accurate.\n"
     ]
    },
    {
     "name": "stdout",
     "output_type": "stream",
     "text": [
      "224.59ms 'run_ASR_model'\n",
      "0.07ms '_get_speech_labels_from_decoded_prediction'\n",
      "0.82ms '_get_diar_segments'\n",
      "2.53ms 'getReducedMat'\n",
      "1.21ms 'matchNewOldclusterLabels'\n",
      "76.12ms '_online_diarization'\n",
      "[NeMo I 2021-10-18 17:10:26 streaming_asr_and_diar:1361] Streaming Diar [arm_talk_16k][frame-  731th  ]:\n"
     ]
    },
    {
     "name": "stderr",
     "output_type": "stream",
     "text": [
      "[NeMo W 2021-10-18 17:10:27 nmse_clustering:276] Graph is not fully connected and the clustering result might not be accurate.\n"
     ]
    },
    {
     "name": "stdout",
     "output_type": "stream",
     "text": [
      "221.97ms 'run_ASR_model'\n",
      "0.07ms '_get_speech_labels_from_decoded_prediction'\n",
      "0.97ms '_get_diar_segments'\n",
      "2.89ms 'getReducedMat'\n",
      "1.04ms 'matchNewOldclusterLabels'\n",
      "83.60ms '_online_diarization'\n",
      "[NeMo I 2021-10-18 17:10:27 streaming_asr_and_diar:1361] Streaming Diar [arm_talk_16k][frame-  732th  ]:\n"
     ]
    },
    {
     "name": "stderr",
     "output_type": "stream",
     "text": [
      "[NeMo W 2021-10-18 17:10:28 nmse_clustering:276] Graph is not fully connected and the clustering result might not be accurate.\n"
     ]
    },
    {
     "name": "stdout",
     "output_type": "stream",
     "text": [
      "238.25ms 'run_ASR_model'\n",
      "0.07ms '_get_speech_labels_from_decoded_prediction'\n",
      "0.32ms '_get_diar_segments'\n",
      "2.27ms 'getReducedMat'\n",
      "1.29ms 'matchNewOldclusterLabels'\n",
      "72.24ms '_online_diarization'\n",
      "[NeMo I 2021-10-18 17:10:28 streaming_asr_and_diar:1361] Streaming Diar [arm_talk_16k][frame-  733th  ]:\n"
     ]
    },
    {
     "name": "stderr",
     "output_type": "stream",
     "text": [
      "[NeMo W 2021-10-18 17:10:29 nmse_clustering:276] Graph is not fully connected and the clustering result might not be accurate.\n"
     ]
    },
    {
     "name": "stdout",
     "output_type": "stream",
     "text": [
      "215.09ms 'run_ASR_model'\n",
      "0.08ms '_get_speech_labels_from_decoded_prediction'\n",
      "0.61ms '_get_diar_segments'\n",
      "2.79ms 'getReducedMat'\n",
      "1.45ms 'matchNewOldclusterLabels'\n",
      "81.80ms '_online_diarization'\n",
      "[NeMo I 2021-10-18 17:10:29 streaming_asr_and_diar:1361] Streaming Diar [arm_talk_16k][frame-  734th  ]:\n"
     ]
    },
    {
     "name": "stderr",
     "output_type": "stream",
     "text": [
      "[NeMo W 2021-10-18 17:10:30 nmse_clustering:276] Graph is not fully connected and the clustering result might not be accurate.\n"
     ]
    },
    {
     "name": "stdout",
     "output_type": "stream",
     "text": [
      "212.92ms 'run_ASR_model'\n",
      "0.07ms '_get_speech_labels_from_decoded_prediction'\n",
      "0.81ms '_get_diar_segments'\n",
      "2.79ms 'getReducedMat'\n",
      "1.30ms 'matchNewOldclusterLabels'\n",
      "77.51ms '_online_diarization'\n",
      "[NeMo I 2021-10-18 17:10:30 streaming_asr_and_diar:1361] Streaming Diar [arm_talk_16k][frame-  735th  ]:\n"
     ]
    },
    {
     "name": "stderr",
     "output_type": "stream",
     "text": [
      "[NeMo W 2021-10-18 17:10:31 nmse_clustering:276] Graph is not fully connected and the clustering result might not be accurate.\n"
     ]
    },
    {
     "name": "stdout",
     "output_type": "stream",
     "text": [
      "220.37ms 'run_ASR_model'\n",
      "0.05ms '_get_speech_labels_from_decoded_prediction'\n",
      "0.84ms '_get_diar_segments'\n",
      "2.78ms 'getReducedMat'\n",
      "1.32ms 'matchNewOldclusterLabels'\n",
      "77.58ms '_online_diarization'\n",
      "[NeMo I 2021-10-18 17:10:31 streaming_asr_and_diar:1361] Streaming Diar [arm_talk_16k][frame-  736th  ]:\n"
     ]
    },
    {
     "name": "stderr",
     "output_type": "stream",
     "text": [
      "[NeMo W 2021-10-18 17:10:32 nmse_clustering:276] Graph is not fully connected and the clustering result might not be accurate.\n"
     ]
    },
    {
     "name": "stdout",
     "output_type": "stream",
     "text": [
      "223.68ms 'run_ASR_model'\n",
      "0.04ms '_get_speech_labels_from_decoded_prediction'\n",
      "0.83ms '_get_diar_segments'\n",
      "2.85ms 'getReducedMat'\n",
      "1.27ms 'matchNewOldclusterLabels'\n",
      "77.87ms '_online_diarization'\n",
      "[NeMo I 2021-10-18 17:10:32 streaming_asr_and_diar:1361] Streaming Diar [arm_talk_16k][frame-  737th  ]:\n"
     ]
    },
    {
     "name": "stderr",
     "output_type": "stream",
     "text": [
      "[NeMo W 2021-10-18 17:10:33 nmse_clustering:276] Graph is not fully connected and the clustering result might not be accurate.\n"
     ]
    },
    {
     "name": "stdout",
     "output_type": "stream",
     "text": [
      "222.51ms 'run_ASR_model'\n",
      "0.04ms '_get_speech_labels_from_decoded_prediction'\n",
      "0.63ms '_get_diar_segments'\n",
      "2.90ms 'getReducedMat'\n",
      "1.38ms 'matchNewOldclusterLabels'\n",
      "78.16ms '_online_diarization'\n",
      "[NeMo I 2021-10-18 17:10:33 streaming_asr_and_diar:1361] Streaming Diar [arm_talk_16k][frame-  738th  ]:\n"
     ]
    },
    {
     "name": "stderr",
     "output_type": "stream",
     "text": [
      "[NeMo W 2021-10-18 17:10:34 nmse_clustering:276] Graph is not fully connected and the clustering result might not be accurate.\n"
     ]
    },
    {
     "name": "stdout",
     "output_type": "stream",
     "text": [
      "215.63ms 'run_ASR_model'\n",
      "0.03ms '_get_speech_labels_from_decoded_prediction'\n",
      "0.83ms '_get_diar_segments'\n",
      "2.80ms 'getReducedMat'\n",
      "1.31ms 'matchNewOldclusterLabels'\n",
      "78.37ms '_online_diarization'\n",
      "[NeMo I 2021-10-18 17:10:34 streaming_asr_and_diar:1361] Streaming Diar [arm_talk_16k][frame-  739th  ]:\n"
     ]
    },
    {
     "name": "stderr",
     "output_type": "stream",
     "text": [
      "[NeMo W 2021-10-18 17:10:35 nmse_clustering:276] Graph is not fully connected and the clustering result might not be accurate.\n"
     ]
    },
    {
     "name": "stdout",
     "output_type": "stream",
     "text": [
      "215.98ms 'run_ASR_model'\n",
      "0.06ms '_get_speech_labels_from_decoded_prediction'\n",
      "0.75ms '_get_diar_segments'\n",
      "2.77ms 'getReducedMat'\n",
      "1.34ms 'matchNewOldclusterLabels'\n",
      "83.16ms '_online_diarization'\n",
      "[NeMo I 2021-10-18 17:10:35 streaming_asr_and_diar:1361] Streaming Diar [arm_talk_16k][frame-  740th  ]:\n"
     ]
    },
    {
     "name": "stderr",
     "output_type": "stream",
     "text": [
      "[NeMo W 2021-10-18 17:10:36 nmse_clustering:276] Graph is not fully connected and the clustering result might not be accurate.\n"
     ]
    },
    {
     "name": "stdout",
     "output_type": "stream",
     "text": [
      "218.00ms 'run_ASR_model'\n",
      "0.03ms '_get_speech_labels_from_decoded_prediction'\n",
      "0.86ms '_get_diar_segments'\n",
      "2.87ms 'getReducedMat'\n",
      "0.89ms 'matchNewOldclusterLabels'\n",
      "72.52ms '_online_diarization'\n",
      "[NeMo I 2021-10-18 17:10:36 streaming_asr_and_diar:1361] Streaming Diar [arm_talk_16k][frame-  741th  ]:\n"
     ]
    },
    {
     "name": "stderr",
     "output_type": "stream",
     "text": [
      "[NeMo W 2021-10-18 17:10:37 nmse_clustering:276] Graph is not fully connected and the clustering result might not be accurate.\n"
     ]
    },
    {
     "name": "stdout",
     "output_type": "stream",
     "text": [
      "211.96ms 'run_ASR_model'\n",
      "0.05ms '_get_speech_labels_from_decoded_prediction'\n",
      "0.84ms '_get_diar_segments'\n",
      "1.91ms 'getReducedMat'\n",
      "1.02ms 'matchNewOldclusterLabels'\n",
      "74.88ms '_online_diarization'\n",
      "[NeMo I 2021-10-18 17:10:37 streaming_asr_and_diar:1361] Streaming Diar [arm_talk_16k][frame-  742th  ]:\n"
     ]
    },
    {
     "name": "stderr",
     "output_type": "stream",
     "text": [
      "[NeMo W 2021-10-18 17:10:38 nmse_clustering:276] Graph is not fully connected and the clustering result might not be accurate.\n"
     ]
    },
    {
     "name": "stdout",
     "output_type": "stream",
     "text": [
      "213.36ms 'run_ASR_model'\n",
      "0.05ms '_get_speech_labels_from_decoded_prediction'\n",
      "0.78ms '_get_diar_segments'\n",
      "3.05ms 'getReducedMat'\n",
      "1.30ms 'matchNewOldclusterLabels'\n",
      "98.66ms '_online_diarization'\n",
      "[NeMo I 2021-10-18 17:10:38 streaming_asr_and_diar:1361] Streaming Diar [arm_talk_16k][frame-  743th  ]:\n"
     ]
    },
    {
     "name": "stderr",
     "output_type": "stream",
     "text": [
      "[NeMo W 2021-10-18 17:10:39 nmse_clustering:276] Graph is not fully connected and the clustering result might not be accurate.\n"
     ]
    },
    {
     "name": "stdout",
     "output_type": "stream",
     "text": [
      "222.92ms 'run_ASR_model'\n",
      "0.06ms '_get_speech_labels_from_decoded_prediction'\n",
      "0.84ms '_get_diar_segments'\n",
      "3.17ms 'getReducedMat'\n",
      "1.25ms 'matchNewOldclusterLabels'\n",
      "84.08ms '_online_diarization'\n",
      "[NeMo I 2021-10-18 17:10:39 streaming_asr_and_diar:1361] Streaming Diar [arm_talk_16k][frame-  744th  ]:\n"
     ]
    },
    {
     "name": "stderr",
     "output_type": "stream",
     "text": [
      "[NeMo W 2021-10-18 17:10:40 nmse_clustering:276] Graph is not fully connected and the clustering result might not be accurate.\n"
     ]
    },
    {
     "name": "stdout",
     "output_type": "stream",
     "text": [
      "206.78ms 'run_ASR_model'\n",
      "0.05ms '_get_speech_labels_from_decoded_prediction'\n",
      "0.88ms '_get_diar_segments'\n",
      "2.83ms 'getReducedMat'\n",
      "1.24ms 'matchNewOldclusterLabels'\n",
      "77.95ms '_online_diarization'\n",
      "[NeMo I 2021-10-18 17:10:40 streaming_asr_and_diar:1361] Streaming Diar [arm_talk_16k][frame-  745th  ]:\n"
     ]
    },
    {
     "name": "stderr",
     "output_type": "stream",
     "text": [
      "[NeMo W 2021-10-18 17:10:41 nmse_clustering:276] Graph is not fully connected and the clustering result might not be accurate.\n"
     ]
    },
    {
     "name": "stdout",
     "output_type": "stream",
     "text": [
      "233.29ms 'run_ASR_model'\n",
      "0.07ms '_get_speech_labels_from_decoded_prediction'\n",
      "0.95ms '_get_diar_segments'\n",
      "2.90ms 'getReducedMat'\n",
      "1.31ms 'matchNewOldclusterLabels'\n",
      "78.50ms '_online_diarization'\n",
      "[NeMo I 2021-10-18 17:10:41 streaming_asr_and_diar:1361] Streaming Diar [arm_talk_16k][frame-  746th  ]:\n"
     ]
    },
    {
     "name": "stderr",
     "output_type": "stream",
     "text": [
      "[NeMo W 2021-10-18 17:10:42 nmse_clustering:276] Graph is not fully connected and the clustering result might not be accurate.\n"
     ]
    },
    {
     "name": "stdout",
     "output_type": "stream",
     "text": [
      "216.37ms 'run_ASR_model'\n",
      "0.08ms '_get_speech_labels_from_decoded_prediction'\n",
      "0.82ms '_get_diar_segments'\n",
      "2.78ms 'getReducedMat'\n",
      "1.31ms 'matchNewOldclusterLabels'\n",
      "77.10ms '_online_diarization'\n",
      "[NeMo I 2021-10-18 17:10:42 streaming_asr_and_diar:1361] Streaming Diar [arm_talk_16k][frame-  747th  ]:\n"
     ]
    },
    {
     "name": "stderr",
     "output_type": "stream",
     "text": [
      "[NeMo W 2021-10-18 17:10:43 nmse_clustering:276] Graph is not fully connected and the clustering result might not be accurate.\n"
     ]
    },
    {
     "name": "stdout",
     "output_type": "stream",
     "text": [
      "217.17ms 'run_ASR_model'\n",
      "0.12ms '_get_speech_labels_from_decoded_prediction'\n",
      "0.63ms '_get_diar_segments'\n",
      "2.39ms 'getReducedMat'\n",
      "0.85ms 'matchNewOldclusterLabels'\n",
      "65.61ms '_online_diarization'\n",
      "[NeMo I 2021-10-18 17:10:43 streaming_asr_and_diar:1361] Streaming Diar [arm_talk_16k][frame-  748th  ]:\n"
     ]
    },
    {
     "name": "stderr",
     "output_type": "stream",
     "text": [
      "[NeMo W 2021-10-18 17:10:44 nmse_clustering:276] Graph is not fully connected and the clustering result might not be accurate.\n"
     ]
    },
    {
     "name": "stdout",
     "output_type": "stream",
     "text": [
      "220.67ms 'run_ASR_model'\n",
      "0.11ms '_get_speech_labels_from_decoded_prediction'\n",
      "0.42ms '_get_diar_segments'\n",
      "2.98ms 'getReducedMat'\n",
      "1.28ms 'matchNewOldclusterLabels'\n",
      "78.65ms '_online_diarization'\n",
      "[NeMo I 2021-10-18 17:10:44 streaming_asr_and_diar:1361] Streaming Diar [arm_talk_16k][frame-  749th  ]:\n"
     ]
    },
    {
     "name": "stderr",
     "output_type": "stream",
     "text": [
      "[NeMo W 2021-10-18 17:10:45 nmse_clustering:276] Graph is not fully connected and the clustering result might not be accurate.\n"
     ]
    },
    {
     "name": "stdout",
     "output_type": "stream",
     "text": [
      "215.03ms 'run_ASR_model'\n",
      "0.10ms '_get_speech_labels_from_decoded_prediction'\n",
      "0.40ms '_get_diar_segments'\n",
      "2.59ms 'getReducedMat'\n",
      "1.53ms 'matchNewOldclusterLabels'\n",
      "80.13ms '_online_diarization'\n",
      "[NeMo I 2021-10-18 17:10:45 streaming_asr_and_diar:1361] Streaming Diar [arm_talk_16k][frame-  750th  ]:\n"
     ]
    },
    {
     "name": "stderr",
     "output_type": "stream",
     "text": [
      "[NeMo W 2021-10-18 17:10:46 nmse_clustering:276] Graph is not fully connected and the clustering result might not be accurate.\n"
     ]
    },
    {
     "name": "stdout",
     "output_type": "stream",
     "text": [
      "215.76ms 'run_ASR_model'\n",
      "0.08ms '_get_speech_labels_from_decoded_prediction'\n",
      "0.46ms '_get_diar_segments'\n",
      "2.89ms 'getReducedMat'\n",
      "1.33ms 'matchNewOldclusterLabels'\n",
      "79.88ms '_online_diarization'\n",
      "[NeMo I 2021-10-18 17:10:46 streaming_asr_and_diar:1361] Streaming Diar [arm_talk_16k][frame-  751th  ]:\n"
     ]
    },
    {
     "name": "stderr",
     "output_type": "stream",
     "text": [
      "[NeMo W 2021-10-18 17:10:47 nmse_clustering:276] Graph is not fully connected and the clustering result might not be accurate.\n"
     ]
    },
    {
     "name": "stdout",
     "output_type": "stream",
     "text": [
      "205.14ms 'run_ASR_model'\n",
      "0.07ms '_get_speech_labels_from_decoded_prediction'\n",
      "0.82ms '_get_diar_segments'\n",
      "3.33ms 'getReducedMat'\n",
      "1.36ms 'matchNewOldclusterLabels'\n",
      "97.86ms '_online_diarization'\n",
      "[NeMo I 2021-10-18 17:10:47 streaming_asr_and_diar:1361] Streaming Diar [arm_talk_16k][frame-  752th  ]:\n"
     ]
    },
    {
     "name": "stderr",
     "output_type": "stream",
     "text": [
      "[NeMo W 2021-10-18 17:10:48 nmse_clustering:276] Graph is not fully connected and the clustering result might not be accurate.\n"
     ]
    },
    {
     "name": "stdout",
     "output_type": "stream",
     "text": [
      "216.57ms 'run_ASR_model'\n",
      "0.07ms '_get_speech_labels_from_decoded_prediction'\n",
      "0.54ms '_get_diar_segments'\n",
      "2.34ms 'getReducedMat'\n",
      "1.26ms 'matchNewOldclusterLabels'\n",
      "71.10ms '_online_diarization'\n",
      "[NeMo I 2021-10-18 17:10:48 streaming_asr_and_diar:1361] Streaming Diar [arm_talk_16k][frame-  753th  ]:\n"
     ]
    },
    {
     "name": "stderr",
     "output_type": "stream",
     "text": [
      "[NeMo W 2021-10-18 17:10:49 nmse_clustering:276] Graph is not fully connected and the clustering result might not be accurate.\n"
     ]
    },
    {
     "name": "stdout",
     "output_type": "stream",
     "text": [
      "226.99ms 'run_ASR_model'\n",
      "0.05ms '_get_speech_labels_from_decoded_prediction'\n",
      "0.84ms '_get_diar_segments'\n",
      "2.93ms 'getReducedMat'\n",
      "1.25ms 'matchNewOldclusterLabels'\n",
      "77.95ms '_online_diarization'\n",
      "[NeMo I 2021-10-18 17:10:49 streaming_asr_and_diar:1361] Streaming Diar [arm_talk_16k][frame-  754th  ]:\n"
     ]
    },
    {
     "name": "stderr",
     "output_type": "stream",
     "text": [
      "[NeMo W 2021-10-18 17:10:50 nmse_clustering:276] Graph is not fully connected and the clustering result might not be accurate.\n"
     ]
    },
    {
     "name": "stdout",
     "output_type": "stream",
     "text": [
      "230.40ms 'run_ASR_model'\n",
      "0.05ms '_get_speech_labels_from_decoded_prediction'\n",
      "0.85ms '_get_diar_segments'\n",
      "2.93ms 'getReducedMat'\n",
      "1.31ms 'matchNewOldclusterLabels'\n",
      "79.82ms '_online_diarization'\n",
      "[NeMo I 2021-10-18 17:10:50 streaming_asr_and_diar:1361] Streaming Diar [arm_talk_16k][frame-  755th  ]:\n"
     ]
    },
    {
     "name": "stderr",
     "output_type": "stream",
     "text": [
      "[NeMo W 2021-10-18 17:10:51 nmse_clustering:276] Graph is not fully connected and the clustering result might not be accurate.\n"
     ]
    },
    {
     "name": "stdout",
     "output_type": "stream",
     "text": [
      "218.72ms 'run_ASR_model'\n",
      "0.05ms '_get_speech_labels_from_decoded_prediction'\n",
      "0.87ms '_get_diar_segments'\n",
      "2.81ms 'getReducedMat'\n",
      "1.31ms 'matchNewOldclusterLabels'\n",
      "78.37ms '_online_diarization'\n",
      "[NeMo I 2021-10-18 17:10:51 streaming_asr_and_diar:1361] Streaming Diar [arm_talk_16k][frame-  756th  ]:\n"
     ]
    },
    {
     "name": "stderr",
     "output_type": "stream",
     "text": [
      "[NeMo W 2021-10-18 17:10:52 nmse_clustering:276] Graph is not fully connected and the clustering result might not be accurate.\n"
     ]
    },
    {
     "name": "stdout",
     "output_type": "stream",
     "text": [
      "207.15ms 'run_ASR_model'\n",
      "0.07ms '_get_speech_labels_from_decoded_prediction'\n",
      "0.83ms '_get_diar_segments'\n",
      "2.86ms 'getReducedMat'\n",
      "1.30ms 'matchNewOldclusterLabels'\n",
      "77.60ms '_online_diarization'\n",
      "[NeMo I 2021-10-18 17:10:52 streaming_asr_and_diar:1361] Streaming Diar [arm_talk_16k][frame-  757th  ]:\n"
     ]
    },
    {
     "name": "stderr",
     "output_type": "stream",
     "text": [
      "[NeMo W 2021-10-18 17:10:53 nmse_clustering:276] Graph is not fully connected and the clustering result might not be accurate.\n"
     ]
    },
    {
     "name": "stdout",
     "output_type": "stream",
     "text": [
      "215.52ms 'run_ASR_model'\n",
      "0.07ms '_get_speech_labels_from_decoded_prediction'\n",
      "0.84ms '_get_diar_segments'\n",
      "2.41ms 'getReducedMat'\n",
      "1.31ms 'matchNewOldclusterLabels'\n",
      "72.70ms '_online_diarization'\n",
      "[NeMo I 2021-10-18 17:10:53 streaming_asr_and_diar:1361] Streaming Diar [arm_talk_16k][frame-  758th  ]:\n"
     ]
    },
    {
     "name": "stderr",
     "output_type": "stream",
     "text": [
      "[NeMo W 2021-10-18 17:10:54 nmse_clustering:276] Graph is not fully connected and the clustering result might not be accurate.\n"
     ]
    },
    {
     "name": "stdout",
     "output_type": "stream",
     "text": [
      "219.89ms 'run_ASR_model'\n",
      "0.05ms '_get_speech_labels_from_decoded_prediction'\n",
      "0.70ms '_get_diar_segments'\n",
      "3.05ms 'getReducedMat'\n",
      "1.32ms 'matchNewOldclusterLabels'\n",
      "92.05ms '_online_diarization'\n",
      "[NeMo I 2021-10-18 17:10:54 streaming_asr_and_diar:1361] Streaming Diar [arm_talk_16k][frame-  759th  ]:\n"
     ]
    },
    {
     "name": "stderr",
     "output_type": "stream",
     "text": [
      "[NeMo W 2021-10-18 17:10:55 nmse_clustering:276] Graph is not fully connected and the clustering result might not be accurate.\n"
     ]
    },
    {
     "name": "stdout",
     "output_type": "stream",
     "text": [
      "214.86ms 'run_ASR_model'\n",
      "0.05ms '_get_speech_labels_from_decoded_prediction'\n",
      "0.68ms '_get_diar_segments'\n",
      "2.97ms 'getReducedMat'\n",
      "1.28ms 'matchNewOldclusterLabels'\n",
      "77.62ms '_online_diarization'\n",
      "[NeMo I 2021-10-18 17:10:55 streaming_asr_and_diar:1361] Streaming Diar [arm_talk_16k][frame-  760th  ]:\n"
     ]
    },
    {
     "name": "stderr",
     "output_type": "stream",
     "text": [
      "[NeMo W 2021-10-18 17:10:56 nmse_clustering:276] Graph is not fully connected and the clustering result might not be accurate.\n"
     ]
    },
    {
     "name": "stdout",
     "output_type": "stream",
     "text": [
      "230.61ms 'run_ASR_model'\n",
      "0.05ms '_get_speech_labels_from_decoded_prediction'\n",
      "0.88ms '_get_diar_segments'\n",
      "2.99ms 'getReducedMat'\n",
      "1.27ms 'matchNewOldclusterLabels'\n",
      "78.21ms '_online_diarization'\n",
      "[NeMo I 2021-10-18 17:10:56 streaming_asr_and_diar:1361] Streaming Diar [arm_talk_16k][frame-  761th  ]:\n"
     ]
    },
    {
     "name": "stderr",
     "output_type": "stream",
     "text": [
      "[NeMo W 2021-10-18 17:10:57 nmse_clustering:276] Graph is not fully connected and the clustering result might not be accurate.\n"
     ]
    },
    {
     "name": "stdout",
     "output_type": "stream",
     "text": [
      "228.31ms 'run_ASR_model'\n",
      "0.05ms '_get_speech_labels_from_decoded_prediction'\n",
      "0.87ms '_get_diar_segments'\n",
      "3.02ms 'getReducedMat'\n",
      "1.30ms 'matchNewOldclusterLabels'\n",
      "78.26ms '_online_diarization'\n",
      "[NeMo I 2021-10-18 17:10:57 streaming_asr_and_diar:1361] Streaming Diar [arm_talk_16k][frame-  762th  ]:\n"
     ]
    },
    {
     "name": "stderr",
     "output_type": "stream",
     "text": [
      "[NeMo W 2021-10-18 17:10:58 nmse_clustering:276] Graph is not fully connected and the clustering result might not be accurate.\n"
     ]
    },
    {
     "name": "stdout",
     "output_type": "stream",
     "text": [
      "215.48ms 'run_ASR_model'\n",
      "0.05ms '_get_speech_labels_from_decoded_prediction'\n",
      "0.84ms '_get_diar_segments'\n",
      "3.01ms 'getReducedMat'\n",
      "1.30ms 'matchNewOldclusterLabels'\n",
      "79.81ms '_online_diarization'\n",
      "[NeMo I 2021-10-18 17:10:58 streaming_asr_and_diar:1361] Streaming Diar [arm_talk_16k][frame-  763th  ]:\n"
     ]
    },
    {
     "name": "stderr",
     "output_type": "stream",
     "text": [
      "[NeMo W 2021-10-18 17:10:59 nmse_clustering:276] Graph is not fully connected and the clustering result might not be accurate.\n"
     ]
    },
    {
     "name": "stdout",
     "output_type": "stream",
     "text": [
      "212.75ms 'run_ASR_model'\n",
      "0.06ms '_get_speech_labels_from_decoded_prediction'\n",
      "0.73ms '_get_diar_segments'\n",
      "2.94ms 'getReducedMat'\n",
      "1.20ms 'matchNewOldclusterLabels'\n",
      "78.45ms '_online_diarization'\n",
      "[NeMo I 2021-10-18 17:10:59 streaming_asr_and_diar:1361] Streaming Diar [arm_talk_16k][frame-  764th  ]:\n"
     ]
    },
    {
     "name": "stderr",
     "output_type": "stream",
     "text": [
      "[NeMo W 2021-10-18 17:11:00 nmse_clustering:276] Graph is not fully connected and the clustering result might not be accurate.\n"
     ]
    },
    {
     "name": "stdout",
     "output_type": "stream",
     "text": [
      "216.68ms 'run_ASR_model'\n",
      "0.05ms '_get_speech_labels_from_decoded_prediction'\n",
      "0.83ms '_get_diar_segments'\n",
      "3.27ms 'getReducedMat'\n",
      "1.34ms 'matchNewOldclusterLabels'\n",
      "80.16ms '_online_diarization'\n",
      "[NeMo I 2021-10-18 17:11:00 streaming_asr_and_diar:1361] Streaming Diar [arm_talk_16k][frame-  765th  ]:\n"
     ]
    },
    {
     "name": "stderr",
     "output_type": "stream",
     "text": [
      "[NeMo W 2021-10-18 17:11:01 nmse_clustering:276] Graph is not fully connected and the clustering result might not be accurate.\n"
     ]
    },
    {
     "name": "stdout",
     "output_type": "stream",
     "text": [
      "213.25ms 'run_ASR_model'\n",
      "0.05ms '_get_speech_labels_from_decoded_prediction'\n",
      "0.82ms '_get_diar_segments'\n",
      "2.95ms 'getReducedMat'\n",
      "0.91ms 'matchNewOldclusterLabels'\n",
      "69.93ms '_online_diarization'\n",
      "[NeMo I 2021-10-18 17:11:01 streaming_asr_and_diar:1361] Streaming Diar [arm_talk_16k][frame-  766th  ]:\n"
     ]
    },
    {
     "name": "stderr",
     "output_type": "stream",
     "text": [
      "[NeMo W 2021-10-18 17:11:02 nmse_clustering:276] Graph is not fully connected and the clustering result might not be accurate.\n"
     ]
    },
    {
     "name": "stdout",
     "output_type": "stream",
     "text": [
      "226.67ms 'run_ASR_model'\n",
      "0.04ms '_get_speech_labels_from_decoded_prediction'\n",
      "0.87ms '_get_diar_segments'\n",
      "3.61ms 'getReducedMat'\n",
      "1.05ms 'matchNewOldclusterLabels'\n",
      "86.70ms '_online_diarization'\n",
      "[NeMo I 2021-10-18 17:11:02 streaming_asr_and_diar:1361] Streaming Diar [arm_talk_16k][frame-  767th  ]:\n"
     ]
    },
    {
     "name": "stderr",
     "output_type": "stream",
     "text": [
      "[NeMo W 2021-10-18 17:11:03 nmse_clustering:276] Graph is not fully connected and the clustering result might not be accurate.\n"
     ]
    },
    {
     "name": "stdout",
     "output_type": "stream",
     "text": [
      "215.16ms 'run_ASR_model'\n",
      "0.07ms '_get_speech_labels_from_decoded_prediction'\n",
      "0.83ms '_get_diar_segments'\n",
      "2.86ms 'getReducedMat'\n",
      "1.27ms 'matchNewOldclusterLabels'\n",
      "81.76ms '_online_diarization'\n",
      "[NeMo I 2021-10-18 17:11:03 streaming_asr_and_diar:1361] Streaming Diar [arm_talk_16k][frame-  768th  ]:\n"
     ]
    },
    {
     "name": "stderr",
     "output_type": "stream",
     "text": [
      "[NeMo W 2021-10-18 17:11:04 nmse_clustering:276] Graph is not fully connected and the clustering result might not be accurate.\n"
     ]
    },
    {
     "name": "stdout",
     "output_type": "stream",
     "text": [
      "220.02ms 'run_ASR_model'\n",
      "0.07ms '_get_speech_labels_from_decoded_prediction'\n",
      "0.31ms '_get_diar_segments'\n",
      "2.96ms 'getReducedMat'\n",
      "0.85ms 'matchNewOldclusterLabels'\n",
      "78.69ms '_online_diarization'\n",
      "[NeMo I 2021-10-18 17:11:04 streaming_asr_and_diar:1361] Streaming Diar [arm_talk_16k][frame-  769th  ]:\n"
     ]
    },
    {
     "name": "stderr",
     "output_type": "stream",
     "text": [
      "[NeMo W 2021-10-18 17:11:05 nmse_clustering:276] Graph is not fully connected and the clustering result might not be accurate.\n"
     ]
    },
    {
     "name": "stdout",
     "output_type": "stream",
     "text": [
      "223.00ms 'run_ASR_model'\n",
      "0.08ms '_get_speech_labels_from_decoded_prediction'\n",
      "0.55ms '_get_diar_segments'\n",
      "3.11ms 'getReducedMat'\n",
      "1.31ms 'matchNewOldclusterLabels'\n",
      "81.46ms '_online_diarization'\n",
      "[NeMo I 2021-10-18 17:11:05 streaming_asr_and_diar:1361] Streaming Diar [arm_talk_16k][frame-  770th  ]:\n"
     ]
    },
    {
     "name": "stderr",
     "output_type": "stream",
     "text": [
      "[NeMo W 2021-10-18 17:11:06 nmse_clustering:276] Graph is not fully connected and the clustering result might not be accurate.\n"
     ]
    },
    {
     "name": "stdout",
     "output_type": "stream",
     "text": [
      "217.30ms 'run_ASR_model'\n",
      "0.08ms '_get_speech_labels_from_decoded_prediction'\n",
      "0.61ms '_get_diar_segments'\n",
      "2.97ms 'getReducedMat'\n",
      "1.25ms 'matchNewOldclusterLabels'\n",
      "78.46ms '_online_diarization'\n",
      "[NeMo I 2021-10-18 17:11:06 streaming_asr_and_diar:1361] Streaming Diar [arm_talk_16k][frame-  771th  ]:\n"
     ]
    },
    {
     "name": "stderr",
     "output_type": "stream",
     "text": [
      "[NeMo W 2021-10-18 17:11:07 nmse_clustering:276] Graph is not fully connected and the clustering result might not be accurate.\n"
     ]
    },
    {
     "name": "stdout",
     "output_type": "stream",
     "text": [
      "217.18ms 'run_ASR_model'\n",
      "0.07ms '_get_speech_labels_from_decoded_prediction'\n",
      "0.82ms '_get_diar_segments'\n",
      "2.97ms 'getReducedMat'\n",
      "1.32ms 'matchNewOldclusterLabels'\n",
      "88.83ms '_online_diarization'\n",
      "[NeMo I 2021-10-18 17:11:07 streaming_asr_and_diar:1361] Streaming Diar [arm_talk_16k][frame-  772th  ]:\n"
     ]
    },
    {
     "name": "stderr",
     "output_type": "stream",
     "text": [
      "[NeMo W 2021-10-18 17:11:08 nmse_clustering:276] Graph is not fully connected and the clustering result might not be accurate.\n"
     ]
    },
    {
     "name": "stdout",
     "output_type": "stream",
     "text": [
      "218.56ms 'run_ASR_model'\n",
      "0.07ms '_get_speech_labels_from_decoded_prediction'\n",
      "0.85ms '_get_diar_segments'\n",
      "3.10ms 'getReducedMat'\n",
      "1.31ms 'matchNewOldclusterLabels'\n",
      "78.90ms '_online_diarization'\n",
      "[NeMo I 2021-10-18 17:11:08 streaming_asr_and_diar:1361] Streaming Diar [arm_talk_16k][frame-  773th  ]:\n"
     ]
    },
    {
     "name": "stderr",
     "output_type": "stream",
     "text": [
      "[NeMo W 2021-10-18 17:11:09 nmse_clustering:276] Graph is not fully connected and the clustering result might not be accurate.\n"
     ]
    },
    {
     "name": "stdout",
     "output_type": "stream",
     "text": [
      "204.87ms 'run_ASR_model'\n",
      "0.05ms '_get_speech_labels_from_decoded_prediction'\n",
      "0.91ms '_get_diar_segments'\n",
      "2.91ms 'getReducedMat'\n",
      "1.35ms 'matchNewOldclusterLabels'\n",
      "79.49ms '_online_diarization'\n",
      "[NeMo I 2021-10-18 17:11:09 streaming_asr_and_diar:1361] Streaming Diar [arm_talk_16k][frame-  774th  ]:\n"
     ]
    },
    {
     "name": "stderr",
     "output_type": "stream",
     "text": [
      "[NeMo W 2021-10-18 17:11:10 nmse_clustering:276] Graph is not fully connected and the clustering result might not be accurate.\n"
     ]
    },
    {
     "name": "stdout",
     "output_type": "stream",
     "text": [
      "220.06ms 'run_ASR_model'\n",
      "0.06ms '_get_speech_labels_from_decoded_prediction'\n",
      "0.60ms '_get_diar_segments'\n",
      "2.50ms 'getReducedMat'\n",
      "0.84ms 'matchNewOldclusterLabels'\n",
      "64.49ms '_online_diarization'\n",
      "[NeMo I 2021-10-18 17:11:10 streaming_asr_and_diar:1361] Streaming Diar [arm_talk_16k][frame-  775th  ]:\n"
     ]
    },
    {
     "name": "stderr",
     "output_type": "stream",
     "text": [
      "[NeMo W 2021-10-18 17:11:11 nmse_clustering:276] Graph is not fully connected and the clustering result might not be accurate.\n"
     ]
    },
    {
     "name": "stdout",
     "output_type": "stream",
     "text": [
      "215.62ms 'run_ASR_model'\n",
      "0.05ms '_get_speech_labels_from_decoded_prediction'\n",
      "0.55ms '_get_diar_segments'\n",
      "2.07ms 'getReducedMat'\n",
      "1.33ms 'matchNewOldclusterLabels'\n",
      "87.56ms '_online_diarization'\n",
      "[NeMo I 2021-10-18 17:11:11 streaming_asr_and_diar:1361] Streaming Diar [arm_talk_16k][frame-  776th  ]:\n"
     ]
    },
    {
     "name": "stderr",
     "output_type": "stream",
     "text": [
      "[NeMo W 2021-10-18 17:11:12 nmse_clustering:276] Graph is not fully connected and the clustering result might not be accurate.\n"
     ]
    },
    {
     "name": "stdout",
     "output_type": "stream",
     "text": [
      "218.69ms 'run_ASR_model'\n",
      "0.05ms '_get_speech_labels_from_decoded_prediction'\n",
      "0.33ms '_get_diar_segments'\n",
      "2.58ms 'getReducedMat'\n",
      "1.35ms 'matchNewOldclusterLabels'\n",
      "74.19ms '_online_diarization'\n",
      "[NeMo I 2021-10-18 17:11:12 streaming_asr_and_diar:1361] Streaming Diar [arm_talk_16k][frame-  777th  ]:\n"
     ]
    },
    {
     "name": "stderr",
     "output_type": "stream",
     "text": [
      "[NeMo W 2021-10-18 17:11:13 nmse_clustering:276] Graph is not fully connected and the clustering result might not be accurate.\n"
     ]
    },
    {
     "name": "stdout",
     "output_type": "stream",
     "text": [
      "224.35ms 'run_ASR_model'\n",
      "0.05ms '_get_speech_labels_from_decoded_prediction'\n",
      "0.75ms '_get_diar_segments'\n",
      "3.03ms 'getReducedMat'\n",
      "1.27ms 'matchNewOldclusterLabels'\n",
      "78.03ms '_online_diarization'\n",
      "[NeMo I 2021-10-18 17:11:13 streaming_asr_and_diar:1361] Streaming Diar [arm_talk_16k][frame-  778th  ]:\n"
     ]
    },
    {
     "name": "stderr",
     "output_type": "stream",
     "text": [
      "[NeMo W 2021-10-18 17:11:14 nmse_clustering:276] Graph is not fully connected and the clustering result might not be accurate.\n"
     ]
    },
    {
     "name": "stdout",
     "output_type": "stream",
     "text": [
      "215.06ms 'run_ASR_model'\n",
      "0.05ms '_get_speech_labels_from_decoded_prediction'\n",
      "0.88ms '_get_diar_segments'\n",
      "3.15ms 'getReducedMat'\n",
      "1.33ms 'matchNewOldclusterLabels'\n",
      "79.17ms '_online_diarization'\n",
      "[NeMo I 2021-10-18 17:11:14 streaming_asr_and_diar:1361] Streaming Diar [arm_talk_16k][frame-  779th  ]:\n"
     ]
    },
    {
     "name": "stderr",
     "output_type": "stream",
     "text": [
      "[NeMo W 2021-10-18 17:11:15 nmse_clustering:276] Graph is not fully connected and the clustering result might not be accurate.\n"
     ]
    },
    {
     "name": "stdout",
     "output_type": "stream",
     "text": [
      "223.10ms 'run_ASR_model'\n",
      "0.05ms '_get_speech_labels_from_decoded_prediction'\n",
      "0.83ms '_get_diar_segments'\n",
      "2.97ms 'getReducedMat'\n",
      "1.51ms 'matchNewOldclusterLabels'\n",
      "99.54ms '_online_diarization'\n",
      "[NeMo I 2021-10-18 17:11:15 streaming_asr_and_diar:1361] Streaming Diar [arm_talk_16k][frame-  780th  ]:\n"
     ]
    },
    {
     "name": "stderr",
     "output_type": "stream",
     "text": [
      "[NeMo W 2021-10-18 17:11:16 nmse_clustering:276] Graph is not fully connected and the clustering result might not be accurate.\n"
     ]
    },
    {
     "name": "stdout",
     "output_type": "stream",
     "text": [
      "228.29ms 'run_ASR_model'\n",
      "0.05ms '_get_speech_labels_from_decoded_prediction'\n",
      "0.82ms '_get_diar_segments'\n",
      "3.12ms 'getReducedMat'\n",
      "1.22ms 'matchNewOldclusterLabels'\n",
      "78.22ms '_online_diarization'\n",
      "[NeMo I 2021-10-18 17:11:16 streaming_asr_and_diar:1361] Streaming Diar [arm_talk_16k][frame-  781th  ]:\n"
     ]
    },
    {
     "name": "stderr",
     "output_type": "stream",
     "text": [
      "[NeMo W 2021-10-18 17:11:17 nmse_clustering:276] Graph is not fully connected and the clustering result might not be accurate.\n"
     ]
    },
    {
     "name": "stdout",
     "output_type": "stream",
     "text": [
      "207.11ms 'run_ASR_model'\n",
      "0.04ms '_get_speech_labels_from_decoded_prediction'\n",
      "0.84ms '_get_diar_segments'\n",
      "3.16ms 'getReducedMat'\n",
      "1.26ms 'matchNewOldclusterLabels'\n",
      "79.42ms '_online_diarization'\n",
      "[NeMo I 2021-10-18 17:11:17 streaming_asr_and_diar:1361] Streaming Diar [arm_talk_16k][frame-  782th  ]:\n"
     ]
    },
    {
     "name": "stderr",
     "output_type": "stream",
     "text": [
      "[NeMo W 2021-10-18 17:11:18 nmse_clustering:276] Graph is not fully connected and the clustering result might not be accurate.\n"
     ]
    },
    {
     "name": "stdout",
     "output_type": "stream",
     "text": [
      "223.37ms 'run_ASR_model'\n",
      "0.06ms '_get_speech_labels_from_decoded_prediction'\n",
      "0.60ms '_get_diar_segments'\n",
      "3.03ms 'getReducedMat'\n",
      "1.26ms 'matchNewOldclusterLabels'\n",
      "77.67ms '_online_diarization'\n",
      "[NeMo I 2021-10-18 17:11:18 streaming_asr_and_diar:1361] Streaming Diar [arm_talk_16k][frame-  783th  ]:\n"
     ]
    },
    {
     "name": "stderr",
     "output_type": "stream",
     "text": [
      "[NeMo W 2021-10-18 17:11:19 nmse_clustering:276] Graph is not fully connected and the clustering result might not be accurate.\n"
     ]
    },
    {
     "name": "stdout",
     "output_type": "stream",
     "text": [
      "256.85ms 'run_ASR_model'\n",
      "0.05ms '_get_speech_labels_from_decoded_prediction'\n",
      "0.95ms '_get_diar_segments'\n",
      "3.22ms 'getReducedMat'\n",
      "0.85ms 'matchNewOldclusterLabels'\n",
      "71.85ms '_online_diarization'\n",
      "[NeMo I 2021-10-18 17:11:19 streaming_asr_and_diar:1361] Streaming Diar [arm_talk_16k][frame-  784th  ]:\n"
     ]
    },
    {
     "name": "stderr",
     "output_type": "stream",
     "text": [
      "[NeMo W 2021-10-18 17:11:20 nmse_clustering:276] Graph is not fully connected and the clustering result might not be accurate.\n"
     ]
    },
    {
     "name": "stdout",
     "output_type": "stream",
     "text": [
      "219.01ms 'run_ASR_model'\n",
      "0.05ms '_get_speech_labels_from_decoded_prediction'\n",
      "0.33ms '_get_diar_segments'\n",
      "2.31ms 'getReducedMat'\n",
      "1.21ms 'matchNewOldclusterLabels'\n",
      "86.90ms '_online_diarization'\n",
      "[NeMo I 2021-10-18 17:11:20 streaming_asr_and_diar:1361] Streaming Diar [arm_talk_16k][frame-  785th  ]:\n"
     ]
    },
    {
     "name": "stderr",
     "output_type": "stream",
     "text": [
      "[NeMo W 2021-10-18 17:11:21 nmse_clustering:276] Graph is not fully connected and the clustering result might not be accurate.\n"
     ]
    },
    {
     "name": "stdout",
     "output_type": "stream",
     "text": [
      "205.92ms 'run_ASR_model'\n",
      "0.05ms '_get_speech_labels_from_decoded_prediction'\n",
      "0.82ms '_get_diar_segments'\n",
      "2.30ms 'getReducedMat'\n",
      "1.30ms 'matchNewOldclusterLabels'\n",
      "78.05ms '_online_diarization'\n",
      "[NeMo I 2021-10-18 17:11:21 streaming_asr_and_diar:1361] Streaming Diar [arm_talk_16k][frame-  786th  ]:\n"
     ]
    },
    {
     "name": "stderr",
     "output_type": "stream",
     "text": [
      "[NeMo W 2021-10-18 17:11:22 nmse_clustering:276] Graph is not fully connected and the clustering result might not be accurate.\n"
     ]
    },
    {
     "name": "stdout",
     "output_type": "stream",
     "text": [
      "232.72ms 'run_ASR_model'\n",
      "0.04ms '_get_speech_labels_from_decoded_prediction'\n",
      "0.15ms '_get_diar_segments'\n",
      "2.32ms 'getReducedMat'\n",
      "1.31ms 'matchNewOldclusterLabels'\n",
      "78.20ms '_online_diarization'\n",
      "[NeMo I 2021-10-18 17:11:22 streaming_asr_and_diar:1361] Streaming Diar [arm_talk_16k][frame-  787th  ]:\n"
     ]
    },
    {
     "name": "stderr",
     "output_type": "stream",
     "text": [
      "[NeMo W 2021-10-18 17:11:23 nmse_clustering:276] Graph is not fully connected and the clustering result might not be accurate.\n"
     ]
    },
    {
     "name": "stdout",
     "output_type": "stream",
     "text": [
      "228.49ms 'run_ASR_model'\n",
      "0.04ms '_get_speech_labels_from_decoded_prediction'\n",
      "0.80ms '_get_diar_segments'\n",
      "5.49ms 'getReducedMat'\n",
      "1.08ms 'matchNewOldclusterLabels'\n",
      "75.41ms '_online_diarization'\n",
      "[NeMo I 2021-10-18 17:11:23 streaming_asr_and_diar:1361] Streaming Diar [arm_talk_16k][frame-  788th  ]:\n"
     ]
    },
    {
     "name": "stderr",
     "output_type": "stream",
     "text": [
      "[NeMo W 2021-10-18 17:11:24 nmse_clustering:276] Graph is not fully connected and the clustering result might not be accurate.\n"
     ]
    },
    {
     "name": "stdout",
     "output_type": "stream",
     "text": [
      "214.61ms 'run_ASR_model'\n",
      "0.04ms '_get_speech_labels_from_decoded_prediction'\n",
      "0.88ms '_get_diar_segments'\n",
      "4.06ms 'getReducedMat'\n",
      "1.31ms 'matchNewOldclusterLabels'\n",
      "83.29ms '_online_diarization'\n",
      "[NeMo I 2021-10-18 17:11:24 streaming_asr_and_diar:1361] Streaming Diar [arm_talk_16k][frame-  789th  ]:\n"
     ]
    },
    {
     "name": "stderr",
     "output_type": "stream",
     "text": [
      "[NeMo W 2021-10-18 17:11:25 nmse_clustering:276] Graph is not fully connected and the clustering result might not be accurate.\n"
     ]
    },
    {
     "name": "stdout",
     "output_type": "stream",
     "text": [
      "235.55ms 'run_ASR_model'\n",
      "0.07ms '_get_speech_labels_from_decoded_prediction'\n",
      "0.89ms '_get_diar_segments'\n",
      "3.46ms 'getReducedMat'\n",
      "1.51ms 'matchNewOldclusterLabels'\n",
      "88.09ms '_online_diarization'\n",
      "[NeMo I 2021-10-18 17:11:25 streaming_asr_and_diar:1361] Streaming Diar [arm_talk_16k][frame-  790th  ]:\n"
     ]
    },
    {
     "name": "stderr",
     "output_type": "stream",
     "text": [
      "[NeMo W 2021-10-18 17:11:26 nmse_clustering:276] Graph is not fully connected and the clustering result might not be accurate.\n"
     ]
    },
    {
     "name": "stdout",
     "output_type": "stream",
     "text": [
      "216.63ms 'run_ASR_model'\n",
      "0.05ms '_get_speech_labels_from_decoded_prediction'\n",
      "0.86ms '_get_diar_segments'\n",
      "3.07ms 'getReducedMat'\n",
      "1.37ms 'matchNewOldclusterLabels'\n",
      "85.55ms '_online_diarization'\n",
      "[NeMo I 2021-10-18 17:11:26 streaming_asr_and_diar:1361] Streaming Diar [arm_talk_16k][frame-  791th  ]:\n"
     ]
    },
    {
     "name": "stderr",
     "output_type": "stream",
     "text": [
      "[NeMo W 2021-10-18 17:11:27 nmse_clustering:276] Graph is not fully connected and the clustering result might not be accurate.\n"
     ]
    },
    {
     "name": "stdout",
     "output_type": "stream",
     "text": [
      "212.39ms 'run_ASR_model'\n",
      "0.07ms '_get_speech_labels_from_decoded_prediction'\n",
      "0.82ms '_get_diar_segments'\n",
      "3.21ms 'getReducedMat'\n",
      "1.29ms 'matchNewOldclusterLabels'\n",
      "79.11ms '_online_diarization'\n",
      "[NeMo I 2021-10-18 17:11:27 streaming_asr_and_diar:1361] Streaming Diar [arm_talk_16k][frame-  792th  ]:\n"
     ]
    },
    {
     "name": "stderr",
     "output_type": "stream",
     "text": [
      "[NeMo W 2021-10-18 17:11:28 nmse_clustering:276] Graph is not fully connected and the clustering result might not be accurate.\n"
     ]
    },
    {
     "name": "stdout",
     "output_type": "stream",
     "text": [
      "231.31ms 'run_ASR_model'\n",
      "0.08ms '_get_speech_labels_from_decoded_prediction'\n",
      "0.84ms '_get_diar_segments'\n",
      "3.15ms 'getReducedMat'\n",
      "1.29ms 'matchNewOldclusterLabels'\n",
      "83.35ms '_online_diarization'\n",
      "[NeMo I 2021-10-18 17:11:28 streaming_asr_and_diar:1361] Streaming Diar [arm_talk_16k][frame-  793th  ]:\n"
     ]
    },
    {
     "name": "stderr",
     "output_type": "stream",
     "text": [
      "[NeMo W 2021-10-18 17:11:29 nmse_clustering:276] Graph is not fully connected and the clustering result might not be accurate.\n"
     ]
    },
    {
     "name": "stdout",
     "output_type": "stream",
     "text": [
      "229.66ms 'run_ASR_model'\n",
      "0.07ms '_get_speech_labels_from_decoded_prediction'\n",
      "0.83ms '_get_diar_segments'\n",
      "2.23ms 'getReducedMat'\n",
      "1.35ms 'matchNewOldclusterLabels'\n",
      "78.75ms '_online_diarization'\n",
      "[NeMo I 2021-10-18 17:11:29 streaming_asr_and_diar:1361] Streaming Diar [arm_talk_16k][frame-  794th  ]:\n"
     ]
    },
    {
     "name": "stderr",
     "output_type": "stream",
     "text": [
      "[NeMo W 2021-10-18 17:11:30 nmse_clustering:276] Graph is not fully connected and the clustering result might not be accurate.\n"
     ]
    },
    {
     "name": "stdout",
     "output_type": "stream",
     "text": [
      "231.85ms 'run_ASR_model'\n",
      "0.16ms '_get_speech_labels_from_decoded_prediction'\n",
      "0.74ms '_get_diar_segments'\n",
      "3.20ms 'getReducedMat'\n",
      "1.35ms 'matchNewOldclusterLabels'\n",
      "91.21ms '_online_diarization'\n",
      "[NeMo I 2021-10-18 17:11:30 streaming_asr_and_diar:1361] Streaming Diar [arm_talk_16k][frame-  795th  ]:\n"
     ]
    },
    {
     "name": "stderr",
     "output_type": "stream",
     "text": [
      "[NeMo W 2021-10-18 17:11:31 nmse_clustering:276] Graph is not fully connected and the clustering result might not be accurate.\n"
     ]
    },
    {
     "name": "stdout",
     "output_type": "stream",
     "text": [
      "202.75ms 'run_ASR_model'\n",
      "0.05ms '_get_speech_labels_from_decoded_prediction'\n",
      "0.85ms '_get_diar_segments'\n",
      "3.19ms 'getReducedMat'\n",
      "1.30ms 'matchNewOldclusterLabels'\n",
      "80.59ms '_online_diarization'\n",
      "[NeMo I 2021-10-18 17:11:31 streaming_asr_and_diar:1361] Streaming Diar [arm_talk_16k][frame-  796th  ]:\n"
     ]
    },
    {
     "name": "stderr",
     "output_type": "stream",
     "text": [
      "[NeMo W 2021-10-18 17:11:32 nmse_clustering:276] Graph is not fully connected and the clustering result might not be accurate.\n"
     ]
    },
    {
     "name": "stdout",
     "output_type": "stream",
     "text": [
      "228.31ms 'run_ASR_model'\n",
      "0.05ms '_get_speech_labels_from_decoded_prediction'\n",
      "0.83ms '_get_diar_segments'\n",
      "3.23ms 'getReducedMat'\n",
      "1.34ms 'matchNewOldclusterLabels'\n",
      "78.84ms '_online_diarization'\n",
      "[NeMo I 2021-10-18 17:11:32 streaming_asr_and_diar:1361] Streaming Diar [arm_talk_16k][frame-  797th  ]:\n"
     ]
    },
    {
     "name": "stderr",
     "output_type": "stream",
     "text": [
      "[NeMo W 2021-10-18 17:11:33 nmse_clustering:276] Graph is not fully connected and the clustering result might not be accurate.\n"
     ]
    },
    {
     "name": "stdout",
     "output_type": "stream",
     "text": [
      "209.70ms 'run_ASR_model'\n",
      "0.05ms '_get_speech_labels_from_decoded_prediction'\n",
      "0.86ms '_get_diar_segments'\n",
      "3.23ms 'getReducedMat'\n",
      "1.24ms 'matchNewOldclusterLabels'\n",
      "81.28ms '_online_diarization'\n",
      "[NeMo I 2021-10-18 17:11:33 streaming_asr_and_diar:1361] Streaming Diar [arm_talk_16k][frame-  798th  ]:\n"
     ]
    },
    {
     "name": "stderr",
     "output_type": "stream",
     "text": [
      "[NeMo W 2021-10-18 17:11:34 nmse_clustering:276] Graph is not fully connected and the clustering result might not be accurate.\n"
     ]
    },
    {
     "name": "stdout",
     "output_type": "stream",
     "text": [
      "213.14ms 'run_ASR_model'\n",
      "0.04ms '_get_speech_labels_from_decoded_prediction'\n",
      "0.81ms '_get_diar_segments'\n",
      "3.29ms 'getReducedMat'\n",
      "1.29ms 'matchNewOldclusterLabels'\n",
      "79.43ms '_online_diarization'\n",
      "[NeMo I 2021-10-18 17:11:34 streaming_asr_and_diar:1361] Streaming Diar [arm_talk_16k][frame-  799th  ]:\n"
     ]
    },
    {
     "name": "stderr",
     "output_type": "stream",
     "text": [
      "[NeMo W 2021-10-18 17:11:35 nmse_clustering:276] Graph is not fully connected and the clustering result might not be accurate.\n"
     ]
    },
    {
     "name": "stdout",
     "output_type": "stream",
     "text": [
      "226.10ms 'run_ASR_model'\n",
      "0.05ms '_get_speech_labels_from_decoded_prediction'\n",
      "0.86ms '_get_diar_segments'\n",
      "3.85ms 'getReducedMat'\n",
      "1.33ms 'matchNewOldclusterLabels'\n",
      "78.92ms '_online_diarization'\n",
      "[NeMo I 2021-10-18 17:11:35 streaming_asr_and_diar:1361] Streaming Diar [arm_talk_16k][frame-  800th  ]:\n"
     ]
    },
    {
     "name": "stderr",
     "output_type": "stream",
     "text": [
      "[NeMo W 2021-10-18 17:11:36 nmse_clustering:276] Graph is not fully connected and the clustering result might not be accurate.\n"
     ]
    },
    {
     "name": "stdout",
     "output_type": "stream",
     "text": [
      "213.83ms 'run_ASR_model'\n",
      "0.04ms '_get_speech_labels_from_decoded_prediction'\n",
      "0.81ms '_get_diar_segments'\n",
      "3.18ms 'getReducedMat'\n",
      "1.35ms 'matchNewOldclusterLabels'\n",
      "79.39ms '_online_diarization'\n",
      "[NeMo I 2021-10-18 17:11:36 streaming_asr_and_diar:1361] Streaming Diar [arm_talk_16k][frame-  801th  ]:\n"
     ]
    },
    {
     "name": "stderr",
     "output_type": "stream",
     "text": [
      "[NeMo W 2021-10-18 17:11:37 nmse_clustering:276] Graph is not fully connected and the clustering result might not be accurate.\n"
     ]
    },
    {
     "name": "stdout",
     "output_type": "stream",
     "text": [
      "248.13ms 'run_ASR_model'\n",
      "0.05ms '_get_speech_labels_from_decoded_prediction'\n",
      "0.83ms '_get_diar_segments'\n",
      "3.20ms 'getReducedMat'\n",
      "1.31ms 'matchNewOldclusterLabels'\n",
      "78.25ms '_online_diarization'\n",
      "[NeMo I 2021-10-18 17:11:37 streaming_asr_and_diar:1361] Streaming Diar [arm_talk_16k][frame-  802th  ]:\n"
     ]
    },
    {
     "name": "stderr",
     "output_type": "stream",
     "text": [
      "[NeMo W 2021-10-18 17:11:38 nmse_clustering:276] Graph is not fully connected and the clustering result might not be accurate.\n"
     ]
    },
    {
     "name": "stdout",
     "output_type": "stream",
     "text": [
      "217.64ms 'run_ASR_model'\n",
      "0.05ms '_get_speech_labels_from_decoded_prediction'\n",
      "0.54ms '_get_diar_segments'\n",
      "2.21ms 'getReducedMat'\n",
      "1.32ms 'matchNewOldclusterLabels'\n",
      "76.91ms '_online_diarization'\n",
      "[NeMo I 2021-10-18 17:11:38 streaming_asr_and_diar:1361] Streaming Diar [arm_talk_16k][frame-  803th  ]:\n"
     ]
    },
    {
     "name": "stderr",
     "output_type": "stream",
     "text": [
      "[NeMo W 2021-10-18 17:11:39 nmse_clustering:276] Graph is not fully connected and the clustering result might not be accurate.\n"
     ]
    },
    {
     "name": "stdout",
     "output_type": "stream",
     "text": [
      "214.51ms 'run_ASR_model'\n",
      "0.05ms '_get_speech_labels_from_decoded_prediction'\n",
      "0.79ms '_get_diar_segments'\n",
      "3.23ms 'getReducedMat'\n",
      "0.87ms 'matchNewOldclusterLabels'\n",
      "97.74ms '_online_diarization'\n",
      "[NeMo I 2021-10-18 17:11:39 streaming_asr_and_diar:1361] Streaming Diar [arm_talk_16k][frame-  804th  ]:\n"
     ]
    },
    {
     "name": "stderr",
     "output_type": "stream",
     "text": [
      "[NeMo W 2021-10-18 17:11:40 nmse_clustering:276] Graph is not fully connected and the clustering result might not be accurate.\n"
     ]
    },
    {
     "name": "stdout",
     "output_type": "stream",
     "text": [
      "204.99ms 'run_ASR_model'\n",
      "0.06ms '_get_speech_labels_from_decoded_prediction'\n",
      "0.73ms '_get_diar_segments'\n",
      "3.10ms 'getReducedMat'\n",
      "1.24ms 'matchNewOldclusterLabels'\n",
      "92.18ms '_online_diarization'\n",
      "[NeMo I 2021-10-18 17:11:40 streaming_asr_and_diar:1361] Streaming Diar [arm_talk_16k][frame-  805th  ]:\n"
     ]
    },
    {
     "name": "stderr",
     "output_type": "stream",
     "text": [
      "[NeMo W 2021-10-18 17:11:41 nmse_clustering:276] Graph is not fully connected and the clustering result might not be accurate.\n"
     ]
    },
    {
     "name": "stdout",
     "output_type": "stream",
     "text": [
      "228.99ms 'run_ASR_model'\n",
      "0.04ms '_get_speech_labels_from_decoded_prediction'\n",
      "0.83ms '_get_diar_segments'\n",
      "3.09ms 'getReducedMat'\n",
      "1.32ms 'matchNewOldclusterLabels'\n",
      "85.93ms '_online_diarization'\n",
      "[NeMo I 2021-10-18 17:11:41 streaming_asr_and_diar:1361] Streaming Diar [arm_talk_16k][frame-  806th  ]:\n"
     ]
    },
    {
     "name": "stderr",
     "output_type": "stream",
     "text": [
      "[NeMo W 2021-10-18 17:11:42 nmse_clustering:276] Graph is not fully connected and the clustering result might not be accurate.\n"
     ]
    },
    {
     "name": "stdout",
     "output_type": "stream",
     "text": [
      "215.56ms 'run_ASR_model'\n",
      "0.04ms '_get_speech_labels_from_decoded_prediction'\n",
      "0.88ms '_get_diar_segments'\n",
      "3.21ms 'getReducedMat'\n",
      "1.28ms 'matchNewOldclusterLabels'\n",
      "78.34ms '_online_diarization'\n",
      "[NeMo I 2021-10-18 17:11:42 streaming_asr_and_diar:1361] Streaming Diar [arm_talk_16k][frame-  807th  ]:\n"
     ]
    },
    {
     "name": "stderr",
     "output_type": "stream",
     "text": [
      "[NeMo W 2021-10-18 17:11:43 nmse_clustering:276] Graph is not fully connected and the clustering result might not be accurate.\n"
     ]
    },
    {
     "name": "stdout",
     "output_type": "stream",
     "text": [
      "217.98ms 'run_ASR_model'\n",
      "0.04ms '_get_speech_labels_from_decoded_prediction'\n",
      "0.82ms '_get_diar_segments'\n",
      "3.59ms 'getReducedMat'\n",
      "0.87ms 'matchNewOldclusterLabels'\n",
      "89.50ms '_online_diarization'\n",
      "[NeMo I 2021-10-18 17:11:43 streaming_asr_and_diar:1361] Streaming Diar [arm_talk_16k][frame-  808th  ]:\n"
     ]
    },
    {
     "name": "stderr",
     "output_type": "stream",
     "text": [
      "[NeMo W 2021-10-18 17:11:44 nmse_clustering:276] Graph is not fully connected and the clustering result might not be accurate.\n"
     ]
    },
    {
     "name": "stdout",
     "output_type": "stream",
     "text": [
      "219.35ms 'run_ASR_model'\n",
      "0.04ms '_get_speech_labels_from_decoded_prediction'\n",
      "0.65ms '_get_diar_segments'\n",
      "3.09ms 'getReducedMat'\n",
      "0.87ms 'matchNewOldclusterLabels'\n",
      "77.46ms '_online_diarization'\n",
      "[NeMo I 2021-10-18 17:11:44 streaming_asr_and_diar:1361] Streaming Diar [arm_talk_16k][frame-  809th  ]:\n"
     ]
    },
    {
     "name": "stderr",
     "output_type": "stream",
     "text": [
      "[NeMo W 2021-10-18 17:11:45 nmse_clustering:276] Graph is not fully connected and the clustering result might not be accurate.\n"
     ]
    },
    {
     "name": "stdout",
     "output_type": "stream",
     "text": [
      "214.46ms 'run_ASR_model'\n",
      "0.04ms '_get_speech_labels_from_decoded_prediction'\n",
      "0.63ms '_get_diar_segments'\n",
      "3.18ms 'getReducedMat'\n",
      "1.20ms 'matchNewOldclusterLabels'\n",
      "77.95ms '_online_diarization'\n",
      "[NeMo I 2021-10-18 17:11:45 streaming_asr_and_diar:1361] Streaming Diar [arm_talk_16k][frame-  810th  ]:\n"
     ]
    },
    {
     "name": "stderr",
     "output_type": "stream",
     "text": [
      "[NeMo W 2021-10-18 17:11:46 nmse_clustering:276] Graph is not fully connected and the clustering result might not be accurate.\n"
     ]
    },
    {
     "name": "stdout",
     "output_type": "stream",
     "text": [
      "214.86ms 'run_ASR_model'\n",
      "0.04ms '_get_speech_labels_from_decoded_prediction'\n",
      "0.86ms '_get_diar_segments'\n",
      "3.13ms 'getReducedMat'\n",
      "1.33ms 'matchNewOldclusterLabels'\n",
      "79.51ms '_online_diarization'\n",
      "[NeMo I 2021-10-18 17:11:46 streaming_asr_and_diar:1361] Streaming Diar [arm_talk_16k][frame-  811th  ]:\n"
     ]
    },
    {
     "name": "stderr",
     "output_type": "stream",
     "text": [
      "[NeMo W 2021-10-18 17:11:47 nmse_clustering:276] Graph is not fully connected and the clustering result might not be accurate.\n"
     ]
    },
    {
     "name": "stdout",
     "output_type": "stream",
     "text": [
      "233.57ms 'run_ASR_model'\n",
      "0.05ms '_get_speech_labels_from_decoded_prediction'\n",
      "0.85ms '_get_diar_segments'\n",
      "2.78ms 'getReducedMat'\n",
      "1.29ms 'matchNewOldclusterLabels'\n",
      "74.06ms '_online_diarization'\n",
      "[NeMo I 2021-10-18 17:11:47 streaming_asr_and_diar:1361] Streaming Diar [arm_talk_16k][frame-  812th  ]:\n"
     ]
    },
    {
     "name": "stderr",
     "output_type": "stream",
     "text": [
      "[NeMo W 2021-10-18 17:11:48 nmse_clustering:276] Graph is not fully connected and the clustering result might not be accurate.\n"
     ]
    },
    {
     "name": "stdout",
     "output_type": "stream",
     "text": [
      "218.64ms 'run_ASR_model'\n",
      "0.06ms '_get_speech_labels_from_decoded_prediction'\n",
      "0.88ms '_get_diar_segments'\n",
      "3.35ms 'getReducedMat'\n",
      "1.21ms 'matchNewOldclusterLabels'\n",
      "80.01ms '_online_diarization'\n",
      "[NeMo I 2021-10-18 17:11:48 streaming_asr_and_diar:1361] Streaming Diar [arm_talk_16k][frame-  813th  ]:\n"
     ]
    },
    {
     "name": "stderr",
     "output_type": "stream",
     "text": [
      "[NeMo W 2021-10-18 17:11:49 nmse_clustering:276] Graph is not fully connected and the clustering result might not be accurate.\n"
     ]
    },
    {
     "name": "stdout",
     "output_type": "stream",
     "text": [
      "225.73ms 'run_ASR_model'\n",
      "0.05ms '_get_speech_labels_from_decoded_prediction'\n",
      "0.87ms '_get_diar_segments'\n",
      "3.20ms 'getReducedMat'\n",
      "1.30ms 'matchNewOldclusterLabels'\n",
      "79.89ms '_online_diarization'\n",
      "[NeMo I 2021-10-18 17:11:49 streaming_asr_and_diar:1361] Streaming Diar [arm_talk_16k][frame-  814th  ]:\n"
     ]
    },
    {
     "name": "stderr",
     "output_type": "stream",
     "text": [
      "[NeMo W 2021-10-18 17:11:50 nmse_clustering:276] Graph is not fully connected and the clustering result might not be accurate.\n"
     ]
    },
    {
     "name": "stdout",
     "output_type": "stream",
     "text": [
      "219.02ms 'run_ASR_model'\n",
      "0.05ms '_get_speech_labels_from_decoded_prediction'\n",
      "0.80ms '_get_diar_segments'\n",
      "3.19ms 'getReducedMat'\n",
      "1.31ms 'matchNewOldclusterLabels'\n",
      "88.32ms '_online_diarization'\n",
      "[NeMo I 2021-10-18 17:11:50 streaming_asr_and_diar:1361] Streaming Diar [arm_talk_16k][frame-  815th  ]:\n"
     ]
    },
    {
     "name": "stderr",
     "output_type": "stream",
     "text": [
      "[NeMo W 2021-10-18 17:11:51 nmse_clustering:276] Graph is not fully connected and the clustering result might not be accurate.\n"
     ]
    },
    {
     "name": "stdout",
     "output_type": "stream",
     "text": [
      "242.80ms 'run_ASR_model'\n",
      "0.05ms '_get_speech_labels_from_decoded_prediction'\n",
      "0.33ms '_get_diar_segments'\n",
      "2.65ms 'getReducedMat'\n",
      "1.28ms 'matchNewOldclusterLabels'\n",
      "72.78ms '_online_diarization'\n",
      "[NeMo I 2021-10-18 17:11:51 streaming_asr_and_diar:1361] Streaming Diar [arm_talk_16k][frame-  816th  ]:\n"
     ]
    },
    {
     "name": "stderr",
     "output_type": "stream",
     "text": [
      "[NeMo W 2021-10-18 17:11:52 nmse_clustering:276] Graph is not fully connected and the clustering result might not be accurate.\n"
     ]
    },
    {
     "name": "stdout",
     "output_type": "stream",
     "text": [
      "223.25ms 'run_ASR_model'\n",
      "0.05ms '_get_speech_labels_from_decoded_prediction'\n",
      "0.85ms '_get_diar_segments'\n",
      "2.38ms 'getReducedMat'\n",
      "1.00ms 'matchNewOldclusterLabels'\n",
      "73.62ms '_online_diarization'\n",
      "[NeMo I 2021-10-18 17:11:52 streaming_asr_and_diar:1361] Streaming Diar [arm_talk_16k][frame-  817th  ]:\n"
     ]
    },
    {
     "name": "stderr",
     "output_type": "stream",
     "text": [
      "[NeMo W 2021-10-18 17:11:53 nmse_clustering:276] Graph is not fully connected and the clustering result might not be accurate.\n"
     ]
    },
    {
     "name": "stdout",
     "output_type": "stream",
     "text": [
      "224.03ms 'run_ASR_model'\n",
      "0.05ms '_get_speech_labels_from_decoded_prediction'\n",
      "0.62ms '_get_diar_segments'\n",
      "3.22ms 'getReducedMat'\n",
      "1.30ms 'matchNewOldclusterLabels'\n",
      "79.68ms '_online_diarization'\n",
      "[NeMo I 2021-10-18 17:11:53 streaming_asr_and_diar:1361] Streaming Diar [arm_talk_16k][frame-  818th  ]:\n"
     ]
    },
    {
     "name": "stderr",
     "output_type": "stream",
     "text": [
      "[NeMo W 2021-10-18 17:11:54 nmse_clustering:276] Graph is not fully connected and the clustering result might not be accurate.\n"
     ]
    },
    {
     "name": "stdout",
     "output_type": "stream",
     "text": [
      "208.27ms 'run_ASR_model'\n",
      "0.05ms '_get_speech_labels_from_decoded_prediction'\n",
      "0.86ms '_get_diar_segments'\n",
      "3.07ms 'getReducedMat'\n",
      "1.08ms 'matchNewOldclusterLabels'\n",
      "73.09ms '_online_diarization'\n",
      "[NeMo I 2021-10-18 17:11:54 streaming_asr_and_diar:1361] Streaming Diar [arm_talk_16k][frame-  819th  ]:\n"
     ]
    },
    {
     "name": "stderr",
     "output_type": "stream",
     "text": [
      "[NeMo W 2021-10-18 17:11:55 nmse_clustering:276] Graph is not fully connected and the clustering result might not be accurate.\n"
     ]
    },
    {
     "name": "stdout",
     "output_type": "stream",
     "text": [
      "217.25ms 'run_ASR_model'\n",
      "0.05ms '_get_speech_labels_from_decoded_prediction'\n",
      "0.66ms '_get_diar_segments'\n",
      "3.38ms 'getReducedMat'\n",
      "1.35ms 'matchNewOldclusterLabels'\n",
      "83.04ms '_online_diarization'\n",
      "[NeMo I 2021-10-18 17:11:55 streaming_asr_and_diar:1361] Streaming Diar [arm_talk_16k][frame-  820th  ]:\n"
     ]
    },
    {
     "name": "stderr",
     "output_type": "stream",
     "text": [
      "[NeMo W 2021-10-18 17:11:56 nmse_clustering:276] Graph is not fully connected and the clustering result might not be accurate.\n"
     ]
    },
    {
     "name": "stdout",
     "output_type": "stream",
     "text": [
      "229.56ms 'run_ASR_model'\n",
      "0.05ms '_get_speech_labels_from_decoded_prediction'\n",
      "0.88ms '_get_diar_segments'\n",
      "3.21ms 'getReducedMat'\n",
      "1.34ms 'matchNewOldclusterLabels'\n",
      "79.79ms '_online_diarization'\n",
      "[NeMo I 2021-10-18 17:11:56 streaming_asr_and_diar:1361] Streaming Diar [arm_talk_16k][frame-  821th  ]:\n"
     ]
    },
    {
     "name": "stderr",
     "output_type": "stream",
     "text": [
      "[NeMo W 2021-10-18 17:11:57 nmse_clustering:276] Graph is not fully connected and the clustering result might not be accurate.\n"
     ]
    },
    {
     "name": "stdout",
     "output_type": "stream",
     "text": [
      "214.97ms 'run_ASR_model'\n",
      "0.05ms '_get_speech_labels_from_decoded_prediction'\n",
      "0.83ms '_get_diar_segments'\n",
      "2.25ms 'getReducedMat'\n",
      "1.29ms 'matchNewOldclusterLabels'\n",
      "79.23ms '_online_diarization'\n",
      "[NeMo I 2021-10-18 17:11:57 streaming_asr_and_diar:1361] Streaming Diar [arm_talk_16k][frame-  822th  ]:\n"
     ]
    },
    {
     "name": "stderr",
     "output_type": "stream",
     "text": [
      "[NeMo W 2021-10-18 17:11:58 nmse_clustering:276] Graph is not fully connected and the clustering result might not be accurate.\n"
     ]
    },
    {
     "name": "stdout",
     "output_type": "stream",
     "text": [
      "231.68ms 'run_ASR_model'\n",
      "0.05ms '_get_speech_labels_from_decoded_prediction'\n",
      "0.85ms '_get_diar_segments'\n",
      "3.43ms 'getReducedMat'\n",
      "1.01ms 'matchNewOldclusterLabels'\n",
      "75.74ms '_online_diarization'\n",
      "[NeMo I 2021-10-18 17:11:58 streaming_asr_and_diar:1361] Streaming Diar [arm_talk_16k][frame-  823th  ]:\n"
     ]
    },
    {
     "name": "stderr",
     "output_type": "stream",
     "text": [
      "[NeMo W 2021-10-18 17:11:59 nmse_clustering:276] Graph is not fully connected and the clustering result might not be accurate.\n"
     ]
    },
    {
     "name": "stdout",
     "output_type": "stream",
     "text": [
      "216.62ms 'run_ASR_model'\n",
      "0.05ms '_get_speech_labels_from_decoded_prediction'\n",
      "1.02ms '_get_diar_segments'\n",
      "3.29ms 'getReducedMat'\n",
      "1.04ms 'matchNewOldclusterLabels'\n",
      "77.06ms '_online_diarization'\n",
      "[NeMo I 2021-10-18 17:11:59 streaming_asr_and_diar:1361] Streaming Diar [arm_talk_16k][frame-  824th  ]:\n"
     ]
    },
    {
     "name": "stderr",
     "output_type": "stream",
     "text": [
      "[NeMo W 2021-10-18 17:12:00 nmse_clustering:276] Graph is not fully connected and the clustering result might not be accurate.\n"
     ]
    },
    {
     "name": "stdout",
     "output_type": "stream",
     "text": [
      "222.64ms 'run_ASR_model'\n",
      "0.04ms '_get_speech_labels_from_decoded_prediction'\n",
      "0.85ms '_get_diar_segments'\n",
      "3.35ms 'getReducedMat'\n",
      "1.16ms 'matchNewOldclusterLabels'\n",
      "78.74ms '_online_diarization'\n",
      "[NeMo I 2021-10-18 17:12:00 streaming_asr_and_diar:1361] Streaming Diar [arm_talk_16k][frame-  825th  ]:\n"
     ]
    },
    {
     "name": "stderr",
     "output_type": "stream",
     "text": [
      "[NeMo W 2021-10-18 17:12:01 nmse_clustering:276] Graph is not fully connected and the clustering result might not be accurate.\n"
     ]
    },
    {
     "name": "stdout",
     "output_type": "stream",
     "text": [
      "215.24ms 'run_ASR_model'\n",
      "0.04ms '_get_speech_labels_from_decoded_prediction'\n",
      "0.59ms '_get_diar_segments'\n",
      "3.24ms 'getReducedMat'\n",
      "1.30ms 'matchNewOldclusterLabels'\n",
      "80.19ms '_online_diarization'\n",
      "[NeMo I 2021-10-18 17:12:01 streaming_asr_and_diar:1361] Streaming Diar [arm_talk_16k][frame-  826th  ]:\n"
     ]
    },
    {
     "name": "stderr",
     "output_type": "stream",
     "text": [
      "[NeMo W 2021-10-18 17:12:02 nmse_clustering:276] Graph is not fully connected and the clustering result might not be accurate.\n"
     ]
    },
    {
     "name": "stdout",
     "output_type": "stream",
     "text": [
      "206.31ms 'run_ASR_model'\n",
      "0.04ms '_get_speech_labels_from_decoded_prediction'\n",
      "0.72ms '_get_diar_segments'\n",
      "3.23ms 'getReducedMat'\n",
      "1.31ms 'matchNewOldclusterLabels'\n",
      "79.63ms '_online_diarization'\n",
      "[NeMo I 2021-10-18 17:12:02 streaming_asr_and_diar:1361] Streaming Diar [arm_talk_16k][frame-  827th  ]:\n"
     ]
    },
    {
     "name": "stderr",
     "output_type": "stream",
     "text": [
      "[NeMo W 2021-10-18 17:12:03 nmse_clustering:276] Graph is not fully connected and the clustering result might not be accurate.\n"
     ]
    },
    {
     "name": "stdout",
     "output_type": "stream",
     "text": [
      "215.59ms 'run_ASR_model'\n",
      "0.04ms '_get_speech_labels_from_decoded_prediction'\n",
      "0.93ms '_get_diar_segments'\n",
      "3.26ms 'getReducedMat'\n",
      "1.29ms 'matchNewOldclusterLabels'\n",
      "84.98ms '_online_diarization'\n",
      "[NeMo I 2021-10-18 17:12:03 streaming_asr_and_diar:1361] Streaming Diar [arm_talk_16k][frame-  828th  ]:\n"
     ]
    },
    {
     "name": "stderr",
     "output_type": "stream",
     "text": [
      "[NeMo W 2021-10-18 17:12:04 nmse_clustering:276] Graph is not fully connected and the clustering result might not be accurate.\n"
     ]
    },
    {
     "name": "stdout",
     "output_type": "stream",
     "text": [
      "217.03ms 'run_ASR_model'\n",
      "0.04ms '_get_speech_labels_from_decoded_prediction'\n",
      "0.73ms '_get_diar_segments'\n",
      "3.27ms 'getReducedMat'\n",
      "1.30ms 'matchNewOldclusterLabels'\n",
      "80.84ms '_online_diarization'\n",
      "[NeMo I 2021-10-18 17:12:04 streaming_asr_and_diar:1361] Streaming Diar [arm_talk_16k][frame-  829th  ]:\n"
     ]
    },
    {
     "name": "stderr",
     "output_type": "stream",
     "text": [
      "[NeMo W 2021-10-18 17:12:05 nmse_clustering:276] Graph is not fully connected and the clustering result might not be accurate.\n"
     ]
    },
    {
     "name": "stdout",
     "output_type": "stream",
     "text": [
      "217.39ms 'run_ASR_model'\n",
      "0.04ms '_get_speech_labels_from_decoded_prediction'\n",
      "0.87ms '_get_diar_segments'\n",
      "3.30ms 'getReducedMat'\n",
      "1.25ms 'matchNewOldclusterLabels'\n",
      "80.22ms '_online_diarization'\n",
      "[NeMo I 2021-10-18 17:12:05 streaming_asr_and_diar:1361] Streaming Diar [arm_talk_16k][frame-  830th  ]:\n"
     ]
    },
    {
     "name": "stderr",
     "output_type": "stream",
     "text": [
      "[NeMo W 2021-10-18 17:12:06 nmse_clustering:276] Graph is not fully connected and the clustering result might not be accurate.\n"
     ]
    },
    {
     "name": "stdout",
     "output_type": "stream",
     "text": [
      "214.36ms 'run_ASR_model'\n",
      "0.04ms '_get_speech_labels_from_decoded_prediction'\n",
      "0.85ms '_get_diar_segments'\n",
      "3.34ms 'getReducedMat'\n",
      "1.36ms 'matchNewOldclusterLabels'\n",
      "87.03ms '_online_diarization'\n",
      "[NeMo I 2021-10-18 17:12:06 streaming_asr_and_diar:1361] Streaming Diar [arm_talk_16k][frame-  831th  ]:\n"
     ]
    },
    {
     "name": "stderr",
     "output_type": "stream",
     "text": [
      "[NeMo W 2021-10-18 17:12:07 nmse_clustering:276] Graph is not fully connected and the clustering result might not be accurate.\n"
     ]
    },
    {
     "name": "stdout",
     "output_type": "stream",
     "text": [
      "206.18ms 'run_ASR_model'\n",
      "0.04ms '_get_speech_labels_from_decoded_prediction'\n",
      "0.32ms '_get_diar_segments'\n",
      "3.29ms 'getReducedMat'\n",
      "1.31ms 'matchNewOldclusterLabels'\n",
      "74.24ms '_online_diarization'\n",
      "[NeMo I 2021-10-18 17:12:07 streaming_asr_and_diar:1361] Streaming Diar [arm_talk_16k][frame-  832th  ]:\n",
      "213.48ms 'run_ASR_model'\n",
      "0.03ms '_get_speech_labels_from_decoded_prediction'\n",
      "0.33ms '_get_diar_segments'\n",
      "3.28ms 'getReducedMat'\n",
      "1.32ms 'matchNewOldclusterLabels'\n",
      "83.67ms '_online_diarization'\n",
      "[NeMo I 2021-10-18 17:12:08 streaming_asr_and_diar:1361] Streaming Diar [arm_talk_16k][frame-  833th  ]:\n"
     ]
    },
    {
     "name": "stderr",
     "output_type": "stream",
     "text": [
      "[NeMo W 2021-10-18 17:12:09 nmse_clustering:276] Graph is not fully connected and the clustering result might not be accurate.\n"
     ]
    },
    {
     "name": "stdout",
     "output_type": "stream",
     "text": [
      "214.23ms 'run_ASR_model'\n",
      "0.05ms '_get_speech_labels_from_decoded_prediction'\n",
      "0.78ms '_get_diar_segments'\n",
      "2.92ms 'getReducedMat'\n",
      "1.32ms 'matchNewOldclusterLabels'\n",
      "86.81ms '_online_diarization'\n",
      "[NeMo I 2021-10-18 17:12:09 streaming_asr_and_diar:1361] Streaming Diar [arm_talk_16k][frame-  834th  ]:\n"
     ]
    },
    {
     "name": "stderr",
     "output_type": "stream",
     "text": [
      "[NeMo W 2021-10-18 17:12:10 nmse_clustering:276] Graph is not fully connected and the clustering result might not be accurate.\n"
     ]
    },
    {
     "name": "stdout",
     "output_type": "stream",
     "text": [
      "219.74ms 'run_ASR_model'\n",
      "0.03ms '_get_speech_labels_from_decoded_prediction'\n",
      "0.70ms '_get_diar_segments'\n",
      "3.24ms 'getReducedMat'\n",
      "1.33ms 'matchNewOldclusterLabels'\n",
      "90.78ms '_online_diarization'\n",
      "[NeMo I 2021-10-18 17:12:10 streaming_asr_and_diar:1361] Streaming Diar [arm_talk_16k][frame-  835th  ]:\n"
     ]
    },
    {
     "name": "stderr",
     "output_type": "stream",
     "text": [
      "[NeMo W 2021-10-18 17:12:11 nmse_clustering:276] Graph is not fully connected and the clustering result might not be accurate.\n"
     ]
    },
    {
     "name": "stdout",
     "output_type": "stream",
     "text": [
      "215.30ms 'run_ASR_model'\n",
      "0.03ms '_get_speech_labels_from_decoded_prediction'\n",
      "0.45ms '_get_diar_segments'\n",
      "4.25ms 'getReducedMat'\n",
      "1.34ms 'matchNewOldclusterLabels'\n",
      "81.35ms '_online_diarization'\n",
      "[NeMo I 2021-10-18 17:12:11 streaming_asr_and_diar:1361] Streaming Diar [arm_talk_16k][frame-  836th  ]:\n"
     ]
    },
    {
     "name": "stderr",
     "output_type": "stream",
     "text": [
      "[NeMo W 2021-10-18 17:12:12 nmse_clustering:276] Graph is not fully connected and the clustering result might not be accurate.\n"
     ]
    },
    {
     "name": "stdout",
     "output_type": "stream",
     "text": [
      "222.30ms 'run_ASR_model'\n",
      "0.03ms '_get_speech_labels_from_decoded_prediction'\n",
      "0.66ms '_get_diar_segments'\n",
      "2.41ms 'getReducedMat'\n",
      "1.00ms 'matchNewOldclusterLabels'\n",
      "76.12ms '_online_diarization'\n",
      "[NeMo I 2021-10-18 17:12:12 streaming_asr_and_diar:1361] Streaming Diar [arm_talk_16k][frame-  837th  ]:\n"
     ]
    },
    {
     "name": "stderr",
     "output_type": "stream",
     "text": [
      "[NeMo W 2021-10-18 17:12:13 nmse_clustering:276] Graph is not fully connected and the clustering result might not be accurate.\n"
     ]
    },
    {
     "name": "stdout",
     "output_type": "stream",
     "text": [
      "217.89ms 'run_ASR_model'\n",
      "0.04ms '_get_speech_labels_from_decoded_prediction'\n",
      "0.79ms '_get_diar_segments'\n",
      "3.49ms 'getReducedMat'\n",
      "1.34ms 'matchNewOldclusterLabels'\n",
      "82.24ms '_online_diarization'\n",
      "[NeMo I 2021-10-18 17:12:13 streaming_asr_and_diar:1361] Streaming Diar [arm_talk_16k][frame-  838th  ]:\n"
     ]
    },
    {
     "name": "stderr",
     "output_type": "stream",
     "text": [
      "[NeMo W 2021-10-18 17:12:14 nmse_clustering:276] Graph is not fully connected and the clustering result might not be accurate.\n"
     ]
    },
    {
     "name": "stdout",
     "output_type": "stream",
     "text": [
      "211.99ms 'run_ASR_model'\n",
      "0.04ms '_get_speech_labels_from_decoded_prediction'\n",
      "0.85ms '_get_diar_segments'\n",
      "3.33ms 'getReducedMat'\n",
      "1.03ms 'matchNewOldclusterLabels'\n",
      "83.59ms '_online_diarization'\n",
      "[NeMo I 2021-10-18 17:12:14 streaming_asr_and_diar:1361] Streaming Diar [arm_talk_16k][frame-  839th  ]:\n"
     ]
    },
    {
     "name": "stderr",
     "output_type": "stream",
     "text": [
      "[NeMo W 2021-10-18 17:12:15 nmse_clustering:276] Graph is not fully connected and the clustering result might not be accurate.\n"
     ]
    },
    {
     "name": "stdout",
     "output_type": "stream",
     "text": [
      "247.23ms 'run_ASR_model'\n",
      "0.04ms '_get_speech_labels_from_decoded_prediction'\n",
      "0.69ms '_get_diar_segments'\n",
      "3.31ms 'getReducedMat'\n",
      "1.45ms 'matchNewOldclusterLabels'\n",
      "90.63ms '_online_diarization'\n",
      "[NeMo I 2021-10-18 17:12:15 streaming_asr_and_diar:1361] Streaming Diar [arm_talk_16k][frame-  840th  ]:\n"
     ]
    },
    {
     "name": "stderr",
     "output_type": "stream",
     "text": [
      "[NeMo W 2021-10-18 17:12:16 nmse_clustering:276] Graph is not fully connected and the clustering result might not be accurate.\n"
     ]
    },
    {
     "name": "stdout",
     "output_type": "stream",
     "text": [
      "215.64ms 'run_ASR_model'\n",
      "0.05ms '_get_speech_labels_from_decoded_prediction'\n",
      "0.92ms '_get_diar_segments'\n",
      "3.29ms 'getReducedMat'\n",
      "1.03ms 'matchNewOldclusterLabels'\n",
      "69.87ms '_online_diarization'\n",
      "[NeMo I 2021-10-18 17:12:16 streaming_asr_and_diar:1361] Streaming Diar [arm_talk_16k][frame-  841th  ]:\n"
     ]
    },
    {
     "name": "stderr",
     "output_type": "stream",
     "text": [
      "[NeMo W 2021-10-18 17:12:17 nmse_clustering:276] Graph is not fully connected and the clustering result might not be accurate.\n"
     ]
    },
    {
     "name": "stdout",
     "output_type": "stream",
     "text": [
      "216.44ms 'run_ASR_model'\n",
      "0.05ms '_get_speech_labels_from_decoded_prediction'\n",
      "1.01ms '_get_diar_segments'\n",
      "3.33ms 'getReducedMat'\n",
      "1.26ms 'matchNewOldclusterLabels'\n",
      "82.87ms '_online_diarization'\n",
      "[NeMo I 2021-10-18 17:12:17 streaming_asr_and_diar:1361] Streaming Diar [arm_talk_16k][frame-  842th  ]:\n"
     ]
    },
    {
     "name": "stderr",
     "output_type": "stream",
     "text": [
      "[NeMo W 2021-10-18 17:12:18 nmse_clustering:276] Graph is not fully connected and the clustering result might not be accurate.\n"
     ]
    },
    {
     "name": "stdout",
     "output_type": "stream",
     "text": [
      "227.01ms 'run_ASR_model'\n",
      "0.06ms '_get_speech_labels_from_decoded_prediction'\n",
      "1.03ms '_get_diar_segments'\n",
      "3.28ms 'getReducedMat'\n",
      "1.28ms 'matchNewOldclusterLabels'\n",
      "83.08ms '_online_diarization'\n",
      "[NeMo I 2021-10-18 17:12:18 streaming_asr_and_diar:1361] Streaming Diar [arm_talk_16k][frame-  843th  ]:\n"
     ]
    },
    {
     "name": "stderr",
     "output_type": "stream",
     "text": [
      "[NeMo W 2021-10-18 17:12:19 nmse_clustering:276] Graph is not fully connected and the clustering result might not be accurate.\n"
     ]
    },
    {
     "name": "stdout",
     "output_type": "stream",
     "text": [
      "216.23ms 'run_ASR_model'\n",
      "0.07ms '_get_speech_labels_from_decoded_prediction'\n",
      "0.82ms '_get_diar_segments'\n",
      "3.45ms 'getReducedMat'\n",
      "1.32ms 'matchNewOldclusterLabels'\n",
      "81.27ms '_online_diarization'\n",
      "[NeMo I 2021-10-18 17:12:19 streaming_asr_and_diar:1361] Streaming Diar [arm_talk_16k][frame-  844th  ]:\n"
     ]
    },
    {
     "name": "stderr",
     "output_type": "stream",
     "text": [
      "[NeMo W 2021-10-18 17:12:20 nmse_clustering:276] Graph is not fully connected and the clustering result might not be accurate.\n"
     ]
    },
    {
     "name": "stdout",
     "output_type": "stream",
     "text": [
      "222.78ms 'run_ASR_model'\n",
      "0.07ms '_get_speech_labels_from_decoded_prediction'\n",
      "0.81ms '_get_diar_segments'\n",
      "3.34ms 'getReducedMat'\n",
      "1.45ms 'matchNewOldclusterLabels'\n",
      "92.37ms '_online_diarization'\n",
      "[NeMo I 2021-10-18 17:12:20 streaming_asr_and_diar:1361] Streaming Diar [arm_talk_16k][frame-  845th  ]:\n"
     ]
    },
    {
     "name": "stderr",
     "output_type": "stream",
     "text": [
      "[NeMo W 2021-10-18 17:12:21 nmse_clustering:276] Graph is not fully connected and the clustering result might not be accurate.\n"
     ]
    },
    {
     "name": "stdout",
     "output_type": "stream",
     "text": [
      "229.67ms 'run_ASR_model'\n",
      "0.07ms '_get_speech_labels_from_decoded_prediction'\n",
      "0.82ms '_get_diar_segments'\n",
      "3.29ms 'getReducedMat'\n",
      "1.33ms 'matchNewOldclusterLabels'\n",
      "79.96ms '_online_diarization'\n",
      "[NeMo I 2021-10-18 17:12:21 streaming_asr_and_diar:1361] Streaming Diar [arm_talk_16k][frame-  846th  ]:\n"
     ]
    },
    {
     "name": "stderr",
     "output_type": "stream",
     "text": [
      "[NeMo W 2021-10-18 17:12:22 nmse_clustering:276] Graph is not fully connected and the clustering result might not be accurate.\n"
     ]
    },
    {
     "name": "stdout",
     "output_type": "stream",
     "text": [
      "233.72ms 'run_ASR_model'\n",
      "0.08ms '_get_speech_labels_from_decoded_prediction'\n",
      "0.85ms '_get_diar_segments'\n",
      "3.41ms 'getReducedMat'\n",
      "1.30ms 'matchNewOldclusterLabels'\n",
      "81.95ms '_online_diarization'\n",
      "[NeMo I 2021-10-18 17:12:22 streaming_asr_and_diar:1361] Streaming Diar [arm_talk_16k][frame-  847th  ]:\n",
      "219.78ms 'run_ASR_model'\n",
      "0.08ms '_get_speech_labels_from_decoded_prediction'\n",
      "0.43ms '_get_diar_segments'\n",
      "3.43ms 'getReducedMat'\n",
      "1.31ms 'matchNewOldclusterLabels'\n",
      "84.41ms '_online_diarization'\n",
      "[NeMo I 2021-10-18 17:12:23 streaming_asr_and_diar:1361] Streaming Diar [arm_talk_16k][frame-  848th  ]:\n",
      "231.93ms 'run_ASR_model'\n",
      "0.06ms '_get_speech_labels_from_decoded_prediction'\n",
      "0.81ms '_get_diar_segments'\n",
      "3.46ms 'getReducedMat'\n",
      "1.23ms 'matchNewOldclusterLabels'\n",
      "86.73ms '_online_diarization'\n",
      "[NeMo I 2021-10-18 17:12:24 streaming_asr_and_diar:1361] Streaming Diar [arm_talk_16k][frame-  849th  ]:\n"
     ]
    },
    {
     "name": "stderr",
     "output_type": "stream",
     "text": [
      "[NeMo W 2021-10-18 17:12:25 nmse_clustering:276] Graph is not fully connected and the clustering result might not be accurate.\n"
     ]
    },
    {
     "name": "stdout",
     "output_type": "stream",
     "text": [
      "205.75ms 'run_ASR_model'\n",
      "0.07ms '_get_speech_labels_from_decoded_prediction'\n",
      "0.83ms '_get_diar_segments'\n",
      "3.40ms 'getReducedMat'\n",
      "1.24ms 'matchNewOldclusterLabels'\n",
      "81.98ms '_online_diarization'\n",
      "[NeMo I 2021-10-18 17:12:25 streaming_asr_and_diar:1361] Streaming Diar [arm_talk_16k][frame-  850th  ]:\n"
     ]
    },
    {
     "name": "stderr",
     "output_type": "stream",
     "text": [
      "[NeMo W 2021-10-18 17:12:26 nmse_clustering:276] Graph is not fully connected and the clustering result might not be accurate.\n"
     ]
    },
    {
     "name": "stdout",
     "output_type": "stream",
     "text": [
      "229.25ms 'run_ASR_model'\n",
      "0.08ms '_get_speech_labels_from_decoded_prediction'\n",
      "0.83ms '_get_diar_segments'\n",
      "3.46ms 'getReducedMat'\n",
      "0.89ms 'matchNewOldclusterLabels'\n",
      "72.45ms '_online_diarization'\n",
      "[NeMo I 2021-10-18 17:12:26 streaming_asr_and_diar:1361] Streaming Diar [arm_talk_16k][frame-  851th  ]:\n"
     ]
    },
    {
     "name": "stderr",
     "output_type": "stream",
     "text": [
      "[NeMo W 2021-10-18 17:12:27 nmse_clustering:276] Graph is not fully connected and the clustering result might not be accurate.\n"
     ]
    },
    {
     "name": "stdout",
     "output_type": "stream",
     "text": [
      "226.87ms 'run_ASR_model'\n",
      "0.08ms '_get_speech_labels_from_decoded_prediction'\n",
      "0.83ms '_get_diar_segments'\n",
      "3.39ms 'getReducedMat'\n",
      "1.31ms 'matchNewOldclusterLabels'\n",
      "81.20ms '_online_diarization'\n",
      "[NeMo I 2021-10-18 17:12:27 streaming_asr_and_diar:1361] Streaming Diar [arm_talk_16k][frame-  852th  ]:\n"
     ]
    },
    {
     "name": "stderr",
     "output_type": "stream",
     "text": [
      "[NeMo W 2021-10-18 17:12:28 nmse_clustering:276] Graph is not fully connected and the clustering result might not be accurate.\n"
     ]
    },
    {
     "name": "stdout",
     "output_type": "stream",
     "text": [
      "222.22ms 'run_ASR_model'\n",
      "0.08ms '_get_speech_labels_from_decoded_prediction'\n",
      "0.36ms '_get_diar_segments'\n",
      "3.78ms 'getReducedMat'\n",
      "1.25ms 'matchNewOldclusterLabels'\n",
      "85.83ms '_online_diarization'\n",
      "[NeMo I 2021-10-18 17:12:28 streaming_asr_and_diar:1361] Streaming Diar [arm_talk_16k][frame-  853th  ]:\n"
     ]
    },
    {
     "name": "stderr",
     "output_type": "stream",
     "text": [
      "[NeMo W 2021-10-18 17:12:29 nmse_clustering:276] Graph is not fully connected and the clustering result might not be accurate.\n"
     ]
    },
    {
     "name": "stdout",
     "output_type": "stream",
     "text": [
      "217.59ms 'run_ASR_model'\n",
      "0.08ms '_get_speech_labels_from_decoded_prediction'\n",
      "0.66ms '_get_diar_segments'\n",
      "3.42ms 'getReducedMat'\n",
      "1.29ms 'matchNewOldclusterLabels'\n",
      "91.82ms '_online_diarization'\n",
      "[NeMo I 2021-10-18 17:12:29 streaming_asr_and_diar:1361] Streaming Diar [arm_talk_16k][frame-  854th  ]:\n"
     ]
    },
    {
     "name": "stderr",
     "output_type": "stream",
     "text": [
      "[NeMo W 2021-10-18 17:12:30 nmse_clustering:276] Graph is not fully connected and the clustering result might not be accurate.\n"
     ]
    },
    {
     "name": "stdout",
     "output_type": "stream",
     "text": [
      "212.40ms 'run_ASR_model'\n",
      "0.08ms '_get_speech_labels_from_decoded_prediction'\n",
      "0.63ms '_get_diar_segments'\n",
      "3.37ms 'getReducedMat'\n",
      "1.29ms 'matchNewOldclusterLabels'\n",
      "82.00ms '_online_diarization'\n",
      "[NeMo I 2021-10-18 17:12:30 streaming_asr_and_diar:1361] Streaming Diar [arm_talk_16k][frame-  855th  ]:\n"
     ]
    },
    {
     "name": "stderr",
     "output_type": "stream",
     "text": [
      "[NeMo W 2021-10-18 17:12:31 nmse_clustering:276] Graph is not fully connected and the clustering result might not be accurate.\n"
     ]
    },
    {
     "name": "stdout",
     "output_type": "stream",
     "text": [
      "224.44ms 'run_ASR_model'\n",
      "0.10ms '_get_speech_labels_from_decoded_prediction'\n",
      "0.73ms '_get_diar_segments'\n",
      "3.70ms 'getReducedMat'\n",
      "1.53ms 'matchNewOldclusterLabels'\n",
      "93.54ms '_online_diarization'\n",
      "[NeMo I 2021-10-18 17:12:31 streaming_asr_and_diar:1361] Streaming Diar [arm_talk_16k][frame-  856th  ]:\n"
     ]
    },
    {
     "name": "stderr",
     "output_type": "stream",
     "text": [
      "[NeMo W 2021-10-18 17:12:32 nmse_clustering:276] Graph is not fully connected and the clustering result might not be accurate.\n"
     ]
    },
    {
     "name": "stdout",
     "output_type": "stream",
     "text": [
      "216.77ms 'run_ASR_model'\n",
      "0.08ms '_get_speech_labels_from_decoded_prediction'\n",
      "0.83ms '_get_diar_segments'\n",
      "3.12ms 'getReducedMat'\n",
      "0.85ms 'matchNewOldclusterLabels'\n",
      "67.12ms '_online_diarization'\n",
      "[NeMo I 2021-10-18 17:12:32 streaming_asr_and_diar:1361] Streaming Diar [arm_talk_16k][frame-  857th  ]:\n"
     ]
    },
    {
     "name": "stderr",
     "output_type": "stream",
     "text": [
      "[NeMo W 2021-10-18 17:12:33 nmse_clustering:276] Graph is not fully connected and the clustering result might not be accurate.\n"
     ]
    },
    {
     "name": "stdout",
     "output_type": "stream",
     "text": [
      "216.67ms 'run_ASR_model'\n",
      "0.08ms '_get_speech_labels_from_decoded_prediction'\n",
      "0.85ms '_get_diar_segments'\n",
      "3.50ms 'getReducedMat'\n",
      "1.25ms 'matchNewOldclusterLabels'\n",
      "82.04ms '_online_diarization'\n",
      "[NeMo I 2021-10-18 17:12:33 streaming_asr_and_diar:1361] Streaming Diar [arm_talk_16k][frame-  858th  ]:\n"
     ]
    },
    {
     "name": "stderr",
     "output_type": "stream",
     "text": [
      "[NeMo W 2021-10-18 17:12:34 nmse_clustering:276] Graph is not fully connected and the clustering result might not be accurate.\n"
     ]
    },
    {
     "name": "stdout",
     "output_type": "stream",
     "text": [
      "216.97ms 'run_ASR_model'\n",
      "0.05ms '_get_speech_labels_from_decoded_prediction'\n",
      "0.56ms '_get_diar_segments'\n",
      "2.42ms 'getReducedMat'\n",
      "1.33ms 'matchNewOldclusterLabels'\n",
      "97.29ms '_online_diarization'\n",
      "[NeMo I 2021-10-18 17:12:34 streaming_asr_and_diar:1361] Streaming Diar [arm_talk_16k][frame-  859th  ]:\n"
     ]
    },
    {
     "name": "stderr",
     "output_type": "stream",
     "text": [
      "[NeMo W 2021-10-18 17:12:35 nmse_clustering:276] Graph is not fully connected and the clustering result might not be accurate.\n"
     ]
    },
    {
     "name": "stdout",
     "output_type": "stream",
     "text": [
      "205.82ms 'run_ASR_model'\n",
      "0.07ms '_get_speech_labels_from_decoded_prediction'\n",
      "0.70ms '_get_diar_segments'\n",
      "3.53ms 'getReducedMat'\n",
      "1.30ms 'matchNewOldclusterLabels'\n",
      "82.87ms '_online_diarization'\n",
      "[NeMo I 2021-10-18 17:12:35 streaming_asr_and_diar:1361] Streaming Diar [arm_talk_16k][frame-  860th  ]:\n"
     ]
    },
    {
     "name": "stderr",
     "output_type": "stream",
     "text": [
      "[NeMo W 2021-10-18 17:12:36 nmse_clustering:276] Graph is not fully connected and the clustering result might not be accurate.\n"
     ]
    },
    {
     "name": "stdout",
     "output_type": "stream",
     "text": [
      "228.85ms 'run_ASR_model'\n",
      "0.05ms '_get_speech_labels_from_decoded_prediction'\n",
      "0.73ms '_get_diar_segments'\n",
      "3.56ms 'getReducedMat'\n",
      "1.34ms 'matchNewOldclusterLabels'\n",
      "94.68ms '_online_diarization'\n",
      "[NeMo I 2021-10-18 17:12:36 streaming_asr_and_diar:1361] Streaming Diar [arm_talk_16k][frame-  861th  ]:\n"
     ]
    }
   ],
   "source": [
    "from streaming_asr_and_diar import ASR_DIAR_ONLINE, OnlineClusteringDiarizer, callback_sim, get_session_list\n",
    "import argparse\n",
    "from scipy.io import wavfile\n",
    "import hydra\n",
    "import numpy as np\n",
    "import sys,os,argparse\n",
    "from IPython.display import HTML\n",
    "CONFIG_FILE = '.config_ipynb'\n",
    "if os.path.isfile(CONFIG_FILE):\n",
    "    with open(CONFIG_FILE) as f:\n",
    "        sys.argv = f.read().split()\n",
    "else:\n",
    "    sys.argv = ['streaming_diarization_tutorial.py', '--device', '0']\n",
    "\n",
    "# You must change these varialbes\n",
    "SPK_EMBED_MODEL=\"/disk2/ejrvs/model_comparision/titanet-l.nemo\"\n",
    "OUTPUT_DIR=\"/home/taejinp/projects/run_time/streaming_diar_output_100_200\"\n",
    "# single_audio_file_path='/disk2/datasets/modified_callhome/callhome_16k/en_4092.wav'\n",
    "single_audio_file_path='/home/taejinp/Downloads/arm_talk_16k.wav'\n",
    "\n",
    "parser = argparse.ArgumentParser()\n",
    "parser.add_argument(\"--pretrained_speaker_model\", default=SPK_EMBED_MODEL, type=str, help=\"\")\n",
    "parser.add_argument(\"--device\", default=0, type=int, help=\"\")\n",
    "parser.add_argument(\"--single_audio_file_path\", default=None, type=str, help=\"\")\n",
    "parser.add_argument(\"--single_rttm_file_path\", default=None, type=str, help=\"\")\n",
    "parser.add_argument(\"--audiofile_list_path\", default=None, type=str, help=\"\")\n",
    "parser.add_argument(\"--reference_rttmfile_list_path\", default=None, type=str, help=\"\")\n",
    "parser.add_argument(\"--diarizer_out_dir\", default=OUTPUT_DIR, type=str, help=\"\")\n",
    "parser.add_argument(\"--color\", default=True, type=str, help=\"\")\n",
    "parser.add_argument(\"--print_time\", default=True, type=str, help=\"\")\n",
    "parser.add_argument(\"--force_real_time\", default=True, type=str, help=\"\")\n",
    "parser.add_argument(\"--frame_len\", default=1, type=int, help=\"\")\n",
    "parser.add_argument(\"--frame_overlap\", default=2, type=int, help=\"\")\n",
    "parser.add_argument(\"--round_float\", default=2, type=int, help=\"\")\n",
    "parser.add_argument(\"--window_length_in_sec\", default=1.5, type=float, help=\"\")\n",
    "parser.add_argument(\"--shift_length_in_sec\", default=0.75, type=float, help=\"\")\n",
    "parser.add_argument(\"--print_transcript\", default=False, type=bool, help=\"\")\n",
    "parser.add_argument(\"--use_lm_for_asr\", default=False, type=bool, help=\"\")\n",
    "parser.add_argument(\"--lenient_overlap_WDER\", default=True, type=bool, help=\"\")\n",
    "parser.add_argument(\"--speech_detection_threshold\", default=100, type=int, help=\"\")\n",
    "parser.add_argument(\"--ASR_model_name\", default='stt_en_conformer_ctc_large', type=str, help=\"\")\n",
    "parser.add_argument(\"--sample_rate\", default=16000, type=int, help=\"\")\n",
    "parser.add_argument(\"--online_diar_buffer_segment_quantity\", default=200, type=int, help=\"\")\n",
    "parser.add_argument(\"--online_history_buffer_segment_quantity\", default=100, type=int, help=\"\")\n",
    "parser.add_argument(\"--enhanced_count_thres\", default=80, type=int, help=\"\")\n",
    "parser.add_argument(\"--max_num_speaker\", default=8, type=int, help=\"\")\n",
    "args = parser.parse_args()\n",
    "\n",
    "args.single_audio_file_path = single_audio_file_path\n",
    "overrides = [\n",
    "f\"diarizer.speaker_embeddings.model_path={args.pretrained_speaker_model}\",\n",
    "f\"diarizer.path2groundtruth_rttm_files={args.reference_rttmfile_list_path}\",\n",
    "f\"diarizer.paths2audio_files={args.audiofile_list_path}\",\n",
    "f\"diarizer.out_dir={args.diarizer_out_dir}\",\n",
    "f\"diarizer.speaker_embeddings.window_length_in_sec={args.window_length_in_sec}\",\n",
    "f\"diarizer.speaker_embeddings.shift_length_in_sec={args.shift_length_in_sec}\",\n",
    "]\n",
    "\n",
    "params = vars(args)\n",
    "hydra.initialize(config_path=\"conf\")\n",
    "cfg_diar = hydra.compose(config_name=\"/speaker_diarization.yaml\", overrides=overrides)\n",
    "diar_init = OnlineClusteringDiarizer(cfg=cfg_diar, params=params)\n",
    "diar_init.prepare_diarization()\n",
    "diar_init, session_list = get_session_list(diar_init, args)\n",
    "for uniq_key in session_list:\n",
    "    diar = OnlineClusteringDiarizer(cfg=cfg_diar, params=params)\n",
    "    diar.uniq_key = uniq_key \n",
    "    diar.prepare_diarization()\n",
    "    asr = ASR_DIAR_ONLINE(diar, params, offset=4)\n",
    "    asr.reset()\n",
    "\n",
    "    dcont = diar_init.AUDIO_RTTM_MAP[uniq_key]\n",
    "    samplerate, sdata = wavfile.read(dcont['audio_path'])\n",
    "    asr.rttm_file_path = dcont['rttm_path']\n",
    "\n",
    "    filePath = f\"{asr.diar._out_dir}/{uniq_key}.csv\"\n",
    "    if os.path.exists(filePath): \n",
    "        os.remove(filePath)\n",
    "    # input(\"Press Enter to continue...\")\n",
    "    for i in range(int(np.floor(sdata.shape[0]/asr.n_frame_len))):\n",
    "        callback_sim(asr, uniq_key, i, sdata, frame_count=None, time_info=None, status=None)"
   ]
  }
 ],
 "metadata": {
  "kernelspec": {
   "display_name": "Python 3",
   "language": "python",
   "name": "python3"
  },
  "language_info": {
   "codemirror_mode": {
    "name": "ipython",
    "version": 3
   },
   "file_extension": ".py",
   "mimetype": "text/x-python",
   "name": "python",
   "nbconvert_exporter": "python",
   "pygments_lexer": "ipython3",
   "version": "3.8.6"
  }
 },
 "nbformat": 4,
 "nbformat_minor": 5
}
