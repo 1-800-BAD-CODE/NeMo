{
 "cells": [
  {
   "cell_type": "markdown",
   "id": "818c426a",
   "metadata": {},
   "source": [
    "The below cell removes the scroll bar in the ouput window."
   ]
  },
  {
   "cell_type": "code",
   "execution_count": 4,
   "id": "2f40c90c",
   "metadata": {},
   "outputs": [
    {
     "data": {
      "text/html": [
       "<style>\n",
       ".output_wrapper .output {\n",
       "  overflow-y: visible;\n",
       "  height: fit-content;\n",
       "}\n",
       "</style>\n"
      ],
      "text/plain": [
       "<IPython.core.display.HTML object>"
      ]
     },
     "metadata": {},
     "output_type": "display_data"
    }
   ],
   "source": [
    "\n",
    "%%html\n",
    "<style>\n",
    ".output_wrapper .output {\n",
    "  overflow-y: visible;\n",
    "  height: fit-content;\n",
    "}\n",
    "</style>"
   ]
  },
  {
   "cell_type": "markdown",
   "id": "fab3af71",
   "metadata": {},
   "source": []
  },
  {
   "cell_type": "code",
   "execution_count": null,
   "id": "347b70af",
   "metadata": {},
   "outputs": [
    {
     "name": "stdout",
     "output_type": "stream",
     "text": [
      "2460\n",
      "\u001b[1;32m[00:01.10 - 00:02.54] speaker_0: on fi \n",
      "\u001b[1;34m[00:05.00 - 00:36.12] speaker_1: everyone welcome to the very first fireside chatt at that summit well the big news over the last few weeks has been the intention of invitda to buy arm and i'm really thrilled here to have my current boss simon seegers and my former boss jenson wang here to talk about that acquisition and answer all the questions you've been dying to have answered i'm going to start with you jensen so w most of the arm ecosystems watching here today has like abo this news it would be great for them to hear from you directly why you made this decision why did you side b my arm why now \n",
      "\u001b[1;32m[00:36.12 - 01:28.98] speaker_0: renee we would like to create the computing company of the age of a as you know well artificial intelligence is the most powerful technology force of our time for the very first time a computer rights can run software that writes software by itself writes software that no humans can and achieve results that are quite spectacular and so what would'd like to do is to unite the world leader in ai computing in most popular cpu company in the history of computing and by doing so i were going to be able to bring our capability to the army ecosystem and arm weill be able to give are accelerated computing computing reach likehing you know never never before and and together we'll be able to create solutions \n",
      "\u001b[1;32m[01:29.00 - 01:45.12] speaker_0: that are going to be great for customers whether they're in a cloud or in the edge or autonomous machines and robotics or not personal computing will be able to create technologies and platforms that helps everybody grow i think everybody's gon to be super excited about \n",
      "\u001b[1;34m[01:45.12 - 01:49.82] speaker_1: this it's a great answer and i'm glaed to be asking the questions and not being uestioned a todays \n",
      "\u001b[1;34m[01:53.00 - 02:04.66] speaker_1: you mention in your keynote the importance of hardare and seltware r together efficiently to enable the technological dnouncements advancements to the future how do you see our two companies working together to be able to contribute to that \n",
      "\u001b[1;30m[02:05.00 - 02:54.12] speaker_2: this computing computers are useless without the software that runs on them and we're envisaging a world where there is just so much more pervasive computing than there is today that that computing platform changing to being one are largely cpu driven um regular code procedural code to award of ai where softwa is writing software sofware is checking software sofhware is learning from data and that is just a completely differentgramming paradigm so the lber and the software going to come together in different ways and i think between us putting the strength of the companyes together we're going to be ale to address that we to be to ut tourls into the hands of developers so that they can tckle this great computer hardware and create amazing products from it the hardware with without the software is useless so we've got to make it real easy for thse two things to \n",
      "\u001b[1;34m[02:54.12 - 03:13.62] speaker_1: to that'st great answer a lot of folks have really loved the potential combination of two companies technically but jensen you know there's been a lot of questions about arms business model and we've talked to a lot of partners who have questions about what are the intentions for invidia to continue that business model going forward the armed business model specifically \n",
      "\u001b[1;32m[03:13.62 - 03:24.90] speaker_0: i love arms business model as you know i think the genius ofarm was the invention of this super energy efficiencyp architecture combined with \n",
      "\u001b[1;32m[03:25.00 - 03:52.86] speaker_0: this business model of licensing and having the wisdom of creating this vast ecosystem of of computer makers and chipmakers in just about every industry on the planet that that vision took three decades to realize and i'd love that i'd love i'd love the idea i love that business model i love the ecosystem that's been built and so so \n",
      "\u001b[1;32m[03:53.00 - 04:42.87] speaker_0: we have every intention of protecting it nurturing it and growing this business model and in fact i want to add more to the business model you know one of the things that i really value about arm is this network of partners and the ability of arm to a take what is very difficult designs and turn it into soft ip products that people could use and it's something that i've always wished that we could do and to take the invideo architecture and to put it through an arms netwk so that companies of all diferent sizes and shapes and different industries could take advantage of our ip and allow us to extend the accelerated computing vision we have to all the industries and so i'm super excited \n",
      "\u001b[1;34m[04:42.87 - 04:56.37] speaker_1: follow up on that other question that we've been getting a lot has been about fact that armbuilt she use we build npws everyone knows in video g pu are are world class how does the acquisition affect what arms doing in those product areas we're \n",
      "\u001b[1;32m[04:56.37 - 05:15.98] speaker_0: going to keep doing it you know we we want give customers as as many choices as possible but every customer is not trying to build the same type of system and um some of the customers would probably want to design their own and so we want to give the customers and the market has many opportunities to innovate and differentiate as possible so so we're \n",
      "\u001b[1;32m[05:16.00 - 05:17.89] speaker_0: gontinue to \n",
      "\u001b[1;34m[05:18.00 - 05:26.62] speaker_1: adp a sion here it's a rare opportunity that i can continue to ask you questions without having to come back and ask me somengined herry idle \n",
      "\u001b[1;32m[05:26.62 - 05:27.37] speaker_0: handcuffed \n",
      "\u001b[1;34m[05:27.37 - 05:43.87] speaker_1: the audience for depth summit is largely software developers and there's a lot of developers who are in the open source community whho are viing this share your thoughts on how this merger of arm in vidia will help open source software development communitee \n",
      "\u001b[1;32m[05:43.87 - 06:54.66] speaker_0: well you know that software developers want several things the first thing they want is they want a computing platform with a lot of capabilities so that they can write amazing software that's the ft the second thing is they need the richness of the tools and the libraries and not to reinvent everything and to be able to be as productive as possible but the most important thing that software developers want is they want a platform with large reach that is vibrant and growing and this is what we're going to do with our combination we're going to combine two of the most vibrant most exciting computing ecosystems in the world the largest one of course arms ecosystem and the one that is developing very quickly uh with artificial intelligence with invidias platform and so we're going to be able to bring the video developers to the reach of the army ecosystem and when it adds to the army ecosystem this exciting new capability called accelerated computing in ai and so the developers are goinga love it that's that's ultimately you know what they wish to have is a great platform with rich tools on but most importantly that has to be vibrant and rich in growing \n",
      "\u001b[1;34m[06:55.00 - 07:10.37] speaker_1: i want to follow up with that we've bvan a lot with open source as wellh and also with lonaro and questions that developers might have in terms of a or continued commitment to open source and what might if anything change with with linaro going \n",
      "\u001b[1;30m[07:10.37 - 08:08.12] speaker_2: forwards really important component of the overall arm development story we found it at a time when um open source software was startying to find its way into embedded systems and i can remember going to talk to our partners and they'd say'y we've just invested all thisime optimizing the latest linux kernel to the arm architecture and having that same conversation like every day for a week and so the was a kind of penny drop moment for us where it's like hey this is crazy we should leverage the glory of the armed partnership and pul our resources to do this well and provide some of the key components of open source out to the community because that accelerates innovation so that's been that's why we set up lanara in the first place it's been a great success it's been great to see so many partners contribute to that and i think it's going to continue to be really important as we go forward because msur software movement that's here it's growing it's vibrant we want to keep it going a \n",
      "\u001b[1;34m[08:08.12 - 08:26.87] speaker_1: pivoting for a different type of question moore's law what been written about the twilight of morse law that ultimately this is coming to an end in terms of all the advanced geometries complexities required by building neix g semiconductors when think about that and how computing innovation could be impacted are your thoughts \n",
      "\u001b[1;30m[08:26.87 - 08:30.90] speaker_2: yes i're from hardware promotents of software to to to transistors \n",
      "\u001b[1;30m[08:31.00 - 09:05.82] speaker_2: yeah this issue about more's lost lonan than it it's been with us for a long time and while there's still a lot of innovation going on in material science and and semiconductor development as new transistor structures being being designed as we speak and one thing that's been really important is how architecture needs to evolve how as we go forwards im pudding differentdet together that were manufactured on completely different processes in really sophisticated packaging that all matters being ad a stack de together do true three dic these are the innovations that are going to keep \n",
      "\u001b[1;30m[09:06.00 - 09:25.87] speaker_2: semiconductor performance improving and improving generation after generation so as you know we have a whole bunch of programs running to to look at these to to work with our partners and trying to address some of the really hard problems so that these advanced technologies can become mainstream andn be used by people just to keep innovation goingk \n",
      "\u001b[1;34m[09:25.87 - 09:46.12] speaker_1: it's questions for both of you both companies have talked a lot about and ai being really part of the visions for both our compies woill be doing the future now think about a combined arm in videa um how does that change at all i'll start with you jensen relative to how you think about ai in a combined arm video world \n",
      "\u001b[1;32m[09:46.12 - 09:52.86] speaker_0: yeah this is really exciting and you've heard simon talkt this and i've heard him talk about it publicly now for several years \n",
      "\u001b[1;32m[09:53.00 - 10:22.82] speaker_0: we we know that the there's a whole new world of computing that's about to happen some people call it edge some people call itt on the confluence of a couple of technologies are making it possible now for us to create autonomous intelligent computers machines that are doing skills all over the world it could be it cold be driving a car it could be driving a truck it could be mo moving crates around in a warehouse it could be doing fast checkou like \n",
      "\u001b[1;32m[10:23.00 - 10:33.86] speaker_0: keepingour city safe and keeping traffic flowing it's almost as if the city is smart it's almost as if the warehouse is sm as if the retail store were \n",
      "\u001b[1;32m[10:34.00 - 11:01.94] speaker_0: now that software that makes makes them smart is called artificial intelligence and no human knew how to write that software until recently we now made it possible for us to create computers develop softwares that write the software now that the software is ready now that the software' is possible we realized that we were reminded of the fact that were computer engineers and computer science enable \n",
      "\u001b[1;32m[11:02.00 - 12:05.90] speaker_0: and nables new markets but it it's up to the software developers that create the growth well for the very first time the engine of that growth is gonna come from the piece of software written by a machine what machines are goninga be machines can write software a lot faster than we can and we now know that the machines cound write software that we can't write and so for the very first time it is now possible to imagine a world where we're creating these autonomous systems and computers all over the world it's helping society do perform all kinds of tasks the software is being written by another computer and so the expansion of computing over the next decade is going to be far far greater than the expansion of computing over the last decade that' the exciting part that's the reason why the combination makes so much sense if itdeo has deep artificial intelligence capability we know how to write the software of artificial intelligence a no computing platform has the reach of arm ever created and so the combination i think is just incredibly powerful that way \n",
      "\u001b[1;30m[12:06.00 - 12:19.78] speaker_2: yeah i think it's about delivering all that vision when you think about it a eyes kind of grown up with huge datasets running in the cloud wein igling end points and and client devices \n",
      "\u001b[1;30m[12:20.00 - 12:49.62] speaker_2: if you try um take all the data from the edge of the network and you put it in the cloud and you do something with it and you send an arswer back that is massively inefficient so computing andi computing has got to go to where the data is and that's what i think we've got an even greater chance of delivering on and through the combination worry about where the datera lives how we run and manage the software where the computer is it's going to be a vast network of computers in the future and we can deliver on them \n",
      "\u001b[1;34m[12:49.62 - 12:51.94] speaker_1: said jetson somewhat coincidentally\n",
      "\n"
     ]
    }
   ],
   "source": [
    "from random import uniform\n",
    "import time\n",
    "import os\n",
    "from IPython.display import display, clear_output\n",
    "OUTPUT_DIR=\"/home/taejinp/projects/run_time/streaming_diar_output_100_200\"\n",
    "i=0\n",
    "while True:\n",
    "    clear_output(wait=True)\n",
    "    fp = open(f'{OUTPUT_DIR}/print_script.sh','r').read()\n",
    "    print(str(i)+'\\n'+fp)\n",
    "    time.sleep(0.2)\n",
    "    i += 1"
   ]
  },
  {
   "cell_type": "code",
   "execution_count": null,
   "id": "79335769",
   "metadata": {},
   "outputs": [],
   "source": []
  },
  {
   "cell_type": "code",
   "execution_count": null,
   "id": "42fd346b",
   "metadata": {},
   "outputs": [],
   "source": []
  }
 ],
 "metadata": {
  "kernelspec": {
   "display_name": "Python 3",
   "language": "python",
   "name": "python3"
  },
  "language_info": {
   "codemirror_mode": {
    "name": "ipython",
    "version": 3
   },
   "file_extension": ".py",
   "mimetype": "text/x-python",
   "name": "python",
   "nbconvert_exporter": "python",
   "pygments_lexer": "ipython3",
   "version": "3.8.6"
  }
 },
 "nbformat": 4,
 "nbformat_minor": 5
}
